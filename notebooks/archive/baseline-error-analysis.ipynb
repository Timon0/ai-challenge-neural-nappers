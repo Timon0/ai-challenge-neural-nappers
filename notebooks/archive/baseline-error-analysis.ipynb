{
 "cells": [
  {
   "cell_type": "code",
   "execution_count": null,
   "metadata": {},
   "outputs": [],
   "source": [
    "import sys\n",
    "sys.path.append('../')\n",
    "\n",
    "import pandas as pd\n",
    "import plotly.express as px"
   ]
  },
  {
   "cell_type": "code",
   "execution_count": null,
   "metadata": {},
   "outputs": [],
   "source": [
    "baseline_submissions = pd.read_csv('../results/baseline_submission.csv')\n",
    "baseline_submissions_1 = pd.read_csv('../results/baseline_submission_1.csv')"
   ]
  },
  {
   "cell_type": "code",
   "execution_count": null,
   "metadata": {},
   "outputs": [],
   "source": [
    "all_events = pd.read_csv('../data/raw/train_events.csv')"
   ]
  },
  {
   "cell_type": "code",
   "execution_count": null,
   "metadata": {},
   "outputs": [],
   "source": [
    "def prepare_series(predicted_events):\n",
    "  train_series = pd.DataFrame()\n",
    "  for series in predicted_events['series_id'].drop_duplicates():\n",
    "    train_series = pd.concat([train_series, pd.read_parquet(\"../data/raw/train_series.parquet\", filters=[('series_id','=',series)])], axis=0)\n",
    "  return train_series"
   ]
  },
  {
   "cell_type": "code",
   "execution_count": null,
   "metadata": {},
   "outputs": [],
   "source": [
    "series = prepare_series(predicted_events=baseline_submissions)\n",
    "series_1 = prepare_series(predicted_events=baseline_submissions_1)"
   ]
  },
  {
   "cell_type": "code",
   "execution_count": null,
   "metadata": {},
   "outputs": [],
   "source": [
    "def print_graph(time_series, predicted_events, true_events):\n",
    "  for series_id in predicted_events['series_id'].drop_duplicates():\n",
    "    current_series = time_series[time_series['series_id'] == series_id]\n",
    "    \n",
    "    fig = px.line(current_series, x='timestamp', y='anglez', title=f'Schlafdaten für {series_id}')\n",
    "    for index, row in predicted_events[predicted_events['series_id'] == series_id].dropna().iterrows():\n",
    "        color = 'green' if row.event == 'onset' else 'red' \n",
    "        fig.add_vline(x=row.timestamp, line_width=3, line_color=color)\n",
    "\n",
    "    for index, row in true_events[true_events['series_id'] == series_id].dropna().iterrows():\n",
    "        color = 'magenta' if row.event == 'onset' else 'goldenrod' \n",
    "        fig.add_vline(x=row.timestamp, line_width=3, line_dash='dash', line_color=color)\n",
    "\n",
    "    # fig.update_layout(legend=dict(\n",
    "    #   yanchor=\"top\",\n",
    "    #   y=0.99,\n",
    "    #   xanchor=\"left\",\n",
    "    #   x=0.99\n",
    "    # ))\n",
    "\n",
    "    fig.show()"
   ]
  },
  {
   "cell_type": "code",
   "execution_count": null,
   "metadata": {},
   "outputs": [],
   "source": [
    "print_graph(series, baseline_submissions, all_events)"
   ]
  },
  {
   "cell_type": "code",
   "execution_count": null,
   "metadata": {},
   "outputs": [],
   "source": [
    "print_graph(series_1, baseline_submissions_1, all_events)\n"
   ]
  }
 ],
 "metadata": {
  "kernelspec": {
   "display_name": "aich",
   "language": "python",
   "name": "python3"
  },
  "language_info": {
   "codemirror_mode": {
    "name": "ipython",
    "version": 3
   },
   "file_extension": ".py",
   "mimetype": "text/x-python",
   "name": "python",
   "nbconvert_exporter": "python",
   "pygments_lexer": "ipython3",
   "version": "3.8.18"
  },
  "orig_nbformat": 4
 },
 "nbformat": 4,
 "nbformat_minor": 2
}
