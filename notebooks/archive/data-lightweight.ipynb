{
 "cells": [
  {
   "cell_type": "markdown",
   "id": "599ca3b9",
   "metadata": {},
   "source": [
    "# Lightweight Datenset"
   ]
  },
  {
   "cell_type": "code",
   "execution_count": 1,
   "id": "690b740f",
   "metadata": {},
   "outputs": [],
   "source": [
    "import pandas as pd"
   ]
  },
  {
   "cell_type": "markdown",
   "id": "229f6d6c",
   "metadata": {},
   "source": [
    "## Daten laden"
   ]
  },
  {
   "cell_type": "code",
   "execution_count": 2,
   "id": "54d110d3",
   "metadata": {},
   "outputs": [],
   "source": [
    "train_with_features = pd.read_parquet('../../data/processed/train_with_features.parquet')"
   ]
  },
  {
   "cell_type": "markdown",
   "id": "89d752cc",
   "metadata": {},
   "source": [
    "## Leichtgewichtiges Datenset erstellen"
   ]
  },
  {
   "cell_type": "code",
   "execution_count": 3,
   "id": "8ce2015f",
   "metadata": {},
   "outputs": [],
   "source": [
    "first_series = train_with_features.series_id.unique()[0:1]\n",
    "first_10_series = train_with_features.series_id.unique()[0:10]\n",
    "\n",
    "train_with_features_lightweight_1 = train_with_features[train_with_features.series_id.isin(first_series)]\n",
    "train_with_features_lightweight_10 = train_with_features[train_with_features.series_id.isin(first_10_series)]"
   ]
  },
  {
   "cell_type": "code",
   "execution_count": 4,
   "id": "50ba6d3e",
   "metadata": {},
   "outputs": [
    {
     "name": "stdout",
     "output_type": "stream",
     "text": [
      "(389880, 19)\n",
      "(4838220, 19)\n"
     ]
    }
   ],
   "source": [
    "print(train_with_features_lightweight_1.shape)\n",
    "print(train_with_features_lightweight_10.shape)"
   ]
  },
  {
   "cell_type": "markdown",
   "id": "d7187c3b",
   "metadata": {},
   "source": [
    "## Daten speichern"
   ]
  },
  {
   "cell_type": "code",
   "execution_count": 5,
   "id": "d0f4a220",
   "metadata": {},
   "outputs": [],
   "source": [
    "train_with_features_lightweight_1.to_parquet('../../data/processed/train_with_features_lightweight_1.parquet')\n",
    "train_with_features_lightweight_10.to_parquet('../../data/processed/train_with_features_lightweight_10.parquet')"
   ]
  }
 ],
 "metadata": {
  "kernelspec": {
   "display_name": "ai-challenge",
   "language": "python",
   "name": "ai-challenge"
  },
  "language_info": {
   "codemirror_mode": {
    "name": "ipython",
    "version": 3
   },
   "file_extension": ".py",
   "mimetype": "text/x-python",
   "name": "python",
   "nbconvert_exporter": "python",
   "pygments_lexer": "ipython3",
   "version": "3.11.5"
  }
 },
 "nbformat": 4,
 "nbformat_minor": 5
}
