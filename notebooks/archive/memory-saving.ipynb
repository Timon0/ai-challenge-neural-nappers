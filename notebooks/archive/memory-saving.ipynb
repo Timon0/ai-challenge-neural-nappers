{
 "cells": [
  {
   "cell_type": "code",
   "execution_count": null,
   "id": "initial_id",
   "metadata": {
    "collapsed": true
   },
   "outputs": [],
   "source": [
    "import pandas as pd\n",
    "import numpy as np"
   ]
  },
  {
   "cell_type": "markdown",
   "source": [
    "## Load Data"
   ],
   "metadata": {
    "collapsed": false
   },
   "id": "3e4f41be5687f7da"
  },
  {
   "cell_type": "code",
   "execution_count": 3,
   "outputs": [],
   "source": [
    "train_series = pd.read_parquet('../data/raw/train_series.parquet')"
   ],
   "metadata": {
    "collapsed": false
   },
   "id": "e876ad6848e51bdf"
  },
  {
   "cell_type": "markdown",
   "source": [
    "## Reduce Memory Usage\n",
    "\n",
    "For each value, we check if it can be stored in a smaller datatype to reduce the used storage.  "
   ],
   "metadata": {
    "collapsed": false
   },
   "id": "ce30b25e196fa06"
  },
  {
   "cell_type": "code",
   "execution_count": 8,
   "outputs": [],
   "source": [
    "def reduce_memory(df):\n",
    "    start_memory = df.memory_usage().sum() / 1024**2\n",
    "    print(f'Memory usage before cleanup is {start_memory:.2f} MB')\n",
    "    \n",
    "    for col in df.columns:\n",
    "        column_type = df[col].dtype\n",
    "        if column_type != object:\n",
    "            max_value = df[col].max()\n",
    "            min_value = df[col].min()\n",
    "            if str(column_type) == 'uint32':\n",
    "                if min_value > np.iinfo(np.uint8).min and max_value < np.iinfo(np.uint8).max:\n",
    "                    df[col] = df[col].astype(np.uint8)\n",
    "                elif min_value > np.iinfo(np.uint16).min and max_value < np.iinfo(np.uint16).max:\n",
    "                    df[col] = df[col].astype(np.uint16)\n",
    "        df['series_id'] = df['series_id'].astype('category')\n",
    "\n",
    "    end_memory = df.memory_usage().sum() / 1024**2\n",
    "    print(f'Memory usage after cleanup is {end_memory:.2f} MB')\n",
    "    \n",
    "    improvement = (start_memory - end_memory) / start_memory * 100\n",
    "    print(f'Memory usage improved by {improvement:.2f}%')\n",
    "    \n",
    "    return df"
   ],
   "metadata": {
    "collapsed": false
   },
   "id": "d436aea63b7a595d"
  },
  {
   "cell_type": "code",
   "execution_count": null,
   "outputs": [],
   "source": [
    "train_series = reduce_memory(train_series)"
   ],
   "metadata": {
    "collapsed": false
   },
   "id": "7fad3e2fd36f3138"
  }
 ],
 "metadata": {
  "kernelspec": {
   "display_name": "Python 3",
   "language": "python",
   "name": "python3"
  },
  "language_info": {
   "codemirror_mode": {
    "name": "ipython",
    "version": 2
   },
   "file_extension": ".py",
   "mimetype": "text/x-python",
   "name": "python",
   "nbconvert_exporter": "python",
   "pygments_lexer": "ipython2",
   "version": "2.7.6"
  }
 },
 "nbformat": 4,
 "nbformat_minor": 5
}
