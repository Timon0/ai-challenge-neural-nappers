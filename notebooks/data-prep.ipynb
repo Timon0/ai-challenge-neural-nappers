{
 "cells": [
  {
   "cell_type": "code",
   "execution_count": 1,
   "id": "initial_id",
   "metadata": {
    "collapsed": true,
    "ExecuteTime": {
     "end_time": "2023-09-28T16:28:13.544093500Z",
     "start_time": "2023-09-28T16:28:10.486804Z"
    }
   },
   "outputs": [],
   "source": [
    "import pandas as pd\n",
    "import numpy as np\n",
    "\n",
    "from tqdm import tqdm\n",
    "import time\n",
    "\n",
    "import gc\n",
    "\n",
    "pd.options.mode.chained_assignment = None  # default='warn'"
   ]
  },
  {
   "cell_type": "markdown",
   "source": [
    "## Hyperparams"
   ],
   "metadata": {
    "collapsed": false
   },
   "id": "2a88c1e366eabb2"
  },
  {
   "cell_type": "code",
   "execution_count": 2,
   "outputs": [],
   "source": [
    "NUM_STEPS = 20"
   ],
   "metadata": {
    "collapsed": false,
    "ExecuteTime": {
     "end_time": "2023-09-28T16:28:15.411632Z",
     "start_time": "2023-09-28T16:28:15.388649400Z"
    }
   },
   "id": "1d64f9a6e570f2c3"
  },
  {
   "cell_type": "markdown",
   "source": [
    "## Load Data"
   ],
   "metadata": {
    "collapsed": false
   },
   "id": "e0c02daa9bfbf4"
  },
  {
   "cell_type": "code",
   "execution_count": 3,
   "outputs": [],
   "source": [
    "train_events = pd.read_csv('../data/raw/train_events.csv')"
   ],
   "metadata": {
    "collapsed": false,
    "ExecuteTime": {
     "end_time": "2023-09-28T16:28:16.560536100Z",
     "start_time": "2023-09-28T16:28:16.479114100Z"
    }
   },
   "id": "32f372220dca88fe"
  },
  {
   "cell_type": "markdown",
   "source": [
    "## Add Label to Series data"
   ],
   "metadata": {
    "collapsed": false
   },
   "id": "ca1f29e962f1d479"
  },
  {
   "cell_type": "code",
   "execution_count": 6,
   "outputs": [],
   "source": [
    "def get_merged_series(series):\n",
    "    train_series = pd.read_parquet('../data/raw/train_series.parquet', filters=[('series_id','=',series)])\n",
    "    train_events_filtered = train_events.query('series_id == @series')\n",
    "    \n",
    "    train_events_filtered = train_events_filtered.dropna()\n",
    "    train_events_filtered['step'] = train_events_filtered['step'].astype('int')\n",
    "    train_events_filtered['awake'] = train_events_filtered['event'].replace({'onset': 1, 'wakeup': 0})\n",
    "\n",
    "    # Merge Series with events and fill empty values with last observed event (awake until onset event...)\n",
    "    merged = pd.merge(train_series, train_events_filtered[['step', 'awake']], on='step', how='left')\n",
    "    merged['awake'] = merged['awake'].bfill(axis='rows')\n",
    "    merged['awake'] = merged['awake'].fillna(1) # awake\n",
    "    merged[\"awake\"] = merged[\"awake\"].astype(\"int\")\n",
    "    return merged"
   ],
   "metadata": {
    "collapsed": false,
    "ExecuteTime": {
     "end_time": "2023-09-28T16:29:27.469749900Z",
     "start_time": "2023-09-28T16:29:27.445464Z"
    }
   },
   "id": "6f6d0f2740d7dc79"
  },
  {
   "cell_type": "code",
   "execution_count": 7,
   "outputs": [
    {
     "name": "stdout",
     "output_type": "stream",
     "text": [
      "Step 0 of 277\n",
      "Step 1 of 277\n",
      "Step 2 of 277\n",
      "Step 3 of 277\n",
      "Step 4 of 277\n",
      "Step 5 of 277\n",
      "Step 6 of 277\n",
      "Step 7 of 277\n",
      "Step 8 of 277\n",
      "Step 9 of 277\n",
      "Step 10 of 277\n",
      "Step 11 of 277\n",
      "Step 12 of 277\n",
      "Step 13 of 277\n",
      "Step 14 of 277\n",
      "Step 15 of 277\n",
      "Step 16 of 277\n",
      "Step 17 of 277\n",
      "Step 18 of 277\n",
      "Step 19 of 277\n",
      "Step 20 of 277\n",
      "Step 21 of 277\n",
      "Step 22 of 277\n",
      "Step 23 of 277\n",
      "Step 24 of 277\n",
      "Step 25 of 277\n",
      "Step 26 of 277\n",
      "Step 27 of 277\n",
      "Step 28 of 277\n",
      "Step 29 of 277\n",
      "Step 30 of 277\n",
      "Step 31 of 277\n",
      "Step 32 of 277\n",
      "Step 33 of 277\n",
      "Step 34 of 277\n",
      "Step 35 of 277\n",
      "Step 36 of 277\n",
      "Step 37 of 277\n",
      "Step 38 of 277\n",
      "Step 39 of 277\n",
      "Step 40 of 277\n",
      "Step 41 of 277\n",
      "Step 42 of 277\n",
      "Step 43 of 277\n",
      "Step 44 of 277\n",
      "Step 45 of 277\n",
      "Step 46 of 277\n",
      "Step 47 of 277\n",
      "Step 48 of 277\n",
      "Step 49 of 277\n",
      "Step 50 of 277\n",
      "Step 51 of 277\n",
      "Step 52 of 277\n",
      "Step 53 of 277\n",
      "Step 54 of 277\n",
      "Step 55 of 277\n",
      "Step 56 of 277\n",
      "Step 57 of 277\n",
      "Step 58 of 277\n",
      "Step 59 of 277\n",
      "Step 60 of 277\n",
      "Step 61 of 277\n",
      "Step 62 of 277\n",
      "Step 63 of 277\n",
      "Step 64 of 277\n",
      "Step 65 of 277\n",
      "Step 66 of 277\n",
      "Step 67 of 277\n",
      "Step 68 of 277\n",
      "Step 69 of 277\n",
      "Step 70 of 277\n",
      "Step 71 of 277\n",
      "Step 72 of 277\n",
      "Step 73 of 277\n",
      "Step 74 of 277\n",
      "Step 75 of 277\n",
      "Step 76 of 277\n",
      "Step 77 of 277\n",
      "Step 78 of 277\n",
      "Step 79 of 277\n",
      "Step 80 of 277\n",
      "Step 81 of 277\n",
      "Step 82 of 277\n",
      "Step 83 of 277\n",
      "Step 84 of 277\n",
      "Step 85 of 277\n",
      "Step 86 of 277\n",
      "Step 87 of 277\n",
      "Step 88 of 277\n",
      "Step 89 of 277\n",
      "Step 90 of 277\n",
      "Step 91 of 277\n",
      "Step 92 of 277\n",
      "Step 93 of 277\n",
      "Step 94 of 277\n",
      "Step 95 of 277\n",
      "Step 96 of 277\n",
      "Step 97 of 277\n",
      "Step 98 of 277\n",
      "Step 99 of 277\n",
      "Step 100 of 277\n",
      "Step 101 of 277\n",
      "Step 102 of 277\n",
      "Step 103 of 277\n",
      "Step 104 of 277\n",
      "Step 105 of 277\n",
      "Step 106 of 277\n",
      "Step 107 of 277\n",
      "Step 108 of 277\n",
      "Step 109 of 277\n",
      "Step 110 of 277\n",
      "Step 111 of 277\n",
      "Step 112 of 277\n",
      "Step 113 of 277\n",
      "Step 114 of 277\n",
      "Step 115 of 277\n",
      "Step 116 of 277\n",
      "Step 117 of 277\n",
      "Step 118 of 277\n",
      "Step 119 of 277\n",
      "Step 120 of 277\n",
      "Step 121 of 277\n",
      "Step 122 of 277\n",
      "Step 123 of 277\n",
      "Step 124 of 277\n",
      "Step 125 of 277\n",
      "Step 126 of 277\n",
      "Step 127 of 277\n",
      "Step 128 of 277\n",
      "Step 129 of 277\n",
      "Step 130 of 277\n",
      "Step 131 of 277\n",
      "Step 132 of 277\n",
      "Step 133 of 277\n",
      "Step 134 of 277\n",
      "Step 135 of 277\n",
      "Step 136 of 277\n",
      "Step 137 of 277\n",
      "Step 138 of 277\n",
      "Step 139 of 277\n",
      "Step 140 of 277\n",
      "Step 141 of 277\n",
      "Step 142 of 277\n",
      "Step 143 of 277\n",
      "Step 144 of 277\n",
      "Step 145 of 277\n",
      "Step 146 of 277\n",
      "Step 147 of 277\n",
      "Step 148 of 277\n",
      "Step 149 of 277\n",
      "Step 150 of 277\n",
      "Step 151 of 277\n",
      "Step 152 of 277\n",
      "Step 153 of 277\n",
      "Step 154 of 277\n",
      "Step 155 of 277\n",
      "Step 156 of 277\n",
      "Step 157 of 277\n",
      "Step 158 of 277\n",
      "Step 159 of 277\n",
      "Step 160 of 277\n",
      "Step 161 of 277\n",
      "Step 162 of 277\n",
      "Step 163 of 277\n",
      "Step 164 of 277\n",
      "Step 165 of 277\n",
      "Step 166 of 277\n",
      "Step 167 of 277\n",
      "Step 168 of 277\n",
      "Step 169 of 277\n",
      "Step 170 of 277\n",
      "Step 171 of 277\n",
      "Step 172 of 277\n",
      "Step 173 of 277\n",
      "Step 174 of 277\n",
      "Step 175 of 277\n",
      "Step 176 of 277\n",
      "Step 177 of 277\n",
      "Step 178 of 277\n",
      "Step 179 of 277\n",
      "Step 180 of 277\n",
      "Step 181 of 277\n",
      "Step 182 of 277\n",
      "Step 183 of 277\n",
      "Step 184 of 277\n",
      "Step 185 of 277\n",
      "Step 186 of 277\n",
      "Step 187 of 277\n",
      "Step 188 of 277\n",
      "Step 189 of 277\n",
      "Step 190 of 277\n",
      "Step 191 of 277\n",
      "Step 192 of 277\n",
      "Step 193 of 277\n",
      "Step 194 of 277\n",
      "Step 195 of 277\n",
      "Step 196 of 277\n",
      "Step 197 of 277\n",
      "Step 198 of 277\n",
      "Step 199 of 277\n",
      "Step 200 of 277\n",
      "Step 201 of 277\n",
      "Step 202 of 277\n",
      "Step 203 of 277\n",
      "Step 204 of 277\n",
      "Step 205 of 277\n",
      "Step 206 of 277\n",
      "Step 207 of 277\n",
      "Step 208 of 277\n",
      "Step 209 of 277\n",
      "Step 210 of 277\n",
      "Step 211 of 277\n",
      "Step 212 of 277\n",
      "Step 213 of 277\n",
      "Step 214 of 277\n",
      "Step 215 of 277\n",
      "Step 216 of 277\n",
      "Step 217 of 277\n",
      "Step 218 of 277\n",
      "Step 219 of 277\n",
      "Step 220 of 277\n",
      "Step 221 of 277\n",
      "Step 222 of 277\n",
      "Step 223 of 277\n",
      "Step 224 of 277\n",
      "Step 225 of 277\n",
      "Step 226 of 277\n",
      "Step 227 of 277\n",
      "Step 228 of 277\n",
      "Step 229 of 277\n",
      "Step 230 of 277\n",
      "Step 231 of 277\n",
      "Step 232 of 277\n",
      "Step 233 of 277\n",
      "Step 234 of 277\n",
      "Step 235 of 277\n",
      "Step 236 of 277\n",
      "Step 237 of 277\n",
      "Step 238 of 277\n",
      "Step 239 of 277\n",
      "Step 240 of 277\n",
      "Step 241 of 277\n",
      "Step 242 of 277\n",
      "Step 243 of 277\n",
      "Step 244 of 277\n",
      "Step 245 of 277\n",
      "Step 246 of 277\n",
      "Step 247 of 277\n",
      "Step 248 of 277\n",
      "Step 249 of 277\n",
      "Step 250 of 277\n",
      "Step 251 of 277\n",
      "Step 252 of 277\n",
      "Step 253 of 277\n",
      "Step 254 of 277\n",
      "Step 255 of 277\n",
      "Step 256 of 277\n",
      "Step 257 of 277\n",
      "Step 258 of 277\n",
      "Step 259 of 277\n",
      "Step 260 of 277\n",
      "Step 261 of 277\n",
      "Step 262 of 277\n",
      "Step 263 of 277\n",
      "Step 264 of 277\n",
      "Step 265 of 277\n",
      "Step 266 of 277\n",
      "Step 267 of 277\n",
      "Step 268 of 277\n",
      "Step 269 of 277\n",
      "Step 270 of 277\n",
      "Step 271 of 277\n",
      "Step 272 of 277\n",
      "Step 273 of 277\n",
      "Step 274 of 277\n",
      "Step 275 of 277\n",
      "Step 276 of 277\n"
     ]
    }
   ],
   "source": [
    "train_data = []\n",
    "lightweight_series_ids = []\n",
    "\n",
    "total_len = train_events.series_id.nunique()\n",
    "\n",
    "for i, series_id in enumerate(train_events.series_id.unique()):\n",
    "    print(f'Step {i} of {total_len}')\n",
    "    train = get_merged_series(series_id)\n",
    "    if len(lightweight_series_ids) < 10:\n",
    "        lightweight_series_ids.append(series_id)\n",
    "    train_data.append(train)\n",
    "    del train\n",
    "    gc.collect()\n",
    "\n",
    "zzzz_train = pd.concat(train_data).reset_index(drop=True)"
   ],
   "metadata": {
    "collapsed": false,
    "ExecuteTime": {
     "end_time": "2023-09-28T17:12:29.302070600Z",
     "start_time": "2023-09-28T16:29:28.275343300Z"
    }
   },
   "id": "55493184cd5c1e5a"
  },
  {
   "cell_type": "code",
   "execution_count": 8,
   "outputs": [
    {
     "data": {
      "text/plain": "      series_id  step                 timestamp  anglez    enmo  awake\n0  038441c925bb     0  2018-08-14T15:30:00-0400  2.6367  0.0217      1\n1  038441c925bb     1  2018-08-14T15:30:05-0400  2.6368  0.0215      1\n2  038441c925bb     2  2018-08-14T15:30:10-0400  2.6370  0.0216      1\n3  038441c925bb     3  2018-08-14T15:30:15-0400  2.6368  0.0213      1\n4  038441c925bb     4  2018-08-14T15:30:20-0400  2.6368  0.0215      1",
      "text/html": "<div>\n<style scoped>\n    .dataframe tbody tr th:only-of-type {\n        vertical-align: middle;\n    }\n\n    .dataframe tbody tr th {\n        vertical-align: top;\n    }\n\n    .dataframe thead th {\n        text-align: right;\n    }\n</style>\n<table border=\"1\" class=\"dataframe\">\n  <thead>\n    <tr style=\"text-align: right;\">\n      <th></th>\n      <th>series_id</th>\n      <th>step</th>\n      <th>timestamp</th>\n      <th>anglez</th>\n      <th>enmo</th>\n      <th>awake</th>\n    </tr>\n  </thead>\n  <tbody>\n    <tr>\n      <th>0</th>\n      <td>038441c925bb</td>\n      <td>0</td>\n      <td>2018-08-14T15:30:00-0400</td>\n      <td>2.6367</td>\n      <td>0.0217</td>\n      <td>1</td>\n    </tr>\n    <tr>\n      <th>1</th>\n      <td>038441c925bb</td>\n      <td>1</td>\n      <td>2018-08-14T15:30:05-0400</td>\n      <td>2.6368</td>\n      <td>0.0215</td>\n      <td>1</td>\n    </tr>\n    <tr>\n      <th>2</th>\n      <td>038441c925bb</td>\n      <td>2</td>\n      <td>2018-08-14T15:30:10-0400</td>\n      <td>2.6370</td>\n      <td>0.0216</td>\n      <td>1</td>\n    </tr>\n    <tr>\n      <th>3</th>\n      <td>038441c925bb</td>\n      <td>3</td>\n      <td>2018-08-14T15:30:15-0400</td>\n      <td>2.6368</td>\n      <td>0.0213</td>\n      <td>1</td>\n    </tr>\n    <tr>\n      <th>4</th>\n      <td>038441c925bb</td>\n      <td>4</td>\n      <td>2018-08-14T15:30:20-0400</td>\n      <td>2.6368</td>\n      <td>0.0215</td>\n      <td>1</td>\n    </tr>\n  </tbody>\n</table>\n</div>"
     },
     "execution_count": 8,
     "metadata": {},
     "output_type": "execute_result"
    }
   ],
   "source": [
    "zzzz_train.head()"
   ],
   "metadata": {
    "collapsed": false,
    "ExecuteTime": {
     "end_time": "2023-09-28T17:20:30.061179900Z",
     "start_time": "2023-09-28T17:20:29.997701100Z"
    }
   },
   "id": "53a934eced61fef6"
  },
  {
   "cell_type": "code",
   "execution_count": 9,
   "outputs": [],
   "source": [
    "zzzz_train.to_parquet('../data/processed/train_series.parquet')"
   ],
   "metadata": {
    "collapsed": false,
    "ExecuteTime": {
     "end_time": "2023-09-28T17:23:11.580458700Z",
     "start_time": "2023-09-28T17:21:20.935066600Z"
    }
   },
   "id": "52167d3898512834"
  },
  {
   "cell_type": "markdown",
   "source": [
    "## Feature Engineering"
   ],
   "metadata": {
    "collapsed": false
   },
   "id": "1199b3a0dcc6c0ef"
  },
  {
   "cell_type": "code",
   "execution_count": 11,
   "outputs": [],
   "source": [
    "def feature_eng(df):\n",
    "    start_time = time.time()\n",
    "    for col in ['anglez', 'enmo']:\n",
    "        for agg in ['median', 'mean', 'min', 'max']:\n",
    "            print(f'Generating {agg} for Column {col}')\n",
    "            df[f'{col}_{agg}'] = df.groupby('series_id')[col].rolling(NUM_STEPS, center=True).agg(agg).fillna(method=\"bfill\").fillna(method=\"ffill\").astype(np.float32).values\n",
    "\n",
    "        print(f'Generating diff for Column {col}')    \n",
    "        df[f'{col}_diff'] = df.groupby('series_id')[col].diff(periods=NUM_STEPS).fillna(method=\"bfill\").fillna(method=\"ffill\").astype(np.float32)\n",
    "\n",
    "    # Feature combination\n",
    "    print(f'Generating anglez x enmo combination')\n",
    "    df['anglezxenmo'] = df['anglez'] * df['enmo']\n",
    "    #df = reduce_memory(df)\n",
    "    print(f'Feature Engineering took {time.time() - start_time} seconds')\n",
    "\n",
    "    return df"
   ],
   "metadata": {
    "collapsed": false,
    "ExecuteTime": {
     "end_time": "2023-09-28T17:23:45.241343400Z",
     "start_time": "2023-09-28T17:23:45.209711200Z"
    }
   },
   "id": "2020c55e509fd0aa"
  },
  {
   "cell_type": "code",
   "execution_count": 12,
   "outputs": [
    {
     "name": "stdout",
     "output_type": "stream",
     "text": [
      "Generating median for Column anglez\n",
      "Generating mean for Column anglez\n",
      "Generating min for Column anglez\n",
      "Generating max for Column anglez\n",
      "Generating diff for Column anglez\n",
      "Generating median for Column enmo\n",
      "Generating mean for Column enmo\n",
      "Generating min for Column enmo\n",
      "Generating max for Column enmo\n",
      "Generating diff for Column enmo\n",
      "Generating anglez x enmo combination\n",
      "Feature Engineering took 780.657142162323 seconds\n"
     ]
    }
   ],
   "source": [
    "zzzz_train = feature_eng(zzzz_train)"
   ],
   "metadata": {
    "collapsed": false,
    "ExecuteTime": {
     "end_time": "2023-09-28T17:36:49.724980100Z",
     "start_time": "2023-09-28T17:23:52.528737100Z"
    }
   },
   "id": "fb5025621c0aa7aa"
  },
  {
   "cell_type": "code",
   "execution_count": 14,
   "outputs": [
    {
     "data": {
      "text/plain": "       series_id  step                 timestamp     anglez    enmo  awake  \\\n0   038441c925bb     0  2018-08-14T15:30:00-0400   2.636700  0.0217      1   \n1   038441c925bb     1  2018-08-14T15:30:05-0400   2.636800  0.0215      1   \n2   038441c925bb     2  2018-08-14T15:30:10-0400   2.637000  0.0216      1   \n3   038441c925bb     3  2018-08-14T15:30:15-0400   2.636800  0.0213      1   \n4   038441c925bb     4  2018-08-14T15:30:20-0400   2.636800  0.0215      1   \n5   038441c925bb     5  2018-08-14T15:30:25-0400   2.636700  0.0217      1   \n6   038441c925bb     6  2018-08-14T15:30:30-0400   2.636700  0.0217      1   \n7   038441c925bb     7  2018-08-14T15:30:35-0400   2.636700  0.0218      1   \n8   038441c925bb     8  2018-08-14T15:30:40-0400   2.798000  0.0223      1   \n9   038441c925bb     9  2018-08-14T15:30:45-0400   3.084700  0.0217      1   \n10  038441c925bb    10  2018-08-14T15:30:50-0400   2.780200  0.0229      1   \n11  038441c925bb    11  2018-08-14T15:30:55-0400   2.520500  0.0216      1   \n12  038441c925bb    12  2018-08-14T15:31:00-0400   2.412900  0.0218      1   \n13  038441c925bb    13  2018-08-14T15:31:05-0400   2.412900  0.0214      1   \n14  038441c925bb    14  2018-08-14T15:31:10-0400   2.412900  0.0214      1   \n15  038441c925bb    15  2018-08-14T15:31:15-0400   2.412900  0.0214      1   \n16  038441c925bb    16  2018-08-14T15:31:20-0400   2.412900  0.0215      1   \n17  038441c925bb    17  2018-08-14T15:31:25-0400   2.413200  0.0217      1   \n18  038441c925bb    18  2018-08-14T15:31:30-0400  49.874401  0.0395      1   \n19  038441c925bb    19  2018-08-14T15:31:35-0400  54.849800  0.0166      1   \n\n    anglez_median  anglez_mean  anglez_min  anglez_max  anglez_diff  \\\n0         2.63670     7.573975    2.412900   54.849800    41.462601   \n1         2.63670     7.573975    2.412900   54.849800    41.462601   \n2         2.63670     7.573975    2.412900   54.849800    41.462601   \n3         2.63670     7.573975    2.412900   54.849800    41.462601   \n4         2.63670     7.573975    2.412900   54.849800    41.462601   \n5         2.63670     7.573975    2.412900   54.849800    41.462601   \n6         2.63670     7.573975    2.412900   54.849800    41.462601   \n7         2.63670     7.573975    2.412900   54.849800    41.462601   \n8         2.63670     7.573975    2.412900   54.849800    41.462601   \n9         2.63670     7.573975    2.412900   54.849800    41.462601   \n10        2.63670     7.573975    2.412900   54.849800    41.462601   \n11        2.63675     9.647105    2.412900   54.849800    41.462601   \n12        2.63675    12.884330    2.412900   67.381302    41.462601   \n13        2.63675    16.175505    2.412900   68.460503    41.462601   \n14        2.63675    17.929760    2.412900   68.460503    41.462601   \n15        2.70845    19.298046    2.412900   68.460503    41.462601   \n16        2.78910    20.559605    2.412900   68.460503    41.462601   \n17        2.94135    21.857050    2.412900   68.460503    41.462601   \n18        2.94135    21.394871   -6.606900   68.460503    41.462601   \n19        2.93245    17.256451  -79.970398   68.460503    41.462601   \n\n    enmo_median  enmo_mean  enmo_min  enmo_max  enmo_diff  anglezxenmo  \n0       0.02165   0.022330    0.0166    0.0395    -0.0047     0.057216  \n1       0.02165   0.022330    0.0166    0.0395    -0.0047     0.056691  \n2       0.02165   0.022330    0.0166    0.0395    -0.0047     0.056959  \n3       0.02165   0.022330    0.0166    0.0395    -0.0047     0.056164  \n4       0.02165   0.022330    0.0166    0.0395    -0.0047     0.056691  \n5       0.02165   0.022330    0.0166    0.0395    -0.0047     0.057216  \n6       0.02165   0.022330    0.0166    0.0395    -0.0047     0.057216  \n7       0.02165   0.022330    0.0166    0.0395    -0.0047     0.057480  \n8       0.02165   0.022330    0.0166    0.0395    -0.0047     0.062395  \n9       0.02165   0.022330    0.0166    0.0395    -0.0047     0.066938  \n10      0.02165   0.022330    0.0166    0.0395    -0.0047     0.063667  \n11      0.02160   0.022095    0.0166    0.0395    -0.0047     0.054443  \n12      0.02160   0.021530    0.0102    0.0395    -0.0047     0.052601  \n13      0.02165   0.021640    0.0102    0.0395    -0.0047     0.051636  \n14      0.02165   0.020925    0.0070    0.0395    -0.0047     0.051636  \n15      0.02165   0.020260    0.0070    0.0395    -0.0047     0.051636  \n16      0.02155   0.019770    0.0070    0.0395    -0.0047     0.051877  \n17      0.02145   0.019260    0.0070    0.0395    -0.0047     0.052366  \n18      0.02145   0.021625    0.0070    0.0691    -0.0047     1.970039  \n19      0.02140   0.021170    0.0070    0.0691    -0.0047     0.910507  ",
      "text/html": "<div>\n<style scoped>\n    .dataframe tbody tr th:only-of-type {\n        vertical-align: middle;\n    }\n\n    .dataframe tbody tr th {\n        vertical-align: top;\n    }\n\n    .dataframe thead th {\n        text-align: right;\n    }\n</style>\n<table border=\"1\" class=\"dataframe\">\n  <thead>\n    <tr style=\"text-align: right;\">\n      <th></th>\n      <th>series_id</th>\n      <th>step</th>\n      <th>timestamp</th>\n      <th>anglez</th>\n      <th>enmo</th>\n      <th>awake</th>\n      <th>anglez_median</th>\n      <th>anglez_mean</th>\n      <th>anglez_min</th>\n      <th>anglez_max</th>\n      <th>anglez_diff</th>\n      <th>enmo_median</th>\n      <th>enmo_mean</th>\n      <th>enmo_min</th>\n      <th>enmo_max</th>\n      <th>enmo_diff</th>\n      <th>anglezxenmo</th>\n    </tr>\n  </thead>\n  <tbody>\n    <tr>\n      <th>0</th>\n      <td>038441c925bb</td>\n      <td>0</td>\n      <td>2018-08-14T15:30:00-0400</td>\n      <td>2.636700</td>\n      <td>0.0217</td>\n      <td>1</td>\n      <td>2.63670</td>\n      <td>7.573975</td>\n      <td>2.412900</td>\n      <td>54.849800</td>\n      <td>41.462601</td>\n      <td>0.02165</td>\n      <td>0.022330</td>\n      <td>0.0166</td>\n      <td>0.0395</td>\n      <td>-0.0047</td>\n      <td>0.057216</td>\n    </tr>\n    <tr>\n      <th>1</th>\n      <td>038441c925bb</td>\n      <td>1</td>\n      <td>2018-08-14T15:30:05-0400</td>\n      <td>2.636800</td>\n      <td>0.0215</td>\n      <td>1</td>\n      <td>2.63670</td>\n      <td>7.573975</td>\n      <td>2.412900</td>\n      <td>54.849800</td>\n      <td>41.462601</td>\n      <td>0.02165</td>\n      <td>0.022330</td>\n      <td>0.0166</td>\n      <td>0.0395</td>\n      <td>-0.0047</td>\n      <td>0.056691</td>\n    </tr>\n    <tr>\n      <th>2</th>\n      <td>038441c925bb</td>\n      <td>2</td>\n      <td>2018-08-14T15:30:10-0400</td>\n      <td>2.637000</td>\n      <td>0.0216</td>\n      <td>1</td>\n      <td>2.63670</td>\n      <td>7.573975</td>\n      <td>2.412900</td>\n      <td>54.849800</td>\n      <td>41.462601</td>\n      <td>0.02165</td>\n      <td>0.022330</td>\n      <td>0.0166</td>\n      <td>0.0395</td>\n      <td>-0.0047</td>\n      <td>0.056959</td>\n    </tr>\n    <tr>\n      <th>3</th>\n      <td>038441c925bb</td>\n      <td>3</td>\n      <td>2018-08-14T15:30:15-0400</td>\n      <td>2.636800</td>\n      <td>0.0213</td>\n      <td>1</td>\n      <td>2.63670</td>\n      <td>7.573975</td>\n      <td>2.412900</td>\n      <td>54.849800</td>\n      <td>41.462601</td>\n      <td>0.02165</td>\n      <td>0.022330</td>\n      <td>0.0166</td>\n      <td>0.0395</td>\n      <td>-0.0047</td>\n      <td>0.056164</td>\n    </tr>\n    <tr>\n      <th>4</th>\n      <td>038441c925bb</td>\n      <td>4</td>\n      <td>2018-08-14T15:30:20-0400</td>\n      <td>2.636800</td>\n      <td>0.0215</td>\n      <td>1</td>\n      <td>2.63670</td>\n      <td>7.573975</td>\n      <td>2.412900</td>\n      <td>54.849800</td>\n      <td>41.462601</td>\n      <td>0.02165</td>\n      <td>0.022330</td>\n      <td>0.0166</td>\n      <td>0.0395</td>\n      <td>-0.0047</td>\n      <td>0.056691</td>\n    </tr>\n    <tr>\n      <th>5</th>\n      <td>038441c925bb</td>\n      <td>5</td>\n      <td>2018-08-14T15:30:25-0400</td>\n      <td>2.636700</td>\n      <td>0.0217</td>\n      <td>1</td>\n      <td>2.63670</td>\n      <td>7.573975</td>\n      <td>2.412900</td>\n      <td>54.849800</td>\n      <td>41.462601</td>\n      <td>0.02165</td>\n      <td>0.022330</td>\n      <td>0.0166</td>\n      <td>0.0395</td>\n      <td>-0.0047</td>\n      <td>0.057216</td>\n    </tr>\n    <tr>\n      <th>6</th>\n      <td>038441c925bb</td>\n      <td>6</td>\n      <td>2018-08-14T15:30:30-0400</td>\n      <td>2.636700</td>\n      <td>0.0217</td>\n      <td>1</td>\n      <td>2.63670</td>\n      <td>7.573975</td>\n      <td>2.412900</td>\n      <td>54.849800</td>\n      <td>41.462601</td>\n      <td>0.02165</td>\n      <td>0.022330</td>\n      <td>0.0166</td>\n      <td>0.0395</td>\n      <td>-0.0047</td>\n      <td>0.057216</td>\n    </tr>\n    <tr>\n      <th>7</th>\n      <td>038441c925bb</td>\n      <td>7</td>\n      <td>2018-08-14T15:30:35-0400</td>\n      <td>2.636700</td>\n      <td>0.0218</td>\n      <td>1</td>\n      <td>2.63670</td>\n      <td>7.573975</td>\n      <td>2.412900</td>\n      <td>54.849800</td>\n      <td>41.462601</td>\n      <td>0.02165</td>\n      <td>0.022330</td>\n      <td>0.0166</td>\n      <td>0.0395</td>\n      <td>-0.0047</td>\n      <td>0.057480</td>\n    </tr>\n    <tr>\n      <th>8</th>\n      <td>038441c925bb</td>\n      <td>8</td>\n      <td>2018-08-14T15:30:40-0400</td>\n      <td>2.798000</td>\n      <td>0.0223</td>\n      <td>1</td>\n      <td>2.63670</td>\n      <td>7.573975</td>\n      <td>2.412900</td>\n      <td>54.849800</td>\n      <td>41.462601</td>\n      <td>0.02165</td>\n      <td>0.022330</td>\n      <td>0.0166</td>\n      <td>0.0395</td>\n      <td>-0.0047</td>\n      <td>0.062395</td>\n    </tr>\n    <tr>\n      <th>9</th>\n      <td>038441c925bb</td>\n      <td>9</td>\n      <td>2018-08-14T15:30:45-0400</td>\n      <td>3.084700</td>\n      <td>0.0217</td>\n      <td>1</td>\n      <td>2.63670</td>\n      <td>7.573975</td>\n      <td>2.412900</td>\n      <td>54.849800</td>\n      <td>41.462601</td>\n      <td>0.02165</td>\n      <td>0.022330</td>\n      <td>0.0166</td>\n      <td>0.0395</td>\n      <td>-0.0047</td>\n      <td>0.066938</td>\n    </tr>\n    <tr>\n      <th>10</th>\n      <td>038441c925bb</td>\n      <td>10</td>\n      <td>2018-08-14T15:30:50-0400</td>\n      <td>2.780200</td>\n      <td>0.0229</td>\n      <td>1</td>\n      <td>2.63670</td>\n      <td>7.573975</td>\n      <td>2.412900</td>\n      <td>54.849800</td>\n      <td>41.462601</td>\n      <td>0.02165</td>\n      <td>0.022330</td>\n      <td>0.0166</td>\n      <td>0.0395</td>\n      <td>-0.0047</td>\n      <td>0.063667</td>\n    </tr>\n    <tr>\n      <th>11</th>\n      <td>038441c925bb</td>\n      <td>11</td>\n      <td>2018-08-14T15:30:55-0400</td>\n      <td>2.520500</td>\n      <td>0.0216</td>\n      <td>1</td>\n      <td>2.63675</td>\n      <td>9.647105</td>\n      <td>2.412900</td>\n      <td>54.849800</td>\n      <td>41.462601</td>\n      <td>0.02160</td>\n      <td>0.022095</td>\n      <td>0.0166</td>\n      <td>0.0395</td>\n      <td>-0.0047</td>\n      <td>0.054443</td>\n    </tr>\n    <tr>\n      <th>12</th>\n      <td>038441c925bb</td>\n      <td>12</td>\n      <td>2018-08-14T15:31:00-0400</td>\n      <td>2.412900</td>\n      <td>0.0218</td>\n      <td>1</td>\n      <td>2.63675</td>\n      <td>12.884330</td>\n      <td>2.412900</td>\n      <td>67.381302</td>\n      <td>41.462601</td>\n      <td>0.02160</td>\n      <td>0.021530</td>\n      <td>0.0102</td>\n      <td>0.0395</td>\n      <td>-0.0047</td>\n      <td>0.052601</td>\n    </tr>\n    <tr>\n      <th>13</th>\n      <td>038441c925bb</td>\n      <td>13</td>\n      <td>2018-08-14T15:31:05-0400</td>\n      <td>2.412900</td>\n      <td>0.0214</td>\n      <td>1</td>\n      <td>2.63675</td>\n      <td>16.175505</td>\n      <td>2.412900</td>\n      <td>68.460503</td>\n      <td>41.462601</td>\n      <td>0.02165</td>\n      <td>0.021640</td>\n      <td>0.0102</td>\n      <td>0.0395</td>\n      <td>-0.0047</td>\n      <td>0.051636</td>\n    </tr>\n    <tr>\n      <th>14</th>\n      <td>038441c925bb</td>\n      <td>14</td>\n      <td>2018-08-14T15:31:10-0400</td>\n      <td>2.412900</td>\n      <td>0.0214</td>\n      <td>1</td>\n      <td>2.63675</td>\n      <td>17.929760</td>\n      <td>2.412900</td>\n      <td>68.460503</td>\n      <td>41.462601</td>\n      <td>0.02165</td>\n      <td>0.020925</td>\n      <td>0.0070</td>\n      <td>0.0395</td>\n      <td>-0.0047</td>\n      <td>0.051636</td>\n    </tr>\n    <tr>\n      <th>15</th>\n      <td>038441c925bb</td>\n      <td>15</td>\n      <td>2018-08-14T15:31:15-0400</td>\n      <td>2.412900</td>\n      <td>0.0214</td>\n      <td>1</td>\n      <td>2.70845</td>\n      <td>19.298046</td>\n      <td>2.412900</td>\n      <td>68.460503</td>\n      <td>41.462601</td>\n      <td>0.02165</td>\n      <td>0.020260</td>\n      <td>0.0070</td>\n      <td>0.0395</td>\n      <td>-0.0047</td>\n      <td>0.051636</td>\n    </tr>\n    <tr>\n      <th>16</th>\n      <td>038441c925bb</td>\n      <td>16</td>\n      <td>2018-08-14T15:31:20-0400</td>\n      <td>2.412900</td>\n      <td>0.0215</td>\n      <td>1</td>\n      <td>2.78910</td>\n      <td>20.559605</td>\n      <td>2.412900</td>\n      <td>68.460503</td>\n      <td>41.462601</td>\n      <td>0.02155</td>\n      <td>0.019770</td>\n      <td>0.0070</td>\n      <td>0.0395</td>\n      <td>-0.0047</td>\n      <td>0.051877</td>\n    </tr>\n    <tr>\n      <th>17</th>\n      <td>038441c925bb</td>\n      <td>17</td>\n      <td>2018-08-14T15:31:25-0400</td>\n      <td>2.413200</td>\n      <td>0.0217</td>\n      <td>1</td>\n      <td>2.94135</td>\n      <td>21.857050</td>\n      <td>2.412900</td>\n      <td>68.460503</td>\n      <td>41.462601</td>\n      <td>0.02145</td>\n      <td>0.019260</td>\n      <td>0.0070</td>\n      <td>0.0395</td>\n      <td>-0.0047</td>\n      <td>0.052366</td>\n    </tr>\n    <tr>\n      <th>18</th>\n      <td>038441c925bb</td>\n      <td>18</td>\n      <td>2018-08-14T15:31:30-0400</td>\n      <td>49.874401</td>\n      <td>0.0395</td>\n      <td>1</td>\n      <td>2.94135</td>\n      <td>21.394871</td>\n      <td>-6.606900</td>\n      <td>68.460503</td>\n      <td>41.462601</td>\n      <td>0.02145</td>\n      <td>0.021625</td>\n      <td>0.0070</td>\n      <td>0.0691</td>\n      <td>-0.0047</td>\n      <td>1.970039</td>\n    </tr>\n    <tr>\n      <th>19</th>\n      <td>038441c925bb</td>\n      <td>19</td>\n      <td>2018-08-14T15:31:35-0400</td>\n      <td>54.849800</td>\n      <td>0.0166</td>\n      <td>1</td>\n      <td>2.93245</td>\n      <td>17.256451</td>\n      <td>-79.970398</td>\n      <td>68.460503</td>\n      <td>41.462601</td>\n      <td>0.02140</td>\n      <td>0.021170</td>\n      <td>0.0070</td>\n      <td>0.0691</td>\n      <td>-0.0047</td>\n      <td>0.910507</td>\n    </tr>\n  </tbody>\n</table>\n</div>"
     },
     "execution_count": 14,
     "metadata": {},
     "output_type": "execute_result"
    }
   ],
   "source": [
    "zzzz_train.head(20)"
   ],
   "metadata": {
    "collapsed": false,
    "ExecuteTime": {
     "end_time": "2023-09-28T17:37:07.944127900Z",
     "start_time": "2023-09-28T17:37:07.896830900Z"
    }
   },
   "id": "af918fff06e554bd"
  },
  {
   "cell_type": "code",
   "execution_count": 15,
   "outputs": [],
   "source": [
    "zzzz_train.to_parquet('../data/processed/train_series.parquet')"
   ],
   "metadata": {
    "collapsed": false,
    "ExecuteTime": {
     "end_time": "2023-09-28T17:41:27.775717600Z",
     "start_time": "2023-09-28T17:37:25.477344Z"
    }
   },
   "id": "41c2a580e48609b6"
  },
  {
   "cell_type": "code",
   "execution_count": 16,
   "outputs": [],
   "source": [
    "zzzz_train_lightweight = zzzz_train[zzzz_train.series_id.isin(lightweight_series_ids)]"
   ],
   "metadata": {
    "collapsed": false,
    "ExecuteTime": {
     "end_time": "2023-09-28T17:44:49.874582200Z",
     "start_time": "2023-09-28T17:43:12.813645100Z"
    }
   },
   "id": "b289e6ee8377f24c"
  },
  {
   "cell_type": "code",
   "execution_count": 17,
   "outputs": [],
   "source": [
    "zzzz_train_lightweight.to_parquet('../data/processed/train_series_lightweight.parquet')"
   ],
   "metadata": {
    "collapsed": false,
    "ExecuteTime": {
     "end_time": "2023-09-28T17:46:07.864687600Z",
     "start_time": "2023-09-28T17:46:04.133987200Z"
    }
   },
   "id": "348851d25e5586f9"
  }
 ],
 "metadata": {
  "kernelspec": {
   "name": "aich",
   "language": "python",
   "display_name": "AICH"
  },
  "language_info": {
   "codemirror_mode": {
    "name": "ipython",
    "version": 2
   },
   "file_extension": ".py",
   "mimetype": "text/x-python",
   "name": "python",
   "nbconvert_exporter": "python",
   "pygments_lexer": "ipython2",
   "version": "2.7.6"
  }
 },
 "nbformat": 4,
 "nbformat_minor": 5
}
