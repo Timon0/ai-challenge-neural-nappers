{
 "cells": [
  {
   "cell_type": "code",
   "execution_count": 7,
   "id": "initial_id",
   "metadata": {
    "collapsed": true,
    "ExecuteTime": {
     "end_time": "2023-09-25T18:15:11.248985Z",
     "start_time": "2023-09-25T18:15:11.169764500Z"
    }
   },
   "outputs": [],
   "source": [
    "import pandas as pd\n",
    "import numpy as np\n",
    "\n",
    "from tqdm import tqdm"
   ]
  },
  {
   "cell_type": "markdown",
   "source": [
    "## Hyperparams"
   ],
   "metadata": {
    "collapsed": false
   },
   "id": "2a88c1e366eabb2"
  },
  {
   "cell_type": "code",
   "execution_count": 5,
   "outputs": [],
   "source": [
    "NUM_STEPS = 20"
   ],
   "metadata": {
    "collapsed": false,
    "ExecuteTime": {
     "end_time": "2023-09-25T18:13:23.872090500Z",
     "start_time": "2023-09-25T18:13:23.819994300Z"
    }
   },
   "id": "1d64f9a6e570f2c3"
  },
  {
   "cell_type": "markdown",
   "source": [
    "## Load Data"
   ],
   "metadata": {
    "collapsed": false
   },
   "id": "e0c02daa9bfbf4"
  },
  {
   "cell_type": "code",
   "execution_count": 26,
   "outputs": [],
   "source": [
    "train_events = pd.read_csv('../data/raw/train_events.csv')\n",
    "train_series = pd.read_parquet('../data/raw/train_series.parquet')"
   ],
   "metadata": {
    "collapsed": false,
    "ExecuteTime": {
     "end_time": "2023-09-25T18:59:12.102767600Z",
     "start_time": "2023-09-25T18:54:29.388777900Z"
    }
   },
   "id": "32f372220dca88fe"
  },
  {
   "cell_type": "code",
   "execution_count": 31,
   "outputs": [
    {
     "data": {
      "text/plain": "      series_id  step                 timestamp  anglez    enmo\n0  038441c925bb     0  2018-08-14T15:30:00-0400  2.6367  0.0217\n1  038441c925bb     1  2018-08-14T15:30:05-0400  2.6368  0.0215\n2  038441c925bb     2  2018-08-14T15:30:10-0400  2.6370  0.0216\n3  038441c925bb     3  2018-08-14T15:30:15-0400  2.6368  0.0213\n4  038441c925bb     4  2018-08-14T15:30:20-0400  2.6368  0.0215",
      "text/html": "<div>\n<style scoped>\n    .dataframe tbody tr th:only-of-type {\n        vertical-align: middle;\n    }\n\n    .dataframe tbody tr th {\n        vertical-align: top;\n    }\n\n    .dataframe thead th {\n        text-align: right;\n    }\n</style>\n<table border=\"1\" class=\"dataframe\">\n  <thead>\n    <tr style=\"text-align: right;\">\n      <th></th>\n      <th>series_id</th>\n      <th>step</th>\n      <th>timestamp</th>\n      <th>anglez</th>\n      <th>enmo</th>\n    </tr>\n  </thead>\n  <tbody>\n    <tr>\n      <th>0</th>\n      <td>038441c925bb</td>\n      <td>0</td>\n      <td>2018-08-14T15:30:00-0400</td>\n      <td>2.6367</td>\n      <td>0.0217</td>\n    </tr>\n    <tr>\n      <th>1</th>\n      <td>038441c925bb</td>\n      <td>1</td>\n      <td>2018-08-14T15:30:05-0400</td>\n      <td>2.6368</td>\n      <td>0.0215</td>\n    </tr>\n    <tr>\n      <th>2</th>\n      <td>038441c925bb</td>\n      <td>2</td>\n      <td>2018-08-14T15:30:10-0400</td>\n      <td>2.6370</td>\n      <td>0.0216</td>\n    </tr>\n    <tr>\n      <th>3</th>\n      <td>038441c925bb</td>\n      <td>3</td>\n      <td>2018-08-14T15:30:15-0400</td>\n      <td>2.6368</td>\n      <td>0.0213</td>\n    </tr>\n    <tr>\n      <th>4</th>\n      <td>038441c925bb</td>\n      <td>4</td>\n      <td>2018-08-14T15:30:20-0400</td>\n      <td>2.6368</td>\n      <td>0.0215</td>\n    </tr>\n  </tbody>\n</table>\n</div>"
     },
     "execution_count": 31,
     "metadata": {},
     "output_type": "execute_result"
    }
   ],
   "source": [
    "train_series.head()"
   ],
   "metadata": {
    "collapsed": false,
    "ExecuteTime": {
     "end_time": "2023-09-25T19:10:28.350448800Z",
     "start_time": "2023-09-25T19:10:28.212435100Z"
    }
   },
   "id": "c482b7c873e28c20"
  },
  {
   "cell_type": "code",
   "execution_count": 44,
   "outputs": [],
   "source": [
    "sample_series = train_series[train_series.series_id == '038441c925bb']"
   ],
   "metadata": {
    "collapsed": false,
    "ExecuteTime": {
     "end_time": "2023-09-25T19:18:53.223381700Z",
     "start_time": "2023-09-25T19:18:52.972293800Z"
    }
   },
   "id": "236b5ddb4418c415"
  },
  {
   "cell_type": "code",
   "execution_count": 45,
   "outputs": [
    {
     "data": {
      "text/plain": "           series_id    step                 timestamp     anglez    enmo\n0       038441c925bb       0  2018-08-14T15:30:00-0400   2.636700  0.0217\n1       038441c925bb       1  2018-08-14T15:30:05-0400   2.636800  0.0215\n2       038441c925bb       2  2018-08-14T15:30:10-0400   2.637000  0.0216\n3       038441c925bb       3  2018-08-14T15:30:15-0400   2.636800  0.0213\n4       038441c925bb       4  2018-08-14T15:30:20-0400   2.636800  0.0215\n...              ...     ...                       ...        ...     ...\n389875  038441c925bb  389875  2018-09-06T04:59:35-0400 -27.373899  0.0110\n389876  038441c925bb  389876  2018-09-06T04:59:40-0400 -27.493799  0.0110\n389877  038441c925bb  389877  2018-09-06T04:59:45-0400 -27.533701  0.0111\n389878  038441c925bb  389878  2018-09-06T04:59:50-0400 -28.003599  0.0111\n389879  038441c925bb  389879  2018-09-06T04:59:55-0400 -28.656700  0.0125\n\n[389880 rows x 5 columns]",
      "text/html": "<div>\n<style scoped>\n    .dataframe tbody tr th:only-of-type {\n        vertical-align: middle;\n    }\n\n    .dataframe tbody tr th {\n        vertical-align: top;\n    }\n\n    .dataframe thead th {\n        text-align: right;\n    }\n</style>\n<table border=\"1\" class=\"dataframe\">\n  <thead>\n    <tr style=\"text-align: right;\">\n      <th></th>\n      <th>series_id</th>\n      <th>step</th>\n      <th>timestamp</th>\n      <th>anglez</th>\n      <th>enmo</th>\n    </tr>\n  </thead>\n  <tbody>\n    <tr>\n      <th>0</th>\n      <td>038441c925bb</td>\n      <td>0</td>\n      <td>2018-08-14T15:30:00-0400</td>\n      <td>2.636700</td>\n      <td>0.0217</td>\n    </tr>\n    <tr>\n      <th>1</th>\n      <td>038441c925bb</td>\n      <td>1</td>\n      <td>2018-08-14T15:30:05-0400</td>\n      <td>2.636800</td>\n      <td>0.0215</td>\n    </tr>\n    <tr>\n      <th>2</th>\n      <td>038441c925bb</td>\n      <td>2</td>\n      <td>2018-08-14T15:30:10-0400</td>\n      <td>2.637000</td>\n      <td>0.0216</td>\n    </tr>\n    <tr>\n      <th>3</th>\n      <td>038441c925bb</td>\n      <td>3</td>\n      <td>2018-08-14T15:30:15-0400</td>\n      <td>2.636800</td>\n      <td>0.0213</td>\n    </tr>\n    <tr>\n      <th>4</th>\n      <td>038441c925bb</td>\n      <td>4</td>\n      <td>2018-08-14T15:30:20-0400</td>\n      <td>2.636800</td>\n      <td>0.0215</td>\n    </tr>\n    <tr>\n      <th>...</th>\n      <td>...</td>\n      <td>...</td>\n      <td>...</td>\n      <td>...</td>\n      <td>...</td>\n    </tr>\n    <tr>\n      <th>389875</th>\n      <td>038441c925bb</td>\n      <td>389875</td>\n      <td>2018-09-06T04:59:35-0400</td>\n      <td>-27.373899</td>\n      <td>0.0110</td>\n    </tr>\n    <tr>\n      <th>389876</th>\n      <td>038441c925bb</td>\n      <td>389876</td>\n      <td>2018-09-06T04:59:40-0400</td>\n      <td>-27.493799</td>\n      <td>0.0110</td>\n    </tr>\n    <tr>\n      <th>389877</th>\n      <td>038441c925bb</td>\n      <td>389877</td>\n      <td>2018-09-06T04:59:45-0400</td>\n      <td>-27.533701</td>\n      <td>0.0111</td>\n    </tr>\n    <tr>\n      <th>389878</th>\n      <td>038441c925bb</td>\n      <td>389878</td>\n      <td>2018-09-06T04:59:50-0400</td>\n      <td>-28.003599</td>\n      <td>0.0111</td>\n    </tr>\n    <tr>\n      <th>389879</th>\n      <td>038441c925bb</td>\n      <td>389879</td>\n      <td>2018-09-06T04:59:55-0400</td>\n      <td>-28.656700</td>\n      <td>0.0125</td>\n    </tr>\n  </tbody>\n</table>\n<p>389880 rows × 5 columns</p>\n</div>"
     },
     "execution_count": 45,
     "metadata": {},
     "output_type": "execute_result"
    }
   ],
   "source": [
    "sample_series"
   ],
   "metadata": {
    "collapsed": false,
    "ExecuteTime": {
     "end_time": "2023-09-25T19:18:53.368177700Z",
     "start_time": "2023-09-25T19:18:53.231386200Z"
    }
   },
   "id": "4216f71818904d04"
  },
  {
   "cell_type": "markdown",
   "source": [
    "## Reduce Memory Usage\n",
    "\n",
    "For each value, we check if it can be stored in a smaller datatype to reduce the used storage.  "
   ],
   "metadata": {
    "collapsed": false
   },
   "id": "a152958f9106be52"
  },
  {
   "cell_type": "code",
   "execution_count": 28,
   "outputs": [],
   "source": [
    "def reduce_memory(df):\n",
    "    start_memory = df.memory_usage().sum() / 1024**2\n",
    "    print(f'Memory usage before cleanup is {start_memory:.2f} MB')\n",
    "    \n",
    "    for col in tqdm(df.columns):\n",
    "        column_type = df[col].dtype\n",
    "        if column_type != object:\n",
    "            max_value = df[col].max()\n",
    "            min_value = df[col].min()\n",
    "            if str(column_type) == 'uint32':\n",
    "                if min_value > np.iinfo(np.uint8).min and max_value < np.iinfo(np.uint8).max:\n",
    "                    df[col] = df[col].astype(np.uint8)\n",
    "                elif min_value > np.iinfo(np.uint16).min and max_value < np.iinfo(np.uint16).max:\n",
    "                    df[col] = df[col].astype(np.uint16)\n",
    "            elif str(column_type) == 'float32':\n",
    "                if min_value > np.finfo(np.float16).min and max_value < np.finfo(np.float16).max:\n",
    "                    df[col] = df[col].astype(np.float16)\n",
    "        df['series_id'] = df['series_id'].astype('category')\n",
    "\n",
    "    end_memory = df.memory_usage().sum() / 1024**2\n",
    "    print(f'Memory usage after cleanup is {end_memory:.2f} MB')\n",
    "    \n",
    "    improvement = (start_memory - end_memory) / start_memory * 100\n",
    "    print(f'Memory usage improved by {improvement:.2f}%')\n",
    "    \n",
    "    return df"
   ],
   "metadata": {
    "collapsed": false,
    "ExecuteTime": {
     "end_time": "2023-09-25T18:59:12.827471200Z",
     "start_time": "2023-09-25T18:59:12.545780600Z"
    }
   },
   "id": "321c70f71613a08b"
  },
  {
   "cell_type": "markdown",
   "source": [
    "## Feature Engineering"
   ],
   "metadata": {
    "collapsed": false
   },
   "id": "1199b3a0dcc6c0ef"
  },
  {
   "cell_type": "code",
   "execution_count": 50,
   "outputs": [],
   "source": [
    "def feature_eng(df):\n",
    "    for col in tqdm(['anglez', 'enmo']):\n",
    "        for agg in tqdm(['median', 'mean', 'min', 'max']):\n",
    "            df[f'{col}_{agg}'] = df.groupby('series_id')[col].rolling(NUM_STEPS, center=True).agg(agg).astype(np.float32).values\n",
    "        df[f'{col}_diff'] = df.groupby('series_id')[col].diff(periods=NUM_STEPS).astype(np.float32)\n",
    "    \n",
    "    df = reduce_memory(df)\n",
    "\n",
    "    return df"
   ],
   "metadata": {
    "collapsed": false,
    "ExecuteTime": {
     "end_time": "2023-09-25T19:24:23.219747400Z",
     "start_time": "2023-09-25T19:24:23.161473Z"
    }
   },
   "id": "2020c55e509fd0aa"
  },
  {
   "cell_type": "code",
   "execution_count": 52,
   "outputs": [
    {
     "name": "stderr",
     "output_type": "stream",
     "text": [
      "  0%|          | 0/2 [00:00<?, ?it/s]\n",
      "  0%|          | 0/4 [00:00<?, ?it/s]\u001B[AC:\\Users\\micha\\AppData\\Local\\Temp\\ipykernel_13876\\4143230840.py:4: SettingWithCopyWarning: \n",
      "A value is trying to be set on a copy of a slice from a DataFrame.\n",
      "Try using .loc[row_indexer,col_indexer] = value instead\n",
      "\n",
      "See the caveats in the documentation: https://pandas.pydata.org/pandas-docs/stable/user_guide/indexing.html#returning-a-view-versus-a-copy\n",
      "  df[f'{col}_{agg}'] = df.groupby('series_id')[col].rolling(NUM_STEPS, center=True).agg(agg).astype(np.float32).values\n",
      "\n",
      " 25%|██▌       | 1/4 [00:03<00:10,  3.44s/it]\u001B[AC:\\Users\\micha\\AppData\\Local\\Temp\\ipykernel_13876\\4143230840.py:4: SettingWithCopyWarning: \n",
      "A value is trying to be set on a copy of a slice from a DataFrame.\n",
      "Try using .loc[row_indexer,col_indexer] = value instead\n",
      "\n",
      "See the caveats in the documentation: https://pandas.pydata.org/pandas-docs/stable/user_guide/indexing.html#returning-a-view-versus-a-copy\n",
      "  df[f'{col}_{agg}'] = df.groupby('series_id')[col].rolling(NUM_STEPS, center=True).agg(agg).astype(np.float32).values\n",
      "\n",
      " 50%|█████     | 2/4 [00:03<00:03,  1.71s/it]\u001B[AC:\\Users\\micha\\AppData\\Local\\Temp\\ipykernel_13876\\4143230840.py:4: SettingWithCopyWarning: \n",
      "A value is trying to be set on a copy of a slice from a DataFrame.\n",
      "Try using .loc[row_indexer,col_indexer] = value instead\n",
      "\n",
      "See the caveats in the documentation: https://pandas.pydata.org/pandas-docs/stable/user_guide/indexing.html#returning-a-view-versus-a-copy\n",
      "  df[f'{col}_{agg}'] = df.groupby('series_id')[col].rolling(NUM_STEPS, center=True).agg(agg).astype(np.float32).values\n",
      "\n",
      " 75%|███████▌  | 3/4 [00:04<00:01,  1.21s/it]\u001B[AC:\\Users\\micha\\AppData\\Local\\Temp\\ipykernel_13876\\4143230840.py:4: SettingWithCopyWarning: \n",
      "A value is trying to be set on a copy of a slice from a DataFrame.\n",
      "Try using .loc[row_indexer,col_indexer] = value instead\n",
      "\n",
      "See the caveats in the documentation: https://pandas.pydata.org/pandas-docs/stable/user_guide/indexing.html#returning-a-view-versus-a-copy\n",
      "  df[f'{col}_{agg}'] = df.groupby('series_id')[col].rolling(NUM_STEPS, center=True).agg(agg).astype(np.float32).values\n",
      "\n",
      "100%|██████████| 4/4 [00:05<00:00,  1.27s/it]\u001B[A\n",
      "C:\\Users\\micha\\AppData\\Local\\Temp\\ipykernel_13876\\4143230840.py:5: SettingWithCopyWarning: \n",
      "A value is trying to be set on a copy of a slice from a DataFrame.\n",
      "Try using .loc[row_indexer,col_indexer] = value instead\n",
      "\n",
      "See the caveats in the documentation: https://pandas.pydata.org/pandas-docs/stable/user_guide/indexing.html#returning-a-view-versus-a-copy\n",
      "  df[f'{col}_diff'] = df.groupby('series_id')[col].diff(periods=NUM_STEPS).astype(np.float32)\n",
      " 50%|█████     | 1/2 [00:05<00:05,  5.51s/it]\n",
      "  0%|          | 0/4 [00:00<?, ?it/s]\u001B[AC:\\Users\\micha\\AppData\\Local\\Temp\\ipykernel_13876\\4143230840.py:4: SettingWithCopyWarning: \n",
      "A value is trying to be set on a copy of a slice from a DataFrame.\n",
      "Try using .loc[row_indexer,col_indexer] = value instead\n",
      "\n",
      "See the caveats in the documentation: https://pandas.pydata.org/pandas-docs/stable/user_guide/indexing.html#returning-a-view-versus-a-copy\n",
      "  df[f'{col}_{agg}'] = df.groupby('series_id')[col].rolling(NUM_STEPS, center=True).agg(agg).astype(np.float32).values\n",
      "\n",
      " 25%|██▌       | 1/4 [00:01<00:04,  1.33s/it]\u001B[AC:\\Users\\micha\\AppData\\Local\\Temp\\ipykernel_13876\\4143230840.py:4: SettingWithCopyWarning: \n",
      "A value is trying to be set on a copy of a slice from a DataFrame.\n",
      "Try using .loc[row_indexer,col_indexer] = value instead\n",
      "\n",
      "See the caveats in the documentation: https://pandas.pydata.org/pandas-docs/stable/user_guide/indexing.html#returning-a-view-versus-a-copy\n",
      "  df[f'{col}_{agg}'] = df.groupby('series_id')[col].rolling(NUM_STEPS, center=True).agg(agg).astype(np.float32).values\n",
      "\n",
      " 50%|█████     | 2/4 [00:01<00:01,  1.22it/s]\u001B[AC:\\Users\\micha\\AppData\\Local\\Temp\\ipykernel_13876\\4143230840.py:4: SettingWithCopyWarning: \n",
      "A value is trying to be set on a copy of a slice from a DataFrame.\n",
      "Try using .loc[row_indexer,col_indexer] = value instead\n",
      "\n",
      "See the caveats in the documentation: https://pandas.pydata.org/pandas-docs/stable/user_guide/indexing.html#returning-a-view-versus-a-copy\n",
      "  df[f'{col}_{agg}'] = df.groupby('series_id')[col].rolling(NUM_STEPS, center=True).agg(agg).astype(np.float32).values\n",
      "\n",
      " 75%|███████▌  | 3/4 [00:02<00:00,  1.48it/s]\u001B[AC:\\Users\\micha\\AppData\\Local\\Temp\\ipykernel_13876\\4143230840.py:4: SettingWithCopyWarning: \n",
      "A value is trying to be set on a copy of a slice from a DataFrame.\n",
      "Try using .loc[row_indexer,col_indexer] = value instead\n",
      "\n",
      "See the caveats in the documentation: https://pandas.pydata.org/pandas-docs/stable/user_guide/indexing.html#returning-a-view-versus-a-copy\n",
      "  df[f'{col}_{agg}'] = df.groupby('series_id')[col].rolling(NUM_STEPS, center=True).agg(agg).astype(np.float32).values\n",
      "\n",
      "100%|██████████| 4/4 [00:02<00:00,  1.41it/s]\u001B[A\n",
      "C:\\Users\\micha\\AppData\\Local\\Temp\\ipykernel_13876\\4143230840.py:5: SettingWithCopyWarning: \n",
      "A value is trying to be set on a copy of a slice from a DataFrame.\n",
      "Try using .loc[row_indexer,col_indexer] = value instead\n",
      "\n",
      "See the caveats in the documentation: https://pandas.pydata.org/pandas-docs/stable/user_guide/indexing.html#returning-a-view-versus-a-copy\n",
      "  df[f'{col}_diff'] = df.groupby('series_id')[col].diff(periods=NUM_STEPS).astype(np.float32)\n",
      "100%|██████████| 2/2 [00:08<00:00,  4.33s/it]\n"
     ]
    },
    {
     "name": "stdout",
     "output_type": "stream",
     "text": [
      "Memory usage before cleanup is 28.26 MB\n"
     ]
    },
    {
     "name": "stderr",
     "output_type": "stream",
     "text": [
      "  0%|          | 0/15 [00:00<?, ?it/s]C:\\Users\\micha\\AppData\\Local\\Temp\\ipykernel_13876\\444656612.py:18: SettingWithCopyWarning: \n",
      "A value is trying to be set on a copy of a slice from a DataFrame.\n",
      "Try using .loc[row_indexer,col_indexer] = value instead\n",
      "\n",
      "See the caveats in the documentation: https://pandas.pydata.org/pandas-docs/stable/user_guide/indexing.html#returning-a-view-versus-a-copy\n",
      "  df['series_id'] = df['series_id'].astype('category')\n",
      "  7%|▋         | 1/15 [00:00<00:05,  2.35it/s]C:\\Users\\micha\\AppData\\Local\\Temp\\ipykernel_13876\\444656612.py:18: SettingWithCopyWarning: \n",
      "A value is trying to be set on a copy of a slice from a DataFrame.\n",
      "Try using .loc[row_indexer,col_indexer] = value instead\n",
      "\n",
      "See the caveats in the documentation: https://pandas.pydata.org/pandas-docs/stable/user_guide/indexing.html#returning-a-view-versus-a-copy\n",
      "  df['series_id'] = df['series_id'].astype('category')\n",
      " 13%|█▎        | 2/15 [00:00<00:03,  3.83it/s]C:\\Users\\micha\\AppData\\Local\\Temp\\ipykernel_13876\\444656612.py:17: SettingWithCopyWarning: \n",
      "A value is trying to be set on a copy of a slice from a DataFrame.\n",
      "Try using .loc[row_indexer,col_indexer] = value instead\n",
      "\n",
      "See the caveats in the documentation: https://pandas.pydata.org/pandas-docs/stable/user_guide/indexing.html#returning-a-view-versus-a-copy\n",
      "  df[col] = df[col].astype(np.float16)\n",
      "100%|██████████| 15/15 [00:02<00:00,  5.22it/s]"
     ]
    },
    {
     "name": "stdout",
     "output_type": "stream",
     "text": [
      "Memory usage after cleanup is 16.73 MB\n",
      "Memory usage improved by 40.79%\n"
     ]
    },
    {
     "name": "stderr",
     "output_type": "stream",
     "text": [
      "\n"
     ]
    }
   ],
   "source": [
    "sample_series = feature_eng(sample_series)"
   ],
   "metadata": {
    "collapsed": false,
    "ExecuteTime": {
     "end_time": "2023-09-25T19:31:02.611080800Z",
     "start_time": "2023-09-25T19:30:50.972455300Z"
    }
   },
   "id": "fb5025621c0aa7aa"
  },
  {
   "cell_type": "code",
   "execution_count": 53,
   "outputs": [
    {
     "data": {
      "text/plain": "           series_id    step                 timestamp     anglez      enmo  \\\n0       038441c925bb       0  2018-08-14T15:30:00-0400   2.636719  0.021698   \n1       038441c925bb       1  2018-08-14T15:30:05-0400   2.636719  0.021500   \n2       038441c925bb       2  2018-08-14T15:30:10-0400   2.636719  0.021606   \n3       038441c925bb       3  2018-08-14T15:30:15-0400   2.636719  0.021301   \n4       038441c925bb       4  2018-08-14T15:30:20-0400   2.636719  0.021500   \n...              ...     ...                       ...        ...       ...   \n389875  038441c925bb  389875  2018-09-06T04:59:35-0400 -27.375000  0.011002   \n389876  038441c925bb  389876  2018-09-06T04:59:40-0400 -27.500000  0.011002   \n389877  038441c925bb  389877  2018-09-06T04:59:45-0400 -27.531250  0.011101   \n389878  038441c925bb  389878  2018-09-06T04:59:50-0400 -28.000000  0.011101   \n389879  038441c925bb  389879  2018-09-06T04:59:55-0400 -28.656250  0.012497   \n\n        anglez_median  anglez_mean  anglez_min  anglez_max  anglez_diff  \\\n0                 NaN          NaN         NaN         NaN          NaN   \n1                 NaN          NaN         NaN         NaN          NaN   \n2                 NaN          NaN         NaN         NaN          NaN   \n3                 NaN          NaN         NaN         NaN          NaN   \n4                 NaN          NaN         NaN         NaN          NaN   \n...               ...          ...         ...         ...          ...   \n389875            NaN          NaN         NaN         NaN    -0.731445   \n389876            NaN          NaN         NaN         NaN    -0.751953   \n389877            NaN          NaN         NaN         NaN    -0.909668   \n389878            NaN          NaN         NaN         NaN    -1.461914   \n389879            NaN          NaN         NaN         NaN    -2.197266   \n\n        enmo_median  enmo_mean  enmo_min  enmo_max  enmo_diff  \n0               NaN        NaN       NaN       NaN        NaN  \n1               NaN        NaN       NaN       NaN        NaN  \n2               NaN        NaN       NaN       NaN        NaN  \n3               NaN        NaN       NaN       NaN        NaN  \n4               NaN        NaN       NaN       NaN        NaN  \n...             ...        ...       ...       ...        ...  \n389875          NaN        NaN       NaN       NaN    -0.0013  \n389876          NaN        NaN       NaN       NaN    -0.0014  \n389877          NaN        NaN       NaN       NaN    -0.0009  \n389878          NaN        NaN       NaN       NaN    -0.0009  \n389879          NaN        NaN       NaN       NaN     0.0006  \n\n[389880 rows x 15 columns]",
      "text/html": "<div>\n<style scoped>\n    .dataframe tbody tr th:only-of-type {\n        vertical-align: middle;\n    }\n\n    .dataframe tbody tr th {\n        vertical-align: top;\n    }\n\n    .dataframe thead th {\n        text-align: right;\n    }\n</style>\n<table border=\"1\" class=\"dataframe\">\n  <thead>\n    <tr style=\"text-align: right;\">\n      <th></th>\n      <th>series_id</th>\n      <th>step</th>\n      <th>timestamp</th>\n      <th>anglez</th>\n      <th>enmo</th>\n      <th>anglez_median</th>\n      <th>anglez_mean</th>\n      <th>anglez_min</th>\n      <th>anglez_max</th>\n      <th>anglez_diff</th>\n      <th>enmo_median</th>\n      <th>enmo_mean</th>\n      <th>enmo_min</th>\n      <th>enmo_max</th>\n      <th>enmo_diff</th>\n    </tr>\n  </thead>\n  <tbody>\n    <tr>\n      <th>0</th>\n      <td>038441c925bb</td>\n      <td>0</td>\n      <td>2018-08-14T15:30:00-0400</td>\n      <td>2.636719</td>\n      <td>0.021698</td>\n      <td>NaN</td>\n      <td>NaN</td>\n      <td>NaN</td>\n      <td>NaN</td>\n      <td>NaN</td>\n      <td>NaN</td>\n      <td>NaN</td>\n      <td>NaN</td>\n      <td>NaN</td>\n      <td>NaN</td>\n    </tr>\n    <tr>\n      <th>1</th>\n      <td>038441c925bb</td>\n      <td>1</td>\n      <td>2018-08-14T15:30:05-0400</td>\n      <td>2.636719</td>\n      <td>0.021500</td>\n      <td>NaN</td>\n      <td>NaN</td>\n      <td>NaN</td>\n      <td>NaN</td>\n      <td>NaN</td>\n      <td>NaN</td>\n      <td>NaN</td>\n      <td>NaN</td>\n      <td>NaN</td>\n      <td>NaN</td>\n    </tr>\n    <tr>\n      <th>2</th>\n      <td>038441c925bb</td>\n      <td>2</td>\n      <td>2018-08-14T15:30:10-0400</td>\n      <td>2.636719</td>\n      <td>0.021606</td>\n      <td>NaN</td>\n      <td>NaN</td>\n      <td>NaN</td>\n      <td>NaN</td>\n      <td>NaN</td>\n      <td>NaN</td>\n      <td>NaN</td>\n      <td>NaN</td>\n      <td>NaN</td>\n      <td>NaN</td>\n    </tr>\n    <tr>\n      <th>3</th>\n      <td>038441c925bb</td>\n      <td>3</td>\n      <td>2018-08-14T15:30:15-0400</td>\n      <td>2.636719</td>\n      <td>0.021301</td>\n      <td>NaN</td>\n      <td>NaN</td>\n      <td>NaN</td>\n      <td>NaN</td>\n      <td>NaN</td>\n      <td>NaN</td>\n      <td>NaN</td>\n      <td>NaN</td>\n      <td>NaN</td>\n      <td>NaN</td>\n    </tr>\n    <tr>\n      <th>4</th>\n      <td>038441c925bb</td>\n      <td>4</td>\n      <td>2018-08-14T15:30:20-0400</td>\n      <td>2.636719</td>\n      <td>0.021500</td>\n      <td>NaN</td>\n      <td>NaN</td>\n      <td>NaN</td>\n      <td>NaN</td>\n      <td>NaN</td>\n      <td>NaN</td>\n      <td>NaN</td>\n      <td>NaN</td>\n      <td>NaN</td>\n      <td>NaN</td>\n    </tr>\n    <tr>\n      <th>...</th>\n      <td>...</td>\n      <td>...</td>\n      <td>...</td>\n      <td>...</td>\n      <td>...</td>\n      <td>...</td>\n      <td>...</td>\n      <td>...</td>\n      <td>...</td>\n      <td>...</td>\n      <td>...</td>\n      <td>...</td>\n      <td>...</td>\n      <td>...</td>\n      <td>...</td>\n    </tr>\n    <tr>\n      <th>389875</th>\n      <td>038441c925bb</td>\n      <td>389875</td>\n      <td>2018-09-06T04:59:35-0400</td>\n      <td>-27.375000</td>\n      <td>0.011002</td>\n      <td>NaN</td>\n      <td>NaN</td>\n      <td>NaN</td>\n      <td>NaN</td>\n      <td>-0.731445</td>\n      <td>NaN</td>\n      <td>NaN</td>\n      <td>NaN</td>\n      <td>NaN</td>\n      <td>-0.0013</td>\n    </tr>\n    <tr>\n      <th>389876</th>\n      <td>038441c925bb</td>\n      <td>389876</td>\n      <td>2018-09-06T04:59:40-0400</td>\n      <td>-27.500000</td>\n      <td>0.011002</td>\n      <td>NaN</td>\n      <td>NaN</td>\n      <td>NaN</td>\n      <td>NaN</td>\n      <td>-0.751953</td>\n      <td>NaN</td>\n      <td>NaN</td>\n      <td>NaN</td>\n      <td>NaN</td>\n      <td>-0.0014</td>\n    </tr>\n    <tr>\n      <th>389877</th>\n      <td>038441c925bb</td>\n      <td>389877</td>\n      <td>2018-09-06T04:59:45-0400</td>\n      <td>-27.531250</td>\n      <td>0.011101</td>\n      <td>NaN</td>\n      <td>NaN</td>\n      <td>NaN</td>\n      <td>NaN</td>\n      <td>-0.909668</td>\n      <td>NaN</td>\n      <td>NaN</td>\n      <td>NaN</td>\n      <td>NaN</td>\n      <td>-0.0009</td>\n    </tr>\n    <tr>\n      <th>389878</th>\n      <td>038441c925bb</td>\n      <td>389878</td>\n      <td>2018-09-06T04:59:50-0400</td>\n      <td>-28.000000</td>\n      <td>0.011101</td>\n      <td>NaN</td>\n      <td>NaN</td>\n      <td>NaN</td>\n      <td>NaN</td>\n      <td>-1.461914</td>\n      <td>NaN</td>\n      <td>NaN</td>\n      <td>NaN</td>\n      <td>NaN</td>\n      <td>-0.0009</td>\n    </tr>\n    <tr>\n      <th>389879</th>\n      <td>038441c925bb</td>\n      <td>389879</td>\n      <td>2018-09-06T04:59:55-0400</td>\n      <td>-28.656250</td>\n      <td>0.012497</td>\n      <td>NaN</td>\n      <td>NaN</td>\n      <td>NaN</td>\n      <td>NaN</td>\n      <td>-2.197266</td>\n      <td>NaN</td>\n      <td>NaN</td>\n      <td>NaN</td>\n      <td>NaN</td>\n      <td>0.0006</td>\n    </tr>\n  </tbody>\n</table>\n<p>389880 rows × 15 columns</p>\n</div>"
     },
     "execution_count": 53,
     "metadata": {},
     "output_type": "execute_result"
    }
   ],
   "source": [
    "sample_series"
   ],
   "metadata": {
    "collapsed": false,
    "ExecuteTime": {
     "end_time": "2023-09-25T19:31:02.836355Z",
     "start_time": "2023-09-25T19:31:02.620231200Z"
    }
   },
   "id": "f2412847a1852589"
  }
 ],
 "metadata": {
  "kernelspec": {
   "name": "aich",
   "language": "python",
   "display_name": "AICH"
  },
  "language_info": {
   "codemirror_mode": {
    "name": "ipython",
    "version": 2
   },
   "file_extension": ".py",
   "mimetype": "text/x-python",
   "name": "python",
   "nbconvert_exporter": "python",
   "pygments_lexer": "ipython2",
   "version": "2.7.6"
  }
 },
 "nbformat": 4,
 "nbformat_minor": 5
}
