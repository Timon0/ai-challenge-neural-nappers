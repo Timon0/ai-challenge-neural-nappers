{
 "cells": [
  {
   "cell_type": "code",
   "execution_count": 1,
   "metadata": {},
   "outputs": [],
   "source": [
    "import sys\n",
    "sys.path.append('../')\n",
    "\n",
    "from baselines.FixTimeRegressor import FixTimeRegressor\n",
    "\n",
    "import pandas as pd\n",
    "import tqdm\n",
    "import numpy as np"
   ]
  },
  {
   "cell_type": "code",
   "execution_count": 2,
   "metadata": {},
   "outputs": [],
   "source": [
    "train_series = pd.read_parquet('../data/raw/train_series.parquet')"
   ]
  },
  {
   "cell_type": "code",
   "execution_count": 3,
   "metadata": {},
   "outputs": [],
   "source": [
    "participant_series_id = '038441c925bb'"
   ]
  },
  {
   "cell_type": "code",
   "execution_count": 4,
   "metadata": {},
   "outputs": [],
   "source": [
    "def reduce_memory(df):\n",
    "    start_memory = df.memory_usage().sum() / 1024**2\n",
    "    print(f'Memory usage before cleanup is {start_memory:.2f} MB')\n",
    "    \n",
    "    for col in tqdm.tqdm(df.columns):\n",
    "        column_type = df[col].dtype\n",
    "        if column_type != object:\n",
    "            max_value = df[col].max()\n",
    "            min_value = df[col].min()\n",
    "            if str(column_type) == 'uint32':\n",
    "                if min_value > np.iinfo(np.uint8).min and max_value < np.iinfo(np.uint8).max:\n",
    "                    df[col] = df[col].astype(np.uint8)\n",
    "                elif min_value > np.iinfo(np.uint16).min and max_value < np.iinfo(np.uint16).max:\n",
    "                    df[col] = df[col].astype(np.uint16)\n",
    "            elif str(column_type) == 'float32':\n",
    "                if min_value > np.finfo(np.float16).min and max_value < np.finfo(np.float16).max:\n",
    "                    df[col] = df[col].astype(np.float16)\n",
    "        df['series_id'] = df['series_id'].astype('category')\n",
    "\n",
    "    end_memory = df.memory_usage().sum() / 1024**2\n",
    "    print(f'Memory usage after cleanup is {end_memory:.2f} MB')\n",
    "    \n",
    "    improvement = (start_memory - end_memory) / start_memory * 100\n",
    "    print(f'Memory usage improved by {improvement:.2f}%')\n",
    "    \n",
    "    return df"
   ]
  },
  {
   "cell_type": "code",
   "execution_count": 5,
   "metadata": {},
   "outputs": [
    {
     "name": "stdout",
     "output_type": "stream",
     "text": [
      "Memory usage before cleanup is 3416.54 MB\n"
     ]
    },
    {
     "name": "stderr",
     "output_type": "stream",
     "text": [
      "100%|██████████| 5/5 [00:41<00:00,  8.38s/it]"
     ]
    },
    {
     "name": "stdout",
     "output_type": "stream",
     "text": [
      "Memory usage after cleanup is 2196.35 MB\n",
      "Memory usage improved by 35.71%\n"
     ]
    },
    {
     "name": "stderr",
     "output_type": "stream",
     "text": [
      "\n"
     ]
    }
   ],
   "source": [
    "dataframe = reduce_memory(train_series)"
   ]
  },
  {
   "cell_type": "code",
   "execution_count": 6,
   "metadata": {},
   "outputs": [],
   "source": [
    "regressor = FixTimeRegressor('06:00:00', '22:00:00')"
   ]
  },
  {
   "cell_type": "code",
   "execution_count": 7,
   "metadata": {},
   "outputs": [
    {
     "name": "stderr",
     "output_type": "stream",
     "text": [
      "100%|██████████| 389880/389880 [01:21<00:00, 4779.38it/s]\n"
     ]
    }
   ],
   "source": [
    "results = regressor.predict(dataframe[dataframe['series_id'] == participant_series_id])"
   ]
  },
  {
   "cell_type": "code",
   "execution_count": 8,
   "metadata": {},
   "outputs": [],
   "source": [
    "results.to_csv('../results/baseline_submission.csv', sep=',', index=False)"
   ]
  }
 ],
 "metadata": {
  "kernelspec": {
   "display_name": "aich",
   "language": "python",
   "name": "python3"
  },
  "language_info": {
   "codemirror_mode": {
    "name": "ipython",
    "version": 3
   },
   "file_extension": ".py",
   "mimetype": "text/x-python",
   "name": "python",
   "nbconvert_exporter": "python",
   "pygments_lexer": "ipython3",
   "version": "3.9.18"
  },
  "orig_nbformat": 4
 },
 "nbformat": 4,
 "nbformat_minor": 2
}
