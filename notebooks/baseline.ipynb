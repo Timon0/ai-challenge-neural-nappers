{
 "cells": [
  {
   "cell_type": "code",
   "execution_count": 1,
   "metadata": {},
   "outputs": [],
   "source": [
    "import sys\n",
    "sys.path.append('../')\n",
    "\n",
    "from baselines.FixTimeRegressor import FixTimeRegressor\n",
    "from baselines.TimeRangeRegressor import TimeRangeRegressor\n",
    "\n",
    "import pandas as pd\n",
    "import tqdm\n",
    "import numpy as np\n",
    "\n",
    "import pyarrow.parquet as pq"
   ]
  },
  {
   "cell_type": "code",
   "execution_count": 14,
   "metadata": {},
   "outputs": [],
   "source": [
    "regressor = TimeRangeRegressor(['05:00:00', '08:00:00'], ['21:00:00', '23:59:59'])\n"
   ]
  },
  {
   "cell_type": "code",
   "execution_count": 3,
   "metadata": {},
   "outputs": [],
   "source": [
    "train_file = pq.ParquetFile('../data/raw/train_series.parquet')"
   ]
  },
  {
   "cell_type": "code",
   "execution_count": 4,
   "metadata": {},
   "outputs": [],
   "source": [
    "participant_series_ids = ['038441c925bb', '03d92c9f6f8a', '0402a003dae9', '04f547b8017d', '05e1944c3818', '08db4255286f']\n",
    "train_series = pd.DataFrame()\n",
    "for series in participant_series_ids:\n",
    "  train_series = pd.concat([train_series, pd.read_parquet(\"../data/raw/train_series.parquet\", filters=[('series_id','=',series)])], axis=0)"
   ]
  },
  {
   "cell_type": "code",
   "execution_count": 5,
   "metadata": {},
   "outputs": [],
   "source": [
    "def reduce_memory(df):\n",
    "    start_memory = df.memory_usage().sum() / 1024**2\n",
    "    print(f'Memory usage before cleanup is {start_memory:.2f} MB')\n",
    "    \n",
    "    for col in tqdm.tqdm(df.columns):\n",
    "        column_type = df[col].dtype\n",
    "        if column_type != object:\n",
    "            max_value = df[col].max()\n",
    "            min_value = df[col].min()\n",
    "            if str(column_type) == 'uint32':\n",
    "                if min_value > np.iinfo(np.uint8).min and max_value < np.iinfo(np.uint8).max:\n",
    "                    df[col] = df[col].astype(np.uint8)\n",
    "                elif min_value > np.iinfo(np.uint16).min and max_value < np.iinfo(np.uint16).max:\n",
    "                    df[col] = df[col].astype(np.uint16)\n",
    "            elif str(column_type) == 'float32':\n",
    "                if min_value > np.finfo(np.float16).min and max_value < np.finfo(np.float16).max:\n",
    "                    df[col] = df[col].astype(np.float16)\n",
    "        df['series_id'] = df['series_id'].astype('category')\n",
    "\n",
    "    end_memory = df.memory_usage().sum() / 1024**2\n",
    "    print(f'Memory usage after cleanup is {end_memory:.2f} MB')\n",
    "    \n",
    "    improvement = (start_memory - end_memory) / start_memory * 100\n",
    "    print(f'Memory usage improved by {improvement:.2f}%')\n",
    "    \n",
    "    return df"
   ]
  },
  {
   "cell_type": "code",
   "execution_count": 6,
   "metadata": {},
   "outputs": [],
   "source": [
    "# dataframe = pd.DataFrame()\n",
    "# for batch in tqdm.tqdm(train_file.iter_batches()):\n",
    "#     df = batch.to_pandas()\n",
    "#     dataframe = pd.concat([dataframe, df.loc[df['series_id'].isin(participant_series_ids)]], axis=0)"
   ]
  },
  {
   "cell_type": "code",
   "execution_count": 15,
   "metadata": {},
   "outputs": [
    {
     "name": "stderr",
     "output_type": "stream",
     "text": [
      "100%|██████████| 726105/726105 [00:41<00:00, 17499.18it/s]\n"
     ]
    },
    {
     "data": {
      "text/html": [
       "<div>\n",
       "<style scoped>\n",
       "    .dataframe tbody tr th:only-of-type {\n",
       "        vertical-align: middle;\n",
       "    }\n",
       "\n",
       "    .dataframe tbody tr th {\n",
       "        vertical-align: top;\n",
       "    }\n",
       "\n",
       "    .dataframe thead th {\n",
       "        text-align: right;\n",
       "    }\n",
       "</style>\n",
       "<table border=\"1\" class=\"dataframe\">\n",
       "  <thead>\n",
       "    <tr style=\"text-align: right;\">\n",
       "      <th></th>\n",
       "      <th>row_id</th>\n",
       "      <th>series_id</th>\n",
       "      <th>step</th>\n",
       "      <th>event</th>\n",
       "      <th>score</th>\n",
       "    </tr>\n",
       "  </thead>\n",
       "  <tbody>\n",
       "    <tr>\n",
       "      <th>0</th>\n",
       "      <td>0</td>\n",
       "      <td>038441c925bb</td>\n",
       "      <td>10680</td>\n",
       "      <td>wakeup</td>\n",
       "      <td>0.5</td>\n",
       "    </tr>\n",
       "    <tr>\n",
       "      <th>1</th>\n",
       "      <td>1</td>\n",
       "      <td>038441c925bb</td>\n",
       "      <td>10980</td>\n",
       "      <td>wakeup</td>\n",
       "      <td>0.5</td>\n",
       "    </tr>\n",
       "    <tr>\n",
       "      <th>2</th>\n",
       "      <td>2</td>\n",
       "      <td>038441c925bb</td>\n",
       "      <td>11760</td>\n",
       "      <td>wakeup</td>\n",
       "      <td>0.5</td>\n",
       "    </tr>\n",
       "    <tr>\n",
       "      <th>3</th>\n",
       "      <td>3</td>\n",
       "      <td>038441c925bb</td>\n",
       "      <td>28620</td>\n",
       "      <td>wakeup</td>\n",
       "      <td>0.5</td>\n",
       "    </tr>\n",
       "    <tr>\n",
       "      <th>4</th>\n",
       "      <td>4</td>\n",
       "      <td>038441c925bb</td>\n",
       "      <td>44940</td>\n",
       "      <td>wakeup</td>\n",
       "      <td>0.5</td>\n",
       "    </tr>\n",
       "  </tbody>\n",
       "</table>\n",
       "</div>"
      ],
      "text/plain": [
       "   row_id     series_id   step   event  score\n",
       "0       0  038441c925bb  10680  wakeup    0.5\n",
       "1       1  038441c925bb  10980  wakeup    0.5\n",
       "2       2  038441c925bb  11760  wakeup    0.5\n",
       "3       3  038441c925bb  28620  wakeup    0.5\n",
       "4       4  038441c925bb  44940  wakeup    0.5"
      ]
     },
     "execution_count": 15,
     "metadata": {},
     "output_type": "execute_result"
    }
   ],
   "source": [
    "results = regressor.predict(train_series)\n",
    "\n",
    "results.head()"
   ]
  },
  {
   "cell_type": "code",
   "execution_count": 16,
   "metadata": {},
   "outputs": [],
   "source": [
    "results.to_csv('../results/baseline_submission_1.csv')"
   ]
  },
  {
   "cell_type": "code",
   "execution_count": 9,
   "metadata": {},
   "outputs": [],
   "source": [
    "regressor = FixTimeRegressor('06:00:00', '22:00:00')"
   ]
  },
  {
   "cell_type": "code",
   "execution_count": 10,
   "metadata": {},
   "outputs": [
    {
     "name": "stderr",
     "output_type": "stream",
     "text": [
      "100%|██████████| 346/346 [00:00<00:00, 16227.72it/s]\n"
     ]
    }
   ],
   "source": [
    "results = regressor.predict(train_series)"
   ]
  },
  {
   "cell_type": "code",
   "execution_count": 11,
   "metadata": {},
   "outputs": [],
   "source": [
    "results.to_csv('../results/baseline_submission.csv', sep=',', index=False)"
   ]
  }
 ],
 "metadata": {
  "kernelspec": {
   "display_name": "aich",
   "language": "python",
   "name": "python3"
  },
  "language_info": {
   "codemirror_mode": {
    "name": "ipython",
    "version": 3
   },
   "file_extension": ".py",
   "mimetype": "text/x-python",
   "name": "python",
   "nbconvert_exporter": "python",
   "pygments_lexer": "ipython3",
   "version": "3.8.18"
  },
  "orig_nbformat": 4
 },
 "nbformat": 4,
 "nbformat_minor": 2
}
