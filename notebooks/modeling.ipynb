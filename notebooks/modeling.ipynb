{
 "cells": [
  {
   "cell_type": "code",
   "execution_count": null,
   "id": "initial_id",
   "metadata": {
    "collapsed": true
   },
   "outputs": [],
   "source": [
    "!pip install scikit-learn joblib"
   ]
  },
  {
   "cell_type": "code",
   "execution_count": null,
   "id": "edbf0f4aa8d1d4",
   "metadata": {},
   "outputs": [],
   "source": [
    "# Base\n",
    "from typing import Tuple\n",
    "import pandas as pd\n",
    "\n",
    "# Preprocessing\n",
    "from sklearn.model_selection import train_test_split\n",
    "from sklearn.pipeline import Pipeline\n",
    "from sklearn.preprocessing import StandardScaler\n",
    "\n",
    "# Modeling\n",
    "from sklearn.neighbors import KNeighborsClassifier\n",
    "from sklearn.tree import DecisionTreeClassifier\n",
    "\n",
    "# Scoring\n",
    "from sklearn.metrics import accuracy_score\n",
    "from sklearn.metrics import confusion_matrix, ConfusionMatrixDisplay\n",
    "\n",
    "# Saving\n",
    "from joblib import dump, load"
   ]
  },
  {
   "cell_type": "code",
   "execution_count": null,
   "id": "67a84015f109223b",
   "metadata": {},
   "outputs": [],
   "source": [
    "#data = pd.read_parquet('../data/processed/train_with_features_lightweight_10.parquet')\n",
    "data = pd.read_parquet('../data/processed/train_with_features.parquet')"
   ]
  },
  {
   "cell_type": "code",
   "execution_count": null,
   "id": "9e9beeeb60494c98",
   "metadata": {},
   "outputs": [],
   "source": [
    "data.head()"
   ]
  },
  {
   "cell_type": "markdown",
   "id": "d6c606911f7c053d",
   "metadata": {},
   "source": [
    "## Hyperparams"
   ]
  },
  {
   "cell_type": "code",
   "execution_count": null,
   "id": "40ea5406b7e76101",
   "metadata": {},
   "outputs": [],
   "source": [
    "data.columns"
   ]
  },
  {
   "cell_type": "code",
   "execution_count": null,
   "id": "2cd73821619d05d9",
   "metadata": {},
   "outputs": [],
   "source": [
    "RANDOM_STATE = 42\n",
    "features = ['anglez', 'enmo', 'hour', 'anglez_abs', 'anglez_diff', 'enmo_diff', 'anglez_x_enmo', \n",
    "            'anglez_rolling_mean', 'enmo_rolling_mean', 'anglez_rolling_max',\n",
    "            'enmo_rolling_max', 'anglez_rolling_min', 'enmo_rolling_min',\n",
    "            'anglez_rolling_std', 'enmo_rolling_std']\n",
    "target_column = ['awake']"
   ]
  },
  {
   "cell_type": "markdown",
   "id": "32841e4f5ececc66",
   "metadata": {},
   "source": [
    "## Test, Train Split"
   ]
  },
  {
   "cell_type": "code",
   "execution_count": null,
   "id": "5ad1afe4f69daefc",
   "metadata": {},
   "outputs": [],
   "source": [
    "def group_test_train_split(samples: pd.DataFrame, group: str, test_size, random_state: int) -> Tuple[pd.DataFrame, pd.DataFrame]:\n",
    "    groups = samples[group].drop_duplicates()\n",
    "    groups_train, groups_test = train_test_split(groups, test_size=test_size, random_state=random_state)\n",
    "\n",
    "    samples_test = samples.loc[lambda d: d[group].isin(groups_test)]\n",
    "    samples_train = samples.loc[lambda d: d[group].isin(groups_train)]\n",
    "\n",
    "    return samples_test, samples_train"
   ]
  },
  {
   "cell_type": "code",
   "execution_count": null,
   "id": "949e7e89088ffeaa",
   "metadata": {},
   "outputs": [],
   "source": [
    "test, train = group_test_train_split(data, 'series_id', test_size=0.2, random_state=RANDOM_STATE)\n",
    "\n",
    "X_train = train\n",
    "y_train = train[target_column]\n",
    "X_test = test\n",
    "y_test = test[target_column]"
   ]
  },
  {
   "cell_type": "code",
   "execution_count": null,
   "id": "16f5976634446084",
   "metadata": {},
   "outputs": [],
   "source": [
    "del data\n",
    "del train\n",
    "del X_train\n",
    "del y_train"
   ]
  },
  {
   "cell_type": "code",
   "execution_count": null,
   "id": "1abb3c9d60bf54fd",
   "metadata": {},
   "outputs": [],
   "source": [
    "import gc\n",
    "gc.collect()"
   ]
  },
  {
   "cell_type": "code",
   "execution_count": null,
   "id": "26ef522c8a8e33fd",
   "metadata": {},
   "outputs": [],
   "source": [
    "print(X_train.shape)\n",
    "print(y_train.shape)\n",
    "print(X_test.shape)\n",
    "print(y_test.shape)"
   ]
  },
  {
   "cell_type": "markdown",
   "id": "d8cdb0db939d8003",
   "metadata": {},
   "source": [
    "## Pipeline"
   ]
  },
  {
   "cell_type": "code",
   "execution_count": null,
   "id": "c73d511fa0394f33",
   "metadata": {},
   "outputs": [],
   "source": [
    "kn_classifier = Pipeline([\n",
    "        ('scale', StandardScaler()),\n",
    "        ('knc', KNeighborsClassifier())])\n",
    "\n",
    "dt_classifier = Pipeline([\n",
    "    ('scale', StandardScaler()),\n",
    "    ('dtc', DecisionTreeClassifier())])"
   ]
  },
  {
   "cell_type": "markdown",
   "id": "cc2316fcfb9970f5",
   "metadata": {},
   "source": [
    "## Classification"
   ]
  },
  {
   "cell_type": "code",
   "execution_count": null,
   "id": "69ec60b218ce204f",
   "metadata": {
    "is_executing": true
   },
   "outputs": [],
   "source": [
    "dt_classifier.fit(X_train[features], y_train)"
   ]
  },
  {
   "cell_type": "markdown",
   "id": "46328a3dbd03e254",
   "metadata": {},
   "source": [
    "## Save and load model"
   ]
  },
  {
   "cell_type": "code",
   "execution_count": null,
   "id": "463ad6650ca4e263",
   "metadata": {},
   "outputs": [],
   "source": [
    "# saving classifier\n",
    "dump(dt_classifier, 'dt_classifier.joblib')"
   ]
  },
  {
   "cell_type": "code",
   "execution_count": null,
   "id": "fa1fd65da4fbbb7b",
   "metadata": {},
   "outputs": [],
   "source": [
    "del dt_classifier"
   ]
  },
  {
   "cell_type": "code",
   "execution_count": null,
   "id": "562b830bf0c648bb",
   "metadata": {},
   "outputs": [],
   "source": [
    "# loading classifier\n",
    "dt_classifier = load('dt_classifier.joblib')"
   ]
  },
  {
   "cell_type": "markdown",
   "id": "3f4a6983be25c822",
   "metadata": {},
   "source": [
    "## Prediction"
   ]
  },
  {
   "cell_type": "code",
   "execution_count": null,
   "id": "edb448e603369b40",
   "metadata": {},
   "outputs": [],
   "source": [
    "y_pred = dt_classifier.predict(X_test[features])\n",
    "y_pred_proba = dt_classifier.predict_proba(X_test[features])"
   ]
  },
  {
   "cell_type": "code",
   "execution_count": null,
   "id": "6bf491ec15b2320d",
   "metadata": {},
   "outputs": [],
   "source": [
    "print(y_test.shape)\n",
    "print(y_pred.shape)\n",
    "print(y_pred_proba.shape)"
   ]
  },
  {
   "cell_type": "markdown",
   "id": "f2abff852c700f20",
   "metadata": {},
   "source": [
    "## Scores"
   ]
  },
  {
   "cell_type": "code",
   "execution_count": null,
   "id": "5f52978c813a03b0",
   "metadata": {},
   "outputs": [],
   "source": [
    "accuracy_score(y_test, y_pred)"
   ]
  },
  {
   "cell_type": "code",
   "execution_count": null,
   "id": "5fcde34a42bffe58",
   "metadata": {},
   "outputs": [],
   "source": [
    "cm = confusion_matrix(y_test, y_pred)\n",
    "\n",
    "disp = ConfusionMatrixDisplay(confusion_matrix=cm)\n",
    "disp.plot(cmap='Blues')"
   ]
  },
  {
   "cell_type": "markdown",
   "id": "6a48e33cd7c63c4f",
   "metadata": {},
   "source": [
    "## Get the Events from the predictions without smoothing"
   ]
  },
  {
   "cell_type": "code",
   "execution_count": null,
   "id": "d5992f084be6bc9d",
   "metadata": {},
   "outputs": [],
   "source": [
    "def get_events(test_series, classifier) :\n",
    "    \"\"\"\n",
    "    Takes a time series and a classifier and returns a formatted submission dataframe.\n",
    "    \"\"\"\n",
    "    \n",
    "    series_ids = test_series['series_id'].unique()[:1]\n",
    "    events = []\n",
    "\n",
    "    for idx in series_ids: \n",
    "\n",
    "        # Collecting sample and normalizing features\n",
    "        X = test_series[test_series.series_id == idx]\n",
    "        \n",
    "        # Applying classifier to get predictions and scores\n",
    "        preds, probs = classifier.predict(X[features]), classifier.predict_proba(X[features])[:, 1]\n",
    "\n",
    "        X['prediction'] = preds\n",
    "        X['probability'] = probs\n",
    "        \n",
    "        # Getting predicted onset and wakeup time steps\n",
    "        pred_onsets = X[X['prediction'].diff() > 0]['step'].tolist()\n",
    "        pred_wakeups = X[X['prediction'].diff() < 0]['step'].tolist()\n",
    "     \n",
    "        if len(pred_onsets) > 0 : \n",
    "            \n",
    "            # Ensuring all predicted sleep periods begin and end\n",
    "            if min(pred_wakeups) < min(pred_onsets) : \n",
    "                pred_wakeups = pred_wakeups[1:]\n",
    "\n",
    "            if max(pred_onsets) > max(pred_wakeups) :\n",
    "                pred_onsets = pred_onsets[:-1]\n",
    "\n",
    "            # Keeping sleep periods longer than 30 minutes\n",
    "            sleep_periods = [(onset, wakeup) for onset, wakeup in zip(pred_onsets, pred_wakeups) if wakeup - onset >= 12 * 30]\n",
    "\n",
    "            for onset, wakeup in sleep_periods :\n",
    "                # Scoring using mean probability over period\n",
    "                score = X[(X['step'] >= onset) & (X['step'] <= wakeup)]['probability'].mean()\n",
    "\n",
    "                # Adding sleep event to dataframe\n",
    "                onset_row = {'row_id': len(events), 'series_id': idx, 'step': onset, 'event': 'onset', 'score': score}                \n",
    "                events.append(onset_row)\n",
    "\n",
    "                wakeup_row = {'row_id': len(events), 'series_id': idx, 'step': wakeup, 'event': 'wakeup', 'score': score}\n",
    "                events.append(wakeup_row)\n",
    "\n",
    "    return pd.DataFrame(events)"
   ]
  },
  {
   "cell_type": "code",
   "execution_count": null,
   "id": "535d21b38f261c49",
   "metadata": {},
   "outputs": [],
   "source": [
    "submissions = get_events(X_test, dt_classifier)\n",
    "submissions.to_csv('../results/submission_no_smoothing.csv', sep=',', index=False)"
   ]
  },
  {
   "cell_type": "markdown",
   "id": "127db44a0f77b18d",
   "metadata": {},
   "source": [
    "## Get the Events from the predictions with smoothing"
   ]
  },
  {
   "cell_type": "code",
   "execution_count": null,
   "id": "c6ede3f86de2bd3b",
   "metadata": {},
   "outputs": [],
   "source": [
    "def get_events_smoothed(test_series, classifier) :\n",
    "    \"\"\"\n",
    "    Takes a time series and a classifier and returns a formatted submission dataframe.\n",
    "    \"\"\"\n",
    "    \n",
    "    series_ids = test_series['series_id'].unique()[1:2]\n",
    "    events = []\n",
    "\n",
    "    for idx in series_ids: \n",
    "\n",
    "        # Collecting sample and normalizing features\n",
    "        X = test_series[test_series.series_id == idx]\n",
    "        \n",
    "        # Applying classifier to get predictions and scores\n",
    "        not_awake, awake = classifier.predict_proba(X[features])[:, 0], classifier.predict_proba(X[features])[:, 1]\n",
    "\n",
    "        X['not_awake'] = not_awake\n",
    "        X['awake'] = awake\n",
    "        \n",
    "        smoothing_length = 12 * 30 # 30 Minutes\n",
    "        X[\"score\"] = X[\"awake\"].rolling(smoothing_length, center=True).mean().fillna(method=\"bfill\").fillna(method=\"ffill\")\n",
    "        X[\"smooth\"] = X[\"not_awake\"].rolling(smoothing_length, center=True).mean().fillna(method=\"bfill\").fillna(method=\"ffill\")\n",
    "\n",
    "        # Binarize the smoothing column\n",
    "        X[\"smooth\"] = X[\"smooth\"].round()\n",
    "\n",
    "        # Getting predicted onset and wakeup time steps\n",
    "        pred_onsets = X[X['smooth'].diff() > 0]['step'].tolist()\n",
    "        pred_wakeups = X[X['smooth'].diff() < 0]['step'].tolist()\n",
    "     \n",
    "        if len(pred_onsets) > 0 : \n",
    "\n",
    "            # Ensuring all predicted sleep periods begin and end\n",
    "            if min(pred_wakeups) < min(pred_onsets) : \n",
    "                pred_wakeups = pred_wakeups[1:]\n",
    "\n",
    "            if max(pred_onsets) > max(pred_wakeups) :\n",
    "                pred_onsets = pred_onsets[:-1]\n",
    "\n",
    "            # Keeping sleep periods longer than 30 minutes\n",
    "            sleep_periods = [(onset, wakeup) for onset, wakeup in zip(pred_onsets, pred_wakeups) if wakeup - onset >= 12 * 30]\n",
    "\n",
    "            for onset, wakeup in sleep_periods :\n",
    "                # Scoring using mean probability over period\n",
    "                score = X[(X['step'] >= onset) & (X['step'] <= wakeup)]['score'].mean()\n",
    "\n",
    "                # Adding sleep event to dataframe\n",
    "                onset_row = {'row_id': len(events), 'series_id': idx, 'step': onset, 'event': 'onset', 'score': score}                \n",
    "                events.append(onset_row)\n",
    "\n",
    "                wakeup_row = {'row_id': len(events), 'series_id': idx, 'step': wakeup, 'event': 'wakeup', 'score': score}\n",
    "                events.append(wakeup_row)\n",
    "\n",
    "    return pd.DataFrame(events)"
   ]
  },
  {
   "cell_type": "code",
   "execution_count": null,
   "id": "dfdc668e4b574d24",
   "metadata": {},
   "outputs": [],
   "source": [
    "submissions = get_events_smoothed(X_test, dt_classifier)\n",
    "submissions.head()"
   ]
  },
  {
   "cell_type": "code",
   "execution_count": null,
   "id": "6e3d9d31071b14e9",
   "metadata": {},
   "outputs": [],
   "source": [
    "X_test['series_id'].unique()[1:2]"
   ]
  },
  {
   "cell_type": "code",
   "execution_count": null,
   "id": "54e7ccad5eeebfbc",
   "metadata": {},
   "outputs": [],
   "source": [
    "submissions.to_csv('../results/submission_smoothing.csv', sep=',', index=False)"
   ]
  },
  {
   "cell_type": "markdown",
   "id": "53f10f4039d75bd5",
   "metadata": {},
   "source": [
    "## Visualize Events"
   ]
  },
  {
   "cell_type": "code",
   "execution_count": null,
   "id": "c1e9dcfc217d6b05",
   "metadata": {},
   "outputs": [],
   "source": [
    "import plotly.express as px"
   ]
  },
  {
   "cell_type": "code",
   "execution_count": null,
   "id": "f868337691796238",
   "metadata": {},
   "outputs": [],
   "source": [
    "participant_series_id = X_test.series_id.unique()[1]"
   ]
  },
  {
   "cell_type": "code",
   "execution_count": null,
   "id": "16e3abbe1de61a08",
   "metadata": {},
   "outputs": [],
   "source": [
    "participant_series = test[test.series_id == participant_series_id].copy()"
   ]
  },
  {
   "cell_type": "code",
   "execution_count": null,
   "id": "44698241a1d03422",
   "metadata": {},
   "outputs": [],
   "source": [
    "fig = px.line(participant_series, x='step', y='anglez', title=f'Schlafdaten für {participant_series_id}')\n",
    "\n",
    "for index, row in submissions.iterrows():\n",
    "    color = 'green' if row.event == 'onset' else 'red'\n",
    "    fig.add_vline(x=row.step, line_width=3, line_dash='dash', line_color=color)\n",
    "\n",
    "fig.show()"
   ]
  },
  {
   "cell_type": "markdown",
   "id": "3355f216265ca77c",
   "metadata": {},
   "source": [
    "## Visualize Awake/Asleep status"
   ]
  },
  {
   "cell_type": "code",
   "execution_count": null,
   "id": "e48b8516b06c843d",
   "metadata": {},
   "outputs": [],
   "source": [
    "visuals = X_test.copy()\n",
    "visuals['pred_awake'] = y_pred"
   ]
  },
  {
   "cell_type": "code",
   "execution_count": null,
   "id": "af9e9eb73be28bfe",
   "metadata": {},
   "outputs": [],
   "source": [
    "visuals[\"pred_awake\"] = visuals[\"pred_awake\"].rolling(12*30, center=True).mean().fillna(method=\"bfill\").fillna(method=\"ffill\")\n",
    "\n",
    "# Binarize the smoothing column\n",
    "visuals[\"pred_awake\"] = visuals[\"pred_awake\"].round()"
   ]
  },
  {
   "cell_type": "code",
   "execution_count": null,
   "id": "4f3e315c44da162",
   "metadata": {},
   "outputs": [],
   "source": [
    "fig = px.line(visuals[visuals.series_id == participant_series_id][:90000].rename(columns={\"awake\": \"Participant Awake\", \"pred_awake\": \"Prediction Awake\"}), x='timestamp' ,y=['Participant Awake', 'Prediction Awake'])"
   ]
  },
  {
   "cell_type": "code",
   "execution_count": null,
   "id": "f09ab7ff68e59d19",
   "metadata": {},
   "outputs": [],
   "source": [
    "fig.update_layout(\n",
    "    yaxis = dict(\n",
    "        tickmode = 'array',\n",
    "        tickvals = [0, 1],\n",
    "        ticktext = ['Asleep ', 'Awake '],\n",
    "        title = 'State'\n",
    "    ),\n",
    "    xaxis = dict(\n",
    "        title = 'Timestamp'\n",
    "    )\n",
    ")"
   ]
  },
  {
   "cell_type": "code",
   "execution_count": null,
   "id": "f92bfb443eaa1ec2",
   "metadata": {},
   "outputs": [],
   "source": [
    "fig.show()"
   ]
  }
 ],
 "metadata": {
  "kernelspec": {
   "display_name": "AICH",
   "language": "python",
   "name": "aich"
  },
  "language_info": {
   "codemirror_mode": {
    "name": "ipython",
    "version": 2
   },
   "file_extension": ".py",
   "mimetype": "text/x-python",
   "name": "python",
   "nbconvert_exporter": "python",
   "pygments_lexer": "ipython2",
   "version": "2.7.6"
  }
 },
 "nbformat": 4,
 "nbformat_minor": 5
}
