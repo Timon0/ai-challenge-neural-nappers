version https://git-lfs.github.com/spec/v1
oid sha256:9e834a039d066c2c54b1ae97cb892acbcdf3d685990760c2364f89a0f31538d1
size 44039890
