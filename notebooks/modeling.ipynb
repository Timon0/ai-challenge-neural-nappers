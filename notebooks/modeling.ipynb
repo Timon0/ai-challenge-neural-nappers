{
 "cells": [
  {
   "cell_type": "code",
   "execution_count": 1,
   "id": "initial_id",
   "metadata": {
    "collapsed": true,
    "ExecuteTime": {
     "end_time": "2023-09-29T13:36:38.201254300Z",
     "start_time": "2023-09-29T13:36:32.435876800Z"
    }
   },
   "outputs": [
    {
     "name": "stdout",
     "output_type": "stream",
     "text": [
      "Requirement already satisfied: scikit-learn in c:\\users\\micha\\appdata\\local\\packages\\pythonsoftwarefoundation.python.3.10_qbz5n2kfra8p0\\localcache\\local-packages\\python310\\site-packages (1.0.2)\n",
      "Requirement already satisfied: threadpoolctl>=2.0.0 in c:\\users\\micha\\appdata\\local\\packages\\pythonsoftwarefoundation.python.3.10_qbz5n2kfra8p0\\localcache\\local-packages\\python310\\site-packages (from scikit-learn) (3.1.0)\n",
      "Requirement already satisfied: numpy>=1.14.6 in c:\\users\\micha\\appdata\\local\\packages\\pythonsoftwarefoundation.python.3.10_qbz5n2kfra8p0\\localcache\\local-packages\\python310\\site-packages (from scikit-learn) (1.23.5)\n",
      "Requirement already satisfied: joblib>=0.11 in c:\\users\\micha\\appdata\\local\\packages\\pythonsoftwarefoundation.python.3.10_qbz5n2kfra8p0\\localcache\\local-packages\\python310\\site-packages (from scikit-learn) (1.1.0)\n",
      "Requirement already satisfied: scipy>=1.1.0 in c:\\users\\micha\\appdata\\local\\packages\\pythonsoftwarefoundation.python.3.10_qbz5n2kfra8p0\\localcache\\local-packages\\python310\\site-packages (from scikit-learn) (1.8.0)\n"
     ]
    },
    {
     "name": "stderr",
     "output_type": "stream",
     "text": [
      "WARNING: You are using pip version 22.0.4; however, version 23.2.1 is available.\n",
      "You should consider upgrading via the 'C:\\Users\\micha\\anaconda3\\envs\\AICH\\python.exe -m pip install --upgrade pip' command.\n"
     ]
    }
   ],
   "source": [
    "!pip install scikit-learn"
   ]
  },
  {
   "cell_type": "code",
   "execution_count": 22,
   "outputs": [],
   "source": [
    "import pandas as pd\n",
    "from sklearn.linear_model import LinearRegression\n",
    "from sklearn.preprocessing import RobustScaler"
   ],
   "metadata": {
    "collapsed": false,
    "ExecuteTime": {
     "end_time": "2023-09-29T13:50:00.858109600Z",
     "start_time": "2023-09-29T13:50:00.826814700Z"
    }
   },
   "id": "edbf0f4aa8d1d4"
  },
  {
   "cell_type": "code",
   "execution_count": 5,
   "outputs": [],
   "source": [
    "train = pd.read_parquet('../data/processed/train_series_lightweight.parquet')"
   ],
   "metadata": {
    "collapsed": false,
    "ExecuteTime": {
     "end_time": "2023-09-29T13:37:36.668015Z",
     "start_time": "2023-09-29T13:37:34.350910300Z"
    }
   },
   "id": "67a84015f109223b"
  },
  {
   "cell_type": "code",
   "execution_count": 7,
   "outputs": [
    {
     "data": {
      "text/plain": "      series_id  step                 timestamp  anglez    enmo  awake  \\\n0  038441c925bb     0  2018-08-14T15:30:00-0400  2.6367  0.0217      1   \n1  038441c925bb     1  2018-08-14T15:30:05-0400  2.6368  0.0215      1   \n2  038441c925bb     2  2018-08-14T15:30:10-0400  2.6370  0.0216      1   \n3  038441c925bb     3  2018-08-14T15:30:15-0400  2.6368  0.0213      1   \n4  038441c925bb     4  2018-08-14T15:30:20-0400  2.6368  0.0215      1   \n\n   anglez_median  anglez_mean  anglez_min  anglez_max  anglez_diff  \\\n0         2.6367     7.573975      2.4129     54.8498    41.462601   \n1         2.6367     7.573975      2.4129     54.8498    41.462601   \n2         2.6367     7.573975      2.4129     54.8498    41.462601   \n3         2.6367     7.573975      2.4129     54.8498    41.462601   \n4         2.6367     7.573975      2.4129     54.8498    41.462601   \n\n   enmo_median  enmo_mean  enmo_min  enmo_max  enmo_diff  anglezxenmo  \n0      0.02165    0.02233    0.0166    0.0395    -0.0047     0.057216  \n1      0.02165    0.02233    0.0166    0.0395    -0.0047     0.056691  \n2      0.02165    0.02233    0.0166    0.0395    -0.0047     0.056959  \n3      0.02165    0.02233    0.0166    0.0395    -0.0047     0.056164  \n4      0.02165    0.02233    0.0166    0.0395    -0.0047     0.056691  ",
      "text/html": "<div>\n<style scoped>\n    .dataframe tbody tr th:only-of-type {\n        vertical-align: middle;\n    }\n\n    .dataframe tbody tr th {\n        vertical-align: top;\n    }\n\n    .dataframe thead th {\n        text-align: right;\n    }\n</style>\n<table border=\"1\" class=\"dataframe\">\n  <thead>\n    <tr style=\"text-align: right;\">\n      <th></th>\n      <th>series_id</th>\n      <th>step</th>\n      <th>timestamp</th>\n      <th>anglez</th>\n      <th>enmo</th>\n      <th>awake</th>\n      <th>anglez_median</th>\n      <th>anglez_mean</th>\n      <th>anglez_min</th>\n      <th>anglez_max</th>\n      <th>anglez_diff</th>\n      <th>enmo_median</th>\n      <th>enmo_mean</th>\n      <th>enmo_min</th>\n      <th>enmo_max</th>\n      <th>enmo_diff</th>\n      <th>anglezxenmo</th>\n    </tr>\n  </thead>\n  <tbody>\n    <tr>\n      <th>0</th>\n      <td>038441c925bb</td>\n      <td>0</td>\n      <td>2018-08-14T15:30:00-0400</td>\n      <td>2.6367</td>\n      <td>0.0217</td>\n      <td>1</td>\n      <td>2.6367</td>\n      <td>7.573975</td>\n      <td>2.4129</td>\n      <td>54.8498</td>\n      <td>41.462601</td>\n      <td>0.02165</td>\n      <td>0.02233</td>\n      <td>0.0166</td>\n      <td>0.0395</td>\n      <td>-0.0047</td>\n      <td>0.057216</td>\n    </tr>\n    <tr>\n      <th>1</th>\n      <td>038441c925bb</td>\n      <td>1</td>\n      <td>2018-08-14T15:30:05-0400</td>\n      <td>2.6368</td>\n      <td>0.0215</td>\n      <td>1</td>\n      <td>2.6367</td>\n      <td>7.573975</td>\n      <td>2.4129</td>\n      <td>54.8498</td>\n      <td>41.462601</td>\n      <td>0.02165</td>\n      <td>0.02233</td>\n      <td>0.0166</td>\n      <td>0.0395</td>\n      <td>-0.0047</td>\n      <td>0.056691</td>\n    </tr>\n    <tr>\n      <th>2</th>\n      <td>038441c925bb</td>\n      <td>2</td>\n      <td>2018-08-14T15:30:10-0400</td>\n      <td>2.6370</td>\n      <td>0.0216</td>\n      <td>1</td>\n      <td>2.6367</td>\n      <td>7.573975</td>\n      <td>2.4129</td>\n      <td>54.8498</td>\n      <td>41.462601</td>\n      <td>0.02165</td>\n      <td>0.02233</td>\n      <td>0.0166</td>\n      <td>0.0395</td>\n      <td>-0.0047</td>\n      <td>0.056959</td>\n    </tr>\n    <tr>\n      <th>3</th>\n      <td>038441c925bb</td>\n      <td>3</td>\n      <td>2018-08-14T15:30:15-0400</td>\n      <td>2.6368</td>\n      <td>0.0213</td>\n      <td>1</td>\n      <td>2.6367</td>\n      <td>7.573975</td>\n      <td>2.4129</td>\n      <td>54.8498</td>\n      <td>41.462601</td>\n      <td>0.02165</td>\n      <td>0.02233</td>\n      <td>0.0166</td>\n      <td>0.0395</td>\n      <td>-0.0047</td>\n      <td>0.056164</td>\n    </tr>\n    <tr>\n      <th>4</th>\n      <td>038441c925bb</td>\n      <td>4</td>\n      <td>2018-08-14T15:30:20-0400</td>\n      <td>2.6368</td>\n      <td>0.0215</td>\n      <td>1</td>\n      <td>2.6367</td>\n      <td>7.573975</td>\n      <td>2.4129</td>\n      <td>54.8498</td>\n      <td>41.462601</td>\n      <td>0.02165</td>\n      <td>0.02233</td>\n      <td>0.0166</td>\n      <td>0.0395</td>\n      <td>-0.0047</td>\n      <td>0.056691</td>\n    </tr>\n  </tbody>\n</table>\n</div>"
     },
     "execution_count": 7,
     "metadata": {},
     "output_type": "execute_result"
    }
   ],
   "source": [
    "train.head()"
   ],
   "metadata": {
    "collapsed": false,
    "ExecuteTime": {
     "end_time": "2023-09-29T13:39:12.381598600Z",
     "start_time": "2023-09-29T13:39:12.344492800Z"
    }
   },
   "id": "9e9beeeb60494c98"
  },
  {
   "cell_type": "markdown",
   "source": [
    "## Hyperparams"
   ],
   "metadata": {
    "collapsed": false
   },
   "id": "d6c606911f7c053d"
  },
  {
   "cell_type": "code",
   "execution_count": 8,
   "outputs": [
    {
     "data": {
      "text/plain": "Index(['series_id', 'step', 'timestamp', 'anglez', 'enmo', 'awake',\n       'anglez_median', 'anglez_mean', 'anglez_min', 'anglez_max',\n       'anglez_diff', 'enmo_median', 'enmo_mean', 'enmo_min', 'enmo_max',\n       'enmo_diff', 'anglezxenmo'],\n      dtype='object')"
     },
     "execution_count": 8,
     "metadata": {},
     "output_type": "execute_result"
    }
   ],
   "source": [
    "train.columns"
   ],
   "metadata": {
    "collapsed": false,
    "ExecuteTime": {
     "end_time": "2023-09-29T13:40:00.591968100Z",
     "start_time": "2023-09-29T13:40:00.512158Z"
    }
   },
   "id": "81a96f8555c92e3c"
  },
  {
   "cell_type": "code",
   "execution_count": 9,
   "outputs": [],
   "source": [
    "RANDOM_STATE = 42\n",
    "features = ['anglez', 'enmo', 'anglez_median', 'anglez_mean', 'anglez_min', 'anglez_max',\n",
    "       'anglez_diff', 'enmo_median', 'enmo_mean', 'enmo_min', 'enmo_max',\n",
    "       'enmo_diff', 'anglezxenmo']"
   ],
   "metadata": {
    "collapsed": false,
    "ExecuteTime": {
     "end_time": "2023-09-29T13:40:11.526721900Z",
     "start_time": "2023-09-29T13:40:11.511099700Z"
    }
   },
   "id": "2cd73821619d05d9"
  },
  {
   "cell_type": "markdown",
   "source": [
    "## Modeling"
   ],
   "metadata": {
    "collapsed": false
   },
   "id": "32841e4f5ececc66"
  },
  {
   "cell_type": "code",
   "execution_count": 38,
   "outputs": [],
   "source": [
    "transformer = RobustScaler().fit(train[features])\n",
    "\n",
    "X, y = transformer.transform(train[features]), train['awake']"
   ],
   "metadata": {
    "collapsed": false,
    "ExecuteTime": {
     "end_time": "2023-09-29T13:59:45.479753900Z",
     "start_time": "2023-09-29T13:59:43.839954700Z"
    }
   },
   "id": "c73d511fa0394f33"
  },
  {
   "cell_type": "code",
   "execution_count": 24,
   "outputs": [],
   "source": [
    "lr = LinearRegression().fit(X, y)"
   ],
   "metadata": {
    "collapsed": false,
    "ExecuteTime": {
     "end_time": "2023-09-29T13:50:21.016232Z",
     "start_time": "2023-09-29T13:50:20.044363700Z"
    }
   },
   "id": "21ff6b70d34b4f73"
  },
  {
   "cell_type": "markdown",
   "source": [
    "## Prediction"
   ],
   "metadata": {
    "collapsed": false
   },
   "id": "3f4a6983be25c822"
  },
  {
   "cell_type": "code",
   "execution_count": 29,
   "outputs": [],
   "source": [
    "series = pd.read_parquet('../data/processed/train_series.parquet', filters=[('series_id','=','1087d7b0ff2e')])"
   ],
   "metadata": {
    "collapsed": false,
    "ExecuteTime": {
     "end_time": "2023-09-29T13:53:44.353531800Z",
     "start_time": "2023-09-29T13:53:17.240966300Z"
    }
   },
   "id": "88b0760ee42a1fb3"
  },
  {
   "cell_type": "markdown",
   "source": [
    "Select rows between step 7000 and 7500, as in between the state changes from awake to asleep"
   ],
   "metadata": {
    "collapsed": false
   },
   "id": "d18f4563fe407ac2"
  },
  {
   "cell_type": "code",
   "execution_count": 43,
   "outputs": [],
   "source": [
    "test_X = series[(series.step < 7500) & (series.step > 7000)][features]\n",
    "y_true = series[(series.step < 7500) & (series.step > 7000)]['awake']"
   ],
   "metadata": {
    "collapsed": false,
    "ExecuteTime": {
     "end_time": "2023-09-29T14:04:46.855457500Z",
     "start_time": "2023-09-29T14:04:46.817541400Z"
    }
   },
   "id": "edaae0ff0df8490b"
  },
  {
   "cell_type": "code",
   "execution_count": 39,
   "outputs": [],
   "source": [
    "test_X_transformed = transformer.transform(test_X)"
   ],
   "metadata": {
    "collapsed": false,
    "ExecuteTime": {
     "end_time": "2023-09-29T13:59:52.440687800Z",
     "start_time": "2023-09-29T13:59:52.426334700Z"
    }
   },
   "id": "f88454824c49aad9"
  },
  {
   "cell_type": "code",
   "execution_count": 44,
   "outputs": [],
   "source": [
    "y_pred = lr.predict(test_X_transformed)"
   ],
   "metadata": {
    "collapsed": false,
    "ExecuteTime": {
     "end_time": "2023-09-29T14:04:48.933663100Z",
     "start_time": "2023-09-29T14:04:48.913539300Z"
    }
   },
   "id": "b4ccbfb31f470d6b"
  },
  {
   "cell_type": "markdown",
   "source": [
    "## Scores"
   ],
   "metadata": {
    "collapsed": false
   },
   "id": "f2abff852c700f20"
  },
  {
   "cell_type": "code",
   "execution_count": 55,
   "outputs": [],
   "source": [
    "from sklearn.metrics import mean_absolute_percentage_error"
   ],
   "metadata": {
    "collapsed": false,
    "ExecuteTime": {
     "end_time": "2023-09-29T14:09:12.206473400Z",
     "start_time": "2023-09-29T14:09:12.168775400Z"
    }
   },
   "id": "d449e18b465b0643"
  },
  {
   "cell_type": "code",
   "execution_count": 56,
   "outputs": [
    {
     "data": {
      "text/plain": "984689100000000.0"
     },
     "execution_count": 56,
     "metadata": {},
     "output_type": "execute_result"
    }
   ],
   "source": [
    "mean_absolute_percentage_error(y_true, y_pred)"
   ],
   "metadata": {
    "collapsed": false,
    "ExecuteTime": {
     "end_time": "2023-09-29T14:09:12.653391500Z",
     "start_time": "2023-09-29T14:09:12.555933700Z"
    }
   },
   "id": "5f52978c813a03b0"
  },
  {
   "cell_type": "markdown",
   "source": [
    "## Feature importance"
   ],
   "metadata": {
    "collapsed": false
   },
   "id": "8d292f1e568e7a27"
  },
  {
   "cell_type": "code",
   "execution_count": 63,
   "outputs": [
    {
     "name": "stdout",
     "output_type": "stream",
     "text": [
      "Feature anglez: 0.007205110974609852\n",
      "Feature enmo: 0.0066049108281731606\n",
      "Feature anglez_median: -0.010910134762525558\n",
      "Feature anglez_mean: 8.907479059416801e-05\n",
      "Feature anglez_min: -0.12739421427249908\n",
      "Feature anglez_max: 0.11094117164611816\n",
      "Feature anglez_diff: 0.00045819810475222766\n",
      "Feature enmo_median: 0.023408059030771255\n",
      "Feature enmo_mean: -0.004690743051469326\n",
      "Feature enmo_min: 0.04929041117429733\n",
      "Feature enmo_max: 0.00047453708248212934\n",
      "Feature enmo_diff: -0.0018653966253623366\n",
      "Feature anglezxenmo: -0.001359041198156774\n"
     ]
    }
   ],
   "source": [
    "for i, value in enumerate(lr.coef_):\n",
    "    print(f'Feature {features[i]}: {value}')"
   ],
   "metadata": {
    "collapsed": false,
    "ExecuteTime": {
     "end_time": "2023-09-29T14:16:45.436731100Z",
     "start_time": "2023-09-29T14:16:45.414192800Z"
    }
   },
   "id": "746ddc8ea3fd0748"
  }
 ],
 "metadata": {
  "kernelspec": {
   "display_name": "Python 3",
   "language": "python",
   "name": "python3"
  },
  "language_info": {
   "codemirror_mode": {
    "name": "ipython",
    "version": 2
   },
   "file_extension": ".py",
   "mimetype": "text/x-python",
   "name": "python",
   "nbconvert_exporter": "python",
   "pygments_lexer": "ipython2",
   "version": "2.7.6"
  }
 },
 "nbformat": 4,
 "nbformat_minor": 5
}
