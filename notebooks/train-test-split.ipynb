{
 "cells": [
  {
   "cell_type": "markdown",
   "id": "41160c98",
   "metadata": {
    "collapsed": true
   },
   "source": [
    "# Train/Validation Split"
   ]
  },
  {
   "cell_type": "code",
   "execution_count": 1,
   "id": "72e4f7a1",
   "metadata": {},
   "outputs": [],
   "source": [
    "import pandas as pd\n",
    "from typing import Tuple\n",
    "from sklearn.model_selection import train_test_split"
   ]
  },
  {
   "cell_type": "code",
   "execution_count": 2,
   "id": "a375fd35",
   "metadata": {},
   "outputs": [],
   "source": [
    "RANDOM_STATE = 42"
   ]
  },
  {
   "cell_type": "markdown",
   "id": "589c1c74",
   "metadata": {},
   "source": [
    "## Daten Laden"
   ]
  },
  {
   "cell_type": "code",
   "execution_count": 3,
   "id": "dff71103",
   "metadata": {},
   "outputs": [],
   "source": [
    "series = pd.read_parquet('../data/processed/train_with_features.parquet')\n",
    "events = pd.read_csv('../data/cleaned/train_events.csv')"
   ]
  },
  {
   "cell_type": "code",
   "execution_count": 4,
   "id": "40da2623",
   "metadata": {},
   "outputs": [],
   "source": [
    "series_ids = series['series_id'].drop_duplicates()"
   ]
  },
  {
   "cell_type": "markdown",
   "id": "6a280191",
   "metadata": {},
   "source": [
    "## Splitting"
   ]
  },
  {
   "cell_type": "code",
   "execution_count": 5,
   "id": "f66454b3",
   "metadata": {},
   "outputs": [],
   "source": [
    "train_series_ids, validation_series_ids = train_test_split(series_ids, test_size=0.2, random_state=RANDOM_STATE)"
   ]
  },
  {
   "cell_type": "code",
   "execution_count": 6,
   "id": "1409f24a",
   "metadata": {},
   "outputs": [
    {
     "data": {
      "text/plain": [
       "215"
      ]
     },
     "execution_count": 6,
     "metadata": {},
     "output_type": "execute_result"
    }
   ],
   "source": [
    "len(train_series_ids)"
   ]
  },
  {
   "cell_type": "code",
   "execution_count": 7,
   "id": "33e9555f",
   "metadata": {},
   "outputs": [
    {
     "data": {
      "text/plain": [
       "54"
      ]
     },
     "execution_count": 7,
     "metadata": {},
     "output_type": "execute_result"
    }
   ],
   "source": [
    "len(validation_series_ids)"
   ]
  },
  {
   "cell_type": "code",
   "execution_count": 8,
   "id": "6f7a522f",
   "metadata": {},
   "outputs": [],
   "source": [
    "train_series = series.loc[lambda d: d['series_id'].isin(train_series_ids)]\n",
    "train_events = events.loc[lambda d: d['series_id'].isin(train_series_ids)]"
   ]
  },
  {
   "cell_type": "code",
   "execution_count": 9,
   "id": "a68668d1",
   "metadata": {},
   "outputs": [],
   "source": [
    "validation_series = series.loc[lambda d: d['series_id'].isin(validation_series_ids)]\n",
    "validation_events = events.loc[lambda d: d['series_id'].isin(validation_series_ids)]"
   ]
  },
  {
   "cell_type": "markdown",
   "id": "41584150",
   "metadata": {},
   "source": [
    "## Daten speichern"
   ]
  },
  {
   "cell_type": "code",
   "execution_count": 10,
   "id": "92ccbf10",
   "metadata": {},
   "outputs": [],
   "source": [
    "train_series.to_parquet('../data/processed/train_series_split.parquet')\n",
    "train_events.to_csv('../data/processed/train_events_split.csv', index=False)"
   ]
  },
  {
   "cell_type": "code",
   "execution_count": 11,
   "id": "0b3ecfde",
   "metadata": {},
   "outputs": [],
   "source": [
    "validation_series.to_parquet('../data/processed/validation_series_split.parquet')\n",
    "validation_events.to_csv('../data/processed/validation_events_split.csv', index=False)"
   ]
  }
 ],
 "metadata": {
  "kernelspec": {
   "display_name": "Python 3 (ipykernel)",
   "language": "python",
   "name": "python3"
  },
  "language_info": {
   "codemirror_mode": {
    "name": "ipython",
    "version": 3
   },
   "file_extension": ".py",
   "mimetype": "text/x-python",
   "name": "python",
   "nbconvert_exporter": "python",
   "pygments_lexer": "ipython3",
   "version": "3.8.3"
  }
 },
 "nbformat": 4,
 "nbformat_minor": 5
}
