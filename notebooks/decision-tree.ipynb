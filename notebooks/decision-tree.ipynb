{
 "cells": [
  {
   "cell_type": "markdown",
   "id": "40ef0512",
   "metadata": {
    "ExecuteTime": {
     "end_time": "2023-10-03T17:53:11.663708200Z",
     "start_time": "2023-10-03T17:53:11.351260900Z"
    }
   },
   "source": [
    "# Decision Tree"
   ]
  },
  {
   "cell_type": "code",
   "execution_count": null,
   "id": "efc2365f",
   "metadata": {},
   "outputs": [],
   "source": [
    "# Base\n",
    "from typing import Tuple\n",
    "import pandas as pd\n",
    "import numpy as np\n",
    "import gc\n",
    "import time\n",
    "from tqdm import tqdm\n",
    "\n",
    "# Preprocessing\n",
    "from sklearn.model_selection import train_test_split\n",
    "from sklearn.pipeline import Pipeline\n",
    "from sklearn.preprocessing import StandardScaler\n",
    "\n",
    "# Modeling\n",
    "from sklearn.tree import DecisionTreeClassifier\n",
    "\n",
    "# Scoring\n",
    "from sklearn.metrics import accuracy_score\n",
    "from sklearn.metrics import confusion_matrix, ConfusionMatrixDisplay"
   ]
  },
  {
   "cell_type": "markdown",
   "id": "cfe83ed5",
   "metadata": {},
   "source": [
    "## Daten laden"
   ]
  },
  {
   "cell_type": "code",
   "execution_count": 2,
   "id": "67a84015f109223b",
   "metadata": {
    "ExecuteTime": {
     "end_time": "2023-10-03T17:53:24.114960200Z",
     "start_time": "2023-10-03T17:53:20.603774800Z"
    }
   },
   "outputs": [],
   "source": [
    "train = pd.read_parquet('../data/processed/train_series_split.parquet')\n",
    "validation = pd.read_parquet('../data/processed/validation_series_split.parquet')"
   ]
  },
  {
   "cell_type": "code",
   "execution_count": 3,
   "id": "9e9beeeb60494c98",
   "metadata": {
    "ExecuteTime": {
     "end_time": "2023-10-03T17:53:24.210432Z",
     "start_time": "2023-10-03T17:53:24.123020400Z"
    }
   },
   "outputs": [
    {
     "data": {
      "text/html": [
       "<div>\n",
       "<style scoped>\n",
       "    .dataframe tbody tr th:only-of-type {\n",
       "        vertical-align: middle;\n",
       "    }\n",
       "\n",
       "    .dataframe tbody tr th {\n",
       "        vertical-align: top;\n",
       "    }\n",
       "\n",
       "    .dataframe thead th {\n",
       "        text-align: right;\n",
       "    }\n",
       "</style>\n",
       "<table border=\"1\" class=\"dataframe\">\n",
       "  <thead>\n",
       "    <tr style=\"text-align: right;\">\n",
       "      <th></th>\n",
       "      <th>series_id</th>\n",
       "      <th>step</th>\n",
       "      <th>timestamp</th>\n",
       "      <th>anglez</th>\n",
       "      <th>enmo</th>\n",
       "      <th>awake</th>\n",
       "      <th>hour</th>\n",
       "      <th>anglez_abs</th>\n",
       "      <th>anglez_diff</th>\n",
       "      <th>enmo_diff</th>\n",
       "      <th>anglez_x_enmo</th>\n",
       "      <th>anglez_rolling_mean</th>\n",
       "      <th>enmo_rolling_mean</th>\n",
       "      <th>anglez_rolling_max</th>\n",
       "      <th>enmo_rolling_max</th>\n",
       "      <th>anglez_rolling_min</th>\n",
       "      <th>enmo_rolling_min</th>\n",
       "      <th>anglez_rolling_std</th>\n",
       "      <th>enmo_rolling_std</th>\n",
       "    </tr>\n",
       "  </thead>\n",
       "  <tbody>\n",
       "    <tr>\n",
       "      <th>0</th>\n",
       "      <td>038441c925bb</td>\n",
       "      <td>0</td>\n",
       "      <td>2018-08-14 15:30:00</td>\n",
       "      <td>2.6367</td>\n",
       "      <td>0.0217</td>\n",
       "      <td>1</td>\n",
       "      <td>15</td>\n",
       "      <td>2.6367</td>\n",
       "      <td>41.462601</td>\n",
       "      <td>-0.0047</td>\n",
       "      <td>0.057216</td>\n",
       "      <td>7.573975</td>\n",
       "      <td>0.02233</td>\n",
       "      <td>54.8498</td>\n",
       "      <td>0.0395</td>\n",
       "      <td>2.4129</td>\n",
       "      <td>0.0166</td>\n",
       "      <td>15.339381</td>\n",
       "      <td>0.004213</td>\n",
       "    </tr>\n",
       "    <tr>\n",
       "      <th>1</th>\n",
       "      <td>038441c925bb</td>\n",
       "      <td>1</td>\n",
       "      <td>2018-08-14 15:30:05</td>\n",
       "      <td>2.6368</td>\n",
       "      <td>0.0215</td>\n",
       "      <td>1</td>\n",
       "      <td>15</td>\n",
       "      <td>2.6368</td>\n",
       "      <td>41.462601</td>\n",
       "      <td>-0.0047</td>\n",
       "      <td>0.056691</td>\n",
       "      <td>7.573975</td>\n",
       "      <td>0.02233</td>\n",
       "      <td>54.8498</td>\n",
       "      <td>0.0395</td>\n",
       "      <td>2.4129</td>\n",
       "      <td>0.0166</td>\n",
       "      <td>15.339381</td>\n",
       "      <td>0.004213</td>\n",
       "    </tr>\n",
       "    <tr>\n",
       "      <th>2</th>\n",
       "      <td>038441c925bb</td>\n",
       "      <td>2</td>\n",
       "      <td>2018-08-14 15:30:10</td>\n",
       "      <td>2.6370</td>\n",
       "      <td>0.0216</td>\n",
       "      <td>1</td>\n",
       "      <td>15</td>\n",
       "      <td>2.6370</td>\n",
       "      <td>41.462601</td>\n",
       "      <td>-0.0047</td>\n",
       "      <td>0.056959</td>\n",
       "      <td>7.573975</td>\n",
       "      <td>0.02233</td>\n",
       "      <td>54.8498</td>\n",
       "      <td>0.0395</td>\n",
       "      <td>2.4129</td>\n",
       "      <td>0.0166</td>\n",
       "      <td>15.339381</td>\n",
       "      <td>0.004213</td>\n",
       "    </tr>\n",
       "    <tr>\n",
       "      <th>3</th>\n",
       "      <td>038441c925bb</td>\n",
       "      <td>3</td>\n",
       "      <td>2018-08-14 15:30:15</td>\n",
       "      <td>2.6368</td>\n",
       "      <td>0.0213</td>\n",
       "      <td>1</td>\n",
       "      <td>15</td>\n",
       "      <td>2.6368</td>\n",
       "      <td>41.462601</td>\n",
       "      <td>-0.0047</td>\n",
       "      <td>0.056164</td>\n",
       "      <td>7.573975</td>\n",
       "      <td>0.02233</td>\n",
       "      <td>54.8498</td>\n",
       "      <td>0.0395</td>\n",
       "      <td>2.4129</td>\n",
       "      <td>0.0166</td>\n",
       "      <td>15.339381</td>\n",
       "      <td>0.004213</td>\n",
       "    </tr>\n",
       "    <tr>\n",
       "      <th>4</th>\n",
       "      <td>038441c925bb</td>\n",
       "      <td>4</td>\n",
       "      <td>2018-08-14 15:30:20</td>\n",
       "      <td>2.6368</td>\n",
       "      <td>0.0215</td>\n",
       "      <td>1</td>\n",
       "      <td>15</td>\n",
       "      <td>2.6368</td>\n",
       "      <td>41.462601</td>\n",
       "      <td>-0.0047</td>\n",
       "      <td>0.056691</td>\n",
       "      <td>7.573975</td>\n",
       "      <td>0.02233</td>\n",
       "      <td>54.8498</td>\n",
       "      <td>0.0395</td>\n",
       "      <td>2.4129</td>\n",
       "      <td>0.0166</td>\n",
       "      <td>15.339381</td>\n",
       "      <td>0.004213</td>\n",
       "    </tr>\n",
       "  </tbody>\n",
       "</table>\n",
       "</div>"
      ],
      "text/plain": [
       "      series_id  step           timestamp  anglez    enmo  awake  hour  \\\n",
       "0  038441c925bb     0 2018-08-14 15:30:00  2.6367  0.0217      1    15   \n",
       "1  038441c925bb     1 2018-08-14 15:30:05  2.6368  0.0215      1    15   \n",
       "2  038441c925bb     2 2018-08-14 15:30:10  2.6370  0.0216      1    15   \n",
       "3  038441c925bb     3 2018-08-14 15:30:15  2.6368  0.0213      1    15   \n",
       "4  038441c925bb     4 2018-08-14 15:30:20  2.6368  0.0215      1    15   \n",
       "\n",
       "   anglez_abs  anglez_diff  enmo_diff  anglez_x_enmo  anglez_rolling_mean  \\\n",
       "0      2.6367    41.462601    -0.0047       0.057216             7.573975   \n",
       "1      2.6368    41.462601    -0.0047       0.056691             7.573975   \n",
       "2      2.6370    41.462601    -0.0047       0.056959             7.573975   \n",
       "3      2.6368    41.462601    -0.0047       0.056164             7.573975   \n",
       "4      2.6368    41.462601    -0.0047       0.056691             7.573975   \n",
       "\n",
       "   enmo_rolling_mean  anglez_rolling_max  enmo_rolling_max  \\\n",
       "0            0.02233             54.8498            0.0395   \n",
       "1            0.02233             54.8498            0.0395   \n",
       "2            0.02233             54.8498            0.0395   \n",
       "3            0.02233             54.8498            0.0395   \n",
       "4            0.02233             54.8498            0.0395   \n",
       "\n",
       "   anglez_rolling_min  enmo_rolling_min  anglez_rolling_std  enmo_rolling_std  \n",
       "0              2.4129            0.0166           15.339381          0.004213  \n",
       "1              2.4129            0.0166           15.339381          0.004213  \n",
       "2              2.4129            0.0166           15.339381          0.004213  \n",
       "3              2.4129            0.0166           15.339381          0.004213  \n",
       "4              2.4129            0.0166           15.339381          0.004213  "
      ]
     },
     "execution_count": 3,
     "metadata": {},
     "output_type": "execute_result"
    }
   ],
   "source": [
    "train.head()"
   ]
  },
  {
   "cell_type": "markdown",
   "id": "d6c606911f7c053d",
   "metadata": {},
   "source": [
    "## Hyperparams"
   ]
  },
  {
   "cell_type": "code",
   "execution_count": 4,
   "id": "2cd73821619d05d9",
   "metadata": {
    "ExecuteTime": {
     "end_time": "2023-10-03T17:53:25.161183900Z",
     "start_time": "2023-10-03T17:53:25.103828900Z"
    }
   },
   "outputs": [],
   "source": [
    "RANDOM_STATE = 42\n",
    "features = ['anglez', 'enmo',\n",
    "            'hour',\n",
    "            'anglez_abs', 'anglez_diff', 'enmo_diff', 'anglez_x_enmo',\n",
    "            'anglez_rolling_mean', 'enmo_rolling_mean', 'anglez_rolling_max', 'enmo_rolling_max', 'anglez_rolling_min',\n",
    "            'anglez_rolling_std', 'enmo_rolling_std']\n",
    "target_column = ['awake']"
   ]
  },
  {
   "cell_type": "markdown",
   "id": "32841e4f5ececc66",
   "metadata": {},
   "source": [
    "## Datenaufbereitung"
   ]
  },
  {
   "cell_type": "code",
   "execution_count": 6,
   "id": "949e7e89088ffeaa",
   "metadata": {
    "ExecuteTime": {
     "end_time": "2023-10-03T17:53:37.691132400Z",
     "start_time": "2023-10-03T17:53:36.445209500Z"
    }
   },
   "outputs": [],
   "source": [
    "X_train = train[features]\n",
    "y_train = train[target_column]\n",
    "X_validation = validation[features]\n",
    "y_validation = validation[target_column]"
   ]
  },
  {
   "cell_type": "code",
   "execution_count": 7,
   "id": "26ef522c8a8e33fd",
   "metadata": {
    "ExecuteTime": {
     "end_time": "2023-10-03T17:53:56.084279700Z",
     "start_time": "2023-10-03T17:53:56.036468200Z"
    }
   },
   "outputs": [
    {
     "name": "stdout",
     "output_type": "stream",
     "text": [
      "(98634780, 14)\n",
      "(98634780, 1)\n",
      "(26187300, 14)\n",
      "(26187300, 1)\n"
     ]
    }
   ],
   "source": [
    "print(X_train.shape)\n",
    "print(y_train.shape)\n",
    "print(X_validation.shape)\n",
    "print(y_validation.shape)"
   ]
  },
  {
   "cell_type": "markdown",
   "id": "d8cdb0db939d8003",
   "metadata": {},
   "source": [
    "## Pipeline"
   ]
  },
  {
   "cell_type": "code",
   "execution_count": 8,
   "id": "c73d511fa0394f33",
   "metadata": {
    "ExecuteTime": {
     "end_time": "2023-10-03T17:54:00.747628200Z",
     "start_time": "2023-10-03T17:54:00.718957400Z"
    }
   },
   "outputs": [],
   "source": [
    "dt_classifier = Pipeline([\n",
    "        ('scale', StandardScaler()),\n",
    "        ('dt', DecisionTreeClassifier(random_state=RANDOM_STATE))])"
   ]
  },
  {
   "cell_type": "markdown",
   "id": "cc2316fcfb9970f5",
   "metadata": {},
   "source": [
    "## Training"
   ]
  },
  {
   "cell_type": "code",
   "execution_count": 9,
   "id": "69ec60b218ce204f",
   "metadata": {
    "ExecuteTime": {
     "end_time": "2023-10-03T17:54:30.980272900Z",
     "start_time": "2023-10-03T17:54:05.700438300Z"
    }
   },
   "outputs": [
    {
     "name": "stdout",
     "output_type": "stream",
     "text": [
      "Training took 6576.07088637352 seconds\n"
     ]
    }
   ],
   "source": [
    "start_time = time.time()\n",
    "dt_classifier.fit(X_train, y_train)\n",
    "print(f'Training took {time.time() - start_time} seconds')"
   ]
  },
  {
   "cell_type": "markdown",
   "id": "3f4a6983be25c822",
   "metadata": {},
   "source": [
    "## Prediction"
   ]
  },
  {
   "cell_type": "code",
   "execution_count": 10,
   "id": "b574b598",
   "metadata": {},
   "outputs": [
    {
     "name": "stdout",
     "output_type": "stream",
     "text": [
      "Step 1 of 54\n",
      "Step 2 of 54\n",
      "Step 3 of 54\n",
      "Step 4 of 54\n",
      "Step 5 of 54\n",
      "Step 6 of 54\n",
      "Step 7 of 54\n",
      "Step 8 of 54\n",
      "Step 9 of 54\n",
      "Step 10 of 54\n",
      "Step 11 of 54\n",
      "Step 12 of 54\n",
      "Step 13 of 54\n",
      "Step 14 of 54\n",
      "Step 15 of 54\n",
      "Step 16 of 54\n",
      "Step 17 of 54\n",
      "Step 18 of 54\n",
      "Step 19 of 54\n",
      "Step 20 of 54\n",
      "Step 21 of 54\n",
      "Step 22 of 54\n",
      "Step 23 of 54\n",
      "Step 24 of 54\n",
      "Step 25 of 54\n",
      "Step 26 of 54\n",
      "Step 27 of 54\n",
      "Step 28 of 54\n",
      "Step 29 of 54\n",
      "Step 30 of 54\n",
      "Step 31 of 54\n",
      "Step 32 of 54\n",
      "Step 33 of 54\n",
      "Step 34 of 54\n",
      "Step 35 of 54\n",
      "Step 36 of 54\n",
      "Step 37 of 54\n",
      "Step 38 of 54\n",
      "Step 39 of 54\n",
      "Step 40 of 54\n",
      "Step 41 of 54\n",
      "Step 42 of 54\n",
      "Step 43 of 54\n",
      "Step 44 of 54\n",
      "Step 45 of 54\n",
      "Step 46 of 54\n",
      "Step 47 of 54\n",
      "Step 48 of 54\n",
      "Step 49 of 54\n",
      "Step 50 of 54\n",
      "Step 51 of 54\n",
      "Step 52 of 54\n",
      "Step 53 of 54\n",
      "Step 54 of 54\n",
      "Prediction took 83.52332663536072 seconds\n"
     ]
    }
   ],
   "source": [
    "start_time = time.time()\n",
    "\n",
    "y_validation_preds = []\n",
    "\n",
    "for series_id in tqdm(validation.series_id.unique()):\n",
    "    validation_chunk = validation[validation.series_id == series_id]\n",
    "    X_validation_chunk = validation_chunk[features]\n",
    "    \n",
    "    y_validation_pred_chunk = dt_classifier.predict(X_validation_chunk)\n",
    "    y_validation_preds.append(y_validation_pred_chunk)\n",
    "    \n",
    "    del X_validation_chunk\n",
    "    del y_validation_pred_chunk\n",
    "    gc.collect()\n",
    "\n",
    "y_validation_pred = np.concatenate(y_preds)\n",
    "\n",
    "print(f'Prediction took {time.time() - start_time} seconds')"
   ]
  },
  {
   "cell_type": "code",
   "execution_count": 11,
   "id": "6bf491ec15b2320d",
   "metadata": {
    "ExecuteTime": {
     "end_time": "2023-10-03T17:56:29.583850100Z",
     "start_time": "2023-10-03T17:56:29.572134300Z"
    }
   },
   "outputs": [
    {
     "name": "stdout",
     "output_type": "stream",
     "text": [
      "(26187300, 1)\n",
      "(26187300,)\n"
     ]
    }
   ],
   "source": [
    "print(y_validation.shape)\n",
    "print(y_validation_pred.shape)"
   ]
  },
  {
   "cell_type": "markdown",
   "id": "f2abff852c700f20",
   "metadata": {},
   "source": [
    "## Evaluate"
   ]
  },
  {
   "cell_type": "code",
   "execution_count": 12,
   "id": "5f52978c813a03b0",
   "metadata": {
    "ExecuteTime": {
     "end_time": "2023-10-03T17:56:29.228747800Z",
     "start_time": "2023-10-03T17:56:29.179392300Z"
    }
   },
   "outputs": [
    {
     "data": {
      "text/plain": [
       "0.8738669889602976"
      ]
     },
     "execution_count": 12,
     "metadata": {},
     "output_type": "execute_result"
    }
   ],
   "source": [
    "accuracy_score(y_validation, y_validation_pred)"
   ]
  },
  {
   "cell_type": "code",
   "execution_count": 13,
   "id": "5fcde34a42bffe58",
   "metadata": {
    "ExecuteTime": {
     "end_time": "2023-10-03T17:57:52.920358900Z",
     "start_time": "2023-10-03T17:57:52.595422800Z"
    }
   },
   "outputs": [
    {
     "data": {
      "text/plain": [
       "<sklearn.metrics._plot.confusion_matrix.ConfusionMatrixDisplay at 0x1f5b2d26650>"
      ]
     },
     "execution_count": 13,
     "metadata": {},
     "output_type": "execute_result"
    },
    {
     "data": {
      "image/png": "[encoded data removed]",
      "text/plain": [
       "<Figure size 640x480 with 2 Axes>"
      ]
     },
     "metadata": {},
     "output_type": "display_data"
    }
   ],
   "source": [
    "cm = confusion_matrix(y_test, y_pred)\n",
    "\n",
    "disp = ConfusionMatrixDisplay(confusion_matrix=cm)\n",
    "disp.plot(cmap='Blues')"
   ]
  },
  {
   "cell_type": "code",
   "execution_count": null,
   "id": "314b14ce",
   "metadata": {},
   "outputs": [],
   "source": []
  }
 ],
 "metadata": {
  "kernelspec": {
   "display_name": "ai-challenge",
   "language": "python",
   "name": "ai-challenge"
  },
  "language_info": {
   "codemirror_mode": {
    "name": "ipython",
    "version": 3
   },
   "file_extension": ".py",
   "mimetype": "text/x-python",
   "name": "python",
   "nbconvert_exporter": "python",
   "pygments_lexer": "ipython3",
   "version": "3.11.5"
  }
 },
 "nbformat": 4,
 "nbformat_minor": 5
}
