{
 "cells": [
  {
   "cell_type": "markdown",
   "id": "e6c14b47",
   "metadata": {},
   "source": [
    "# Data Vorbereitung"
   ]
  },
  {
   "cell_type": "code",
   "execution_count": 1,
   "id": "16b2b488",
   "metadata": {},
   "outputs": [],
   "source": [
    "import pandas as pd\n",
    "import seaborn as sns\n",
    "import matplotlib.pyplot as plt\n",
    "\n",
    "import gc"
   ]
  },
  {
   "cell_type": "markdown",
   "id": "f5475fa5",
   "metadata": {},
   "source": [
    "## Daten laden"
   ]
  },
  {
   "cell_type": "code",
   "execution_count": 2,
   "id": "6078eade",
   "metadata": {},
   "outputs": [],
   "source": [
    "train_series = pd.read_parquet('../../data/raw/train_series.parquet')\n",
    "train_events = pd.read_csv('../../data/raw/train_events.csv')"
   ]
  },
  {
   "cell_type": "code",
   "execution_count": 3,
   "id": "ca565962",
   "metadata": {},
   "outputs": [
    {
     "name": "stdout",
     "output_type": "stream",
     "text": [
      "(127946340, 5)\n",
      "(14508, 5)\n"
     ]
    }
   ],
   "source": [
    "print(train_series.shape)\n",
    "print(train_events.shape)"
   ]
  },
  {
   "cell_type": "markdown",
   "id": "884255a2",
   "metadata": {},
   "source": [
    "## Mapping der Serien"
   ]
  },
  {
   "cell_type": "code",
   "execution_count": 4,
   "id": "8f136cee",
   "metadata": {},
   "outputs": [],
   "source": [
    "series = train_series.series_id.unique()\n",
    "series_to_id = {v: k for k, v in enumerate(series, 1)}"
   ]
  },
  {
   "cell_type": "code",
   "execution_count": 5,
   "id": "10fd5036",
   "metadata": {},
   "outputs": [],
   "source": [
    "train_series['num_series_id'] = train_series['series_id'].map(series_to_id.get)"
   ]
  },
  {
   "cell_type": "code",
   "execution_count": 6,
   "id": "f1d1c05c",
   "metadata": {},
   "outputs": [],
   "source": [
    "train_events['num_series_id'] = train_events['series_id'].map(series_to_id.get)"
   ]
  },
  {
   "cell_type": "markdown",
   "id": "2a3be320",
   "metadata": {},
   "source": [
    "## Daten speichern"
   ]
  },
  {
   "cell_type": "code",
   "execution_count": 7,
   "id": "ad02737e",
   "metadata": {},
   "outputs": [
    {
     "name": "stdout",
     "output_type": "stream",
     "text": [
      "(127946340, 6)\n",
      "(14508, 6)\n"
     ]
    }
   ],
   "source": [
    "print(train_series.shape)\n",
    "print(train_events.shape)"
   ]
  },
  {
   "cell_type": "code",
   "execution_count": 9,
   "id": "e16255d9",
   "metadata": {},
   "outputs": [],
   "source": [
    "train_series.to_parquet('../../data/raw/series.parquet')\n",
    "train_events.to_csv('../../data/raw/events.csv', index=False)"
   ]
  }
 ],
 "metadata": {
  "kernelspec": {
   "display_name": "ai-challenge",
   "language": "python",
   "name": "ai-challenge"
  },
  "language_info": {
   "codemirror_mode": {
    "name": "ipython",
    "version": 3
   },
   "file_extension": ".py",
   "mimetype": "text/x-python",
   "name": "python",
   "nbconvert_exporter": "python",
   "pygments_lexer": "ipython3",
   "version": "3.11.5"
  }
 },
 "nbformat": 4,
 "nbformat_minor": 5
}
