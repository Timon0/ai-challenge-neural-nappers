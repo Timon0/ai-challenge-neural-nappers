{
 "cells": [
  {
   "cell_type": "markdown",
   "id": "68b5b0c4",
   "metadata": {},
   "source": [
    "# Feature Engineering"
   ]
  },
  {
   "cell_type": "code",
   "execution_count": 1,
   "id": "c30219bf",
   "metadata": {
    "ExecuteTime": {
     "end_time": "2023-09-29T12:45:00.780002600Z",
     "start_time": "2023-09-29T12:44:58.091438100Z"
    }
   },
   "outputs": [],
   "source": [
    "import pandas as pd\n",
    "import numpy as np\n",
    "import pyarrow as pa\n",
    "import pyarrow.parquet as pq\n",
    "\n",
    "from tqdm import tqdm\n",
    "\n",
    "import time\n",
    "import torch\n",
    "import gc\n",
    "\n",
    "pd.set_option('display.max_columns', None)"
   ]
  },
  {
   "cell_type": "markdown",
   "id": "abc62c52",
   "metadata": {},
   "source": [
    "## Daten laden"
   ]
  },
  {
   "cell_type": "code",
   "execution_count": 2,
   "id": "324a560c",
   "metadata": {
    "ExecuteTime": {
     "end_time": "2023-09-29T12:45:52.408420500Z",
     "start_time": "2023-09-29T12:45:00.786090800Z"
    }
   },
   "outputs": [],
   "source": [
    "IS_TRAINING = False\n",
    "FILE = '../../data/processed/validation_series_split_normalized.parquet'\n",
    "series = pd.read_parquet(FILE, columns=['num_series_id'])"
   ]
  },
  {
   "cell_type": "markdown",
   "id": "fb74cd20c7a91f81",
   "metadata": {},
   "source": [
    "## Neue Features erstellen"
   ]
  },
  {
   "cell_type": "code",
   "execution_count": 3,
   "id": "74dc948e",
   "metadata": {},
   "outputs": [],
   "source": [
    "folder = \"train/\" if IS_TRAINING else \"validation/\"\n",
    "file_path_prefix = \"../../data/processed/lag-features/\" + folder\n",
    "\n",
    "ANGLEZ_LAGS_FUTURE = [f\"anglez_future-lag_{i}\" for i in range(-1, -25, -1)]\n",
    "ENMO_LAGS_FUTURE = [f\"enmo_future-lag_{i}\" for i in range(-1, -25, -1)]\n",
    "ANGLEZ_LAGS_PAST = [f\"anglez_past-lag_{i}\" for i in range(1, 25)]\n",
    "ENMO_LAGS_PAST = [f\"enmo_past-lag_{i}\" for i in range(1, 25)]\n",
    "LAGS_FUTURE = [*ANGLEZ_LAGS_FUTURE, *ENMO_LAGS_FUTURE]\n",
    "LAGS_PAST = [*ANGLEZ_LAGS_PAST, *ENMO_LAGS_PAST]\n",
    "FEATURES = ['anglez', 'enmo', *LAGS_PAST, *LAGS_FUTURE]\n",
    "\n",
    "LABEL = ['awake']"
   ]
  },
  {
   "cell_type": "code",
   "execution_count": 4,
   "id": "25844b7a",
   "metadata": {},
   "outputs": [],
   "source": [
    "def save_chunk(num_series_id, chunk):\n",
    "    X = torch.from_numpy(chunk[FEATURES].astype('float32').to_numpy())\n",
    "    \n",
    "    torch.save(X, file_path_prefix + str(num_series_id) + \".pt\")"
   ]
  },
  {
   "cell_type": "code",
   "execution_count": 5,
   "id": "5f7819507cd29d98",
   "metadata": {
    "ExecuteTime": {
     "end_time": "2023-09-29T12:45:52.429714800Z",
     "start_time": "2023-09-29T12:45:52.419364600Z"
    }
   },
   "outputs": [],
   "source": [
    "def make_features_chunk(num_series_id):\n",
    "    df = pd.read_parquet(FILE, filters=[('num_series_id','=',num_series_id)])\n",
    "          \n",
    "    for i in range(1, 25):        \n",
    "        df[f\"anglez_past-lag_{i}\"] = df[\"anglez\"].shift(i).bfill()\n",
    "        df[f\"enmo_past-lag_{i}\"] = df[\"enmo\"].shift(i).bfill()\n",
    "\n",
    "    for i in range(-1, -25, -1):\n",
    "        df[f\"anglez_future-lag_{i}\"] = df[\"anglez\"].shift(i).ffill()\n",
    "        df[f\"enmo_future-lag_{i}\"] = df[\"enmo\"].shift(i).ffill()\n",
    "    \n",
    "    return df.reset_index(drop=True)"
   ]
  },
  {
   "cell_type": "code",
   "execution_count": 6,
   "id": "16b52907",
   "metadata": {},
   "outputs": [],
   "source": [
    "def make_features(series):\n",
    "    overview_data = []\n",
    "    \n",
    "    for num_series_id in tqdm(series.num_series_id.unique()):\n",
    "        chunk = make_features_chunk(num_series_id)\n",
    "        save_chunk(num_series_id, chunk)\n",
    "        \n",
    "        overview_data.append(\n",
    "            chunk[['num_series_id', 'awake']].reset_index().rename(columns={'index':'series_index'}).copy()[['num_series_id', 'awake', 'series_index']]\n",
    "        )\n",
    "        \n",
    "        del chunk\n",
    "        gc.collect()\n",
    "    \n",
    "    return pd.concat(overview_data).reset_index(drop=True)"
   ]
  },
  {
   "cell_type": "code",
   "execution_count": 7,
   "id": "c0d067155defaebc",
   "metadata": {
    "ExecuteTime": {
     "start_time": "2023-09-29T12:45:52.429714800Z"
    },
    "is_executing": true,
    "scrolled": true
   },
   "outputs": [
    {
     "name": "stderr",
     "output_type": "stream",
     "text": [
      "  0%|                                                                                           | 0/54 [00:00<?, ?it/s]C:\\Users\\timon\\AppData\\Local\\Temp\\ipykernel_31544\\2435301155.py:10: PerformanceWarning: DataFrame is highly fragmented.  This is usually the result of calling `frame.insert` many times, which has poor performance.  Consider joining all columns at once using pd.concat(axis=1) instead. To get a de-fragmented frame, use `newframe = frame.copy()`\n",
      "  df[f\"enmo_future-lag_{i}\"] = df[\"enmo\"].shift(i).ffill()\n",
      "  2%|█▌                                                                                 | 1/54 [00:03<03:16,  3.72s/it]C:\\Users\\timon\\AppData\\Local\\Temp\\ipykernel_31544\\2435301155.py:10: PerformanceWarning: DataFrame is highly fragmented.  This is usually the result of calling `frame.insert` many times, which has poor performance.  Consider joining all columns at once using pd.concat(axis=1) instead. To get a de-fragmented frame, use `newframe = frame.copy()`\n",
      "  df[f\"enmo_future-lag_{i}\"] = df[\"enmo\"].shift(i).ffill()\n",
      "  4%|███                                                                                | 2/54 [00:05<02:25,  2.80s/it]C:\\Users\\timon\\AppData\\Local\\Temp\\ipykernel_31544\\2435301155.py:10: PerformanceWarning: DataFrame is highly fragmented.  This is usually the result of calling `frame.insert` many times, which has poor performance.  Consider joining all columns at once using pd.concat(axis=1) instead. To get a de-fragmented frame, use `newframe = frame.copy()`\n",
      "  df[f\"enmo_future-lag_{i}\"] = df[\"enmo\"].shift(i).ffill()\n",
      "  6%|████▌                                                                              | 3/54 [00:08<02:09,  2.53s/it]C:\\Users\\timon\\AppData\\Local\\Temp\\ipykernel_31544\\2435301155.py:10: PerformanceWarning: DataFrame is highly fragmented.  This is usually the result of calling `frame.insert` many times, which has poor performance.  Consider joining all columns at once using pd.concat(axis=1) instead. To get a de-fragmented frame, use `newframe = frame.copy()`\n",
      "  df[f\"enmo_future-lag_{i}\"] = df[\"enmo\"].shift(i).ffill()\n",
      "  7%|██████▏                                                                            | 4/54 [00:10<02:01,  2.44s/it]C:\\Users\\timon\\AppData\\Local\\Temp\\ipykernel_31544\\2435301155.py:10: PerformanceWarning: DataFrame is highly fragmented.  This is usually the result of calling `frame.insert` many times, which has poor performance.  Consider joining all columns at once using pd.concat(axis=1) instead. To get a de-fragmented frame, use `newframe = frame.copy()`\n",
      "  df[f\"enmo_future-lag_{i}\"] = df[\"enmo\"].shift(i).ffill()\n",
      "  9%|███████▋                                                                           | 5/54 [00:12<01:45,  2.16s/it]C:\\Users\\timon\\AppData\\Local\\Temp\\ipykernel_31544\\2435301155.py:10: PerformanceWarning: DataFrame is highly fragmented.  This is usually the result of calling `frame.insert` many times, which has poor performance.  Consider joining all columns at once using pd.concat(axis=1) instead. To get a de-fragmented frame, use `newframe = frame.copy()`\n",
      "  df[f\"enmo_future-lag_{i}\"] = df[\"enmo\"].shift(i).ffill()\n",
      " 11%|█████████▏                                                                         | 6/54 [00:14<01:50,  2.30s/it]C:\\Users\\timon\\AppData\\Local\\Temp\\ipykernel_31544\\2435301155.py:10: PerformanceWarning: DataFrame is highly fragmented.  This is usually the result of calling `frame.insert` many times, which has poor performance.  Consider joining all columns at once using pd.concat(axis=1) instead. To get a de-fragmented frame, use `newframe = frame.copy()`\n",
      "  df[f\"enmo_future-lag_{i}\"] = df[\"enmo\"].shift(i).ffill()\n",
      " 13%|██████████▊                                                                        | 7/54 [00:17<01:55,  2.46s/it]C:\\Users\\timon\\AppData\\Local\\Temp\\ipykernel_31544\\2435301155.py:10: PerformanceWarning: DataFrame is highly fragmented.  This is usually the result of calling `frame.insert` many times, which has poor performance.  Consider joining all columns at once using pd.concat(axis=1) instead. To get a de-fragmented frame, use `newframe = frame.copy()`\n",
      "  df[f\"enmo_future-lag_{i}\"] = df[\"enmo\"].shift(i).ffill()\n",
      " 15%|████████████▎                                                                      | 8/54 [00:20<01:59,  2.59s/it]C:\\Users\\timon\\AppData\\Local\\Temp\\ipykernel_31544\\2435301155.py:10: PerformanceWarning: DataFrame is highly fragmented.  This is usually the result of calling `frame.insert` many times, which has poor performance.  Consider joining all columns at once using pd.concat(axis=1) instead. To get a de-fragmented frame, use `newframe = frame.copy()`\n",
      "  df[f\"enmo_future-lag_{i}\"] = df[\"enmo\"].shift(i).ffill()\n",
      " 17%|█████████████▊                                                                     | 9/54 [00:22<01:53,  2.52s/it]C:\\Users\\timon\\AppData\\Local\\Temp\\ipykernel_31544\\2435301155.py:10: PerformanceWarning: DataFrame is highly fragmented.  This is usually the result of calling `frame.insert` many times, which has poor performance.  Consider joining all columns at once using pd.concat(axis=1) instead. To get a de-fragmented frame, use `newframe = frame.copy()`\n",
      "  df[f\"enmo_future-lag_{i}\"] = df[\"enmo\"].shift(i).ffill()\n",
      " 19%|███████████████▏                                                                  | 10/54 [00:25<01:57,  2.66s/it]C:\\Users\\timon\\AppData\\Local\\Temp\\ipykernel_31544\\2435301155.py:10: PerformanceWarning: DataFrame is highly fragmented.  This is usually the result of calling `frame.insert` many times, which has poor performance.  Consider joining all columns at once using pd.concat(axis=1) instead. To get a de-fragmented frame, use `newframe = frame.copy()`\n",
      "  df[f\"enmo_future-lag_{i}\"] = df[\"enmo\"].shift(i).ffill()\n",
      " 20%|████████████████▋                                                                 | 11/54 [00:28<01:51,  2.60s/it]C:\\Users\\timon\\AppData\\Local\\Temp\\ipykernel_31544\\2435301155.py:10: PerformanceWarning: DataFrame is highly fragmented.  This is usually the result of calling `frame.insert` many times, which has poor performance.  Consider joining all columns at once using pd.concat(axis=1) instead. To get a de-fragmented frame, use `newframe = frame.copy()`\n",
      "  df[f\"enmo_future-lag_{i}\"] = df[\"enmo\"].shift(i).ffill()\n",
      " 22%|██████████████████▏                                                               | 12/54 [00:30<01:49,  2.60s/it]C:\\Users\\timon\\AppData\\Local\\Temp\\ipykernel_31544\\2435301155.py:10: PerformanceWarning: DataFrame is highly fragmented.  This is usually the result of calling `frame.insert` many times, which has poor performance.  Consider joining all columns at once using pd.concat(axis=1) instead. To get a de-fragmented frame, use `newframe = frame.copy()`\n",
      "  df[f\"enmo_future-lag_{i}\"] = df[\"enmo\"].shift(i).ffill()\n",
      " 24%|███████████████████▋                                                              | 13/54 [00:33<01:47,  2.62s/it]C:\\Users\\timon\\AppData\\Local\\Temp\\ipykernel_31544\\2435301155.py:10: PerformanceWarning: DataFrame is highly fragmented.  This is usually the result of calling `frame.insert` many times, which has poor performance.  Consider joining all columns at once using pd.concat(axis=1) instead. To get a de-fragmented frame, use `newframe = frame.copy()`\n",
      "  df[f\"enmo_future-lag_{i}\"] = df[\"enmo\"].shift(i).ffill()\n",
      " 26%|█████████████████████▎                                                            | 14/54 [00:35<01:40,  2.51s/it]C:\\Users\\timon\\AppData\\Local\\Temp\\ipykernel_31544\\2435301155.py:10: PerformanceWarning: DataFrame is highly fragmented.  This is usually the result of calling `frame.insert` many times, which has poor performance.  Consider joining all columns at once using pd.concat(axis=1) instead. To get a de-fragmented frame, use `newframe = frame.copy()`\n",
      "  df[f\"enmo_future-lag_{i}\"] = df[\"enmo\"].shift(i).ffill()\n",
      " 28%|██████████████████████▊                                                           | 15/54 [00:38<01:43,  2.67s/it]C:\\Users\\timon\\AppData\\Local\\Temp\\ipykernel_31544\\2435301155.py:10: PerformanceWarning: DataFrame is highly fragmented.  This is usually the result of calling `frame.insert` many times, which has poor performance.  Consider joining all columns at once using pd.concat(axis=1) instead. To get a de-fragmented frame, use `newframe = frame.copy()`\n",
      "  df[f\"enmo_future-lag_{i}\"] = df[\"enmo\"].shift(i).ffill()\n"
     ]
    },
    {
     "name": "stderr",
     "output_type": "stream",
     "text": [
      " 30%|████████████████████████▎                                                         | 16/54 [00:41<01:38,  2.59s/it]C:\\Users\\timon\\AppData\\Local\\Temp\\ipykernel_31544\\2435301155.py:10: PerformanceWarning: DataFrame is highly fragmented.  This is usually the result of calling `frame.insert` many times, which has poor performance.  Consider joining all columns at once using pd.concat(axis=1) instead. To get a de-fragmented frame, use `newframe = frame.copy()`\n",
      "  df[f\"enmo_future-lag_{i}\"] = df[\"enmo\"].shift(i).ffill()\n",
      " 31%|█████████████████████████▊                                                        | 17/54 [00:43<01:32,  2.50s/it]C:\\Users\\timon\\AppData\\Local\\Temp\\ipykernel_31544\\2435301155.py:10: PerformanceWarning: DataFrame is highly fragmented.  This is usually the result of calling `frame.insert` many times, which has poor performance.  Consider joining all columns at once using pd.concat(axis=1) instead. To get a de-fragmented frame, use `newframe = frame.copy()`\n",
      "  df[f\"enmo_future-lag_{i}\"] = df[\"enmo\"].shift(i).ffill()\n",
      " 33%|███████████████████████████▎                                                      | 18/54 [00:44<01:20,  2.24s/it]C:\\Users\\timon\\AppData\\Local\\Temp\\ipykernel_31544\\2435301155.py:10: PerformanceWarning: DataFrame is highly fragmented.  This is usually the result of calling `frame.insert` many times, which has poor performance.  Consider joining all columns at once using pd.concat(axis=1) instead. To get a de-fragmented frame, use `newframe = frame.copy()`\n",
      "  df[f\"enmo_future-lag_{i}\"] = df[\"enmo\"].shift(i).ffill()\n",
      " 35%|████████████████████████████▊                                                     | 19/54 [00:48<01:28,  2.52s/it]C:\\Users\\timon\\AppData\\Local\\Temp\\ipykernel_31544\\2435301155.py:10: PerformanceWarning: DataFrame is highly fragmented.  This is usually the result of calling `frame.insert` many times, which has poor performance.  Consider joining all columns at once using pd.concat(axis=1) instead. To get a de-fragmented frame, use `newframe = frame.copy()`\n",
      "  df[f\"enmo_future-lag_{i}\"] = df[\"enmo\"].shift(i).ffill()\n",
      " 37%|██████████████████████████████▎                                                   | 20/54 [00:50<01:26,  2.55s/it]C:\\Users\\timon\\AppData\\Local\\Temp\\ipykernel_31544\\2435301155.py:10: PerformanceWarning: DataFrame is highly fragmented.  This is usually the result of calling `frame.insert` many times, which has poor performance.  Consider joining all columns at once using pd.concat(axis=1) instead. To get a de-fragmented frame, use `newframe = frame.copy()`\n",
      "  df[f\"enmo_future-lag_{i}\"] = df[\"enmo\"].shift(i).ffill()\n",
      " 39%|███████████████████████████████▉                                                  | 21/54 [00:54<01:37,  2.96s/it]C:\\Users\\timon\\AppData\\Local\\Temp\\ipykernel_31544\\2435301155.py:10: PerformanceWarning: DataFrame is highly fragmented.  This is usually the result of calling `frame.insert` many times, which has poor performance.  Consider joining all columns at once using pd.concat(axis=1) instead. To get a de-fragmented frame, use `newframe = frame.copy()`\n",
      "  df[f\"enmo_future-lag_{i}\"] = df[\"enmo\"].shift(i).ffill()\n",
      " 41%|█████████████████████████████████▍                                                | 22/54 [00:57<01:29,  2.79s/it]C:\\Users\\timon\\AppData\\Local\\Temp\\ipykernel_31544\\2435301155.py:10: PerformanceWarning: DataFrame is highly fragmented.  This is usually the result of calling `frame.insert` many times, which has poor performance.  Consider joining all columns at once using pd.concat(axis=1) instead. To get a de-fragmented frame, use `newframe = frame.copy()`\n",
      "  df[f\"enmo_future-lag_{i}\"] = df[\"enmo\"].shift(i).ffill()\n",
      " 43%|██████████████████████████████████▉                                               | 23/54 [01:00<01:31,  2.95s/it]C:\\Users\\timon\\AppData\\Local\\Temp\\ipykernel_31544\\2435301155.py:10: PerformanceWarning: DataFrame is highly fragmented.  This is usually the result of calling `frame.insert` many times, which has poor performance.  Consider joining all columns at once using pd.concat(axis=1) instead. To get a de-fragmented frame, use `newframe = frame.copy()`\n",
      "  df[f\"enmo_future-lag_{i}\"] = df[\"enmo\"].shift(i).ffill()\n",
      " 44%|████████████████████████████████████▍                                             | 24/54 [01:02<01:20,  2.69s/it]C:\\Users\\timon\\AppData\\Local\\Temp\\ipykernel_31544\\2435301155.py:10: PerformanceWarning: DataFrame is highly fragmented.  This is usually the result of calling `frame.insert` many times, which has poor performance.  Consider joining all columns at once using pd.concat(axis=1) instead. To get a de-fragmented frame, use `newframe = frame.copy()`\n",
      "  df[f\"enmo_future-lag_{i}\"] = df[\"enmo\"].shift(i).ffill()\n",
      " 46%|█████████████████████████████████████▉                                            | 25/54 [01:05<01:18,  2.71s/it]C:\\Users\\timon\\AppData\\Local\\Temp\\ipykernel_31544\\2435301155.py:10: PerformanceWarning: DataFrame is highly fragmented.  This is usually the result of calling `frame.insert` many times, which has poor performance.  Consider joining all columns at once using pd.concat(axis=1) instead. To get a de-fragmented frame, use `newframe = frame.copy()`\n",
      "  df[f\"enmo_future-lag_{i}\"] = df[\"enmo\"].shift(i).ffill()\n",
      " 48%|███████████████████████████████████████▍                                          | 26/54 [01:07<01:15,  2.69s/it]C:\\Users\\timon\\AppData\\Local\\Temp\\ipykernel_31544\\2435301155.py:10: PerformanceWarning: DataFrame is highly fragmented.  This is usually the result of calling `frame.insert` many times, which has poor performance.  Consider joining all columns at once using pd.concat(axis=1) instead. To get a de-fragmented frame, use `newframe = frame.copy()`\n",
      "  df[f\"enmo_future-lag_{i}\"] = df[\"enmo\"].shift(i).ffill()\n",
      " 50%|█████████████████████████████████████████                                         | 27/54 [01:10<01:10,  2.61s/it]C:\\Users\\timon\\AppData\\Local\\Temp\\ipykernel_31544\\2435301155.py:10: PerformanceWarning: DataFrame is highly fragmented.  This is usually the result of calling `frame.insert` many times, which has poor performance.  Consider joining all columns at once using pd.concat(axis=1) instead. To get a de-fragmented frame, use `newframe = frame.copy()`\n",
      "  df[f\"enmo_future-lag_{i}\"] = df[\"enmo\"].shift(i).ffill()\n",
      " 52%|██████████████████████████████████████████▌                                       | 28/54 [01:12<01:06,  2.57s/it]C:\\Users\\timon\\AppData\\Local\\Temp\\ipykernel_31544\\2435301155.py:10: PerformanceWarning: DataFrame is highly fragmented.  This is usually the result of calling `frame.insert` many times, which has poor performance.  Consider joining all columns at once using pd.concat(axis=1) instead. To get a de-fragmented frame, use `newframe = frame.copy()`\n",
      "  df[f\"enmo_future-lag_{i}\"] = df[\"enmo\"].shift(i).ffill()\n",
      " 54%|████████████████████████████████████████████                                      | 29/54 [01:17<01:20,  3.21s/it]C:\\Users\\timon\\AppData\\Local\\Temp\\ipykernel_31544\\2435301155.py:10: PerformanceWarning: DataFrame is highly fragmented.  This is usually the result of calling `frame.insert` many times, which has poor performance.  Consider joining all columns at once using pd.concat(axis=1) instead. To get a de-fragmented frame, use `newframe = frame.copy()`\n",
      "  df[f\"enmo_future-lag_{i}\"] = df[\"enmo\"].shift(i).ffill()\n",
      " 56%|█████████████████████████████████████████████▌                                    | 30/54 [01:19<01:08,  2.84s/it]C:\\Users\\timon\\AppData\\Local\\Temp\\ipykernel_31544\\2435301155.py:10: PerformanceWarning: DataFrame is highly fragmented.  This is usually the result of calling `frame.insert` many times, which has poor performance.  Consider joining all columns at once using pd.concat(axis=1) instead. To get a de-fragmented frame, use `newframe = frame.copy()`\n",
      "  df[f\"enmo_future-lag_{i}\"] = df[\"enmo\"].shift(i).ffill()\n",
      " 57%|███████████████████████████████████████████████                                   | 31/54 [01:21<01:02,  2.70s/it]C:\\Users\\timon\\AppData\\Local\\Temp\\ipykernel_31544\\2435301155.py:10: PerformanceWarning: DataFrame is highly fragmented.  This is usually the result of calling `frame.insert` many times, which has poor performance.  Consider joining all columns at once using pd.concat(axis=1) instead. To get a de-fragmented frame, use `newframe = frame.copy()`\n",
      "  df[f\"enmo_future-lag_{i}\"] = df[\"enmo\"].shift(i).ffill()\n"
     ]
    },
    {
     "name": "stderr",
     "output_type": "stream",
     "text": [
      " 59%|████████████████████████████████████████████████▌                                 | 32/54 [01:25<01:04,  2.92s/it]C:\\Users\\timon\\AppData\\Local\\Temp\\ipykernel_31544\\2435301155.py:10: PerformanceWarning: DataFrame is highly fragmented.  This is usually the result of calling `frame.insert` many times, which has poor performance.  Consider joining all columns at once using pd.concat(axis=1) instead. To get a de-fragmented frame, use `newframe = frame.copy()`\n",
      "  df[f\"enmo_future-lag_{i}\"] = df[\"enmo\"].shift(i).ffill()\n",
      " 61%|██████████████████████████████████████████████████                                | 33/54 [01:26<00:53,  2.55s/it]C:\\Users\\timon\\AppData\\Local\\Temp\\ipykernel_31544\\2435301155.py:10: PerformanceWarning: DataFrame is highly fragmented.  This is usually the result of calling `frame.insert` many times, which has poor performance.  Consider joining all columns at once using pd.concat(axis=1) instead. To get a de-fragmented frame, use `newframe = frame.copy()`\n",
      "  df[f\"enmo_future-lag_{i}\"] = df[\"enmo\"].shift(i).ffill()\n",
      " 63%|███████████████████████████████████████████████████▋                              | 34/54 [01:28<00:45,  2.27s/it]C:\\Users\\timon\\AppData\\Local\\Temp\\ipykernel_31544\\2435301155.py:10: PerformanceWarning: DataFrame is highly fragmented.  This is usually the result of calling `frame.insert` many times, which has poor performance.  Consider joining all columns at once using pd.concat(axis=1) instead. To get a de-fragmented frame, use `newframe = frame.copy()`\n",
      "  df[f\"enmo_future-lag_{i}\"] = df[\"enmo\"].shift(i).ffill()\n",
      " 65%|█████████████████████████████████████████████████████▏                            | 35/54 [01:31<00:46,  2.42s/it]C:\\Users\\timon\\AppData\\Local\\Temp\\ipykernel_31544\\2435301155.py:10: PerformanceWarning: DataFrame is highly fragmented.  This is usually the result of calling `frame.insert` many times, which has poor performance.  Consider joining all columns at once using pd.concat(axis=1) instead. To get a de-fragmented frame, use `newframe = frame.copy()`\n",
      "  df[f\"enmo_future-lag_{i}\"] = df[\"enmo\"].shift(i).ffill()\n",
      " 67%|██████████████████████████████████████████████████████▋                           | 36/54 [01:33<00:40,  2.22s/it]C:\\Users\\timon\\AppData\\Local\\Temp\\ipykernel_31544\\2435301155.py:10: PerformanceWarning: DataFrame is highly fragmented.  This is usually the result of calling `frame.insert` many times, which has poor performance.  Consider joining all columns at once using pd.concat(axis=1) instead. To get a de-fragmented frame, use `newframe = frame.copy()`\n",
      "  df[f\"enmo_future-lag_{i}\"] = df[\"enmo\"].shift(i).ffill()\n",
      " 69%|████████████████████████████████████████████████████████▏                         | 37/54 [01:35<00:40,  2.41s/it]C:\\Users\\timon\\AppData\\Local\\Temp\\ipykernel_31544\\2435301155.py:10: PerformanceWarning: DataFrame is highly fragmented.  This is usually the result of calling `frame.insert` many times, which has poor performance.  Consider joining all columns at once using pd.concat(axis=1) instead. To get a de-fragmented frame, use `newframe = frame.copy()`\n",
      "  df[f\"enmo_future-lag_{i}\"] = df[\"enmo\"].shift(i).ffill()\n",
      " 70%|█████████████████████████████████████████████████████████▋                        | 38/54 [01:38<00:39,  2.44s/it]C:\\Users\\timon\\AppData\\Local\\Temp\\ipykernel_31544\\2435301155.py:10: PerformanceWarning: DataFrame is highly fragmented.  This is usually the result of calling `frame.insert` many times, which has poor performance.  Consider joining all columns at once using pd.concat(axis=1) instead. To get a de-fragmented frame, use `newframe = frame.copy()`\n",
      "  df[f\"enmo_future-lag_{i}\"] = df[\"enmo\"].shift(i).ffill()\n",
      " 72%|███████████████████████████████████████████████████████████▏                      | 39/54 [01:44<00:53,  3.57s/it]C:\\Users\\timon\\AppData\\Local\\Temp\\ipykernel_31544\\2435301155.py:10: PerformanceWarning: DataFrame is highly fragmented.  This is usually the result of calling `frame.insert` many times, which has poor performance.  Consider joining all columns at once using pd.concat(axis=1) instead. To get a de-fragmented frame, use `newframe = frame.copy()`\n",
      "  df[f\"enmo_future-lag_{i}\"] = df[\"enmo\"].shift(i).ffill()\n",
      " 74%|████████████████████████████████████████████████████████████▋                     | 40/54 [01:46<00:43,  3.08s/it]C:\\Users\\timon\\AppData\\Local\\Temp\\ipykernel_31544\\2435301155.py:10: PerformanceWarning: DataFrame is highly fragmented.  This is usually the result of calling `frame.insert` many times, which has poor performance.  Consider joining all columns at once using pd.concat(axis=1) instead. To get a de-fragmented frame, use `newframe = frame.copy()`\n",
      "  df[f\"enmo_future-lag_{i}\"] = df[\"enmo\"].shift(i).ffill()\n",
      " 76%|██████████████████████████████████████████████████████████████▎                   | 41/54 [01:49<00:39,  3.01s/it]C:\\Users\\timon\\AppData\\Local\\Temp\\ipykernel_31544\\2435301155.py:10: PerformanceWarning: DataFrame is highly fragmented.  This is usually the result of calling `frame.insert` many times, which has poor performance.  Consider joining all columns at once using pd.concat(axis=1) instead. To get a de-fragmented frame, use `newframe = frame.copy()`\n",
      "  df[f\"enmo_future-lag_{i}\"] = df[\"enmo\"].shift(i).ffill()\n",
      " 78%|███████████████████████████████████████████████████████████████▊                  | 42/54 [01:51<00:32,  2.71s/it]C:\\Users\\timon\\AppData\\Local\\Temp\\ipykernel_31544\\2435301155.py:10: PerformanceWarning: DataFrame is highly fragmented.  This is usually the result of calling `frame.insert` many times, which has poor performance.  Consider joining all columns at once using pd.concat(axis=1) instead. To get a de-fragmented frame, use `newframe = frame.copy()`\n",
      "  df[f\"enmo_future-lag_{i}\"] = df[\"enmo\"].shift(i).ffill()\n",
      " 80%|█████████████████████████████████████████████████████████████████▎                | 43/54 [01:54<00:31,  2.90s/it]C:\\Users\\timon\\AppData\\Local\\Temp\\ipykernel_31544\\2435301155.py:10: PerformanceWarning: DataFrame is highly fragmented.  This is usually the result of calling `frame.insert` many times, which has poor performance.  Consider joining all columns at once using pd.concat(axis=1) instead. To get a de-fragmented frame, use `newframe = frame.copy()`\n",
      "  df[f\"enmo_future-lag_{i}\"] = df[\"enmo\"].shift(i).ffill()\n",
      " 81%|██████████████████████████████████████████████████████████████████▊               | 44/54 [01:56<00:24,  2.45s/it]C:\\Users\\timon\\AppData\\Local\\Temp\\ipykernel_31544\\2435301155.py:10: PerformanceWarning: DataFrame is highly fragmented.  This is usually the result of calling `frame.insert` many times, which has poor performance.  Consider joining all columns at once using pd.concat(axis=1) instead. To get a de-fragmented frame, use `newframe = frame.copy()`\n",
      "  df[f\"enmo_future-lag_{i}\"] = df[\"enmo\"].shift(i).ffill()\n",
      " 83%|████████████████████████████████████████████████████████████████████▎             | 45/54 [01:58<00:20,  2.32s/it]C:\\Users\\timon\\AppData\\Local\\Temp\\ipykernel_31544\\2435301155.py:10: PerformanceWarning: DataFrame is highly fragmented.  This is usually the result of calling `frame.insert` many times, which has poor performance.  Consider joining all columns at once using pd.concat(axis=1) instead. To get a de-fragmented frame, use `newframe = frame.copy()`\n",
      "  df[f\"enmo_future-lag_{i}\"] = df[\"enmo\"].shift(i).ffill()\n",
      " 85%|█████████████████████████████████████████████████████████████████████▊            | 46/54 [02:00<00:18,  2.32s/it]C:\\Users\\timon\\AppData\\Local\\Temp\\ipykernel_31544\\2435301155.py:10: PerformanceWarning: DataFrame is highly fragmented.  This is usually the result of calling `frame.insert` many times, which has poor performance.  Consider joining all columns at once using pd.concat(axis=1) instead. To get a de-fragmented frame, use `newframe = frame.copy()`\n",
      "  df[f\"enmo_future-lag_{i}\"] = df[\"enmo\"].shift(i).ffill()\n",
      " 87%|███████████████████████████████████████████████████████████████████████▎          | 47/54 [02:03<00:17,  2.44s/it]C:\\Users\\timon\\AppData\\Local\\Temp\\ipykernel_31544\\2435301155.py:10: PerformanceWarning: DataFrame is highly fragmented.  This is usually the result of calling `frame.insert` many times, which has poor performance.  Consider joining all columns at once using pd.concat(axis=1) instead. To get a de-fragmented frame, use `newframe = frame.copy()`\n",
      "  df[f\"enmo_future-lag_{i}\"] = df[\"enmo\"].shift(i).ffill()\n"
     ]
    },
    {
     "name": "stderr",
     "output_type": "stream",
     "text": [
      " 89%|████████████████████████████████████████████████████████████████████████▉         | 48/54 [02:05<00:15,  2.51s/it]C:\\Users\\timon\\AppData\\Local\\Temp\\ipykernel_31544\\2435301155.py:10: PerformanceWarning: DataFrame is highly fragmented.  This is usually the result of calling `frame.insert` many times, which has poor performance.  Consider joining all columns at once using pd.concat(axis=1) instead. To get a de-fragmented frame, use `newframe = frame.copy()`\n",
      "  df[f\"enmo_future-lag_{i}\"] = df[\"enmo\"].shift(i).ffill()\n",
      " 91%|██████████████████████████████████████████████████████████████████████████▍       | 49/54 [02:11<00:17,  3.41s/it]C:\\Users\\timon\\AppData\\Local\\Temp\\ipykernel_31544\\2435301155.py:10: PerformanceWarning: DataFrame is highly fragmented.  This is usually the result of calling `frame.insert` many times, which has poor performance.  Consider joining all columns at once using pd.concat(axis=1) instead. To get a de-fragmented frame, use `newframe = frame.copy()`\n",
      "  df[f\"enmo_future-lag_{i}\"] = df[\"enmo\"].shift(i).ffill()\n",
      " 93%|███████████████████████████████████████████████████████████████████████████▉      | 50/54 [02:14<00:13,  3.27s/it]C:\\Users\\timon\\AppData\\Local\\Temp\\ipykernel_31544\\2435301155.py:10: PerformanceWarning: DataFrame is highly fragmented.  This is usually the result of calling `frame.insert` many times, which has poor performance.  Consider joining all columns at once using pd.concat(axis=1) instead. To get a de-fragmented frame, use `newframe = frame.copy()`\n",
      "  df[f\"enmo_future-lag_{i}\"] = df[\"enmo\"].shift(i).ffill()\n",
      " 94%|█████████████████████████████████████████████████████████████████████████████▍    | 51/54 [02:16<00:08,  2.88s/it]C:\\Users\\timon\\AppData\\Local\\Temp\\ipykernel_31544\\2435301155.py:10: PerformanceWarning: DataFrame is highly fragmented.  This is usually the result of calling `frame.insert` many times, which has poor performance.  Consider joining all columns at once using pd.concat(axis=1) instead. To get a de-fragmented frame, use `newframe = frame.copy()`\n",
      "  df[f\"enmo_future-lag_{i}\"] = df[\"enmo\"].shift(i).ffill()\n",
      " 96%|██████████████████████████████████████████████████████████████████████████████▉   | 52/54 [02:18<00:05,  2.75s/it]C:\\Users\\timon\\AppData\\Local\\Temp\\ipykernel_31544\\2435301155.py:10: PerformanceWarning: DataFrame is highly fragmented.  This is usually the result of calling `frame.insert` many times, which has poor performance.  Consider joining all columns at once using pd.concat(axis=1) instead. To get a de-fragmented frame, use `newframe = frame.copy()`\n",
      "  df[f\"enmo_future-lag_{i}\"] = df[\"enmo\"].shift(i).ffill()\n",
      " 98%|████████████████████████████████████████████████████████████████████████████████▍ | 53/54 [02:20<00:02,  2.48s/it]C:\\Users\\timon\\AppData\\Local\\Temp\\ipykernel_31544\\2435301155.py:10: PerformanceWarning: DataFrame is highly fragmented.  This is usually the result of calling `frame.insert` many times, which has poor performance.  Consider joining all columns at once using pd.concat(axis=1) instead. To get a de-fragmented frame, use `newframe = frame.copy()`\n",
      "  df[f\"enmo_future-lag_{i}\"] = df[\"enmo\"].shift(i).ffill()\n",
      "100%|██████████████████████████████████████████████████████████████████████████████████| 54/54 [02:23<00:00,  2.66s/it]\n"
     ]
    },
    {
     "name": "stdout",
     "output_type": "stream",
     "text": [
      "Feature Engineering took 144.1399416923523 seconds\n"
     ]
    }
   ],
   "source": [
    "start_time = time.time()\n",
    "overview = make_features(series)\n",
    "print(f'Feature Engineering took {time.time() - start_time} seconds')"
   ]
  },
  {
   "cell_type": "markdown",
   "id": "87b5c218",
   "metadata": {},
   "source": [
    "## Overview speichern"
   ]
  },
  {
   "cell_type": "code",
   "execution_count": 8,
   "id": "f3b8ba3c",
   "metadata": {},
   "outputs": [
    {
     "data": {
      "text/html": [
       "<div>\n",
       "<style scoped>\n",
       "    .dataframe tbody tr th:only-of-type {\n",
       "        vertical-align: middle;\n",
       "    }\n",
       "\n",
       "    .dataframe tbody tr th {\n",
       "        vertical-align: top;\n",
       "    }\n",
       "\n",
       "    .dataframe thead th {\n",
       "        text-align: right;\n",
       "    }\n",
       "</style>\n",
       "<table border=\"1\" class=\"dataframe\">\n",
       "  <thead>\n",
       "    <tr style=\"text-align: right;\">\n",
       "      <th></th>\n",
       "      <th>num_series_id</th>\n",
       "      <th>awake</th>\n",
       "      <th>series_index</th>\n",
       "    </tr>\n",
       "  </thead>\n",
       "  <tbody>\n",
       "    <tr>\n",
       "      <th>0</th>\n",
       "      <td>7</td>\n",
       "      <td>1</td>\n",
       "      <td>0</td>\n",
       "    </tr>\n",
       "    <tr>\n",
       "      <th>1</th>\n",
       "      <td>7</td>\n",
       "      <td>1</td>\n",
       "      <td>1</td>\n",
       "    </tr>\n",
       "    <tr>\n",
       "      <th>2</th>\n",
       "      <td>7</td>\n",
       "      <td>1</td>\n",
       "      <td>2</td>\n",
       "    </tr>\n",
       "    <tr>\n",
       "      <th>3</th>\n",
       "      <td>7</td>\n",
       "      <td>1</td>\n",
       "      <td>3</td>\n",
       "    </tr>\n",
       "    <tr>\n",
       "      <th>4</th>\n",
       "      <td>7</td>\n",
       "      <td>1</td>\n",
       "      <td>4</td>\n",
       "    </tr>\n",
       "    <tr>\n",
       "      <th>...</th>\n",
       "      <td>...</td>\n",
       "      <td>...</td>\n",
       "      <td>...</td>\n",
       "    </tr>\n",
       "    <tr>\n",
       "      <th>20009335</th>\n",
       "      <td>276</td>\n",
       "      <td>1</td>\n",
       "      <td>620635</td>\n",
       "    </tr>\n",
       "    <tr>\n",
       "      <th>20009336</th>\n",
       "      <td>276</td>\n",
       "      <td>1</td>\n",
       "      <td>620636</td>\n",
       "    </tr>\n",
       "    <tr>\n",
       "      <th>20009337</th>\n",
       "      <td>276</td>\n",
       "      <td>1</td>\n",
       "      <td>620637</td>\n",
       "    </tr>\n",
       "    <tr>\n",
       "      <th>20009338</th>\n",
       "      <td>276</td>\n",
       "      <td>1</td>\n",
       "      <td>620638</td>\n",
       "    </tr>\n",
       "    <tr>\n",
       "      <th>20009339</th>\n",
       "      <td>276</td>\n",
       "      <td>1</td>\n",
       "      <td>620639</td>\n",
       "    </tr>\n",
       "  </tbody>\n",
       "</table>\n",
       "<p>20009340 rows × 3 columns</p>\n",
       "</div>"
      ],
      "text/plain": [
       "          num_series_id  awake  series_index\n",
       "0                     7      1             0\n",
       "1                     7      1             1\n",
       "2                     7      1             2\n",
       "3                     7      1             3\n",
       "4                     7      1             4\n",
       "...                 ...    ...           ...\n",
       "20009335            276      1        620635\n",
       "20009336            276      1        620636\n",
       "20009337            276      1        620637\n",
       "20009338            276      1        620638\n",
       "20009339            276      1        620639\n",
       "\n",
       "[20009340 rows x 3 columns]"
      ]
     },
     "execution_count": 8,
     "metadata": {},
     "output_type": "execute_result"
    }
   ],
   "source": [
    "overview"
   ]
  },
  {
   "cell_type": "code",
   "execution_count": 9,
   "id": "095953db",
   "metadata": {},
   "outputs": [],
   "source": [
    "overview.to_parquet(file_path_prefix + \"overview.parquet\")"
   ]
  }
 ],
 "metadata": {
  "kernelspec": {
   "display_name": "ai-challenge",
   "language": "python",
   "name": "ai-challenge"
  },
  "language_info": {
   "codemirror_mode": {
    "name": "ipython",
    "version": 3
   },
   "file_extension": ".py",
   "mimetype": "text/x-python",
   "name": "python",
   "nbconvert_exporter": "python",
   "pygments_lexer": "ipython3",
   "version": "3.11.5"
  }
 },
 "nbformat": 4,
 "nbformat_minor": 5
}
