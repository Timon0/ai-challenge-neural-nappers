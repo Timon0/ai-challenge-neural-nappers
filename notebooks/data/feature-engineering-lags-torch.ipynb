{
 "cells": [
  {
   "cell_type": "markdown",
   "id": "68b5b0c4",
   "metadata": {},
   "source": [
    "# Feature Engineering"
   ]
  },
  {
   "cell_type": "code",
   "execution_count": 1,
   "id": "c30219bf",
   "metadata": {
    "ExecuteTime": {
     "end_time": "2023-09-29T12:45:00.780002600Z",
     "start_time": "2023-09-29T12:44:58.091438100Z"
    }
   },
   "outputs": [],
   "source": [
    "import pandas as pd\n",
    "import numpy as np\n",
    "import pyarrow as pa\n",
    "import pyarrow.parquet as pq\n",
    "\n",
    "from tqdm import tqdm\n",
    "\n",
    "import time\n",
    "import torch\n",
    "import gc\n",
    "\n",
    "pd.set_option('display.max_columns', None)"
   ]
  },
  {
   "cell_type": "markdown",
   "id": "abc62c52",
   "metadata": {},
   "source": [
    "## Daten laden"
   ]
  },
  {
   "cell_type": "code",
   "execution_count": 2,
   "id": "324a560c",
   "metadata": {
    "ExecuteTime": {
     "end_time": "2023-09-29T12:45:52.408420500Z",
     "start_time": "2023-09-29T12:45:00.786090800Z"
    }
   },
   "outputs": [],
   "source": [
    "IS_TRAINING = False\n",
    "FILE = '../../data/processed/validation_series_split_normalized.parquet'\n",
    "series = pd.read_parquet(FILE, columns=['num_series_id'])"
   ]
  },
  {
   "cell_type": "markdown",
   "id": "fb74cd20c7a91f81",
   "metadata": {},
   "source": [
    "## Neue Features erstellen"
   ]
  },
  {
   "cell_type": "code",
   "execution_count": 3,
   "id": "74dc948e",
   "metadata": {},
   "outputs": [],
   "source": [
    "folder = \"train/\" if IS_TRAINING else \"validation/\"\n",
    "file_path_prefix = \"../../data/processed/lag-features/\" + folder\n",
    "\n",
    "ANGLEZ_LAGS_FUTURE = [f\"anglez_future-lag_{i}\" for i in range(-1, -25, -1)]\n",
    "ENMO_LAGS_FUTURE = [f\"enmo_future-lag_{i}\" for i in range(-1, -25, -1)]\n",
    "ANGLEZ_LAGS_PAST = [f\"anglez_past-lag_{i}\" for i in range(1, 25)]\n",
    "ENMO_LAGS_PAST = [f\"enmo_past-lag_{i}\" for i in range(1, 25)]\n",
    "LAGS_FUTURE = [*ANGLEZ_LAGS_FUTURE, *ENMO_LAGS_FUTURE]\n",
    "LAGS_PAST = [*ANGLEZ_LAGS_PAST, *ENMO_LAGS_PAST]\n",
    "FEATURES = ['anglez', 'enmo', *LAGS_PAST, *LAGS_FUTURE]\n",
    "\n",
    "LABEL = ['awake']"
   ]
  },
  {
   "cell_type": "code",
   "execution_count": 4,
   "id": "25844b7a",
   "metadata": {},
   "outputs": [],
   "source": [
    "def save_chunk(num_series_id, chunk):\n",
    "    X = torch.from_numpy(chunk[FEATURES].astype('float32').to_numpy())\n",
    "    \n",
    "    torch.save(X, file_path_prefix + str(num_series_id) + \".pt\")"
   ]
  },
  {
   "cell_type": "code",
   "execution_count": 5,
   "id": "5f7819507cd29d98",
   "metadata": {
    "ExecuteTime": {
     "end_time": "2023-09-29T12:45:52.429714800Z",
     "start_time": "2023-09-29T12:45:52.419364600Z"
    }
   },
   "outputs": [],
   "source": [
    "def make_features_chunk(num_series_id):\n",
    "    df = pd.read_parquet(FILE, filters=[('num_series_id','=',num_series_id)])\n",
    "          \n",
    "    for i in range(1, 25):        \n",
    "        df[f\"anglez_past-lag_{i}\"] = df[\"anglez\"].shift(i).bfill()\n",
    "        df[f\"enmo_past-lag_{i}\"] = df[\"enmo\"].shift(i).bfill()\n",
    "\n",
    "    for i in range(-1, -25, -1):\n",
    "        df[f\"anglez_future-lag_{i}\"] = df[\"anglez\"].shift(i).ffill()\n",
    "        df[f\"enmo_future-lag_{i}\"] = df[\"enmo\"].shift(i).ffill()\n",
    "    \n",
    "    return df.reset_index(drop=True)"
   ]
  },
  {
   "cell_type": "code",
   "execution_count": 6,
   "id": "16b52907",
   "metadata": {},
   "outputs": [],
   "source": [
    "def make_features(series):\n",
    "    overview_data = []\n",
    "    \n",
    "    for num_series_id in tqdm(series.num_series_id.unique()):\n",
    "        chunk = make_features_chunk(num_series_id)\n",
    "        save_chunk(num_series_id, chunk)\n",
    "        \n",
    "        overview_data.append(\n",
    "            chunk[['num_series_id', 'step', 'awake']].reset_index().rename(columns={'index':'series_index'}).copy()[['num_series_id', 'step', 'awake', 'series_index']]\n",
    "        )\n",
    "        \n",
    "        del chunk\n",
    "        gc.collect()\n",
    "    \n",
    "    return pd.concat(overview_data).reset_index(drop=True)"
   ]
  },
  {
   "cell_type": "code",
   "execution_count": 7,
   "id": "c0d067155defaebc",
   "metadata": {
    "ExecuteTime": {
     "start_time": "2023-09-29T12:45:52.429714800Z"
    },
    "is_executing": true,
    "scrolled": true
   },
   "outputs": [
    {
     "name": "stderr",
     "output_type": "stream",
     "text": [
      "  0%|                                                                                                 | 0/54 [00:00<?, ?it/s]C:\\Users\\timon\\AppData\\Local\\Temp\\ipykernel_28384\\2435301155.py:10: PerformanceWarning: DataFrame is highly fragmented.  This is usually the result of calling `frame.insert` many times, which has poor performance.  Consider joining all columns at once using pd.concat(axis=1) instead. To get a de-fragmented frame, use `newframe = frame.copy()`\n",
      "  df[f\"enmo_future-lag_{i}\"] = df[\"enmo\"].shift(i).ffill()\n",
      "  2%|█▋                                                                                       | 1/54 [00:03<03:31,  3.98s/it]C:\\Users\\timon\\AppData\\Local\\Temp\\ipykernel_28384\\2435301155.py:10: PerformanceWarning: DataFrame is highly fragmented.  This is usually the result of calling `frame.insert` many times, which has poor performance.  Consider joining all columns at once using pd.concat(axis=1) instead. To get a de-fragmented frame, use `newframe = frame.copy()`\n",
      "  df[f\"enmo_future-lag_{i}\"] = df[\"enmo\"].shift(i).ffill()\n",
      "  4%|███▎                                                                                     | 2/54 [00:05<02:24,  2.78s/it]C:\\Users\\timon\\AppData\\Local\\Temp\\ipykernel_28384\\2435301155.py:10: PerformanceWarning: DataFrame is highly fragmented.  This is usually the result of calling `frame.insert` many times, which has poor performance.  Consider joining all columns at once using pd.concat(axis=1) instead. To get a de-fragmented frame, use `newframe = frame.copy()`\n",
      "  df[f\"enmo_future-lag_{i}\"] = df[\"enmo\"].shift(i).ffill()\n",
      "  6%|████▉                                                                                    | 3/54 [00:08<02:05,  2.47s/it]C:\\Users\\timon\\AppData\\Local\\Temp\\ipykernel_28384\\2435301155.py:10: PerformanceWarning: DataFrame is highly fragmented.  This is usually the result of calling `frame.insert` many times, which has poor performance.  Consider joining all columns at once using pd.concat(axis=1) instead. To get a de-fragmented frame, use `newframe = frame.copy()`\n",
      "  df[f\"enmo_future-lag_{i}\"] = df[\"enmo\"].shift(i).ffill()\n",
      "  7%|██████▌                                                                                  | 4/54 [00:10<01:55,  2.30s/it]C:\\Users\\timon\\AppData\\Local\\Temp\\ipykernel_28384\\2435301155.py:10: PerformanceWarning: DataFrame is highly fragmented.  This is usually the result of calling `frame.insert` many times, which has poor performance.  Consider joining all columns at once using pd.concat(axis=1) instead. To get a de-fragmented frame, use `newframe = frame.copy()`\n",
      "  df[f\"enmo_future-lag_{i}\"] = df[\"enmo\"].shift(i).ffill()\n",
      "  9%|████████▏                                                                                | 5/54 [00:11<01:38,  2.01s/it]C:\\Users\\timon\\AppData\\Local\\Temp\\ipykernel_28384\\2435301155.py:10: PerformanceWarning: DataFrame is highly fragmented.  This is usually the result of calling `frame.insert` many times, which has poor performance.  Consider joining all columns at once using pd.concat(axis=1) instead. To get a de-fragmented frame, use `newframe = frame.copy()`\n",
      "  df[f\"enmo_future-lag_{i}\"] = df[\"enmo\"].shift(i).ffill()\n",
      " 11%|█████████▉                                                                               | 6/54 [00:13<01:42,  2.13s/it]C:\\Users\\timon\\AppData\\Local\\Temp\\ipykernel_28384\\2435301155.py:10: PerformanceWarning: DataFrame is highly fragmented.  This is usually the result of calling `frame.insert` many times, which has poor performance.  Consider joining all columns at once using pd.concat(axis=1) instead. To get a de-fragmented frame, use `newframe = frame.copy()`\n",
      "  df[f\"enmo_future-lag_{i}\"] = df[\"enmo\"].shift(i).ffill()\n",
      " 13%|███████████▌                                                                             | 7/54 [00:16<01:47,  2.28s/it]C:\\Users\\timon\\AppData\\Local\\Temp\\ipykernel_28384\\2435301155.py:10: PerformanceWarning: DataFrame is highly fragmented.  This is usually the result of calling `frame.insert` many times, which has poor performance.  Consider joining all columns at once using pd.concat(axis=1) instead. To get a de-fragmented frame, use `newframe = frame.copy()`\n",
      "  df[f\"enmo_future-lag_{i}\"] = df[\"enmo\"].shift(i).ffill()\n",
      " 15%|█████████████▏                                                                           | 8/54 [00:18<01:41,  2.22s/it]C:\\Users\\timon\\AppData\\Local\\Temp\\ipykernel_28384\\2435301155.py:10: PerformanceWarning: DataFrame is highly fragmented.  This is usually the result of calling `frame.insert` many times, which has poor performance.  Consider joining all columns at once using pd.concat(axis=1) instead. To get a de-fragmented frame, use `newframe = frame.copy()`\n",
      "  df[f\"enmo_future-lag_{i}\"] = df[\"enmo\"].shift(i).ffill()\n",
      " 17%|██████████████▊                                                                          | 9/54 [00:20<01:37,  2.17s/it]C:\\Users\\timon\\AppData\\Local\\Temp\\ipykernel_28384\\2435301155.py:10: PerformanceWarning: DataFrame is highly fragmented.  This is usually the result of calling `frame.insert` many times, which has poor performance.  Consider joining all columns at once using pd.concat(axis=1) instead. To get a de-fragmented frame, use `newframe = frame.copy()`\n",
      "  df[f\"enmo_future-lag_{i}\"] = df[\"enmo\"].shift(i).ffill()\n",
      " 19%|████████████████▎                                                                       | 10/54 [00:22<01:36,  2.20s/it]C:\\Users\\timon\\AppData\\Local\\Temp\\ipykernel_28384\\2435301155.py:10: PerformanceWarning: DataFrame is highly fragmented.  This is usually the result of calling `frame.insert` many times, which has poor performance.  Consider joining all columns at once using pd.concat(axis=1) instead. To get a de-fragmented frame, use `newframe = frame.copy()`\n",
      "  df[f\"enmo_future-lag_{i}\"] = df[\"enmo\"].shift(i).ffill()\n",
      " 20%|█████████████████▉                                                                      | 11/54 [00:24<01:32,  2.14s/it]C:\\Users\\timon\\AppData\\Local\\Temp\\ipykernel_28384\\2435301155.py:10: PerformanceWarning: DataFrame is highly fragmented.  This is usually the result of calling `frame.insert` many times, which has poor performance.  Consider joining all columns at once using pd.concat(axis=1) instead. To get a de-fragmented frame, use `newframe = frame.copy()`\n",
      "  df[f\"enmo_future-lag_{i}\"] = df[\"enmo\"].shift(i).ffill()\n",
      " 22%|███████████████████▌                                                                    | 12/54 [00:27<01:29,  2.12s/it]C:\\Users\\timon\\AppData\\Local\\Temp\\ipykernel_28384\\2435301155.py:10: PerformanceWarning: DataFrame is highly fragmented.  This is usually the result of calling `frame.insert` many times, which has poor performance.  Consider joining all columns at once using pd.concat(axis=1) instead. To get a de-fragmented frame, use `newframe = frame.copy()`\n",
      "  df[f\"enmo_future-lag_{i}\"] = df[\"enmo\"].shift(i).ffill()\n",
      " 24%|█████████████████████▏                                                                  | 13/54 [00:29<01:27,  2.14s/it]C:\\Users\\timon\\AppData\\Local\\Temp\\ipykernel_28384\\2435301155.py:10: PerformanceWarning: DataFrame is highly fragmented.  This is usually the result of calling `frame.insert` many times, which has poor performance.  Consider joining all columns at once using pd.concat(axis=1) instead. To get a de-fragmented frame, use `newframe = frame.copy()`\n",
      "  df[f\"enmo_future-lag_{i}\"] = df[\"enmo\"].shift(i).ffill()\n",
      " 26%|██████████████████████▊                                                                 | 14/54 [00:31<01:24,  2.11s/it]C:\\Users\\timon\\AppData\\Local\\Temp\\ipykernel_28384\\2435301155.py:10: PerformanceWarning: DataFrame is highly fragmented.  This is usually the result of calling `frame.insert` many times, which has poor performance.  Consider joining all columns at once using pd.concat(axis=1) instead. To get a de-fragmented frame, use `newframe = frame.copy()`\n",
      "  df[f\"enmo_future-lag_{i}\"] = df[\"enmo\"].shift(i).ffill()\n",
      " 28%|████████████████████████▍                                                               | 15/54 [00:34<01:31,  2.34s/it]C:\\Users\\timon\\AppData\\Local\\Temp\\ipykernel_28384\\2435301155.py:10: PerformanceWarning: DataFrame is highly fragmented.  This is usually the result of calling `frame.insert` many times, which has poor performance.  Consider joining all columns at once using pd.concat(axis=1) instead. To get a de-fragmented frame, use `newframe = frame.copy()`\n",
      "  df[f\"enmo_future-lag_{i}\"] = df[\"enmo\"].shift(i).ffill()\n"
     ]
    },
    {
     "name": "stderr",
     "output_type": "stream",
     "text": [
      " 30%|██████████████████████████                                                              | 16/54 [00:36<01:29,  2.35s/it]C:\\Users\\timon\\AppData\\Local\\Temp\\ipykernel_28384\\2435301155.py:10: PerformanceWarning: DataFrame is highly fragmented.  This is usually the result of calling `frame.insert` many times, which has poor performance.  Consider joining all columns at once using pd.concat(axis=1) instead. To get a de-fragmented frame, use `newframe = frame.copy()`\n",
      "  df[f\"enmo_future-lag_{i}\"] = df[\"enmo\"].shift(i).ffill()\n",
      " 31%|███████████████████████████▋                                                            | 17/54 [00:38<01:24,  2.27s/it]C:\\Users\\timon\\AppData\\Local\\Temp\\ipykernel_28384\\2435301155.py:10: PerformanceWarning: DataFrame is highly fragmented.  This is usually the result of calling `frame.insert` many times, which has poor performance.  Consider joining all columns at once using pd.concat(axis=1) instead. To get a de-fragmented frame, use `newframe = frame.copy()`\n",
      "  df[f\"enmo_future-lag_{i}\"] = df[\"enmo\"].shift(i).ffill()\n",
      " 33%|█████████████████████████████▎                                                          | 18/54 [00:40<01:15,  2.10s/it]C:\\Users\\timon\\AppData\\Local\\Temp\\ipykernel_28384\\2435301155.py:10: PerformanceWarning: DataFrame is highly fragmented.  This is usually the result of calling `frame.insert` many times, which has poor performance.  Consider joining all columns at once using pd.concat(axis=1) instead. To get a de-fragmented frame, use `newframe = frame.copy()`\n",
      "  df[f\"enmo_future-lag_{i}\"] = df[\"enmo\"].shift(i).ffill()\n",
      " 35%|██████████████████████████████▉                                                         | 19/54 [00:42<01:17,  2.21s/it]C:\\Users\\timon\\AppData\\Local\\Temp\\ipykernel_28384\\2435301155.py:10: PerformanceWarning: DataFrame is highly fragmented.  This is usually the result of calling `frame.insert` many times, which has poor performance.  Consider joining all columns at once using pd.concat(axis=1) instead. To get a de-fragmented frame, use `newframe = frame.copy()`\n",
      "  df[f\"enmo_future-lag_{i}\"] = df[\"enmo\"].shift(i).ffill()\n",
      " 37%|████████████████████████████████▌                                                       | 20/54 [00:45<01:16,  2.25s/it]C:\\Users\\timon\\AppData\\Local\\Temp\\ipykernel_28384\\2435301155.py:10: PerformanceWarning: DataFrame is highly fragmented.  This is usually the result of calling `frame.insert` many times, which has poor performance.  Consider joining all columns at once using pd.concat(axis=1) instead. To get a de-fragmented frame, use `newframe = frame.copy()`\n",
      "  df[f\"enmo_future-lag_{i}\"] = df[\"enmo\"].shift(i).ffill()\n",
      " 39%|██████████████████████████████████▏                                                     | 21/54 [00:48<01:22,  2.49s/it]C:\\Users\\timon\\AppData\\Local\\Temp\\ipykernel_28384\\2435301155.py:10: PerformanceWarning: DataFrame is highly fragmented.  This is usually the result of calling `frame.insert` many times, which has poor performance.  Consider joining all columns at once using pd.concat(axis=1) instead. To get a de-fragmented frame, use `newframe = frame.copy()`\n",
      "  df[f\"enmo_future-lag_{i}\"] = df[\"enmo\"].shift(i).ffill()\n",
      " 41%|███████████████████████████████████▊                                                    | 22/54 [00:49<01:11,  2.24s/it]C:\\Users\\timon\\AppData\\Local\\Temp\\ipykernel_28384\\2435301155.py:10: PerformanceWarning: DataFrame is highly fragmented.  This is usually the result of calling `frame.insert` many times, which has poor performance.  Consider joining all columns at once using pd.concat(axis=1) instead. To get a de-fragmented frame, use `newframe = frame.copy()`\n",
      "  df[f\"enmo_future-lag_{i}\"] = df[\"enmo\"].shift(i).ffill()\n",
      " 43%|█████████████████████████████████████▍                                                  | 23/54 [00:52<01:14,  2.40s/it]C:\\Users\\timon\\AppData\\Local\\Temp\\ipykernel_28384\\2435301155.py:10: PerformanceWarning: DataFrame is highly fragmented.  This is usually the result of calling `frame.insert` many times, which has poor performance.  Consider joining all columns at once using pd.concat(axis=1) instead. To get a de-fragmented frame, use `newframe = frame.copy()`\n",
      "  df[f\"enmo_future-lag_{i}\"] = df[\"enmo\"].shift(i).ffill()\n",
      " 44%|███████████████████████████████████████                                                 | 24/54 [00:54<01:04,  2.14s/it]C:\\Users\\timon\\AppData\\Local\\Temp\\ipykernel_28384\\2435301155.py:10: PerformanceWarning: DataFrame is highly fragmented.  This is usually the result of calling `frame.insert` many times, which has poor performance.  Consider joining all columns at once using pd.concat(axis=1) instead. To get a de-fragmented frame, use `newframe = frame.copy()`\n",
      "  df[f\"enmo_future-lag_{i}\"] = df[\"enmo\"].shift(i).ffill()\n",
      " 46%|████████████████████████████████████████▋                                               | 25/54 [00:56<01:04,  2.23s/it]C:\\Users\\timon\\AppData\\Local\\Temp\\ipykernel_28384\\2435301155.py:10: PerformanceWarning: DataFrame is highly fragmented.  This is usually the result of calling `frame.insert` many times, which has poor performance.  Consider joining all columns at once using pd.concat(axis=1) instead. To get a de-fragmented frame, use `newframe = frame.copy()`\n",
      "  df[f\"enmo_future-lag_{i}\"] = df[\"enmo\"].shift(i).ffill()\n",
      " 48%|██████████████████████████████████████████▎                                             | 26/54 [00:58<01:03,  2.28s/it]C:\\Users\\timon\\AppData\\Local\\Temp\\ipykernel_28384\\2435301155.py:10: PerformanceWarning: DataFrame is highly fragmented.  This is usually the result of calling `frame.insert` many times, which has poor performance.  Consider joining all columns at once using pd.concat(axis=1) instead. To get a de-fragmented frame, use `newframe = frame.copy()`\n",
      "  df[f\"enmo_future-lag_{i}\"] = df[\"enmo\"].shift(i).ffill()\n",
      " 50%|████████████████████████████████████████████                                            | 27/54 [01:01<01:04,  2.39s/it]C:\\Users\\timon\\AppData\\Local\\Temp\\ipykernel_28384\\2435301155.py:10: PerformanceWarning: DataFrame is highly fragmented.  This is usually the result of calling `frame.insert` many times, which has poor performance.  Consider joining all columns at once using pd.concat(axis=1) instead. To get a de-fragmented frame, use `newframe = frame.copy()`\n",
      "  df[f\"enmo_future-lag_{i}\"] = df[\"enmo\"].shift(i).ffill()\n",
      " 52%|█████████████████████████████████████████████▋                                          | 28/54 [01:04<01:03,  2.44s/it]C:\\Users\\timon\\AppData\\Local\\Temp\\ipykernel_28384\\2435301155.py:10: PerformanceWarning: DataFrame is highly fragmented.  This is usually the result of calling `frame.insert` many times, which has poor performance.  Consider joining all columns at once using pd.concat(axis=1) instead. To get a de-fragmented frame, use `newframe = frame.copy()`\n",
      "  df[f\"enmo_future-lag_{i}\"] = df[\"enmo\"].shift(i).ffill()\n",
      " 54%|███████████████████████████████████████████████▎                                        | 29/54 [01:07<01:06,  2.64s/it]C:\\Users\\timon\\AppData\\Local\\Temp\\ipykernel_28384\\2435301155.py:10: PerformanceWarning: DataFrame is highly fragmented.  This is usually the result of calling `frame.insert` many times, which has poor performance.  Consider joining all columns at once using pd.concat(axis=1) instead. To get a de-fragmented frame, use `newframe = frame.copy()`\n",
      "  df[f\"enmo_future-lag_{i}\"] = df[\"enmo\"].shift(i).ffill()\n",
      " 56%|████████████████████████████████████████████████▉                                       | 30/54 [01:09<01:00,  2.51s/it]C:\\Users\\timon\\AppData\\Local\\Temp\\ipykernel_28384\\2435301155.py:10: PerformanceWarning: DataFrame is highly fragmented.  This is usually the result of calling `frame.insert` many times, which has poor performance.  Consider joining all columns at once using pd.concat(axis=1) instead. To get a de-fragmented frame, use `newframe = frame.copy()`\n",
      "  df[f\"enmo_future-lag_{i}\"] = df[\"enmo\"].shift(i).ffill()\n",
      " 57%|██████████████████████████████████████████████████▌                                     | 31/54 [01:11<00:57,  2.49s/it]C:\\Users\\timon\\AppData\\Local\\Temp\\ipykernel_28384\\2435301155.py:10: PerformanceWarning: DataFrame is highly fragmented.  This is usually the result of calling `frame.insert` many times, which has poor performance.  Consider joining all columns at once using pd.concat(axis=1) instead. To get a de-fragmented frame, use `newframe = frame.copy()`\n",
      "  df[f\"enmo_future-lag_{i}\"] = df[\"enmo\"].shift(i).ffill()\n"
     ]
    },
    {
     "name": "stderr",
     "output_type": "stream",
     "text": [
      " 59%|████████████████████████████████████████████████████▏                                   | 32/54 [01:14<00:58,  2.64s/it]C:\\Users\\timon\\AppData\\Local\\Temp\\ipykernel_28384\\2435301155.py:10: PerformanceWarning: DataFrame is highly fragmented.  This is usually the result of calling `frame.insert` many times, which has poor performance.  Consider joining all columns at once using pd.concat(axis=1) instead. To get a de-fragmented frame, use `newframe = frame.copy()`\n",
      "  df[f\"enmo_future-lag_{i}\"] = df[\"enmo\"].shift(i).ffill()\n",
      " 61%|█████████████████████████████████████████████████████▊                                  | 33/54 [01:16<00:50,  2.39s/it]C:\\Users\\timon\\AppData\\Local\\Temp\\ipykernel_28384\\2435301155.py:10: PerformanceWarning: DataFrame is highly fragmented.  This is usually the result of calling `frame.insert` many times, which has poor performance.  Consider joining all columns at once using pd.concat(axis=1) instead. To get a de-fragmented frame, use `newframe = frame.copy()`\n",
      "  df[f\"enmo_future-lag_{i}\"] = df[\"enmo\"].shift(i).ffill()\n",
      " 63%|███████████████████████████████████████████████████████▍                                | 34/54 [01:18<00:44,  2.21s/it]C:\\Users\\timon\\AppData\\Local\\Temp\\ipykernel_28384\\2435301155.py:10: PerformanceWarning: DataFrame is highly fragmented.  This is usually the result of calling `frame.insert` many times, which has poor performance.  Consider joining all columns at once using pd.concat(axis=1) instead. To get a de-fragmented frame, use `newframe = frame.copy()`\n",
      "  df[f\"enmo_future-lag_{i}\"] = df[\"enmo\"].shift(i).ffill()\n",
      " 65%|█████████████████████████████████████████████████████████                               | 35/54 [01:21<00:45,  2.39s/it]C:\\Users\\timon\\AppData\\Local\\Temp\\ipykernel_28384\\2435301155.py:10: PerformanceWarning: DataFrame is highly fragmented.  This is usually the result of calling `frame.insert` many times, which has poor performance.  Consider joining all columns at once using pd.concat(axis=1) instead. To get a de-fragmented frame, use `newframe = frame.copy()`\n",
      "  df[f\"enmo_future-lag_{i}\"] = df[\"enmo\"].shift(i).ffill()\n",
      " 67%|██████████████████████████████████████████████████████████▋                             | 36/54 [01:23<00:40,  2.26s/it]C:\\Users\\timon\\AppData\\Local\\Temp\\ipykernel_28384\\2435301155.py:10: PerformanceWarning: DataFrame is highly fragmented.  This is usually the result of calling `frame.insert` many times, which has poor performance.  Consider joining all columns at once using pd.concat(axis=1) instead. To get a de-fragmented frame, use `newframe = frame.copy()`\n",
      "  df[f\"enmo_future-lag_{i}\"] = df[\"enmo\"].shift(i).ffill()\n",
      " 69%|████████████████████████████████████████████████████████████▎                           | 37/54 [01:25<00:39,  2.33s/it]C:\\Users\\timon\\AppData\\Local\\Temp\\ipykernel_28384\\2435301155.py:10: PerformanceWarning: DataFrame is highly fragmented.  This is usually the result of calling `frame.insert` many times, which has poor performance.  Consider joining all columns at once using pd.concat(axis=1) instead. To get a de-fragmented frame, use `newframe = frame.copy()`\n",
      "  df[f\"enmo_future-lag_{i}\"] = df[\"enmo\"].shift(i).ffill()\n",
      " 70%|█████████████████████████████████████████████████████████████▉                          | 38/54 [01:28<00:37,  2.36s/it]C:\\Users\\timon\\AppData\\Local\\Temp\\ipykernel_28384\\2435301155.py:10: PerformanceWarning: DataFrame is highly fragmented.  This is usually the result of calling `frame.insert` many times, which has poor performance.  Consider joining all columns at once using pd.concat(axis=1) instead. To get a de-fragmented frame, use `newframe = frame.copy()`\n",
      "  df[f\"enmo_future-lag_{i}\"] = df[\"enmo\"].shift(i).ffill()\n",
      " 72%|███████████████████████████████████████████████████████████████▌                        | 39/54 [01:30<00:35,  2.35s/it]C:\\Users\\timon\\AppData\\Local\\Temp\\ipykernel_28384\\2435301155.py:10: PerformanceWarning: DataFrame is highly fragmented.  This is usually the result of calling `frame.insert` many times, which has poor performance.  Consider joining all columns at once using pd.concat(axis=1) instead. To get a de-fragmented frame, use `newframe = frame.copy()`\n",
      "  df[f\"enmo_future-lag_{i}\"] = df[\"enmo\"].shift(i).ffill()\n",
      " 74%|█████████████████████████████████████████████████████████████████▏                      | 40/54 [01:32<00:31,  2.26s/it]C:\\Users\\timon\\AppData\\Local\\Temp\\ipykernel_28384\\2435301155.py:10: PerformanceWarning: DataFrame is highly fragmented.  This is usually the result of calling `frame.insert` many times, which has poor performance.  Consider joining all columns at once using pd.concat(axis=1) instead. To get a de-fragmented frame, use `newframe = frame.copy()`\n",
      "  df[f\"enmo_future-lag_{i}\"] = df[\"enmo\"].shift(i).ffill()\n",
      " 76%|██████████████████████████████████████████████████████████████████▊                     | 41/54 [01:35<00:31,  2.46s/it]C:\\Users\\timon\\AppData\\Local\\Temp\\ipykernel_28384\\2435301155.py:10: PerformanceWarning: DataFrame is highly fragmented.  This is usually the result of calling `frame.insert` many times, which has poor performance.  Consider joining all columns at once using pd.concat(axis=1) instead. To get a de-fragmented frame, use `newframe = frame.copy()`\n",
      "  df[f\"enmo_future-lag_{i}\"] = df[\"enmo\"].shift(i).ffill()\n",
      " 78%|████████████████████████████████████████████████████████████████████▍                   | 42/54 [01:37<00:28,  2.37s/it]C:\\Users\\timon\\AppData\\Local\\Temp\\ipykernel_28384\\2435301155.py:10: PerformanceWarning: DataFrame is highly fragmented.  This is usually the result of calling `frame.insert` many times, which has poor performance.  Consider joining all columns at once using pd.concat(axis=1) instead. To get a de-fragmented frame, use `newframe = frame.copy()`\n",
      "  df[f\"enmo_future-lag_{i}\"] = df[\"enmo\"].shift(i).ffill()\n",
      " 80%|██████████████████████████████████████████████████████████████████████                  | 43/54 [01:40<00:26,  2.40s/it]C:\\Users\\timon\\AppData\\Local\\Temp\\ipykernel_28384\\2435301155.py:10: PerformanceWarning: DataFrame is highly fragmented.  This is usually the result of calling `frame.insert` many times, which has poor performance.  Consider joining all columns at once using pd.concat(axis=1) instead. To get a de-fragmented frame, use `newframe = frame.copy()`\n",
      "  df[f\"enmo_future-lag_{i}\"] = df[\"enmo\"].shift(i).ffill()\n",
      " 81%|███████████████████████████████████████████████████████████████████████▋                | 44/54 [01:41<00:22,  2.20s/it]C:\\Users\\timon\\AppData\\Local\\Temp\\ipykernel_28384\\2435301155.py:10: PerformanceWarning: DataFrame is highly fragmented.  This is usually the result of calling `frame.insert` many times, which has poor performance.  Consider joining all columns at once using pd.concat(axis=1) instead. To get a de-fragmented frame, use `newframe = frame.copy()`\n",
      "  df[f\"enmo_future-lag_{i}\"] = df[\"enmo\"].shift(i).ffill()\n",
      " 83%|█████████████████████████████████████████████████████████████████████████▎              | 45/54 [01:44<00:19,  2.19s/it]C:\\Users\\timon\\AppData\\Local\\Temp\\ipykernel_28384\\2435301155.py:10: PerformanceWarning: DataFrame is highly fragmented.  This is usually the result of calling `frame.insert` many times, which has poor performance.  Consider joining all columns at once using pd.concat(axis=1) instead. To get a de-fragmented frame, use `newframe = frame.copy()`\n",
      "  df[f\"enmo_future-lag_{i}\"] = df[\"enmo\"].shift(i).ffill()\n",
      " 85%|██████████████████████████████████████████████████████████████████████████▉             | 46/54 [01:46<00:18,  2.27s/it]C:\\Users\\timon\\AppData\\Local\\Temp\\ipykernel_28384\\2435301155.py:10: PerformanceWarning: DataFrame is highly fragmented.  This is usually the result of calling `frame.insert` many times, which has poor performance.  Consider joining all columns at once using pd.concat(axis=1) instead. To get a de-fragmented frame, use `newframe = frame.copy()`\n",
      "  df[f\"enmo_future-lag_{i}\"] = df[\"enmo\"].shift(i).ffill()\n",
      " 87%|████████████████████████████████████████████████████████████████████████████▌           | 47/54 [01:49<00:16,  2.36s/it]C:\\Users\\timon\\AppData\\Local\\Temp\\ipykernel_28384\\2435301155.py:10: PerformanceWarning: DataFrame is highly fragmented.  This is usually the result of calling `frame.insert` many times, which has poor performance.  Consider joining all columns at once using pd.concat(axis=1) instead. To get a de-fragmented frame, use `newframe = frame.copy()`\n",
      "  df[f\"enmo_future-lag_{i}\"] = df[\"enmo\"].shift(i).ffill()\n"
     ]
    },
    {
     "name": "stderr",
     "output_type": "stream",
     "text": [
      " 89%|██████████████████████████████████████████████████████████████████████████████▏         | 48/54 [01:51<00:15,  2.51s/it]C:\\Users\\timon\\AppData\\Local\\Temp\\ipykernel_28384\\2435301155.py:10: PerformanceWarning: DataFrame is highly fragmented.  This is usually the result of calling `frame.insert` many times, which has poor performance.  Consider joining all columns at once using pd.concat(axis=1) instead. To get a de-fragmented frame, use `newframe = frame.copy()`\n",
      "  df[f\"enmo_future-lag_{i}\"] = df[\"enmo\"].shift(i).ffill()\n",
      " 91%|███████████████████████████████████████████████████████████████████████████████▊        | 49/54 [01:53<00:11,  2.30s/it]C:\\Users\\timon\\AppData\\Local\\Temp\\ipykernel_28384\\2435301155.py:10: PerformanceWarning: DataFrame is highly fragmented.  This is usually the result of calling `frame.insert` many times, which has poor performance.  Consider joining all columns at once using pd.concat(axis=1) instead. To get a de-fragmented frame, use `newframe = frame.copy()`\n",
      "  df[f\"enmo_future-lag_{i}\"] = df[\"enmo\"].shift(i).ffill()\n",
      " 93%|█████████████████████████████████████████████████████████████████████████████████▍      | 50/54 [01:57<00:10,  2.62s/it]C:\\Users\\timon\\AppData\\Local\\Temp\\ipykernel_28384\\2435301155.py:10: PerformanceWarning: DataFrame is highly fragmented.  This is usually the result of calling `frame.insert` many times, which has poor performance.  Consider joining all columns at once using pd.concat(axis=1) instead. To get a de-fragmented frame, use `newframe = frame.copy()`\n",
      "  df[f\"enmo_future-lag_{i}\"] = df[\"enmo\"].shift(i).ffill()\n",
      " 94%|███████████████████████████████████████████████████████████████████████████████████     | 51/54 [01:59<00:07,  2.43s/it]C:\\Users\\timon\\AppData\\Local\\Temp\\ipykernel_28384\\2435301155.py:10: PerformanceWarning: DataFrame is highly fragmented.  This is usually the result of calling `frame.insert` many times, which has poor performance.  Consider joining all columns at once using pd.concat(axis=1) instead. To get a de-fragmented frame, use `newframe = frame.copy()`\n",
      "  df[f\"enmo_future-lag_{i}\"] = df[\"enmo\"].shift(i).ffill()\n",
      " 96%|████████████████████████████████████████████████████████████████████████████████████▋   | 52/54 [02:01<00:04,  2.40s/it]C:\\Users\\timon\\AppData\\Local\\Temp\\ipykernel_28384\\2435301155.py:10: PerformanceWarning: DataFrame is highly fragmented.  This is usually the result of calling `frame.insert` many times, which has poor performance.  Consider joining all columns at once using pd.concat(axis=1) instead. To get a de-fragmented frame, use `newframe = frame.copy()`\n",
      "  df[f\"enmo_future-lag_{i}\"] = df[\"enmo\"].shift(i).ffill()\n",
      " 98%|██████████████████████████████████████████████████████████████████████████████████████▎ | 53/54 [02:03<00:02,  2.24s/it]C:\\Users\\timon\\AppData\\Local\\Temp\\ipykernel_28384\\2435301155.py:10: PerformanceWarning: DataFrame is highly fragmented.  This is usually the result of calling `frame.insert` many times, which has poor performance.  Consider joining all columns at once using pd.concat(axis=1) instead. To get a de-fragmented frame, use `newframe = frame.copy()`\n",
      "  df[f\"enmo_future-lag_{i}\"] = df[\"enmo\"].shift(i).ffill()\n",
      "100%|████████████████████████████████████████████████████████████████████████████████████████| 54/54 [02:06<00:00,  2.34s/it]\n"
     ]
    },
    {
     "name": "stdout",
     "output_type": "stream",
     "text": [
      "Feature Engineering took 126.86009693145752 seconds\n"
     ]
    }
   ],
   "source": [
    "start_time = time.time()\n",
    "overview = make_features(series)\n",
    "print(f'Feature Engineering took {time.time() - start_time} seconds')"
   ]
  },
  {
   "cell_type": "markdown",
   "id": "87b5c218",
   "metadata": {},
   "source": [
    "## Overview speichern"
   ]
  },
  {
   "cell_type": "code",
   "execution_count": 8,
   "id": "f3b8ba3c",
   "metadata": {},
   "outputs": [
    {
     "data": {
      "text/html": [
       "<div>\n",
       "<style scoped>\n",
       "    .dataframe tbody tr th:only-of-type {\n",
       "        vertical-align: middle;\n",
       "    }\n",
       "\n",
       "    .dataframe tbody tr th {\n",
       "        vertical-align: top;\n",
       "    }\n",
       "\n",
       "    .dataframe thead th {\n",
       "        text-align: right;\n",
       "    }\n",
       "</style>\n",
       "<table border=\"1\" class=\"dataframe\">\n",
       "  <thead>\n",
       "    <tr style=\"text-align: right;\">\n",
       "      <th></th>\n",
       "      <th>num_series_id</th>\n",
       "      <th>step</th>\n",
       "      <th>awake</th>\n",
       "      <th>series_index</th>\n",
       "    </tr>\n",
       "  </thead>\n",
       "  <tbody>\n",
       "    <tr>\n",
       "      <th>0</th>\n",
       "      <td>7</td>\n",
       "      <td>0</td>\n",
       "      <td>1</td>\n",
       "      <td>0</td>\n",
       "    </tr>\n",
       "    <tr>\n",
       "      <th>1</th>\n",
       "      <td>7</td>\n",
       "      <td>1</td>\n",
       "      <td>1</td>\n",
       "      <td>1</td>\n",
       "    </tr>\n",
       "    <tr>\n",
       "      <th>2</th>\n",
       "      <td>7</td>\n",
       "      <td>2</td>\n",
       "      <td>1</td>\n",
       "      <td>2</td>\n",
       "    </tr>\n",
       "    <tr>\n",
       "      <th>3</th>\n",
       "      <td>7</td>\n",
       "      <td>3</td>\n",
       "      <td>1</td>\n",
       "      <td>3</td>\n",
       "    </tr>\n",
       "    <tr>\n",
       "      <th>4</th>\n",
       "      <td>7</td>\n",
       "      <td>4</td>\n",
       "      <td>1</td>\n",
       "      <td>4</td>\n",
       "    </tr>\n",
       "    <tr>\n",
       "      <th>...</th>\n",
       "      <td>...</td>\n",
       "      <td>...</td>\n",
       "      <td>...</td>\n",
       "      <td>...</td>\n",
       "    </tr>\n",
       "    <tr>\n",
       "      <th>20009335</th>\n",
       "      <td>276</td>\n",
       "      <td>620635</td>\n",
       "      <td>1</td>\n",
       "      <td>620635</td>\n",
       "    </tr>\n",
       "    <tr>\n",
       "      <th>20009336</th>\n",
       "      <td>276</td>\n",
       "      <td>620636</td>\n",
       "      <td>1</td>\n",
       "      <td>620636</td>\n",
       "    </tr>\n",
       "    <tr>\n",
       "      <th>20009337</th>\n",
       "      <td>276</td>\n",
       "      <td>620637</td>\n",
       "      <td>1</td>\n",
       "      <td>620637</td>\n",
       "    </tr>\n",
       "    <tr>\n",
       "      <th>20009338</th>\n",
       "      <td>276</td>\n",
       "      <td>620638</td>\n",
       "      <td>1</td>\n",
       "      <td>620638</td>\n",
       "    </tr>\n",
       "    <tr>\n",
       "      <th>20009339</th>\n",
       "      <td>276</td>\n",
       "      <td>620639</td>\n",
       "      <td>1</td>\n",
       "      <td>620639</td>\n",
       "    </tr>\n",
       "  </tbody>\n",
       "</table>\n",
       "<p>20009340 rows × 4 columns</p>\n",
       "</div>"
      ],
      "text/plain": [
       "          num_series_id    step  awake  series_index\n",
       "0                     7       0      1             0\n",
       "1                     7       1      1             1\n",
       "2                     7       2      1             2\n",
       "3                     7       3      1             3\n",
       "4                     7       4      1             4\n",
       "...                 ...     ...    ...           ...\n",
       "20009335            276  620635      1        620635\n",
       "20009336            276  620636      1        620636\n",
       "20009337            276  620637      1        620637\n",
       "20009338            276  620638      1        620638\n",
       "20009339            276  620639      1        620639\n",
       "\n",
       "[20009340 rows x 4 columns]"
      ]
     },
     "execution_count": 8,
     "metadata": {},
     "output_type": "execute_result"
    }
   ],
   "source": [
    "overview"
   ]
  },
  {
   "cell_type": "code",
   "execution_count": 9,
   "id": "095953db",
   "metadata": {},
   "outputs": [],
   "source": [
    "overview.to_parquet(file_path_prefix + \"overview.parquet\")"
   ]
  }
 ],
 "metadata": {
  "kernelspec": {
   "display_name": "ai-challenge",
   "language": "python",
   "name": "ai-challenge"
  },
  "language_info": {
   "codemirror_mode": {
    "name": "ipython",
    "version": 3
   },
   "file_extension": ".py",
   "mimetype": "text/x-python",
   "name": "python",
   "nbconvert_exporter": "python",
   "pygments_lexer": "ipython3",
   "version": "3.11.5"
  }
 },
 "nbformat": 4,
 "nbformat_minor": 5
}
