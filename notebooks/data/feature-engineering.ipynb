{
 "cells": [
  {
   "cell_type": "markdown",
   "id": "68b5b0c4",
   "metadata": {},
   "source": [
    "# Feature Engineering"
   ]
  },
  {
   "cell_type": "code",
   "execution_count": 1,
   "id": "c30219bf",
   "metadata": {
    "ExecuteTime": {
     "end_time": "2023-09-29T12:45:00.780002600Z",
     "start_time": "2023-09-29T12:44:58.091438100Z"
    }
   },
   "outputs": [],
   "source": [
    "import pandas as pd\n",
    "import numpy as np\n",
    "\n",
    "import time\n",
    "import gc"
   ]
  },
  {
   "cell_type": "markdown",
   "id": "abc62c52",
   "metadata": {},
   "source": [
    "## Daten laden"
   ]
  },
  {
   "cell_type": "code",
   "execution_count": 2,
   "id": "324a560c",
   "metadata": {
    "ExecuteTime": {
     "end_time": "2023-09-29T12:45:52.408420500Z",
     "start_time": "2023-09-29T12:45:00.786090800Z"
    }
   },
   "outputs": [],
   "source": [
    "train = pd.read_parquet('../data/processed/train.parquet')"
   ]
  },
  {
   "cell_type": "markdown",
   "id": "fb74cd20c7a91f81",
   "metadata": {},
   "source": [
    "## Neue Features erstellen"
   ]
  },
  {
   "cell_type": "code",
   "execution_count": 3,
   "id": "fb3311790da76ec5",
   "metadata": {
    "ExecuteTime": {
     "end_time": "2023-09-29T12:45:52.419364600Z",
     "start_time": "2023-09-29T12:45:52.414327300Z"
    }
   },
   "outputs": [],
   "source": [
    "# Hyperparams\n",
    "NUM_STEPS = 20"
   ]
  },
  {
   "cell_type": "code",
   "execution_count": 4,
   "id": "5f7819507cd29d98",
   "metadata": {
    "ExecuteTime": {
     "end_time": "2023-09-29T12:45:52.429714800Z",
     "start_time": "2023-09-29T12:45:52.419364600Z"
    }
   },
   "outputs": [],
   "source": [
    "def make_features_chunck(series_id, periods=NUM_STEPS):\n",
    "    df = pd.read_parquet('../data/processed/train.parquet', filters=[('series_id','=',series_id)])\n",
    "    \n",
    "    print('Generating time features')\n",
    "    df['timestamp'] = pd.to_datetime(df['timestamp']).apply(lambda t: t.tz_localize(None))\n",
    "    df[\"hour\"] = df[\"timestamp\"].dt.hour\n",
    "    \n",
    "    print('Generating statistical features')\n",
    "    df[\"anglez_abs\"] = abs(df[\"anglez\"])\n",
    "    df[\"anglez_diff\"] = df.groupby('series_id')['anglez'].diff(periods=periods).bfill().astype('float32')\n",
    "    df[\"enmo_diff\"] = df.groupby('series_id')['enmo'].diff(periods=periods).bfill().astype('float32')\n",
    "    df['anglez_x_enmo'] = df['anglez'] * df['enmo']\n",
    "    \n",
    "    print('Generating rolling features')\n",
    "    df[\"anglez_rolling_mean\"] = df[\"anglez\"].rolling(periods,center=True).mean().bfill().ffill().astype('float32')\n",
    "    df[\"enmo_rolling_mean\"] = df[\"enmo\"].rolling(periods,center=True).mean().bfill().ffill().astype('float32')\n",
    "    df[\"anglez_rolling_max\"] = df[\"anglez\"].rolling(periods,center=True).max().bfill().ffill().astype('float32')\n",
    "    df[\"enmo_rolling_max\"] = df[\"enmo\"].rolling(periods,center=True).max().bfill().ffill().astype('float32')\n",
    "    df[\"anglez_rolling_min\"] = df[\"anglez\"].rolling(periods,center=True).min().bfill().ffill().astype('float32')\n",
    "    df[\"enmo_rolling_min\"] = df[\"enmo\"].rolling(periods,center=True).min().bfill().ffill().astype('float32')\n",
    "    df[\"anglez_rolling_std\"] = df[\"anglez\"].rolling(periods,center=True).std().bfill().ffill().astype('float32')\n",
    "    df[\"enmo_rolling_std\"] = df[\"enmo\"].rolling(periods,center=True).std().bfill().ffill().astype('float32')    \n",
    "    \n",
    "    return df"
   ]
  },
  {
   "cell_type": "code",
   "execution_count": 5,
   "id": "16b52907",
   "metadata": {},
   "outputs": [],
   "source": [
    "def make_features(train):\n",
    "    train_data = []\n",
    "\n",
    "    total_len = train.series_id.nunique()\n",
    "\n",
    "    for i, series_id in enumerate(train.series_id.unique()):\n",
    "        print(f'Step {i+1} of {total_len}')\n",
    "        chunck = make_features_chunck(series_id)\n",
    "        train_data.append(chunck)\n",
    "        del chunck\n",
    "        gc.collect()\n",
    "\n",
    "    return pd.concat(train_data).reset_index(drop=True)"
   ]
  },
  {
   "cell_type": "code",
   "execution_count": 6,
   "id": "c0d067155defaebc",
   "metadata": {
    "ExecuteTime": {
     "start_time": "2023-09-29T12:45:52.429714800Z"
    },
    "is_executing": true,
    "scrolled": true
   },
   "outputs": [
    {
     "name": "stdout",
     "output_type": "stream",
     "text": [
      "Step 1 of 269\n",
      "Generating time features\n",
      "Generating statistical features\n",
      "Generating rolling features\n",
      "Step 2 of 269\n",
      "Generating time features\n",
      "Generating statistical features\n",
      "Generating rolling features\n",
      "Step 3 of 269\n",
      "Generating time features\n",
      "Generating statistical features\n",
      "Generating rolling features\n",
      "Step 4 of 269\n",
      "Generating time features\n",
      "Generating statistical features\n",
      "Generating rolling features\n",
      "Step 5 of 269\n",
      "Generating time features\n",
      "Generating statistical features\n",
      "Generating rolling features\n",
      "Step 6 of 269\n",
      "Generating time features\n",
      "Generating statistical features\n",
      "Generating rolling features\n",
      "Step 7 of 269\n",
      "Generating time features\n",
      "Generating statistical features\n",
      "Generating rolling features\n",
      "Step 8 of 269\n",
      "Generating time features\n"
     ]
    },
    {
     "name": "stderr",
     "output_type": "stream",
     "text": [
      "C:\\Users\\timon\\AppData\\Local\\Temp\\ipykernel_11544\\1472667991.py:5: FutureWarning: In a future version of pandas, parsing datetimes with mixed time zones will raise a warning unless `utc=True`. Please specify `utc=True` to opt in to the new behaviour and silence this warning. To create a `Series` with mixed offsets and `object` dtype, please use `apply` and `datetime.datetime.strptime`\n",
      "  df['timestamp'] = pd.to_datetime(df['timestamp']).apply(lambda t: t.tz_localize(None))\n"
     ]
    },
    {
     "name": "stdout",
     "output_type": "stream",
     "text": [
      "Generating statistical features\n",
      "Generating rolling features\n",
      "Step 9 of 269\n",
      "Generating time features\n",
      "Generating statistical features\n",
      "Generating rolling features\n",
      "Step 10 of 269\n",
      "Generating time features\n",
      "Generating statistical features\n",
      "Generating rolling features\n",
      "Step 11 of 269\n",
      "Generating time features\n",
      "Generating statistical features\n",
      "Generating rolling features\n",
      "Step 12 of 269\n",
      "Generating time features\n",
      "Generating statistical features\n",
      "Generating rolling features\n",
      "Step 13 of 269\n",
      "Generating time features\n",
      "Generating statistical features\n",
      "Generating rolling features\n",
      "Step 14 of 269\n",
      "Generating time features\n",
      "Generating statistical features\n",
      "Generating rolling features\n",
      "Step 15 of 269\n",
      "Generating time features\n",
      "Generating statistical features\n",
      "Generating rolling features\n",
      "Step 16 of 269\n",
      "Generating time features\n",
      "Generating statistical features\n",
      "Generating rolling features\n",
      "Step 17 of 269\n",
      "Generating time features\n",
      "Generating statistical features\n",
      "Generating rolling features\n",
      "Step 18 of 269\n",
      "Generating time features\n"
     ]
    },
    {
     "name": "stderr",
     "output_type": "stream",
     "text": [
      "C:\\Users\\timon\\AppData\\Local\\Temp\\ipykernel_11544\\1472667991.py:5: FutureWarning: In a future version of pandas, parsing datetimes with mixed time zones will raise a warning unless `utc=True`. Please specify `utc=True` to opt in to the new behaviour and silence this warning. To create a `Series` with mixed offsets and `object` dtype, please use `apply` and `datetime.datetime.strptime`\n",
      "  df['timestamp'] = pd.to_datetime(df['timestamp']).apply(lambda t: t.tz_localize(None))\n"
     ]
    },
    {
     "name": "stdout",
     "output_type": "stream",
     "text": [
      "Generating statistical features\n",
      "Generating rolling features\n",
      "Step 19 of 269\n",
      "Generating time features\n"
     ]
    },
    {
     "name": "stderr",
     "output_type": "stream",
     "text": [
      "C:\\Users\\timon\\AppData\\Local\\Temp\\ipykernel_11544\\1472667991.py:5: FutureWarning: In a future version of pandas, parsing datetimes with mixed time zones will raise a warning unless `utc=True`. Please specify `utc=True` to opt in to the new behaviour and silence this warning. To create a `Series` with mixed offsets and `object` dtype, please use `apply` and `datetime.datetime.strptime`\n",
      "  df['timestamp'] = pd.to_datetime(df['timestamp']).apply(lambda t: t.tz_localize(None))\n"
     ]
    },
    {
     "name": "stdout",
     "output_type": "stream",
     "text": [
      "Generating statistical features\n",
      "Generating rolling features\n",
      "Step 20 of 269\n",
      "Generating time features\n",
      "Generating statistical features\n",
      "Generating rolling features\n",
      "Step 21 of 269\n",
      "Generating time features\n",
      "Generating statistical features\n",
      "Generating rolling features\n",
      "Step 22 of 269\n",
      "Generating time features\n",
      "Generating statistical features\n",
      "Generating rolling features\n",
      "Step 23 of 269\n",
      "Generating time features\n",
      "Generating statistical features\n",
      "Generating rolling features\n",
      "Step 24 of 269\n",
      "Generating time features\n",
      "Generating statistical features\n",
      "Generating rolling features\n",
      "Step 25 of 269\n",
      "Generating time features\n",
      "Generating statistical features\n",
      "Generating rolling features\n",
      "Step 26 of 269\n",
      "Generating time features\n",
      "Generating statistical features\n",
      "Generating rolling features\n",
      "Step 27 of 269\n",
      "Generating time features\n",
      "Generating statistical features\n",
      "Generating rolling features\n",
      "Step 28 of 269\n",
      "Generating time features\n"
     ]
    },
    {
     "name": "stderr",
     "output_type": "stream",
     "text": [
      "C:\\Users\\timon\\AppData\\Local\\Temp\\ipykernel_11544\\1472667991.py:5: FutureWarning: In a future version of pandas, parsing datetimes with mixed time zones will raise a warning unless `utc=True`. Please specify `utc=True` to opt in to the new behaviour and silence this warning. To create a `Series` with mixed offsets and `object` dtype, please use `apply` and `datetime.datetime.strptime`\n",
      "  df['timestamp'] = pd.to_datetime(df['timestamp']).apply(lambda t: t.tz_localize(None))\n"
     ]
    },
    {
     "name": "stdout",
     "output_type": "stream",
     "text": [
      "Generating statistical features\n",
      "Generating rolling features\n",
      "Step 29 of 269\n",
      "Generating time features\n",
      "Generating statistical features\n",
      "Generating rolling features\n",
      "Step 30 of 269\n",
      "Generating time features\n",
      "Generating statistical features\n",
      "Generating rolling features\n",
      "Step 31 of 269\n",
      "Generating time features\n"
     ]
    },
    {
     "name": "stderr",
     "output_type": "stream",
     "text": [
      "C:\\Users\\timon\\AppData\\Local\\Temp\\ipykernel_11544\\1472667991.py:5: FutureWarning: In a future version of pandas, parsing datetimes with mixed time zones will raise a warning unless `utc=True`. Please specify `utc=True` to opt in to the new behaviour and silence this warning. To create a `Series` with mixed offsets and `object` dtype, please use `apply` and `datetime.datetime.strptime`\n",
      "  df['timestamp'] = pd.to_datetime(df['timestamp']).apply(lambda t: t.tz_localize(None))\n"
     ]
    },
    {
     "name": "stdout",
     "output_type": "stream",
     "text": [
      "Generating statistical features\n",
      "Generating rolling features\n",
      "Step 32 of 269\n",
      "Generating time features\n"
     ]
    },
    {
     "name": "stderr",
     "output_type": "stream",
     "text": [
      "C:\\Users\\timon\\AppData\\Local\\Temp\\ipykernel_11544\\1472667991.py:5: FutureWarning: In a future version of pandas, parsing datetimes with mixed time zones will raise a warning unless `utc=True`. Please specify `utc=True` to opt in to the new behaviour and silence this warning. To create a `Series` with mixed offsets and `object` dtype, please use `apply` and `datetime.datetime.strptime`\n",
      "  df['timestamp'] = pd.to_datetime(df['timestamp']).apply(lambda t: t.tz_localize(None))\n"
     ]
    },
    {
     "name": "stdout",
     "output_type": "stream",
     "text": [
      "Generating statistical features\n",
      "Generating rolling features\n",
      "Step 33 of 269\n",
      "Generating time features\n",
      "Generating statistical features\n",
      "Generating rolling features\n",
      "Step 34 of 269\n",
      "Generating time features\n",
      "Generating statistical features\n",
      "Generating rolling features\n",
      "Step 35 of 269\n",
      "Generating time features\n",
      "Generating statistical features\n",
      "Generating rolling features\n",
      "Step 36 of 269\n",
      "Generating time features\n",
      "Generating statistical features\n",
      "Generating rolling features\n",
      "Step 37 of 269\n",
      "Generating time features\n"
     ]
    },
    {
     "name": "stderr",
     "output_type": "stream",
     "text": [
      "C:\\Users\\timon\\AppData\\Local\\Temp\\ipykernel_11544\\1472667991.py:5: FutureWarning: In a future version of pandas, parsing datetimes with mixed time zones will raise a warning unless `utc=True`. Please specify `utc=True` to opt in to the new behaviour and silence this warning. To create a `Series` with mixed offsets and `object` dtype, please use `apply` and `datetime.datetime.strptime`\n",
      "  df['timestamp'] = pd.to_datetime(df['timestamp']).apply(lambda t: t.tz_localize(None))\n"
     ]
    },
    {
     "name": "stdout",
     "output_type": "stream",
     "text": [
      "Generating statistical features\n",
      "Generating rolling features\n",
      "Step 38 of 269\n",
      "Generating time features\n",
      "Generating statistical features\n",
      "Generating rolling features\n",
      "Step 39 of 269\n",
      "Generating time features\n",
      "Generating statistical features\n",
      "Generating rolling features\n",
      "Step 40 of 269\n",
      "Generating time features\n",
      "Generating statistical features\n",
      "Generating rolling features\n",
      "Step 41 of 269\n",
      "Generating time features\n",
      "Generating statistical features\n",
      "Generating rolling features\n",
      "Step 42 of 269\n",
      "Generating time features\n"
     ]
    },
    {
     "name": "stderr",
     "output_type": "stream",
     "text": [
      "C:\\Users\\timon\\AppData\\Local\\Temp\\ipykernel_11544\\1472667991.py:5: FutureWarning: In a future version of pandas, parsing datetimes with mixed time zones will raise a warning unless `utc=True`. Please specify `utc=True` to opt in to the new behaviour and silence this warning. To create a `Series` with mixed offsets and `object` dtype, please use `apply` and `datetime.datetime.strptime`\n",
      "  df['timestamp'] = pd.to_datetime(df['timestamp']).apply(lambda t: t.tz_localize(None))\n"
     ]
    },
    {
     "name": "stdout",
     "output_type": "stream",
     "text": [
      "Generating statistical features\n",
      "Generating rolling features\n",
      "Step 43 of 269\n",
      "Generating time features\n",
      "Generating statistical features\n",
      "Generating rolling features\n",
      "Step 44 of 269\n",
      "Generating time features\n",
      "Generating statistical features\n",
      "Generating rolling features\n",
      "Step 45 of 269\n",
      "Generating time features\n"
     ]
    },
    {
     "name": "stderr",
     "output_type": "stream",
     "text": [
      "C:\\Users\\timon\\AppData\\Local\\Temp\\ipykernel_11544\\1472667991.py:5: FutureWarning: In a future version of pandas, parsing datetimes with mixed time zones will raise a warning unless `utc=True`. Please specify `utc=True` to opt in to the new behaviour and silence this warning. To create a `Series` with mixed offsets and `object` dtype, please use `apply` and `datetime.datetime.strptime`\n",
      "  df['timestamp'] = pd.to_datetime(df['timestamp']).apply(lambda t: t.tz_localize(None))\n"
     ]
    },
    {
     "name": "stdout",
     "output_type": "stream",
     "text": [
      "Generating statistical features\n",
      "Generating rolling features\n",
      "Step 46 of 269\n",
      "Generating time features\n",
      "Generating statistical features\n",
      "Generating rolling features\n",
      "Step 47 of 269\n",
      "Generating time features\n",
      "Generating statistical features\n",
      "Generating rolling features\n",
      "Step 48 of 269\n",
      "Generating time features\n",
      "Generating statistical features\n",
      "Generating rolling features\n",
      "Step 49 of 269\n",
      "Generating time features\n"
     ]
    },
    {
     "name": "stderr",
     "output_type": "stream",
     "text": [
      "C:\\Users\\timon\\AppData\\Local\\Temp\\ipykernel_11544\\1472667991.py:5: FutureWarning: In a future version of pandas, parsing datetimes with mixed time zones will raise a warning unless `utc=True`. Please specify `utc=True` to opt in to the new behaviour and silence this warning. To create a `Series` with mixed offsets and `object` dtype, please use `apply` and `datetime.datetime.strptime`\n",
      "  df['timestamp'] = pd.to_datetime(df['timestamp']).apply(lambda t: t.tz_localize(None))\n"
     ]
    },
    {
     "name": "stdout",
     "output_type": "stream",
     "text": [
      "Generating statistical features\n",
      "Generating rolling features\n",
      "Step 50 of 269\n",
      "Generating time features\n",
      "Generating statistical features\n",
      "Generating rolling features\n",
      "Step 51 of 269\n",
      "Generating time features\n",
      "Generating statistical features\n",
      "Generating rolling features\n",
      "Step 52 of 269\n",
      "Generating time features\n"
     ]
    },
    {
     "name": "stderr",
     "output_type": "stream",
     "text": [
      "C:\\Users\\timon\\AppData\\Local\\Temp\\ipykernel_11544\\1472667991.py:5: FutureWarning: In a future version of pandas, parsing datetimes with mixed time zones will raise a warning unless `utc=True`. Please specify `utc=True` to opt in to the new behaviour and silence this warning. To create a `Series` with mixed offsets and `object` dtype, please use `apply` and `datetime.datetime.strptime`\n",
      "  df['timestamp'] = pd.to_datetime(df['timestamp']).apply(lambda t: t.tz_localize(None))\n"
     ]
    },
    {
     "name": "stdout",
     "output_type": "stream",
     "text": [
      "Generating statistical features\n",
      "Generating rolling features\n",
      "Step 53 of 269\n",
      "Generating time features\n",
      "Generating statistical features\n",
      "Generating rolling features\n",
      "Step 54 of 269\n",
      "Generating time features\n",
      "Generating statistical features\n",
      "Generating rolling features\n",
      "Step 55 of 269\n",
      "Generating time features\n",
      "Generating statistical features\n",
      "Generating rolling features\n",
      "Step 56 of 269\n",
      "Generating time features\n",
      "Generating statistical features\n",
      "Generating rolling features\n",
      "Step 57 of 269\n",
      "Generating time features\n",
      "Generating statistical features\n",
      "Generating rolling features\n",
      "Step 58 of 269\n",
      "Generating time features\n",
      "Generating statistical features\n",
      "Generating rolling features\n",
      "Step 59 of 269\n",
      "Generating time features\n",
      "Generating statistical features\n",
      "Generating rolling features\n",
      "Step 60 of 269\n",
      "Generating time features\n",
      "Generating statistical features\n",
      "Generating rolling features\n",
      "Step 61 of 269\n",
      "Generating time features\n",
      "Generating statistical features\n",
      "Generating rolling features\n",
      "Step 62 of 269\n",
      "Generating time features\n",
      "Generating statistical features\n",
      "Generating rolling features\n",
      "Step 63 of 269\n",
      "Generating time features\n",
      "Generating statistical features\n",
      "Generating rolling features\n",
      "Step 64 of 269\n",
      "Generating time features\n",
      "Generating statistical features\n",
      "Generating rolling features\n",
      "Step 65 of 269\n",
      "Generating time features\n",
      "Generating statistical features\n",
      "Generating rolling features\n",
      "Step 66 of 269\n",
      "Generating time features\n",
      "Generating statistical features\n",
      "Generating rolling features\n",
      "Step 67 of 269\n",
      "Generating time features\n"
     ]
    },
    {
     "name": "stderr",
     "output_type": "stream",
     "text": [
      "C:\\Users\\timon\\AppData\\Local\\Temp\\ipykernel_11544\\1472667991.py:5: FutureWarning: In a future version of pandas, parsing datetimes with mixed time zones will raise a warning unless `utc=True`. Please specify `utc=True` to opt in to the new behaviour and silence this warning. To create a `Series` with mixed offsets and `object` dtype, please use `apply` and `datetime.datetime.strptime`\n",
      "  df['timestamp'] = pd.to_datetime(df['timestamp']).apply(lambda t: t.tz_localize(None))\n"
     ]
    },
    {
     "name": "stdout",
     "output_type": "stream",
     "text": [
      "Generating statistical features\n",
      "Generating rolling features\n",
      "Step 68 of 269\n",
      "Generating time features\n",
      "Generating statistical features\n",
      "Generating rolling features\n",
      "Step 69 of 269\n",
      "Generating time features\n",
      "Generating statistical features\n",
      "Generating rolling features\n",
      "Step 70 of 269\n",
      "Generating time features\n",
      "Generating statistical features\n",
      "Generating rolling features\n",
      "Step 71 of 269\n",
      "Generating time features\n",
      "Generating statistical features\n",
      "Generating rolling features\n",
      "Step 72 of 269\n",
      "Generating time features\n"
     ]
    },
    {
     "name": "stderr",
     "output_type": "stream",
     "text": [
      "C:\\Users\\timon\\AppData\\Local\\Temp\\ipykernel_11544\\1472667991.py:5: FutureWarning: In a future version of pandas, parsing datetimes with mixed time zones will raise a warning unless `utc=True`. Please specify `utc=True` to opt in to the new behaviour and silence this warning. To create a `Series` with mixed offsets and `object` dtype, please use `apply` and `datetime.datetime.strptime`\n",
      "  df['timestamp'] = pd.to_datetime(df['timestamp']).apply(lambda t: t.tz_localize(None))\n"
     ]
    },
    {
     "name": "stdout",
     "output_type": "stream",
     "text": [
      "Generating statistical features\n",
      "Generating rolling features\n",
      "Step 73 of 269\n",
      "Generating time features\n",
      "Generating statistical features\n",
      "Generating rolling features\n",
      "Step 74 of 269\n",
      "Generating time features\n",
      "Generating statistical features\n",
      "Generating rolling features\n",
      "Step 75 of 269\n",
      "Generating time features\n"
     ]
    },
    {
     "name": "stderr",
     "output_type": "stream",
     "text": [
      "C:\\Users\\timon\\AppData\\Local\\Temp\\ipykernel_11544\\1472667991.py:5: FutureWarning: In a future version of pandas, parsing datetimes with mixed time zones will raise a warning unless `utc=True`. Please specify `utc=True` to opt in to the new behaviour and silence this warning. To create a `Series` with mixed offsets and `object` dtype, please use `apply` and `datetime.datetime.strptime`\n",
      "  df['timestamp'] = pd.to_datetime(df['timestamp']).apply(lambda t: t.tz_localize(None))\n"
     ]
    },
    {
     "name": "stdout",
     "output_type": "stream",
     "text": [
      "Generating statistical features\n",
      "Generating rolling features\n",
      "Step 76 of 269\n",
      "Generating time features\n",
      "Generating statistical features\n",
      "Generating rolling features\n",
      "Step 77 of 269\n",
      "Generating time features\n",
      "Generating statistical features\n",
      "Generating rolling features\n",
      "Step 78 of 269\n",
      "Generating time features\n"
     ]
    },
    {
     "name": "stderr",
     "output_type": "stream",
     "text": [
      "C:\\Users\\timon\\AppData\\Local\\Temp\\ipykernel_11544\\1472667991.py:5: FutureWarning: In a future version of pandas, parsing datetimes with mixed time zones will raise a warning unless `utc=True`. Please specify `utc=True` to opt in to the new behaviour and silence this warning. To create a `Series` with mixed offsets and `object` dtype, please use `apply` and `datetime.datetime.strptime`\n",
      "  df['timestamp'] = pd.to_datetime(df['timestamp']).apply(lambda t: t.tz_localize(None))\n"
     ]
    },
    {
     "name": "stdout",
     "output_type": "stream",
     "text": [
      "Generating statistical features\n",
      "Generating rolling features\n",
      "Step 79 of 269\n",
      "Generating time features\n",
      "Generating statistical features\n",
      "Generating rolling features\n",
      "Step 80 of 269\n",
      "Generating time features\n",
      "Generating statistical features\n",
      "Generating rolling features\n",
      "Step 81 of 269\n",
      "Generating time features\n",
      "Generating statistical features\n",
      "Generating rolling features\n",
      "Step 82 of 269\n",
      "Generating time features\n",
      "Generating statistical features\n",
      "Generating rolling features\n",
      "Step 83 of 269\n",
      "Generating time features\n",
      "Generating statistical features\n",
      "Generating rolling features\n",
      "Step 84 of 269\n",
      "Generating time features\n",
      "Generating statistical features\n",
      "Generating rolling features\n",
      "Step 85 of 269\n",
      "Generating time features\n",
      "Generating statistical features\n",
      "Generating rolling features\n",
      "Step 86 of 269\n",
      "Generating time features\n"
     ]
    },
    {
     "name": "stderr",
     "output_type": "stream",
     "text": [
      "C:\\Users\\timon\\AppData\\Local\\Temp\\ipykernel_11544\\1472667991.py:5: FutureWarning: In a future version of pandas, parsing datetimes with mixed time zones will raise a warning unless `utc=True`. Please specify `utc=True` to opt in to the new behaviour and silence this warning. To create a `Series` with mixed offsets and `object` dtype, please use `apply` and `datetime.datetime.strptime`\n",
      "  df['timestamp'] = pd.to_datetime(df['timestamp']).apply(lambda t: t.tz_localize(None))\n"
     ]
    },
    {
     "name": "stdout",
     "output_type": "stream",
     "text": [
      "Generating statistical features\n",
      "Generating rolling features\n",
      "Step 87 of 269\n",
      "Generating time features\n",
      "Generating statistical features\n",
      "Generating rolling features\n",
      "Step 88 of 269\n",
      "Generating time features\n",
      "Generating statistical features\n",
      "Generating rolling features\n",
      "Step 89 of 269\n",
      "Generating time features\n",
      "Generating statistical features\n",
      "Generating rolling features\n",
      "Step 90 of 269\n",
      "Generating time features\n",
      "Generating statistical features\n",
      "Generating rolling features\n",
      "Step 91 of 269\n",
      "Generating time features\n",
      "Generating statistical features\n",
      "Generating rolling features\n",
      "Step 92 of 269\n",
      "Generating time features\n",
      "Generating statistical features\n",
      "Generating rolling features\n",
      "Step 93 of 269\n",
      "Generating time features\n",
      "Generating statistical features\n",
      "Generating rolling features\n",
      "Step 94 of 269\n",
      "Generating time features\n",
      "Generating statistical features\n",
      "Generating rolling features\n",
      "Step 95 of 269\n",
      "Generating time features\n"
     ]
    },
    {
     "name": "stderr",
     "output_type": "stream",
     "text": [
      "C:\\Users\\timon\\AppData\\Local\\Temp\\ipykernel_11544\\1472667991.py:5: FutureWarning: In a future version of pandas, parsing datetimes with mixed time zones will raise a warning unless `utc=True`. Please specify `utc=True` to opt in to the new behaviour and silence this warning. To create a `Series` with mixed offsets and `object` dtype, please use `apply` and `datetime.datetime.strptime`\n",
      "  df['timestamp'] = pd.to_datetime(df['timestamp']).apply(lambda t: t.tz_localize(None))\n"
     ]
    },
    {
     "name": "stdout",
     "output_type": "stream",
     "text": [
      "Generating statistical features\n",
      "Generating rolling features\n",
      "Step 96 of 269\n",
      "Generating time features\n",
      "Generating statistical features\n",
      "Generating rolling features\n",
      "Step 97 of 269\n",
      "Generating time features\n",
      "Generating statistical features\n",
      "Generating rolling features\n",
      "Step 98 of 269\n",
      "Generating time features\n",
      "Generating statistical features\n",
      "Generating rolling features\n",
      "Step 99 of 269\n",
      "Generating time features\n",
      "Generating statistical features\n",
      "Generating rolling features\n",
      "Step 100 of 269\n",
      "Generating time features\n",
      "Generating statistical features\n",
      "Generating rolling features\n",
      "Step 101 of 269\n",
      "Generating time features\n",
      "Generating statistical features\n",
      "Generating rolling features\n",
      "Step 102 of 269\n",
      "Generating time features\n",
      "Generating statistical features\n",
      "Generating rolling features\n",
      "Step 103 of 269\n",
      "Generating time features\n",
      "Generating statistical features\n",
      "Generating rolling features\n",
      "Step 104 of 269\n",
      "Generating time features\n",
      "Generating statistical features\n",
      "Generating rolling features\n",
      "Step 105 of 269\n",
      "Generating time features\n"
     ]
    },
    {
     "name": "stderr",
     "output_type": "stream",
     "text": [
      "C:\\Users\\timon\\AppData\\Local\\Temp\\ipykernel_11544\\1472667991.py:5: FutureWarning: In a future version of pandas, parsing datetimes with mixed time zones will raise a warning unless `utc=True`. Please specify `utc=True` to opt in to the new behaviour and silence this warning. To create a `Series` with mixed offsets and `object` dtype, please use `apply` and `datetime.datetime.strptime`\n",
      "  df['timestamp'] = pd.to_datetime(df['timestamp']).apply(lambda t: t.tz_localize(None))\n"
     ]
    },
    {
     "name": "stdout",
     "output_type": "stream",
     "text": [
      "Generating statistical features\n",
      "Generating rolling features\n",
      "Step 106 of 269\n",
      "Generating time features\n"
     ]
    },
    {
     "name": "stderr",
     "output_type": "stream",
     "text": [
      "C:\\Users\\timon\\AppData\\Local\\Temp\\ipykernel_11544\\1472667991.py:5: FutureWarning: In a future version of pandas, parsing datetimes with mixed time zones will raise a warning unless `utc=True`. Please specify `utc=True` to opt in to the new behaviour and silence this warning. To create a `Series` with mixed offsets and `object` dtype, please use `apply` and `datetime.datetime.strptime`\n",
      "  df['timestamp'] = pd.to_datetime(df['timestamp']).apply(lambda t: t.tz_localize(None))\n"
     ]
    },
    {
     "name": "stdout",
     "output_type": "stream",
     "text": [
      "Generating statistical features\n",
      "Generating rolling features\n",
      "Step 107 of 269\n",
      "Generating time features\n",
      "Generating statistical features\n",
      "Generating rolling features\n",
      "Step 108 of 269\n",
      "Generating time features\n",
      "Generating statistical features\n",
      "Generating rolling features\n",
      "Step 109 of 269\n",
      "Generating time features\n",
      "Generating statistical features\n",
      "Generating rolling features\n",
      "Step 110 of 269\n",
      "Generating time features\n",
      "Generating statistical features\n",
      "Generating rolling features\n",
      "Step 111 of 269\n",
      "Generating time features\n",
      "Generating statistical features\n",
      "Generating rolling features\n",
      "Step 112 of 269\n",
      "Generating time features\n",
      "Generating statistical features\n",
      "Generating rolling features\n",
      "Step 113 of 269\n",
      "Generating time features\n",
      "Generating statistical features\n",
      "Generating rolling features\n",
      "Step 114 of 269\n",
      "Generating time features\n",
      "Generating statistical features\n",
      "Generating rolling features\n",
      "Step 115 of 269\n",
      "Generating time features\n",
      "Generating statistical features\n",
      "Generating rolling features\n",
      "Step 116 of 269\n",
      "Generating time features\n",
      "Generating statistical features\n",
      "Generating rolling features\n",
      "Step 117 of 269\n",
      "Generating time features\n",
      "Generating statistical features\n",
      "Generating rolling features\n",
      "Step 118 of 269\n",
      "Generating time features\n",
      "Generating statistical features\n",
      "Generating rolling features\n",
      "Step 119 of 269\n",
      "Generating time features\n"
     ]
    },
    {
     "name": "stderr",
     "output_type": "stream",
     "text": [
      "C:\\Users\\timon\\AppData\\Local\\Temp\\ipykernel_11544\\1472667991.py:5: FutureWarning: In a future version of pandas, parsing datetimes with mixed time zones will raise a warning unless `utc=True`. Please specify `utc=True` to opt in to the new behaviour and silence this warning. To create a `Series` with mixed offsets and `object` dtype, please use `apply` and `datetime.datetime.strptime`\n",
      "  df['timestamp'] = pd.to_datetime(df['timestamp']).apply(lambda t: t.tz_localize(None))\n"
     ]
    },
    {
     "name": "stdout",
     "output_type": "stream",
     "text": [
      "Generating statistical features\n",
      "Generating rolling features\n",
      "Step 120 of 269\n",
      "Generating time features\n",
      "Generating statistical features\n",
      "Generating rolling features\n",
      "Step 121 of 269\n",
      "Generating time features\n",
      "Generating statistical features\n",
      "Generating rolling features\n",
      "Step 122 of 269\n",
      "Generating time features\n",
      "Generating statistical features\n",
      "Generating rolling features\n",
      "Step 123 of 269\n",
      "Generating time features\n",
      "Generating statistical features\n",
      "Generating rolling features\n",
      "Step 124 of 269\n",
      "Generating time features\n",
      "Generating statistical features\n",
      "Generating rolling features\n",
      "Step 125 of 269\n",
      "Generating time features\n",
      "Generating statistical features\n",
      "Generating rolling features\n",
      "Step 126 of 269\n",
      "Generating time features\n",
      "Generating statistical features\n",
      "Generating rolling features\n",
      "Step 127 of 269\n",
      "Generating time features\n"
     ]
    },
    {
     "name": "stderr",
     "output_type": "stream",
     "text": [
      "C:\\Users\\timon\\AppData\\Local\\Temp\\ipykernel_11544\\1472667991.py:5: FutureWarning: In a future version of pandas, parsing datetimes with mixed time zones will raise a warning unless `utc=True`. Please specify `utc=True` to opt in to the new behaviour and silence this warning. To create a `Series` with mixed offsets and `object` dtype, please use `apply` and `datetime.datetime.strptime`\n",
      "  df['timestamp'] = pd.to_datetime(df['timestamp']).apply(lambda t: t.tz_localize(None))\n"
     ]
    },
    {
     "name": "stdout",
     "output_type": "stream",
     "text": [
      "Generating statistical features\n",
      "Generating rolling features\n",
      "Step 128 of 269\n",
      "Generating time features\n",
      "Generating statistical features\n",
      "Generating rolling features\n",
      "Step 129 of 269\n",
      "Generating time features\n",
      "Generating statistical features\n",
      "Generating rolling features\n",
      "Step 130 of 269\n",
      "Generating time features\n"
     ]
    },
    {
     "name": "stderr",
     "output_type": "stream",
     "text": [
      "C:\\Users\\timon\\AppData\\Local\\Temp\\ipykernel_11544\\1472667991.py:5: FutureWarning: In a future version of pandas, parsing datetimes with mixed time zones will raise a warning unless `utc=True`. Please specify `utc=True` to opt in to the new behaviour and silence this warning. To create a `Series` with mixed offsets and `object` dtype, please use `apply` and `datetime.datetime.strptime`\n",
      "  df['timestamp'] = pd.to_datetime(df['timestamp']).apply(lambda t: t.tz_localize(None))\n"
     ]
    },
    {
     "name": "stdout",
     "output_type": "stream",
     "text": [
      "Generating statistical features\n",
      "Generating rolling features\n",
      "Step 131 of 269\n",
      "Generating time features\n",
      "Generating statistical features\n",
      "Generating rolling features\n",
      "Step 132 of 269\n",
      "Generating time features\n"
     ]
    },
    {
     "name": "stderr",
     "output_type": "stream",
     "text": [
      "C:\\Users\\timon\\AppData\\Local\\Temp\\ipykernel_11544\\1472667991.py:5: FutureWarning: In a future version of pandas, parsing datetimes with mixed time zones will raise a warning unless `utc=True`. Please specify `utc=True` to opt in to the new behaviour and silence this warning. To create a `Series` with mixed offsets and `object` dtype, please use `apply` and `datetime.datetime.strptime`\n",
      "  df['timestamp'] = pd.to_datetime(df['timestamp']).apply(lambda t: t.tz_localize(None))\n"
     ]
    },
    {
     "name": "stdout",
     "output_type": "stream",
     "text": [
      "Generating statistical features\n",
      "Generating rolling features\n",
      "Step 133 of 269\n",
      "Generating time features\n",
      "Generating statistical features\n",
      "Generating rolling features\n",
      "Step 134 of 269\n",
      "Generating time features\n",
      "Generating statistical features\n",
      "Generating rolling features\n",
      "Step 135 of 269\n",
      "Generating time features\n",
      "Generating statistical features\n",
      "Generating rolling features\n",
      "Step 136 of 269\n",
      "Generating time features\n",
      "Generating statistical features\n",
      "Generating rolling features\n",
      "Step 137 of 269\n",
      "Generating time features\n",
      "Generating statistical features\n",
      "Generating rolling features\n",
      "Step 138 of 269\n",
      "Generating time features\n",
      "Generating statistical features\n",
      "Generating rolling features\n",
      "Step 139 of 269\n",
      "Generating time features\n"
     ]
    },
    {
     "name": "stderr",
     "output_type": "stream",
     "text": [
      "C:\\Users\\timon\\AppData\\Local\\Temp\\ipykernel_11544\\1472667991.py:5: FutureWarning: In a future version of pandas, parsing datetimes with mixed time zones will raise a warning unless `utc=True`. Please specify `utc=True` to opt in to the new behaviour and silence this warning. To create a `Series` with mixed offsets and `object` dtype, please use `apply` and `datetime.datetime.strptime`\n",
      "  df['timestamp'] = pd.to_datetime(df['timestamp']).apply(lambda t: t.tz_localize(None))\n"
     ]
    },
    {
     "name": "stdout",
     "output_type": "stream",
     "text": [
      "Generating statistical features\n",
      "Generating rolling features\n",
      "Step 140 of 269\n",
      "Generating time features\n",
      "Generating statistical features\n",
      "Generating rolling features\n",
      "Step 141 of 269\n",
      "Generating time features\n",
      "Generating statistical features\n",
      "Generating rolling features\n",
      "Step 142 of 269\n",
      "Generating time features\n",
      "Generating statistical features\n",
      "Generating rolling features\n",
      "Step 143 of 269\n",
      "Generating time features\n",
      "Generating statistical features\n",
      "Generating rolling features\n",
      "Step 144 of 269\n",
      "Generating time features\n",
      "Generating statistical features\n",
      "Generating rolling features\n",
      "Step 145 of 269\n",
      "Generating time features\n",
      "Generating statistical features\n",
      "Generating rolling features\n",
      "Step 146 of 269\n",
      "Generating time features\n",
      "Generating statistical features\n",
      "Generating rolling features\n",
      "Step 147 of 269\n",
      "Generating time features\n",
      "Generating statistical features\n",
      "Generating rolling features\n",
      "Step 148 of 269\n",
      "Generating time features\n",
      "Generating statistical features\n",
      "Generating rolling features\n",
      "Step 149 of 269\n",
      "Generating time features\n",
      "Generating statistical features\n",
      "Generating rolling features\n",
      "Step 150 of 269\n",
      "Generating time features\n",
      "Generating statistical features\n",
      "Generating rolling features\n",
      "Step 151 of 269\n",
      "Generating time features\n",
      "Generating statistical features\n",
      "Generating rolling features\n",
      "Step 152 of 269\n",
      "Generating time features\n",
      "Generating statistical features\n",
      "Generating rolling features\n",
      "Step 153 of 269\n",
      "Generating time features\n",
      "Generating statistical features\n",
      "Generating rolling features\n",
      "Step 154 of 269\n",
      "Generating time features\n",
      "Generating statistical features\n",
      "Generating rolling features\n",
      "Step 155 of 269\n",
      "Generating time features\n",
      "Generating statistical features\n",
      "Generating rolling features\n",
      "Step 156 of 269\n",
      "Generating time features\n",
      "Generating statistical features\n",
      "Generating rolling features\n",
      "Step 157 of 269\n",
      "Generating time features\n",
      "Generating statistical features\n",
      "Generating rolling features\n",
      "Step 158 of 269\n",
      "Generating time features\n",
      "Generating statistical features\n",
      "Generating rolling features\n",
      "Step 159 of 269\n",
      "Generating time features\n",
      "Generating statistical features\n",
      "Generating rolling features\n",
      "Step 160 of 269\n",
      "Generating time features\n",
      "Generating statistical features\n",
      "Generating rolling features\n",
      "Step 161 of 269\n",
      "Generating time features\n",
      "Generating statistical features\n",
      "Generating rolling features\n",
      "Step 162 of 269\n",
      "Generating time features\n",
      "Generating statistical features\n",
      "Generating rolling features\n",
      "Step 163 of 269\n",
      "Generating time features\n",
      "Generating statistical features\n",
      "Generating rolling features\n",
      "Step 164 of 269\n",
      "Generating time features\n",
      "Generating statistical features\n",
      "Generating rolling features\n",
      "Step 165 of 269\n",
      "Generating time features\n",
      "Generating statistical features\n",
      "Generating rolling features\n",
      "Step 166 of 269\n",
      "Generating time features\n"
     ]
    },
    {
     "name": "stderr",
     "output_type": "stream",
     "text": [
      "C:\\Users\\timon\\AppData\\Local\\Temp\\ipykernel_11544\\1472667991.py:5: FutureWarning: In a future version of pandas, parsing datetimes with mixed time zones will raise a warning unless `utc=True`. Please specify `utc=True` to opt in to the new behaviour and silence this warning. To create a `Series` with mixed offsets and `object` dtype, please use `apply` and `datetime.datetime.strptime`\n",
      "  df['timestamp'] = pd.to_datetime(df['timestamp']).apply(lambda t: t.tz_localize(None))\n"
     ]
    },
    {
     "name": "stdout",
     "output_type": "stream",
     "text": [
      "Generating statistical features\n",
      "Generating rolling features\n",
      "Step 167 of 269\n",
      "Generating time features\n",
      "Generating statistical features\n",
      "Generating rolling features\n",
      "Step 168 of 269\n",
      "Generating time features\n",
      "Generating statistical features\n",
      "Generating rolling features\n",
      "Step 169 of 269\n",
      "Generating time features\n"
     ]
    },
    {
     "name": "stderr",
     "output_type": "stream",
     "text": [
      "C:\\Users\\timon\\AppData\\Local\\Temp\\ipykernel_11544\\1472667991.py:5: FutureWarning: In a future version of pandas, parsing datetimes with mixed time zones will raise a warning unless `utc=True`. Please specify `utc=True` to opt in to the new behaviour and silence this warning. To create a `Series` with mixed offsets and `object` dtype, please use `apply` and `datetime.datetime.strptime`\n",
      "  df['timestamp'] = pd.to_datetime(df['timestamp']).apply(lambda t: t.tz_localize(None))\n"
     ]
    },
    {
     "name": "stdout",
     "output_type": "stream",
     "text": [
      "Generating statistical features\n",
      "Generating rolling features\n",
      "Step 170 of 269\n",
      "Generating time features\n"
     ]
    },
    {
     "name": "stderr",
     "output_type": "stream",
     "text": [
      "C:\\Users\\timon\\AppData\\Local\\Temp\\ipykernel_11544\\1472667991.py:5: FutureWarning: In a future version of pandas, parsing datetimes with mixed time zones will raise a warning unless `utc=True`. Please specify `utc=True` to opt in to the new behaviour and silence this warning. To create a `Series` with mixed offsets and `object` dtype, please use `apply` and `datetime.datetime.strptime`\n",
      "  df['timestamp'] = pd.to_datetime(df['timestamp']).apply(lambda t: t.tz_localize(None))\n"
     ]
    },
    {
     "name": "stdout",
     "output_type": "stream",
     "text": [
      "Generating statistical features\n",
      "Generating rolling features\n",
      "Step 171 of 269\n",
      "Generating time features\n",
      "Generating statistical features\n",
      "Generating rolling features\n",
      "Step 172 of 269\n",
      "Generating time features\n"
     ]
    },
    {
     "name": "stderr",
     "output_type": "stream",
     "text": [
      "C:\\Users\\timon\\AppData\\Local\\Temp\\ipykernel_11544\\1472667991.py:5: FutureWarning: In a future version of pandas, parsing datetimes with mixed time zones will raise a warning unless `utc=True`. Please specify `utc=True` to opt in to the new behaviour and silence this warning. To create a `Series` with mixed offsets and `object` dtype, please use `apply` and `datetime.datetime.strptime`\n",
      "  df['timestamp'] = pd.to_datetime(df['timestamp']).apply(lambda t: t.tz_localize(None))\n"
     ]
    },
    {
     "name": "stdout",
     "output_type": "stream",
     "text": [
      "Generating statistical features\n",
      "Generating rolling features\n",
      "Step 173 of 269\n",
      "Generating time features\n",
      "Generating statistical features\n",
      "Generating rolling features\n",
      "Step 174 of 269\n",
      "Generating time features\n",
      "Generating statistical features\n",
      "Generating rolling features\n",
      "Step 175 of 269\n",
      "Generating time features\n",
      "Generating statistical features\n",
      "Generating rolling features\n",
      "Step 176 of 269\n",
      "Generating time features\n",
      "Generating statistical features\n",
      "Generating rolling features\n",
      "Step 177 of 269\n",
      "Generating time features\n",
      "Generating statistical features\n",
      "Generating rolling features\n",
      "Step 178 of 269\n",
      "Generating time features\n"
     ]
    },
    {
     "name": "stderr",
     "output_type": "stream",
     "text": [
      "C:\\Users\\timon\\AppData\\Local\\Temp\\ipykernel_11544\\1472667991.py:5: FutureWarning: In a future version of pandas, parsing datetimes with mixed time zones will raise a warning unless `utc=True`. Please specify `utc=True` to opt in to the new behaviour and silence this warning. To create a `Series` with mixed offsets and `object` dtype, please use `apply` and `datetime.datetime.strptime`\n",
      "  df['timestamp'] = pd.to_datetime(df['timestamp']).apply(lambda t: t.tz_localize(None))\n"
     ]
    },
    {
     "name": "stdout",
     "output_type": "stream",
     "text": [
      "Generating statistical features\n",
      "Generating rolling features\n",
      "Step 179 of 269\n",
      "Generating time features\n",
      "Generating statistical features\n",
      "Generating rolling features\n",
      "Step 180 of 269\n",
      "Generating time features\n"
     ]
    },
    {
     "name": "stderr",
     "output_type": "stream",
     "text": [
      "C:\\Users\\timon\\AppData\\Local\\Temp\\ipykernel_11544\\1472667991.py:5: FutureWarning: In a future version of pandas, parsing datetimes with mixed time zones will raise a warning unless `utc=True`. Please specify `utc=True` to opt in to the new behaviour and silence this warning. To create a `Series` with mixed offsets and `object` dtype, please use `apply` and `datetime.datetime.strptime`\n",
      "  df['timestamp'] = pd.to_datetime(df['timestamp']).apply(lambda t: t.tz_localize(None))\n"
     ]
    },
    {
     "name": "stdout",
     "output_type": "stream",
     "text": [
      "Generating statistical features\n",
      "Generating rolling features\n",
      "Step 181 of 269\n",
      "Generating time features\n",
      "Generating statistical features\n",
      "Generating rolling features\n",
      "Step 182 of 269\n",
      "Generating time features\n",
      "Generating statistical features\n",
      "Generating rolling features\n",
      "Step 183 of 269\n",
      "Generating time features\n"
     ]
    },
    {
     "name": "stderr",
     "output_type": "stream",
     "text": [
      "C:\\Users\\timon\\AppData\\Local\\Temp\\ipykernel_11544\\1472667991.py:5: FutureWarning: In a future version of pandas, parsing datetimes with mixed time zones will raise a warning unless `utc=True`. Please specify `utc=True` to opt in to the new behaviour and silence this warning. To create a `Series` with mixed offsets and `object` dtype, please use `apply` and `datetime.datetime.strptime`\n",
      "  df['timestamp'] = pd.to_datetime(df['timestamp']).apply(lambda t: t.tz_localize(None))\n"
     ]
    },
    {
     "name": "stdout",
     "output_type": "stream",
     "text": [
      "Generating statistical features\n",
      "Generating rolling features\n",
      "Step 184 of 269\n",
      "Generating time features\n",
      "Generating statistical features\n",
      "Generating rolling features\n",
      "Step 185 of 269\n",
      "Generating time features\n",
      "Generating statistical features\n",
      "Generating rolling features\n",
      "Step 186 of 269\n",
      "Generating time features\n"
     ]
    },
    {
     "name": "stderr",
     "output_type": "stream",
     "text": [
      "C:\\Users\\timon\\AppData\\Local\\Temp\\ipykernel_11544\\1472667991.py:5: FutureWarning: In a future version of pandas, parsing datetimes with mixed time zones will raise a warning unless `utc=True`. Please specify `utc=True` to opt in to the new behaviour and silence this warning. To create a `Series` with mixed offsets and `object` dtype, please use `apply` and `datetime.datetime.strptime`\n",
      "  df['timestamp'] = pd.to_datetime(df['timestamp']).apply(lambda t: t.tz_localize(None))\n"
     ]
    },
    {
     "name": "stdout",
     "output_type": "stream",
     "text": [
      "Generating statistical features\n",
      "Generating rolling features\n",
      "Step 187 of 269\n",
      "Generating time features\n",
      "Generating statistical features\n",
      "Generating rolling features\n",
      "Step 188 of 269\n",
      "Generating time features\n",
      "Generating statistical features\n",
      "Generating rolling features\n",
      "Step 189 of 269\n",
      "Generating time features\n",
      "Generating statistical features\n",
      "Generating rolling features\n",
      "Step 190 of 269\n",
      "Generating time features\n"
     ]
    },
    {
     "name": "stderr",
     "output_type": "stream",
     "text": [
      "C:\\Users\\timon\\AppData\\Local\\Temp\\ipykernel_11544\\1472667991.py:5: FutureWarning: In a future version of pandas, parsing datetimes with mixed time zones will raise a warning unless `utc=True`. Please specify `utc=True` to opt in to the new behaviour and silence this warning. To create a `Series` with mixed offsets and `object` dtype, please use `apply` and `datetime.datetime.strptime`\n",
      "  df['timestamp'] = pd.to_datetime(df['timestamp']).apply(lambda t: t.tz_localize(None))\n"
     ]
    },
    {
     "name": "stdout",
     "output_type": "stream",
     "text": [
      "Generating statistical features\n",
      "Generating rolling features\n",
      "Step 191 of 269\n",
      "Generating time features\n",
      "Generating statistical features\n",
      "Generating rolling features\n",
      "Step 192 of 269\n",
      "Generating time features\n",
      "Generating statistical features\n",
      "Generating rolling features\n",
      "Step 193 of 269\n",
      "Generating time features\n"
     ]
    },
    {
     "name": "stderr",
     "output_type": "stream",
     "text": [
      "C:\\Users\\timon\\AppData\\Local\\Temp\\ipykernel_11544\\1472667991.py:5: FutureWarning: In a future version of pandas, parsing datetimes with mixed time zones will raise a warning unless `utc=True`. Please specify `utc=True` to opt in to the new behaviour and silence this warning. To create a `Series` with mixed offsets and `object` dtype, please use `apply` and `datetime.datetime.strptime`\n",
      "  df['timestamp'] = pd.to_datetime(df['timestamp']).apply(lambda t: t.tz_localize(None))\n"
     ]
    },
    {
     "name": "stdout",
     "output_type": "stream",
     "text": [
      "Generating statistical features\n",
      "Generating rolling features\n",
      "Step 194 of 269\n",
      "Generating time features\n",
      "Generating statistical features\n",
      "Generating rolling features\n",
      "Step 195 of 269\n",
      "Generating time features\n",
      "Generating statistical features\n",
      "Generating rolling features\n",
      "Step 196 of 269\n",
      "Generating time features\n",
      "Generating statistical features\n",
      "Generating rolling features\n",
      "Step 197 of 269\n",
      "Generating time features\n"
     ]
    },
    {
     "name": "stderr",
     "output_type": "stream",
     "text": [
      "C:\\Users\\timon\\AppData\\Local\\Temp\\ipykernel_11544\\1472667991.py:5: FutureWarning: In a future version of pandas, parsing datetimes with mixed time zones will raise a warning unless `utc=True`. Please specify `utc=True` to opt in to the new behaviour and silence this warning. To create a `Series` with mixed offsets and `object` dtype, please use `apply` and `datetime.datetime.strptime`\n",
      "  df['timestamp'] = pd.to_datetime(df['timestamp']).apply(lambda t: t.tz_localize(None))\n"
     ]
    },
    {
     "name": "stdout",
     "output_type": "stream",
     "text": [
      "Generating statistical features\n",
      "Generating rolling features\n",
      "Step 198 of 269\n",
      "Generating time features\n",
      "Generating statistical features\n",
      "Generating rolling features\n",
      "Step 199 of 269\n",
      "Generating time features\n"
     ]
    },
    {
     "name": "stderr",
     "output_type": "stream",
     "text": [
      "C:\\Users\\timon\\AppData\\Local\\Temp\\ipykernel_11544\\1472667991.py:5: FutureWarning: In a future version of pandas, parsing datetimes with mixed time zones will raise a warning unless `utc=True`. Please specify `utc=True` to opt in to the new behaviour and silence this warning. To create a `Series` with mixed offsets and `object` dtype, please use `apply` and `datetime.datetime.strptime`\n",
      "  df['timestamp'] = pd.to_datetime(df['timestamp']).apply(lambda t: t.tz_localize(None))\n"
     ]
    },
    {
     "name": "stdout",
     "output_type": "stream",
     "text": [
      "Generating statistical features\n",
      "Generating rolling features\n",
      "Step 200 of 269\n",
      "Generating time features\n",
      "Generating statistical features\n",
      "Generating rolling features\n",
      "Step 201 of 269\n",
      "Generating time features\n",
      "Generating statistical features\n",
      "Generating rolling features\n",
      "Step 202 of 269\n",
      "Generating time features\n",
      "Generating statistical features\n",
      "Generating rolling features\n",
      "Step 203 of 269\n",
      "Generating time features\n",
      "Generating statistical features\n",
      "Generating rolling features\n",
      "Step 204 of 269\n",
      "Generating time features\n",
      "Generating statistical features\n",
      "Generating rolling features\n",
      "Step 205 of 269\n",
      "Generating time features\n",
      "Generating statistical features\n",
      "Generating rolling features\n",
      "Step 206 of 269\n",
      "Generating time features\n",
      "Generating statistical features\n",
      "Generating rolling features\n",
      "Step 207 of 269\n",
      "Generating time features\n",
      "Generating statistical features\n",
      "Generating rolling features\n",
      "Step 208 of 269\n",
      "Generating time features\n",
      "Generating statistical features\n",
      "Generating rolling features\n",
      "Step 209 of 269\n",
      "Generating time features\n",
      "Generating statistical features\n",
      "Generating rolling features\n",
      "Step 210 of 269\n",
      "Generating time features\n",
      "Generating statistical features\n",
      "Generating rolling features\n",
      "Step 211 of 269\n",
      "Generating time features\n",
      "Generating statistical features\n",
      "Generating rolling features\n",
      "Step 212 of 269\n",
      "Generating time features\n",
      "Generating statistical features\n",
      "Generating rolling features\n",
      "Step 213 of 269\n",
      "Generating time features\n",
      "Generating statistical features\n",
      "Generating rolling features\n",
      "Step 214 of 269\n",
      "Generating time features\n",
      "Generating statistical features\n",
      "Generating rolling features\n",
      "Step 215 of 269\n",
      "Generating time features\n",
      "Generating statistical features\n",
      "Generating rolling features\n",
      "Step 216 of 269\n",
      "Generating time features\n",
      "Generating statistical features\n",
      "Generating rolling features\n",
      "Step 217 of 269\n",
      "Generating time features\n",
      "Generating statistical features\n",
      "Generating rolling features\n",
      "Step 218 of 269\n",
      "Generating time features\n",
      "Generating statistical features\n",
      "Generating rolling features\n",
      "Step 219 of 269\n",
      "Generating time features\n",
      "Generating statistical features\n",
      "Generating rolling features\n",
      "Step 220 of 269\n",
      "Generating time features\n",
      "Generating statistical features\n",
      "Generating rolling features\n",
      "Step 221 of 269\n",
      "Generating time features\n"
     ]
    },
    {
     "name": "stderr",
     "output_type": "stream",
     "text": [
      "C:\\Users\\timon\\AppData\\Local\\Temp\\ipykernel_11544\\1472667991.py:5: FutureWarning: In a future version of pandas, parsing datetimes with mixed time zones will raise a warning unless `utc=True`. Please specify `utc=True` to opt in to the new behaviour and silence this warning. To create a `Series` with mixed offsets and `object` dtype, please use `apply` and `datetime.datetime.strptime`\n",
      "  df['timestamp'] = pd.to_datetime(df['timestamp']).apply(lambda t: t.tz_localize(None))\n"
     ]
    },
    {
     "name": "stdout",
     "output_type": "stream",
     "text": [
      "Generating statistical features\n",
      "Generating rolling features\n",
      "Step 222 of 269\n",
      "Generating time features\n",
      "Generating statistical features\n",
      "Generating rolling features\n",
      "Step 223 of 269\n",
      "Generating time features\n",
      "Generating statistical features\n",
      "Generating rolling features\n",
      "Step 224 of 269\n",
      "Generating time features\n",
      "Generating statistical features\n",
      "Generating rolling features\n",
      "Step 225 of 269\n",
      "Generating time features\n",
      "Generating statistical features\n",
      "Generating rolling features\n",
      "Step 226 of 269\n",
      "Generating time features\n",
      "Generating statistical features\n",
      "Generating rolling features\n",
      "Step 227 of 269\n",
      "Generating time features\n",
      "Generating statistical features\n",
      "Generating rolling features\n",
      "Step 228 of 269\n",
      "Generating time features\n",
      "Generating statistical features\n",
      "Generating rolling features\n",
      "Step 229 of 269\n",
      "Generating time features\n",
      "Generating statistical features\n",
      "Generating rolling features\n",
      "Step 230 of 269\n",
      "Generating time features\n",
      "Generating statistical features\n",
      "Generating rolling features\n",
      "Step 231 of 269\n",
      "Generating time features\n"
     ]
    },
    {
     "name": "stderr",
     "output_type": "stream",
     "text": [
      "C:\\Users\\timon\\AppData\\Local\\Temp\\ipykernel_11544\\1472667991.py:5: FutureWarning: In a future version of pandas, parsing datetimes with mixed time zones will raise a warning unless `utc=True`. Please specify `utc=True` to opt in to the new behaviour and silence this warning. To create a `Series` with mixed offsets and `object` dtype, please use `apply` and `datetime.datetime.strptime`\n",
      "  df['timestamp'] = pd.to_datetime(df['timestamp']).apply(lambda t: t.tz_localize(None))\n"
     ]
    },
    {
     "name": "stdout",
     "output_type": "stream",
     "text": [
      "Generating statistical features\n",
      "Generating rolling features\n",
      "Step 232 of 269\n",
      "Generating time features\n"
     ]
    },
    {
     "name": "stderr",
     "output_type": "stream",
     "text": [
      "C:\\Users\\timon\\AppData\\Local\\Temp\\ipykernel_11544\\1472667991.py:5: FutureWarning: In a future version of pandas, parsing datetimes with mixed time zones will raise a warning unless `utc=True`. Please specify `utc=True` to opt in to the new behaviour and silence this warning. To create a `Series` with mixed offsets and `object` dtype, please use `apply` and `datetime.datetime.strptime`\n",
      "  df['timestamp'] = pd.to_datetime(df['timestamp']).apply(lambda t: t.tz_localize(None))\n"
     ]
    },
    {
     "name": "stdout",
     "output_type": "stream",
     "text": [
      "Generating statistical features\n",
      "Generating rolling features\n",
      "Step 233 of 269\n",
      "Generating time features\n",
      "Generating statistical features\n",
      "Generating rolling features\n",
      "Step 234 of 269\n",
      "Generating time features\n",
      "Generating statistical features\n",
      "Generating rolling features\n",
      "Step 235 of 269\n",
      "Generating time features\n",
      "Generating statistical features\n",
      "Generating rolling features\n",
      "Step 236 of 269\n",
      "Generating time features\n",
      "Generating statistical features\n",
      "Generating rolling features\n",
      "Step 237 of 269\n",
      "Generating time features\n",
      "Generating statistical features\n",
      "Generating rolling features\n",
      "Step 238 of 269\n",
      "Generating time features\n",
      "Generating statistical features\n",
      "Generating rolling features\n",
      "Step 239 of 269\n",
      "Generating time features\n",
      "Generating statistical features\n",
      "Generating rolling features\n",
      "Step 240 of 269\n",
      "Generating time features\n"
     ]
    },
    {
     "name": "stderr",
     "output_type": "stream",
     "text": [
      "C:\\Users\\timon\\AppData\\Local\\Temp\\ipykernel_11544\\1472667991.py:5: FutureWarning: In a future version of pandas, parsing datetimes with mixed time zones will raise a warning unless `utc=True`. Please specify `utc=True` to opt in to the new behaviour and silence this warning. To create a `Series` with mixed offsets and `object` dtype, please use `apply` and `datetime.datetime.strptime`\n",
      "  df['timestamp'] = pd.to_datetime(df['timestamp']).apply(lambda t: t.tz_localize(None))\n"
     ]
    },
    {
     "name": "stdout",
     "output_type": "stream",
     "text": [
      "Generating statistical features\n",
      "Generating rolling features\n",
      "Step 241 of 269\n",
      "Generating time features\n",
      "Generating statistical features\n",
      "Generating rolling features\n",
      "Step 242 of 269\n",
      "Generating time features\n"
     ]
    },
    {
     "name": "stderr",
     "output_type": "stream",
     "text": [
      "C:\\Users\\timon\\AppData\\Local\\Temp\\ipykernel_11544\\1472667991.py:5: FutureWarning: In a future version of pandas, parsing datetimes with mixed time zones will raise a warning unless `utc=True`. Please specify `utc=True` to opt in to the new behaviour and silence this warning. To create a `Series` with mixed offsets and `object` dtype, please use `apply` and `datetime.datetime.strptime`\n",
      "  df['timestamp'] = pd.to_datetime(df['timestamp']).apply(lambda t: t.tz_localize(None))\n"
     ]
    },
    {
     "name": "stdout",
     "output_type": "stream",
     "text": [
      "Generating statistical features\n",
      "Generating rolling features\n",
      "Step 243 of 269\n",
      "Generating time features\n",
      "Generating statistical features\n",
      "Generating rolling features\n",
      "Step 244 of 269\n",
      "Generating time features\n",
      "Generating statistical features\n",
      "Generating rolling features\n",
      "Step 245 of 269\n",
      "Generating time features\n",
      "Generating statistical features\n",
      "Generating rolling features\n",
      "Step 246 of 269\n",
      "Generating time features\n",
      "Generating statistical features\n",
      "Generating rolling features\n",
      "Step 247 of 269\n",
      "Generating time features\n",
      "Generating statistical features\n",
      "Generating rolling features\n",
      "Step 248 of 269\n",
      "Generating time features\n",
      "Generating statistical features\n",
      "Generating rolling features\n",
      "Step 249 of 269\n",
      "Generating time features\n",
      "Generating statistical features\n",
      "Generating rolling features\n",
      "Step 250 of 269\n",
      "Generating time features\n",
      "Generating statistical features\n",
      "Generating rolling features\n",
      "Step 251 of 269\n",
      "Generating time features\n",
      "Generating statistical features\n",
      "Generating rolling features\n",
      "Step 252 of 269\n",
      "Generating time features\n",
      "Generating statistical features\n",
      "Generating rolling features\n",
      "Step 253 of 269\n",
      "Generating time features\n"
     ]
    },
    {
     "name": "stderr",
     "output_type": "stream",
     "text": [
      "C:\\Users\\timon\\AppData\\Local\\Temp\\ipykernel_11544\\1472667991.py:5: FutureWarning: In a future version of pandas, parsing datetimes with mixed time zones will raise a warning unless `utc=True`. Please specify `utc=True` to opt in to the new behaviour and silence this warning. To create a `Series` with mixed offsets and `object` dtype, please use `apply` and `datetime.datetime.strptime`\n",
      "  df['timestamp'] = pd.to_datetime(df['timestamp']).apply(lambda t: t.tz_localize(None))\n"
     ]
    },
    {
     "name": "stdout",
     "output_type": "stream",
     "text": [
      "Generating statistical features\n",
      "Generating rolling features\n",
      "Step 254 of 269\n",
      "Generating time features\n",
      "Generating statistical features\n",
      "Generating rolling features\n",
      "Step 255 of 269\n",
      "Generating time features\n",
      "Generating statistical features\n",
      "Generating rolling features\n",
      "Step 256 of 269\n",
      "Generating time features\n",
      "Generating statistical features\n",
      "Generating rolling features\n",
      "Step 257 of 269\n",
      "Generating time features\n",
      "Generating statistical features\n",
      "Generating rolling features\n",
      "Step 258 of 269\n",
      "Generating time features\n",
      "Generating statistical features\n",
      "Generating rolling features\n",
      "Step 259 of 269\n",
      "Generating time features\n"
     ]
    },
    {
     "name": "stderr",
     "output_type": "stream",
     "text": [
      "C:\\Users\\timon\\AppData\\Local\\Temp\\ipykernel_11544\\1472667991.py:5: FutureWarning: In a future version of pandas, parsing datetimes with mixed time zones will raise a warning unless `utc=True`. Please specify `utc=True` to opt in to the new behaviour and silence this warning. To create a `Series` with mixed offsets and `object` dtype, please use `apply` and `datetime.datetime.strptime`\n",
      "  df['timestamp'] = pd.to_datetime(df['timestamp']).apply(lambda t: t.tz_localize(None))\n"
     ]
    },
    {
     "name": "stdout",
     "output_type": "stream",
     "text": [
      "Generating statistical features\n",
      "Generating rolling features\n",
      "Step 260 of 269\n",
      "Generating time features\n",
      "Generating statistical features\n",
      "Generating rolling features\n",
      "Step 261 of 269\n",
      "Generating time features\n",
      "Generating statistical features\n",
      "Generating rolling features\n",
      "Step 262 of 269\n",
      "Generating time features\n",
      "Generating statistical features\n",
      "Generating rolling features\n",
      "Step 263 of 269\n",
      "Generating time features\n",
      "Generating statistical features\n",
      "Generating rolling features\n",
      "Step 264 of 269\n",
      "Generating time features\n",
      "Generating statistical features\n",
      "Generating rolling features\n",
      "Step 265 of 269\n",
      "Generating time features\n",
      "Generating statistical features\n",
      "Generating rolling features\n",
      "Step 266 of 269\n",
      "Generating time features\n",
      "Generating statistical features\n",
      "Generating rolling features\n",
      "Step 267 of 269\n",
      "Generating time features\n",
      "Generating statistical features\n",
      "Generating rolling features\n",
      "Step 268 of 269\n",
      "Generating time features\n",
      "Generating statistical features\n",
      "Generating rolling features\n",
      "Step 269 of 269\n",
      "Generating time features\n",
      "Generating statistical features\n",
      "Generating rolling features\n",
      "Feature Engineering took 3225.0425069332123 seconds\n"
     ]
    }
   ],
   "source": [
    "start_time = time.time()\n",
    "train_with_features = make_features(train)\n",
    "print(f'Feature Engineering took {time.time() - start_time} seconds')"
   ]
  },
  {
   "cell_type": "markdown",
   "id": "23e8de80db438b8e",
   "metadata": {},
   "source": [
    "## Daten speichern"
   ]
  },
  {
   "cell_type": "code",
   "execution_count": 7,
   "id": "22e9ec9f0edb7bf1",
   "metadata": {
    "is_executing": true
   },
   "outputs": [],
   "source": [
    "train_with_features.to_parquet('../data/processed/train_with_features.parquet')"
   ]
  }
 ],
 "metadata": {
  "kernelspec": {
   "display_name": "ai-challenge",
   "language": "python",
   "name": "ai-challenge"
  },
  "language_info": {
   "codemirror_mode": {
    "name": "ipython",
    "version": 3
   },
   "file_extension": ".py",
   "mimetype": "text/x-python",
   "name": "python",
   "nbconvert_exporter": "python",
   "pygments_lexer": "ipython3",
   "version": "3.11.5"
  }
 },
 "nbformat": 4,
 "nbformat_minor": 5
}
