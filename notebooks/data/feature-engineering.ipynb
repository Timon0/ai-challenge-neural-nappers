{
 "cells": [
  {
   "cell_type": "markdown",
   "id": "68b5b0c4",
   "metadata": {},
   "source": [
    "# Feature Engineering"
   ]
  },
  {
   "cell_type": "code",
   "execution_count": 1,
   "id": "c30219bf",
   "metadata": {
    "ExecuteTime": {
     "end_time": "2023-09-29T12:45:00.780002600Z",
     "start_time": "2023-09-29T12:44:58.091438100Z"
    }
   },
   "outputs": [],
   "source": [
    "import pandas as pd\n",
    "import numpy as np\n",
    "\n",
    "from tqdm import tqdm\n",
    "\n",
    "import time\n",
    "import gc"
   ]
  },
  {
   "cell_type": "markdown",
   "id": "abc62c52",
   "metadata": {},
   "source": [
    "## Daten laden"
   ]
  },
  {
   "cell_type": "code",
   "execution_count": 2,
   "id": "324a560c",
   "metadata": {
    "ExecuteTime": {
     "end_time": "2023-09-29T12:45:52.408420500Z",
     "start_time": "2023-09-29T12:45:00.786090800Z"
    }
   },
   "outputs": [],
   "source": [
    "train_series = pd.read_parquet('../../data/processed/train.parquet', columns=['series_id'])"
   ]
  },
  {
   "cell_type": "markdown",
   "id": "fb74cd20c7a91f81",
   "metadata": {},
   "source": [
    "## Neue Features erstellen"
   ]
  },
  {
   "cell_type": "code",
   "execution_count": 3,
   "id": "fb3311790da76ec5",
   "metadata": {
    "ExecuteTime": {
     "end_time": "2023-09-29T12:45:52.419364600Z",
     "start_time": "2023-09-29T12:45:52.414327300Z"
    }
   },
   "outputs": [],
   "source": [
    "# Hyperparams\n",
    "NUM_STEPS = 20"
   ]
  },
  {
   "cell_type": "code",
   "execution_count": 4,
   "id": "5f7819507cd29d98",
   "metadata": {
    "ExecuteTime": {
     "end_time": "2023-09-29T12:45:52.429714800Z",
     "start_time": "2023-09-29T12:45:52.419364600Z"
    }
   },
   "outputs": [],
   "source": [
    "def make_features_chunck(series_id, periods=NUM_STEPS):\n",
    "    df = pd.read_parquet('../../data/processed/train.parquet', filters=[('series_id','=',series_id)])\n",
    "    \n",
    "    df[\"hour\"] = df['timestamp'].str[11:13]\n",
    "    \n",
    "    df[\"anglez_abs\"] = abs(df[\"anglez\"])\n",
    "    df[\"anglez_diff\"] = df.groupby('series_id')['anglez'].diff(periods=periods).bfill().astype('float32')\n",
    "    df[\"enmo_diff\"] = df.groupby('series_id')['enmo'].diff(periods=periods).bfill().astype('float32')\n",
    "    df['anglez_x_enmo'] = df['anglez'] * df['enmo']\n",
    "    \n",
    "    df[\"anglez_rolling_mean\"] = df[\"anglez\"].rolling(periods,center=True).mean().bfill().ffill().astype('float32')\n",
    "    df[\"enmo_rolling_mean\"] = df[\"enmo\"].rolling(periods,center=True).mean().bfill().ffill().astype('float32')\n",
    "    df[\"anglez_rolling_max\"] = df[\"anglez\"].rolling(periods,center=True).max().bfill().ffill().astype('float32')\n",
    "    df[\"enmo_rolling_max\"] = df[\"enmo\"].rolling(periods,center=True).max().bfill().ffill().astype('float32')\n",
    "    df[\"anglez_rolling_min\"] = df[\"anglez\"].rolling(periods,center=True).min().bfill().ffill().astype('float32')\n",
    "    df[\"enmo_rolling_min\"] = df[\"enmo\"].rolling(periods,center=True).min().bfill().ffill().astype('float32')\n",
    "    df[\"anglez_rolling_std\"] = df[\"anglez\"].rolling(periods,center=True).std().bfill().ffill().astype('float32')\n",
    "    df[\"enmo_rolling_std\"] = df[\"enmo\"].rolling(periods,center=True).std().bfill().ffill().astype('float32')    \n",
    "    \n",
    "    return df"
   ]
  },
  {
   "cell_type": "code",
   "execution_count": 5,
   "id": "16b52907",
   "metadata": {},
   "outputs": [],
   "source": [
    "def make_features(train):\n",
    "    train_data = []\n",
    "\n",
    "    for series_id in tqdm(train.series_id.unique()):\n",
    "        chunck = make_features_chunck(series_id)\n",
    "        train_data.append(chunck)\n",
    "        \n",
    "        del chunck\n",
    "        gc.collect()\n",
    "\n",
    "    return pd.concat(train_data).reset_index(drop=True)"
   ]
  },
  {
   "cell_type": "code",
   "execution_count": 6,
   "id": "c0d067155defaebc",
   "metadata": {
    "ExecuteTime": {
     "start_time": "2023-09-29T12:45:52.429714800Z"
    },
    "is_executing": true,
    "scrolled": true
   },
   "outputs": [
    {
     "name": "stderr",
     "output_type": "stream",
     "text": [
      "100%|████████████████████████████████████████████████████████████████████████████████| 269/269 [21:32<00:00,  4.80s/it]\n"
     ]
    },
    {
     "name": "stdout",
     "output_type": "stream",
     "text": [
      "Feature Engineering took 1748.421234846115 seconds\n"
     ]
    }
   ],
   "source": [
    "start_time = time.time()\n",
    "train_with_features = make_features(train_series)\n",
    "print(f'Feature Engineering took {time.time() - start_time} seconds')"
   ]
  },
  {
   "cell_type": "code",
   "execution_count": 7,
   "id": "f4c23eb4",
   "metadata": {},
   "outputs": [
    {
     "data": {
      "text/html": [
       "<div>\n",
       "<style scoped>\n",
       "    .dataframe tbody tr th:only-of-type {\n",
       "        vertical-align: middle;\n",
       "    }\n",
       "\n",
       "    .dataframe tbody tr th {\n",
       "        vertical-align: top;\n",
       "    }\n",
       "\n",
       "    .dataframe thead th {\n",
       "        text-align: right;\n",
       "    }\n",
       "</style>\n",
       "<table border=\"1\" class=\"dataframe\">\n",
       "  <thead>\n",
       "    <tr style=\"text-align: right;\">\n",
       "      <th></th>\n",
       "      <th>series_id</th>\n",
       "      <th>step</th>\n",
       "      <th>timestamp</th>\n",
       "      <th>anglez</th>\n",
       "      <th>enmo</th>\n",
       "      <th>awake</th>\n",
       "      <th>unknown</th>\n",
       "      <th>hour</th>\n",
       "      <th>anglez_abs</th>\n",
       "      <th>anglez_diff</th>\n",
       "      <th>enmo_diff</th>\n",
       "      <th>anglez_x_enmo</th>\n",
       "      <th>anglez_rolling_mean</th>\n",
       "      <th>enmo_rolling_mean</th>\n",
       "      <th>anglez_rolling_max</th>\n",
       "      <th>enmo_rolling_max</th>\n",
       "      <th>anglez_rolling_min</th>\n",
       "      <th>enmo_rolling_min</th>\n",
       "      <th>anglez_rolling_std</th>\n",
       "      <th>enmo_rolling_std</th>\n",
       "    </tr>\n",
       "  </thead>\n",
       "  <tbody>\n",
       "    <tr>\n",
       "      <th>0</th>\n",
       "      <td>038441c925bb</td>\n",
       "      <td>0</td>\n",
       "      <td>2018-08-14T15:30:00-0400</td>\n",
       "      <td>2.6367</td>\n",
       "      <td>0.0217</td>\n",
       "      <td>1</td>\n",
       "      <td>0</td>\n",
       "      <td>15</td>\n",
       "      <td>2.6367</td>\n",
       "      <td>41.462601</td>\n",
       "      <td>-0.0047</td>\n",
       "      <td>0.057216</td>\n",
       "      <td>7.573975</td>\n",
       "      <td>0.02233</td>\n",
       "      <td>54.8498</td>\n",
       "      <td>0.0395</td>\n",
       "      <td>2.4129</td>\n",
       "      <td>0.0166</td>\n",
       "      <td>15.339381</td>\n",
       "      <td>0.004213</td>\n",
       "    </tr>\n",
       "    <tr>\n",
       "      <th>1</th>\n",
       "      <td>038441c925bb</td>\n",
       "      <td>1</td>\n",
       "      <td>2018-08-14T15:30:05-0400</td>\n",
       "      <td>2.6368</td>\n",
       "      <td>0.0215</td>\n",
       "      <td>1</td>\n",
       "      <td>0</td>\n",
       "      <td>15</td>\n",
       "      <td>2.6368</td>\n",
       "      <td>41.462601</td>\n",
       "      <td>-0.0047</td>\n",
       "      <td>0.056691</td>\n",
       "      <td>7.573975</td>\n",
       "      <td>0.02233</td>\n",
       "      <td>54.8498</td>\n",
       "      <td>0.0395</td>\n",
       "      <td>2.4129</td>\n",
       "      <td>0.0166</td>\n",
       "      <td>15.339381</td>\n",
       "      <td>0.004213</td>\n",
       "    </tr>\n",
       "    <tr>\n",
       "      <th>2</th>\n",
       "      <td>038441c925bb</td>\n",
       "      <td>2</td>\n",
       "      <td>2018-08-14T15:30:10-0400</td>\n",
       "      <td>2.6370</td>\n",
       "      <td>0.0216</td>\n",
       "      <td>1</td>\n",
       "      <td>0</td>\n",
       "      <td>15</td>\n",
       "      <td>2.6370</td>\n",
       "      <td>41.462601</td>\n",
       "      <td>-0.0047</td>\n",
       "      <td>0.056959</td>\n",
       "      <td>7.573975</td>\n",
       "      <td>0.02233</td>\n",
       "      <td>54.8498</td>\n",
       "      <td>0.0395</td>\n",
       "      <td>2.4129</td>\n",
       "      <td>0.0166</td>\n",
       "      <td>15.339381</td>\n",
       "      <td>0.004213</td>\n",
       "    </tr>\n",
       "    <tr>\n",
       "      <th>3</th>\n",
       "      <td>038441c925bb</td>\n",
       "      <td>3</td>\n",
       "      <td>2018-08-14T15:30:15-0400</td>\n",
       "      <td>2.6368</td>\n",
       "      <td>0.0213</td>\n",
       "      <td>1</td>\n",
       "      <td>0</td>\n",
       "      <td>15</td>\n",
       "      <td>2.6368</td>\n",
       "      <td>41.462601</td>\n",
       "      <td>-0.0047</td>\n",
       "      <td>0.056164</td>\n",
       "      <td>7.573975</td>\n",
       "      <td>0.02233</td>\n",
       "      <td>54.8498</td>\n",
       "      <td>0.0395</td>\n",
       "      <td>2.4129</td>\n",
       "      <td>0.0166</td>\n",
       "      <td>15.339381</td>\n",
       "      <td>0.004213</td>\n",
       "    </tr>\n",
       "    <tr>\n",
       "      <th>4</th>\n",
       "      <td>038441c925bb</td>\n",
       "      <td>4</td>\n",
       "      <td>2018-08-14T15:30:20-0400</td>\n",
       "      <td>2.6368</td>\n",
       "      <td>0.0215</td>\n",
       "      <td>1</td>\n",
       "      <td>0</td>\n",
       "      <td>15</td>\n",
       "      <td>2.6368</td>\n",
       "      <td>41.462601</td>\n",
       "      <td>-0.0047</td>\n",
       "      <td>0.056691</td>\n",
       "      <td>7.573975</td>\n",
       "      <td>0.02233</td>\n",
       "      <td>54.8498</td>\n",
       "      <td>0.0395</td>\n",
       "      <td>2.4129</td>\n",
       "      <td>0.0166</td>\n",
       "      <td>15.339381</td>\n",
       "      <td>0.004213</td>\n",
       "    </tr>\n",
       "  </tbody>\n",
       "</table>\n",
       "</div>"
      ],
      "text/plain": [
       "      series_id  step                 timestamp  anglez    enmo  awake  \\\n",
       "0  038441c925bb     0  2018-08-14T15:30:00-0400  2.6367  0.0217      1   \n",
       "1  038441c925bb     1  2018-08-14T15:30:05-0400  2.6368  0.0215      1   \n",
       "2  038441c925bb     2  2018-08-14T15:30:10-0400  2.6370  0.0216      1   \n",
       "3  038441c925bb     3  2018-08-14T15:30:15-0400  2.6368  0.0213      1   \n",
       "4  038441c925bb     4  2018-08-14T15:30:20-0400  2.6368  0.0215      1   \n",
       "\n",
       "   unknown hour  anglez_abs  anglez_diff  enmo_diff  anglez_x_enmo  \\\n",
       "0        0   15      2.6367    41.462601    -0.0047       0.057216   \n",
       "1        0   15      2.6368    41.462601    -0.0047       0.056691   \n",
       "2        0   15      2.6370    41.462601    -0.0047       0.056959   \n",
       "3        0   15      2.6368    41.462601    -0.0047       0.056164   \n",
       "4        0   15      2.6368    41.462601    -0.0047       0.056691   \n",
       "\n",
       "   anglez_rolling_mean  enmo_rolling_mean  anglez_rolling_max  \\\n",
       "0             7.573975            0.02233             54.8498   \n",
       "1             7.573975            0.02233             54.8498   \n",
       "2             7.573975            0.02233             54.8498   \n",
       "3             7.573975            0.02233             54.8498   \n",
       "4             7.573975            0.02233             54.8498   \n",
       "\n",
       "   enmo_rolling_max  anglez_rolling_min  enmo_rolling_min  anglez_rolling_std  \\\n",
       "0            0.0395              2.4129            0.0166           15.339381   \n",
       "1            0.0395              2.4129            0.0166           15.339381   \n",
       "2            0.0395              2.4129            0.0166           15.339381   \n",
       "3            0.0395              2.4129            0.0166           15.339381   \n",
       "4            0.0395              2.4129            0.0166           15.339381   \n",
       "\n",
       "   enmo_rolling_std  \n",
       "0          0.004213  \n",
       "1          0.004213  \n",
       "2          0.004213  \n",
       "3          0.004213  \n",
       "4          0.004213  "
      ]
     },
     "execution_count": 7,
     "metadata": {},
     "output_type": "execute_result"
    }
   ],
   "source": [
    "train_with_features.head()"
   ]
  },
  {
   "cell_type": "markdown",
   "id": "23e8de80db438b8e",
   "metadata": {},
   "source": [
    "## Daten speichern"
   ]
  },
  {
   "cell_type": "code",
   "execution_count": 8,
   "id": "22e9ec9f0edb7bf1",
   "metadata": {
    "is_executing": true
   },
   "outputs": [],
   "source": [
    "train_with_features.to_parquet('../../data/processed/train_with_features.parquet')"
   ]
  }
 ],
 "metadata": {
  "kernelspec": {
   "display_name": "ai-challenge",
   "language": "python",
   "name": "ai-challenge"
  },
  "language_info": {
   "codemirror_mode": {
    "name": "ipython",
    "version": 3
   },
   "file_extension": ".py",
   "mimetype": "text/x-python",
   "name": "python",
   "nbconvert_exporter": "python",
   "pygments_lexer": "ipython3",
   "version": "3.11.5"
  }
 },
 "nbformat": 4,
 "nbformat_minor": 5
}
