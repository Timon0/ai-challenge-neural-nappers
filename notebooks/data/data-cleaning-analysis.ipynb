{
 "cells": [
  {
   "cell_type": "markdown",
   "id": "3844527d",
   "metadata": {},
   "source": [
    "# Datenanalyse Unknown"
   ]
  },
  {
   "cell_type": "code",
   "execution_count": 1,
   "id": "3afcf659",
   "metadata": {},
   "outputs": [],
   "source": [
    "# Base\n",
    "import numpy as np\n",
    "import pandas as pd\n",
    "import gc\n",
    "from tqdm import tqdm\n",
    "import seaborn as sns\n",
    "from datetime import datetime\n",
    "\n",
    "# Visualisation\n",
    "import matplotlib.pyplot as plt\n",
    "import plotly.express as px\n",
    "import plotly.graph_objects as go\n",
    "import seaborn as sns\n",
    "\n",
    "\n",
    "# Scoring\n",
    "from sklearn.metrics import accuracy_score\n",
    "from sklearn.metrics import recall_score\n",
    "from sklearn.metrics import precision_score\n",
    "from sklearn.metrics import f1_score\n",
    "from sklearn.metrics import confusion_matrix, ConfusionMatrixDisplay"
   ]
  },
  {
   "cell_type": "markdown",
   "id": "cdbe17cd",
   "metadata": {},
   "source": [
    "## Daten laden"
   ]
  },
  {
   "cell_type": "code",
   "execution_count": 2,
   "id": "4ec63936",
   "metadata": {},
   "outputs": [],
   "source": [
    "train_events = pd.read_csv('../../data/raw/train_events.csv')"
   ]
  },
  {
   "cell_type": "markdown",
   "id": "721b58a9",
   "metadata": {},
   "source": [
    "##  Cleaning"
   ]
  },
  {
   "cell_type": "code",
   "execution_count": 3,
   "id": "0cd3e112",
   "metadata": {},
   "outputs": [],
   "source": [
    "### PARAMS\n",
    "ANGLEZ_VARIANCE_SEQUENCE_LENGTH = 6 * 60 * 12 # 8h\n",
    "ANGLEZ_REPETITION_SEQUENCE_LENGTH = 4 * 60 * 12 # 4h\n",
    "\n",
    "UNKNOWN_BUFFER = 0.5 * 60 * 12 # 0.5h\n",
    "CLEAN_BUFFER = 3 * 60 * 12 # 2h"
   ]
  },
  {
   "cell_type": "code",
   "execution_count": 4,
   "id": "5becac65",
   "metadata": {},
   "outputs": [],
   "source": [
    "def mark_unknown(series, events):\n",
    "    series['unknown'] = 0\n",
    "\n",
    "    previous_defined_event = None\n",
    "    for index, current_event in events.iterrows():\n",
    "        if np.isnan(current_event['step']):\n",
    "            next_events = events[index:]\n",
    "            next_defined_events = next_events[next_events['step'].notna()]\n",
    "            next_defined_event = next_defined_events.iloc[0] if len(next_defined_events) > 0 else None\n",
    "\n",
    "            unknown_start_step = previous_defined_event['step'] + UNKNOWN_BUFFER if previous_defined_event is not None else 0\n",
    "            unknown_end_step = next_defined_event['step'] - UNKNOWN_BUFFER if next_defined_event is not None else series.iloc[-1]['step'] + 1\n",
    "\n",
    "            series.loc[unknown_start_step:unknown_end_step, 'unknown'] = 1\n",
    "\n",
    "            continue\n",
    "\n",
    "        previous_defined_event = current_event\n",
    "    \n",
    "    ## Fix if after last event are many more steps\n",
    "    last_event = events.iloc[-1]\n",
    "    \n",
    "    if not(np.isnan(last_event['step'])):\n",
    "        last_step = series.iloc[-1]\n",
    "        last_event_date = datetime.strptime(last_event['timestamp'][0:10], '%Y-%m-%d').date()\n",
    "        last_step_date = datetime.strptime(last_step['timestamp'][0:10], '%Y-%m-%d').date()\n",
    "    \n",
    "        if last_event_date < last_step_date:\n",
    "            series.loc[last_event['step'] + UNKNOWN_BUFFER:, 'unknown'] = 1\n",
    "        \n",
    "    return series"
   ]
  },
  {
   "cell_type": "code",
   "execution_count": 5,
   "id": "8f41a3c2",
   "metadata": {},
   "outputs": [],
   "source": [
    "def mark_clean_anglez_too_low_variance(series):\n",
    "    last_step = series.iloc[-1]['step']       \n",
    "    \n",
    "    for current_start_step in range(0, len(series), ANGLEZ_VARIANCE_SEQUENCE_LENGTH):\n",
    "        current_end_step = current_start_step + ANGLEZ_VARIANCE_SEQUENCE_LENGTH\n",
    "\n",
    "        series_chunk = series[current_start_step:current_end_step]\n",
    "\n",
    "        series_chunk_anglez = series_chunk['anglez'].abs()\n",
    "        if not (series_chunk_anglez > 50).any():\n",
    "            clean_from = max(0, current_start_step - CLEAN_BUFFER)\n",
    "            clean_to = min(last_step, current_end_step + CLEAN_BUFFER)\n",
    "            \n",
    "            series.loc[clean_from:clean_to, 'clean'] = 1\n",
    "\n",
    "    return series"
   ]
  },
  {
   "cell_type": "code",
   "execution_count": 6,
   "id": "d039e213",
   "metadata": {},
   "outputs": [],
   "source": [
    "def mark_clean_repetition(series):\n",
    "    last_step = series.iloc[-1]['step']       \n",
    "\n",
    "    for current_start_step in range(0, len(series), ANGLEZ_REPETITION_SEQUENCE_LENGTH):\n",
    "        current_end_step = current_start_step + ANGLEZ_REPETITION_SEQUENCE_LENGTH\n",
    "\n",
    "        series_chunk = series[current_start_step:current_end_step].reset_index(drop=True)\n",
    "\n",
    "        for comparing_start_step in range(current_end_step, len(series), ANGLEZ_REPETITION_SEQUENCE_LENGTH):\n",
    "            comparing_end_step = comparing_start_step + ANGLEZ_REPETITION_SEQUENCE_LENGTH\n",
    "            comparing_series_chunk = series[comparing_start_step:comparing_end_step].reset_index(drop=True)\n",
    "\n",
    "            if series_chunk['anglez'].equals(comparing_series_chunk['anglez']):\n",
    "                clean_from = max(0, current_start_step - CLEAN_BUFFER)\n",
    "                clean_to = min(last_step, current_end_step + CLEAN_BUFFER)\n",
    "                series.loc[clean_from:clean_to, 'clean'] = 1\n",
    "                \n",
    "                clean_from = max(0, comparing_start_step - CLEAN_BUFFER)\n",
    "                clean_to = min(last_step, comparing_end_step + CLEAN_BUFFER)\n",
    "                series.loc[clean_from:clean_to, 'clean'] = 1\n",
    "\n",
    "    return series"
   ]
  },
  {
   "cell_type": "code",
   "execution_count": 7,
   "id": "0fc543ef",
   "metadata": {},
   "outputs": [],
   "source": [
    "def mark_clean(series):\n",
    "    series['clean'] = 0\n",
    "\n",
    "    series = mark_clean_anglez_too_low_variance(series)\n",
    "    series = mark_clean_repetition(series)\n",
    "\n",
    "    return series"
   ]
  },
  {
   "cell_type": "code",
   "execution_count": 8,
   "id": "a3188173",
   "metadata": {},
   "outputs": [],
   "source": [
    "def cleaning(series_id):\n",
    "    events = pd.read_csv('../../data/raw/train_events.csv')\n",
    "    events = events[events.series_id == series_id].reset_index(drop=True)\n",
    "    series = pd.read_parquet('../../data/raw/train_series.parquet', filters=[('series_id', '=', series_id)])\n",
    "    \n",
    "    series = mark_unknown(series, events)\n",
    "    series = mark_clean(series)\n",
    "    return series"
   ]
  },
  {
   "cell_type": "code",
   "execution_count": 9,
   "id": "8beca4c6",
   "metadata": {},
   "outputs": [
    {
     "name": "stderr",
     "output_type": "stream",
     "text": [
      "100%|████████████████████████████████████████████████████████████████████████████████| 277/277 [40:17<00:00,  8.73s/it]\n"
     ]
    }
   ],
   "source": [
    "series_data = []\n",
    "\n",
    "for series_id in tqdm(train_events.series_id.unique()):\n",
    "    series = cleaning(series_id)\n",
    "    series_data.append(series)\n",
    "    \n",
    "    del series\n",
    "    gc.collect()\n",
    "\n",
    "train_series_cleaned = pd.concat(series_data).reset_index(drop=True)"
   ]
  },
  {
   "cell_type": "markdown",
   "id": "460ae4e0",
   "metadata": {},
   "source": [
    "## Evaluation"
   ]
  },
  {
   "cell_type": "code",
   "execution_count": 10,
   "id": "d80f0715",
   "metadata": {},
   "outputs": [
    {
     "data": {
      "text/plain": [
       "0.8829841478857465"
      ]
     },
     "execution_count": 10,
     "metadata": {},
     "output_type": "execute_result"
    }
   ],
   "source": [
    "accuracy_score(train_series_cleaned['unknown'], train_series_cleaned['clean'])"
   ]
  },
  {
   "cell_type": "code",
   "execution_count": 11,
   "id": "f9c95716",
   "metadata": {},
   "outputs": [
    {
     "data": {
      "text/plain": [
       "0.7238933908686597"
      ]
     },
     "execution_count": 11,
     "metadata": {},
     "output_type": "execute_result"
    }
   ],
   "source": [
    "recall_score(train_series_cleaned['unknown'], train_series_cleaned['clean'])"
   ]
  },
  {
   "cell_type": "code",
   "execution_count": 12,
   "id": "ed54404a",
   "metadata": {},
   "outputs": [
    {
     "data": {
      "text/plain": [
       "0.9755080564052998"
      ]
     },
     "execution_count": 12,
     "metadata": {},
     "output_type": "execute_result"
    }
   ],
   "source": [
    "precision_score(train_series_cleaned['unknown'], train_series_cleaned['clean'])"
   ]
  },
  {
   "cell_type": "code",
   "execution_count": 13,
   "id": "acdc9737",
   "metadata": {},
   "outputs": [
    {
     "data": {
      "text/plain": [
       "0.8310735946514559"
      ]
     },
     "execution_count": 13,
     "metadata": {},
     "output_type": "execute_result"
    }
   ],
   "source": [
    "f1_score(train_series_cleaned['unknown'], train_series_cleaned['clean'])"
   ]
  },
  {
   "cell_type": "code",
   "execution_count": 14,
   "id": "df5532d6",
   "metadata": {},
   "outputs": [
    {
     "data": {
      "text/plain": [
       "<sklearn.metrics._plot.confusion_matrix.ConfusionMatrixDisplay at 0x1ef66a9abe0>"
      ]
     },
     "execution_count": 14,
     "metadata": {},
     "output_type": "execute_result"
    },
    {
     "data": {
      "image/png": "[encoded data removed]",
      "text/plain": [
       "<Figure size 640x480 with 2 Axes>"
      ]
     },
     "metadata": {},
     "output_type": "display_data"
    }
   ],
   "source": [
    "cm = confusion_matrix(train_series_cleaned['unknown'], train_series_cleaned['clean'])\n",
    "\n",
    "disp = ConfusionMatrixDisplay(confusion_matrix=cm)\n",
    "disp.plot(cmap='Blues')"
   ]
  },
  {
   "cell_type": "markdown",
   "id": "a191b613",
   "metadata": {},
   "source": [
    "## Daten speichern für weitere Analysen"
   ]
  },
  {
   "cell_type": "code",
   "execution_count": 15,
   "id": "5bc23359",
   "metadata": {},
   "outputs": [],
   "source": [
    "train_series_cleaned.to_parquet('../../data/cleaning_analysis_new_v4.parquet')"
   ]
  }
 ],
 "metadata": {
  "kernelspec": {
   "display_name": "Python 3 (ipykernel)",
   "language": "python",
   "name": "python3"
  },
  "language_info": {
   "codemirror_mode": {
    "name": "ipython",
    "version": 3
   },
   "file_extension": ".py",
   "mimetype": "text/x-python",
   "name": "python",
   "nbconvert_exporter": "python",
   "pygments_lexer": "ipython3",
   "version": "3.8.3"
  }
 },
 "nbformat": 4,
 "nbformat_minor": 5
}
