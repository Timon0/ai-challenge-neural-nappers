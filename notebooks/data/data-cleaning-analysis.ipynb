{
 "cells": [
  {
   "cell_type": "markdown",
   "id": "3844527d",
   "metadata": {},
   "source": [
    "# Datenanalyse Unknown"
   ]
  },
  {
   "cell_type": "code",
   "execution_count": 1,
   "id": "3afcf659",
   "metadata": {},
   "outputs": [],
   "source": [
    "# Base\n",
    "import numpy as np\n",
    "import pandas as pd\n",
    "import gc\n",
    "from tqdm import tqdm\n",
    "import seaborn as sns\n",
    "\n",
    "# Visualisation\n",
    "import matplotlib.pyplot as plt\n",
    "import plotly.express as px\n",
    "import plotly.graph_objects as go\n",
    "import seaborn as sns\n",
    "\n",
    "\n",
    "# Scoring\n",
    "from sklearn.metrics import accuracy_score\n",
    "from sklearn.metrics import recall_score\n",
    "from sklearn.metrics import precision_score\n",
    "from sklearn.metrics import f1_score\n",
    "from sklearn.metrics import confusion_matrix, ConfusionMatrixDisplay"
   ]
  },
  {
   "cell_type": "markdown",
   "id": "cdbe17cd",
   "metadata": {},
   "source": [
    "## Daten laden"
   ]
  },
  {
   "cell_type": "code",
   "execution_count": 2,
   "id": "4ec63936",
   "metadata": {},
   "outputs": [],
   "source": [
    "train_events = pd.read_csv('../../data/raw/train_events.csv')"
   ]
  },
  {
   "cell_type": "markdown",
   "id": "066b9681",
   "metadata": {},
   "source": [
    "## Serien ohne Events entfernen"
   ]
  },
  {
   "cell_type": "code",
   "execution_count": 3,
   "id": "a9f3e86d",
   "metadata": {},
   "outputs": [],
   "source": [
    "series_id_list = train_events['series_id'].unique().tolist()\n",
    "events_series_id_list = train_events.dropna()['series_id'].unique().tolist()\n",
    "series_without_events = list(set(series_id_list) - set(events_series_id_list))\n",
    "\n",
    "train_events = train_events[~train_events.series_id.isin(series_without_events)]"
   ]
  },
  {
   "cell_type": "markdown",
   "id": "721b58a9",
   "metadata": {},
   "source": [
    "##  Unknown state"
   ]
  },
  {
   "cell_type": "code",
   "execution_count": 4,
   "id": "deb976c3",
   "metadata": {},
   "outputs": [],
   "source": [
    "sequence_length = 8 * 60 * 12 # 17280 Steps = 1 Day\n",
    "plot_series = True\n",
    "\n",
    "def remove_duplicates(series_id, buffer_size):\n",
    "    series = pd.read_parquet('../../data/raw/train_series.parquet', filters=[('series_id','=',series_id)])\n",
    "    \n",
    "    ## Unknown\n",
    "    series['unknown'] = 0\n",
    "    train_events_filtered = train_events[train_events['series_id'] == series_id]\n",
    "    true_events = train_events_filtered[train_events_filtered['step'].notna()].reset_index()\n",
    "    events_with_na = pd.concat([train_events_filtered])\n",
    "  \n",
    "    last_event = train_events_filtered.iloc[0]\n",
    "    for index, row in train_events_filtered.iterrows():\n",
    "      if np.isnan(row['step']):\n",
    "          series.loc[(series['step'] > (last_event['step'] + buffer_size)), 'unknown'] = 1\n",
    "      else:\n",
    "          current_idx = true_events[true_events['step'] == row['step']].index\n",
    "      \n",
    "          if true_events.shape[0] > (current_idx[0] + 1):\n",
    "              next_step = true_events.iloc[(current_idx[0] + 1)]['step']\n",
    "              series.loc[((series['step'] >= (row['step'] - buffer_size)) & (series['step'] < (next_step + buffer_size))), 'unknown'] = 0\n",
    "          elif true_events.shape[0] == (current_idx[0] + 1):\n",
    "              series.loc[series['step'] >= (row['step'] - buffer_size), 'unknown'] = 0\n",
    "\n",
    "          last_event = row\n",
    "\n",
    "    last_event = train_events_filtered.iloc[len(train_events_filtered) - 1]\n",
    "    last_step = series.iloc[len(series) - 1]\n",
    "    \n",
    "    if not(np.isnan(last_event['step'])) and last_event['timestamp'][0:10] < last_step['timestamp'][0:10]:\n",
    "        series.loc[(series['step'] > (last_event['step'] + buffer_size)), 'unknown'] = 1\n",
    "       \n",
    "    ## Cleaning\n",
    "    series['clean'] = 0\n",
    "    multiplicator = 0\n",
    "    indices_to_clean = []\n",
    "    while True:\n",
    "        comparing_sequence = series[multiplicator*sequence_length:(multiplicator+1)*sequence_length]\n",
    "        # Get 24 Hours (s1) and the next 24 Hours (s2)\n",
    "        s1 = series[multiplicator*sequence_length:(multiplicator+1)*sequence_length]['anglez'].reset_index(drop=True)\n",
    "        s2 = series[(multiplicator+1)*sequence_length:(multiplicator+2)*sequence_length]['anglez'].reset_index(drop=True)\n",
    "\n",
    "        # If the length is not the same, its the last part of the series\n",
    "        if len(s1) != len(s2):\n",
    "            # If the last part of the series is the same as the part 24 hours before, remove that as well\n",
    "            # if s1[:len(s2)].equals(s2):\n",
    "            #     indices_to_clean.append((len(series)-len(s2), len(series)))\n",
    "            break\n",
    "\n",
    "        # # If the 24 hours match, remove those indices\n",
    "        # if s1.equals(s2):\n",
    "        #     indices_to_clean.append(((multiplicator+1)*sequence_length, (multiplicator+2)*sequence_length))\n",
    "\n",
    "        if not s1[(s1 > 50) | (s1 < -50)].any():\n",
    "            indices_to_clean.append(((multiplicator)*sequence_length, (multiplicator+1)*sequence_length))\n",
    "\n",
    "        for current_sequence_index in range(0, len(series), sequence_length):\n",
    "            end_sequence_index = current_sequence_index + sequence_length\n",
    "            if len(series) < end_sequence_index:\n",
    "                end_sequence_index = len(series) - 1\n",
    "            sequence = series[current_sequence_index:end_sequence_index]\n",
    "            sequence_angle = sequence['anglez'].reset_index(drop=True)\n",
    "            comparing_sequence_angle = comparing_sequence['anglez'].reset_index(drop=True)\n",
    "            if sequence_angle.equals(comparing_sequence_angle):\n",
    "                sequence_step = sequence['step'].reset_index(drop=True)\n",
    "                comparing_sequence_step = comparing_sequence['step'].reset_index(drop=True)\n",
    "                if not sequence_step.equals(comparing_sequence_step):\n",
    "                    indices_to_clean.append((current_sequence_index, current_sequence_index + sequence_length))\n",
    "\n",
    "        multiplicator += 1\n",
    "\n",
    "\n",
    "    for start_idx, end_idx in indices_to_clean:\n",
    "        series.loc[series.iloc[start_idx:end_idx].index, 'clean'] = 1\n",
    "   \n",
    "    return series"
   ]
  },
  {
   "cell_type": "code",
   "execution_count": 5,
   "id": "8beca4c6",
   "metadata": {},
   "outputs": [
    {
     "name": "stderr",
     "output_type": "stream",
     "text": [
      "100%|██████████| 269/269 [25:13<00:00,  5.63s/it]\n"
     ]
    }
   ],
   "source": [
    "train_data = []\n",
    "\n",
    "total_len = train_events.series_id.nunique()\n",
    "\n",
    "#1440 steps = 2 hours\n",
    "\n",
    "for series_id in tqdm(train_events.series_id.unique()):\n",
    "    train = remove_duplicates(series_id, 1440)\n",
    "    train_data.append(train)\n",
    "    del train\n",
    "    gc.collect()\n",
    "\n",
    "train_series_cleaned = pd.concat(train_data).reset_index(drop=True)"
   ]
  },
  {
   "cell_type": "code",
   "execution_count": null,
   "id": "d2111421",
   "metadata": {},
   "outputs": [
    {
     "data": {
      "text/html": [
       "<div>\n",
       "<style scoped>\n",
       "    .dataframe tbody tr th:only-of-type {\n",
       "        vertical-align: middle;\n",
       "    }\n",
       "\n",
       "    .dataframe tbody tr th {\n",
       "        vertical-align: top;\n",
       "    }\n",
       "\n",
       "    .dataframe thead th {\n",
       "        text-align: right;\n",
       "    }\n",
       "</style>\n",
       "<table border=\"1\" class=\"dataframe\">\n",
       "  <thead>\n",
       "    <tr style=\"text-align: right;\">\n",
       "      <th></th>\n",
       "      <th>series_id</th>\n",
       "      <th>step</th>\n",
       "      <th>timestamp</th>\n",
       "      <th>anglez</th>\n",
       "      <th>enmo</th>\n",
       "      <th>unknown</th>\n",
       "      <th>clean</th>\n",
       "    </tr>\n",
       "  </thead>\n",
       "  <tbody>\n",
       "    <tr>\n",
       "      <th>0</th>\n",
       "      <td>038441c925bb</td>\n",
       "      <td>0</td>\n",
       "      <td>2018-08-14T15:30:00-0400</td>\n",
       "      <td>2.636700</td>\n",
       "      <td>0.0217</td>\n",
       "      <td>0</td>\n",
       "      <td>0</td>\n",
       "    </tr>\n",
       "    <tr>\n",
       "      <th>1</th>\n",
       "      <td>038441c925bb</td>\n",
       "      <td>1</td>\n",
       "      <td>2018-08-14T15:30:05-0400</td>\n",
       "      <td>2.636800</td>\n",
       "      <td>0.0215</td>\n",
       "      <td>0</td>\n",
       "      <td>0</td>\n",
       "    </tr>\n",
       "    <tr>\n",
       "      <th>2</th>\n",
       "      <td>038441c925bb</td>\n",
       "      <td>2</td>\n",
       "      <td>2018-08-14T15:30:10-0400</td>\n",
       "      <td>2.637000</td>\n",
       "      <td>0.0216</td>\n",
       "      <td>0</td>\n",
       "      <td>0</td>\n",
       "    </tr>\n",
       "    <tr>\n",
       "      <th>3</th>\n",
       "      <td>038441c925bb</td>\n",
       "      <td>3</td>\n",
       "      <td>2018-08-14T15:30:15-0400</td>\n",
       "      <td>2.636800</td>\n",
       "      <td>0.0213</td>\n",
       "      <td>0</td>\n",
       "      <td>0</td>\n",
       "    </tr>\n",
       "    <tr>\n",
       "      <th>4</th>\n",
       "      <td>038441c925bb</td>\n",
       "      <td>4</td>\n",
       "      <td>2018-08-14T15:30:20-0400</td>\n",
       "      <td>2.636800</td>\n",
       "      <td>0.0215</td>\n",
       "      <td>0</td>\n",
       "      <td>0</td>\n",
       "    </tr>\n",
       "    <tr>\n",
       "      <th>...</th>\n",
       "      <td>...</td>\n",
       "      <td>...</td>\n",
       "      <td>...</td>\n",
       "      <td>...</td>\n",
       "      <td>...</td>\n",
       "      <td>...</td>\n",
       "      <td>...</td>\n",
       "    </tr>\n",
       "    <tr>\n",
       "      <th>124822075</th>\n",
       "      <td>fe90110788d2</td>\n",
       "      <td>592375</td>\n",
       "      <td>2017-09-08T00:14:35-0400</td>\n",
       "      <td>-27.277500</td>\n",
       "      <td>0.0204</td>\n",
       "      <td>1</td>\n",
       "      <td>0</td>\n",
       "    </tr>\n",
       "    <tr>\n",
       "      <th>124822076</th>\n",
       "      <td>fe90110788d2</td>\n",
       "      <td>592376</td>\n",
       "      <td>2017-09-08T00:14:40-0400</td>\n",
       "      <td>-27.032499</td>\n",
       "      <td>0.0233</td>\n",
       "      <td>1</td>\n",
       "      <td>0</td>\n",
       "    </tr>\n",
       "    <tr>\n",
       "      <th>124822077</th>\n",
       "      <td>fe90110788d2</td>\n",
       "      <td>592377</td>\n",
       "      <td>2017-09-08T00:14:45-0400</td>\n",
       "      <td>-26.841200</td>\n",
       "      <td>0.0202</td>\n",
       "      <td>1</td>\n",
       "      <td>0</td>\n",
       "    </tr>\n",
       "    <tr>\n",
       "      <th>124822078</th>\n",
       "      <td>fe90110788d2</td>\n",
       "      <td>592378</td>\n",
       "      <td>2017-09-08T00:14:50-0400</td>\n",
       "      <td>-26.723900</td>\n",
       "      <td>0.0199</td>\n",
       "      <td>1</td>\n",
       "      <td>0</td>\n",
       "    </tr>\n",
       "    <tr>\n",
       "      <th>124822079</th>\n",
       "      <td>fe90110788d2</td>\n",
       "      <td>592379</td>\n",
       "      <td>2017-09-08T00:14:55-0400</td>\n",
       "      <td>-31.521601</td>\n",
       "      <td>0.0205</td>\n",
       "      <td>1</td>\n",
       "      <td>0</td>\n",
       "    </tr>\n",
       "  </tbody>\n",
       "</table>\n",
       "<p>124822080 rows × 7 columns</p>\n",
       "</div>"
      ],
      "text/plain": [
       "              series_id    step                 timestamp     anglez    enmo  \\\n",
       "0          038441c925bb       0  2018-08-14T15:30:00-0400   2.636700  0.0217   \n",
       "1          038441c925bb       1  2018-08-14T15:30:05-0400   2.636800  0.0215   \n",
       "2          038441c925bb       2  2018-08-14T15:30:10-0400   2.637000  0.0216   \n",
       "3          038441c925bb       3  2018-08-14T15:30:15-0400   2.636800  0.0213   \n",
       "4          038441c925bb       4  2018-08-14T15:30:20-0400   2.636800  0.0215   \n",
       "...                 ...     ...                       ...        ...     ...   \n",
       "124822075  fe90110788d2  592375  2017-09-08T00:14:35-0400 -27.277500  0.0204   \n",
       "124822076  fe90110788d2  592376  2017-09-08T00:14:40-0400 -27.032499  0.0233   \n",
       "124822077  fe90110788d2  592377  2017-09-08T00:14:45-0400 -26.841200  0.0202   \n",
       "124822078  fe90110788d2  592378  2017-09-08T00:14:50-0400 -26.723900  0.0199   \n",
       "124822079  fe90110788d2  592379  2017-09-08T00:14:55-0400 -31.521601  0.0205   \n",
       "\n",
       "           unknown  clean  \n",
       "0                0      0  \n",
       "1                0      0  \n",
       "2                0      0  \n",
       "3                0      0  \n",
       "4                0      0  \n",
       "...            ...    ...  \n",
       "124822075        1      0  \n",
       "124822076        1      0  \n",
       "124822077        1      0  \n",
       "124822078        1      0  \n",
       "124822079        1      0  \n",
       "\n",
       "[124822080 rows x 7 columns]"
      ]
     },
     "execution_count": 6,
     "metadata": {},
     "output_type": "execute_result"
    }
   ],
   "source": [
    "train_series_cleaned"
   ]
  },
  {
   "cell_type": "code",
   "execution_count": null,
   "id": "10f167b9",
   "metadata": {},
   "outputs": [
    {
     "data": {
      "text/html": [
       "<div>\n",
       "<style scoped>\n",
       "    .dataframe tbody tr th:only-of-type {\n",
       "        vertical-align: middle;\n",
       "    }\n",
       "\n",
       "    .dataframe tbody tr th {\n",
       "        vertical-align: top;\n",
       "    }\n",
       "\n",
       "    .dataframe thead th {\n",
       "        text-align: right;\n",
       "    }\n",
       "</style>\n",
       "<table border=\"1\" class=\"dataframe\">\n",
       "  <thead>\n",
       "    <tr style=\"text-align: right;\">\n",
       "      <th></th>\n",
       "      <th>series_id</th>\n",
       "      <th>step</th>\n",
       "      <th>timestamp</th>\n",
       "      <th>anglez</th>\n",
       "      <th>enmo</th>\n",
       "      <th>unknown</th>\n",
       "      <th>clean</th>\n",
       "    </tr>\n",
       "  </thead>\n",
       "  <tbody>\n",
       "    <tr>\n",
       "      <th>493560</th>\n",
       "      <td>03d92c9f6f8a</td>\n",
       "      <td>103680</td>\n",
       "      <td>2018-06-06T12:00:00-0400</td>\n",
       "      <td>-4.307000</td>\n",
       "      <td>0.0925</td>\n",
       "      <td>1</td>\n",
       "      <td>1</td>\n",
       "    </tr>\n",
       "    <tr>\n",
       "      <th>493561</th>\n",
       "      <td>03d92c9f6f8a</td>\n",
       "      <td>103681</td>\n",
       "      <td>2018-06-06T12:00:05-0400</td>\n",
       "      <td>5.529500</td>\n",
       "      <td>0.0746</td>\n",
       "      <td>1</td>\n",
       "      <td>1</td>\n",
       "    </tr>\n",
       "    <tr>\n",
       "      <th>493562</th>\n",
       "      <td>03d92c9f6f8a</td>\n",
       "      <td>103682</td>\n",
       "      <td>2018-06-06T12:00:10-0400</td>\n",
       "      <td>18.493601</td>\n",
       "      <td>0.0692</td>\n",
       "      <td>1</td>\n",
       "      <td>1</td>\n",
       "    </tr>\n",
       "    <tr>\n",
       "      <th>493563</th>\n",
       "      <td>03d92c9f6f8a</td>\n",
       "      <td>103683</td>\n",
       "      <td>2018-06-06T12:00:15-0400</td>\n",
       "      <td>9.618800</td>\n",
       "      <td>0.0739</td>\n",
       "      <td>1</td>\n",
       "      <td>1</td>\n",
       "    </tr>\n",
       "    <tr>\n",
       "      <th>493564</th>\n",
       "      <td>03d92c9f6f8a</td>\n",
       "      <td>103684</td>\n",
       "      <td>2018-06-06T12:00:20-0400</td>\n",
       "      <td>4.323400</td>\n",
       "      <td>0.0646</td>\n",
       "      <td>1</td>\n",
       "      <td>1</td>\n",
       "    </tr>\n",
       "    <tr>\n",
       "      <th>...</th>\n",
       "      <td>...</td>\n",
       "      <td>...</td>\n",
       "      <td>...</td>\n",
       "      <td>...</td>\n",
       "      <td>...</td>\n",
       "      <td>...</td>\n",
       "      <td>...</td>\n",
       "    </tr>\n",
       "    <tr>\n",
       "      <th>123188035</th>\n",
       "      <td>fb223ed2278c</td>\n",
       "      <td>918355</td>\n",
       "      <td>2019-02-05T15:29:35-0500</td>\n",
       "      <td>-8.031400</td>\n",
       "      <td>0.0237</td>\n",
       "      <td>1</td>\n",
       "      <td>1</td>\n",
       "    </tr>\n",
       "    <tr>\n",
       "      <th>123188036</th>\n",
       "      <td>fb223ed2278c</td>\n",
       "      <td>918356</td>\n",
       "      <td>2019-02-05T15:29:40-0500</td>\n",
       "      <td>-8.215200</td>\n",
       "      <td>0.0229</td>\n",
       "      <td>1</td>\n",
       "      <td>1</td>\n",
       "    </tr>\n",
       "    <tr>\n",
       "      <th>123188037</th>\n",
       "      <td>fb223ed2278c</td>\n",
       "      <td>918357</td>\n",
       "      <td>2019-02-05T15:29:45-0500</td>\n",
       "      <td>-7.317400</td>\n",
       "      <td>0.0258</td>\n",
       "      <td>1</td>\n",
       "      <td>1</td>\n",
       "    </tr>\n",
       "    <tr>\n",
       "      <th>123188038</th>\n",
       "      <td>fb223ed2278c</td>\n",
       "      <td>918358</td>\n",
       "      <td>2019-02-05T15:29:50-0500</td>\n",
       "      <td>-10.651500</td>\n",
       "      <td>0.0328</td>\n",
       "      <td>1</td>\n",
       "      <td>1</td>\n",
       "    </tr>\n",
       "    <tr>\n",
       "      <th>123188039</th>\n",
       "      <td>fb223ed2278c</td>\n",
       "      <td>918359</td>\n",
       "      <td>2019-02-05T15:29:55-0500</td>\n",
       "      <td>-17.150900</td>\n",
       "      <td>0.0285</td>\n",
       "      <td>1</td>\n",
       "      <td>1</td>\n",
       "    </tr>\n",
       "  </tbody>\n",
       "</table>\n",
       "<p>17706960 rows × 7 columns</p>\n",
       "</div>"
      ],
      "text/plain": [
       "              series_id    step                 timestamp     anglez    enmo  \\\n",
       "493560     03d92c9f6f8a  103680  2018-06-06T12:00:00-0400  -4.307000  0.0925   \n",
       "493561     03d92c9f6f8a  103681  2018-06-06T12:00:05-0400   5.529500  0.0746   \n",
       "493562     03d92c9f6f8a  103682  2018-06-06T12:00:10-0400  18.493601  0.0692   \n",
       "493563     03d92c9f6f8a  103683  2018-06-06T12:00:15-0400   9.618800  0.0739   \n",
       "493564     03d92c9f6f8a  103684  2018-06-06T12:00:20-0400   4.323400  0.0646   \n",
       "...                 ...     ...                       ...        ...     ...   \n",
       "123188035  fb223ed2278c  918355  2019-02-05T15:29:35-0500  -8.031400  0.0237   \n",
       "123188036  fb223ed2278c  918356  2019-02-05T15:29:40-0500  -8.215200  0.0229   \n",
       "123188037  fb223ed2278c  918357  2019-02-05T15:29:45-0500  -7.317400  0.0258   \n",
       "123188038  fb223ed2278c  918358  2019-02-05T15:29:50-0500 -10.651500  0.0328   \n",
       "123188039  fb223ed2278c  918359  2019-02-05T15:29:55-0500 -17.150900  0.0285   \n",
       "\n",
       "           unknown  clean  \n",
       "493560           1      1  \n",
       "493561           1      1  \n",
       "493562           1      1  \n",
       "493563           1      1  \n",
       "493564           1      1  \n",
       "...            ...    ...  \n",
       "123188035        1      1  \n",
       "123188036        1      1  \n",
       "123188037        1      1  \n",
       "123188038        1      1  \n",
       "123188039        1      1  \n",
       "\n",
       "[17706960 rows x 7 columns]"
      ]
     },
     "execution_count": 7,
     "metadata": {},
     "output_type": "execute_result"
    }
   ],
   "source": [
    "train_series_cleaned[train_series_cleaned.clean == 1]"
   ]
  },
  {
   "cell_type": "markdown",
   "id": "460ae4e0",
   "metadata": {},
   "source": [
    "## Evaluation"
   ]
  },
  {
   "cell_type": "code",
   "execution_count": 11,
   "id": "d80f0715",
   "metadata": {},
   "outputs": [
    {
     "data": {
      "text/plain": [
       "0.8532108501957346"
      ]
     },
     "execution_count": 11,
     "metadata": {},
     "output_type": "execute_result"
    }
   ],
   "source": [
    "accuracy_score(train_series_cleaned['unknown'], train_series_cleaned['clean'])"
   ]
  },
  {
   "cell_type": "code",
   "execution_count": 10,
   "id": "f9c95716",
   "metadata": {},
   "outputs": [
    {
     "data": {
      "text/plain": [
       "0.6060006713441174"
      ]
     },
     "execution_count": 10,
     "metadata": {},
     "output_type": "execute_result"
    }
   ],
   "source": [
    "recall_score(train_series_cleaned['unknown'], train_series_cleaned['clean'])"
   ]
  },
  {
   "cell_type": "code",
   "execution_count": 9,
   "id": "ed54404a",
   "metadata": {},
   "outputs": [
    {
     "data": {
      "text/plain": [
       "0.9821251132090613"
      ]
     },
     "execution_count": 9,
     "metadata": {},
     "output_type": "execute_result"
    }
   ],
   "source": [
    "precision_score(train_series_cleaned['unknown'], train_series_cleaned['clean'])"
   ]
  },
  {
   "cell_type": "code",
   "execution_count": 8,
   "id": "acdc9737",
   "metadata": {},
   "outputs": [
    {
     "data": {
      "text/plain": [
       "0.7495230966432043"
      ]
     },
     "execution_count": 8,
     "metadata": {},
     "output_type": "execute_result"
    }
   ],
   "source": [
    "f1_score(train_series_cleaned['unknown'], train_series_cleaned['clean'])"
   ]
  },
  {
   "cell_type": "code",
   "execution_count": 7,
   "id": "df5532d6",
   "metadata": {},
   "outputs": [
    {
     "data": {
      "text/plain": [
       "<sklearn.metrics._plot.confusion_matrix.ConfusionMatrixDisplay at 0x25ef7c55af0>"
      ]
     },
     "execution_count": 7,
     "metadata": {},
     "output_type": "execute_result"
    },
    {
     "data": {
      "image/png": "[encoded data removed]",
      "text/plain": [
       "<Figure size 640x480 with 2 Axes>"
      ]
     },
     "metadata": {},
     "output_type": "display_data"
    }
   ],
   "source": [
    "cm = confusion_matrix(train_series_cleaned['unknown'], train_series_cleaned['clean'])\n",
    "\n",
    "disp = ConfusionMatrixDisplay(confusion_matrix=cm)\n",
    "disp.plot(cmap='Blues')"
   ]
  },
  {
   "cell_type": "markdown",
   "id": "a191b613",
   "metadata": {},
   "source": [
    "## Daten speichern für weitere Analysen"
   ]
  },
  {
   "cell_type": "code",
   "execution_count": 6,
   "id": "5bc23359",
   "metadata": {},
   "outputs": [],
   "source": [
    "train_series_cleaned.to_parquet('../../data/cleaning_analysis.parquet')"
   ]
  }
 ],
 "metadata": {
  "kernelspec": {
   "display_name": "Python 3 (ipykernel)",
   "language": "python",
   "name": "python3"
  },
  "language_info": {
   "codemirror_mode": {
    "name": "ipython",
    "version": 3
   },
   "file_extension": ".py",
   "mimetype": "text/x-python",
   "name": "python",
   "nbconvert_exporter": "python",
   "pygments_lexer": "ipython3",
   "version": "3.8.18"
  }
 },
 "nbformat": 4,
 "nbformat_minor": 5
}
