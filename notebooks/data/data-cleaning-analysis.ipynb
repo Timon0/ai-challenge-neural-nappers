{
 "cells": [
  {
   "cell_type": "markdown",
   "id": "3844527d",
   "metadata": {},
   "source": [
    "# Datenanalyse Unknown"
   ]
  },
  {
   "cell_type": "code",
   "execution_count": 1,
   "id": "3afcf659",
   "metadata": {},
   "outputs": [],
   "source": [
    "# Base\n",
    "import numpy as np\n",
    "import pandas as pd\n",
    "import gc\n",
    "from tqdm import tqdm\n",
    "\n",
    "# Visualisation\n",
    "import matplotlib.pyplot as plt\n",
    "import plotly.express as px\n",
    "import plotly.graph_objects as go\n",
    "import seaborn as sns\n",
    "\n",
    "\n",
    "# Scoring\n",
    "from sklearn.metrics import accuracy_score\n",
    "from sklearn.metrics import recall_score\n",
    "from sklearn.metrics import precision_score\n",
    "from sklearn.metrics import f1_score\n",
    "from sklearn.metrics import confusion_matrix, ConfusionMatrixDisplay"
   ]
  },
  {
   "cell_type": "markdown",
   "id": "cdbe17cd",
   "metadata": {},
   "source": [
    "## Daten laden"
   ]
  },
  {
   "cell_type": "code",
   "execution_count": 2,
   "id": "4ec63936",
   "metadata": {},
   "outputs": [],
   "source": [
    "train_events = pd.read_csv('../../data/raw/train_events.csv')"
   ]
  },
  {
   "cell_type": "markdown",
   "id": "066b9681",
   "metadata": {},
   "source": [
    "## Serien ohne Events entfernen"
   ]
  },
  {
   "cell_type": "code",
   "execution_count": 3,
   "id": "a9f3e86d",
   "metadata": {},
   "outputs": [],
   "source": [
    "series_id_list = train_events['series_id'].unique().tolist()\n",
    "events_series_id_list = train_events.dropna()['series_id'].unique().tolist()\n",
    "series_without_events = list(set(series_id_list) - set(events_series_id_list))\n",
    "\n",
    "train_events = train_events[~train_events.series_id.isin(series_without_events)]"
   ]
  },
  {
   "cell_type": "markdown",
   "id": "721b58a9",
   "metadata": {},
   "source": [
    "##  Unknown state"
   ]
  },
  {
   "cell_type": "code",
   "execution_count": 8,
   "id": "deb976c3",
   "metadata": {},
   "outputs": [],
   "source": [
    "sequence_length = 24 * 60 * 12 # 17280 Steps = 1 Day\n",
    "plot_series = False\n",
    "\n",
    "def remove_duplicates(series_id, buffer_size):\n",
    "    series = pd.read_parquet('../../data/raw/train_series.parquet', filters=[('series_id','=',series_id)])\n",
    "    \n",
    "    ## Unknown\n",
    "    series['unknown'] = 0\n",
    "    train_events_filtered = train_events\n",
    "    true_events = train_events_filtered[train_events_filtered['step'].notna()].reset_index()\n",
    "    events_with_na = pd.concat([train_events_filtered])\n",
    "  \n",
    "    last_event = train_events_filtered.iloc[0]\n",
    "    for index, row in events_with_na.iterrows():\n",
    "      if np.isnan(row['step']):\n",
    "          series.loc[(series['step'] > (last_event['step'] + buffer_size)), 'unknown'] = 1\n",
    "      else:\n",
    "          current_idx = true_events[true_events['step'] == row['step']].index\n",
    "      \n",
    "          if true_events.shape[0] > (current_idx[0] + 1):\n",
    "              next_step = true_events.iloc[(current_idx[0] + 1)]['step']\n",
    "              series.loc[((series['step'] >= row['step']) & (series['step'] < next_step)), 'unknown'] = 0\n",
    "          elif true_events.shape[0] == (current_idx[0] + 1):\n",
    "              series.loc[series['step'] >= row['step'], 'unknown'] = 0\n",
    "\n",
    "          last_event = row\n",
    "\n",
    "    last_event = train_events.iloc[len(train_events) - 1]\n",
    "    last_step = series.iloc[len(series) - 1]\n",
    "    \n",
    "    if not(np.isnan(last_event['timestamp'])) and last_event['timestamp'][0:10] < last_step['timestamp'][0:10]:\n",
    "        series.loc[(series['step'] > (last_event['step'] + buffer_size)), 'unknown'] = 1\n",
    "       \n",
    "    ## Cleaning\n",
    "    series['clean'] = 0\n",
    "    multiplicator = 0\n",
    "    indices_to_clean = []\n",
    "    while True:\n",
    "        # Get 24 Hours (s1) and the next 24 Hours (s2)\n",
    "        s1 = series[multiplicator*sequence_length:(multiplicator+1)*sequence_length]['anglez'].reset_index(drop=True)\n",
    "        s2 = series[(multiplicator+1)*sequence_length:(multiplicator+2)*sequence_length]['anglez'].reset_index(drop=True)\n",
    "\n",
    "        # If the length is not the same, its the last part of the series\n",
    "        if len(s1) != len(s2):\n",
    "            # If the last part of the series is the same as the part 24 hours before, remove that as well\n",
    "            if s1[:len(s2)].equals(s2):\n",
    "                indices_to_clean.append((len(series)-len(s2), len(series)))\n",
    "            break\n",
    "\n",
    "        # If the 24 hours match, remove those indices\n",
    "        if s1.equals(s2):\n",
    "            indices_to_clean.append(((multiplicator+1)*sequence_length, (multiplicator+2)*sequence_length))\n",
    "\n",
    "        multiplicator += 1\n",
    "\n",
    "\n",
    "    for start_idx, end_idx in indices_to_clean:\n",
    "        series.loc[series.iloc[start_idx:end_idx].index, 'clean'] = 1\n",
    "   \n",
    "    return series"
   ]
  },
  {
   "cell_type": "code",
   "execution_count": 9,
   "id": "8beca4c6",
   "metadata": {},
   "outputs": [
    {
     "name": "stderr",
     "output_type": "stream",
     "text": [
      "  0%|          | 0/269 [00:03<?, ?it/s]\n"
     ]
    },
    {
     "ename": "KeyboardInterrupt",
     "evalue": "",
     "output_type": "error",
     "traceback": [
      "\u001b[1;31m---------------------------------------------------------------------------\u001b[0m",
      "\u001b[1;31mKeyboardInterrupt\u001b[0m                         Traceback (most recent call last)",
      "\u001b[1;32me:\\Projects\\Studium\\AICH\\ai-challenge-neural-nappers\\notebooks\\data\\data-cleaning-analysis.ipynb Cell 9\u001b[0m line \u001b[0;36m8\n\u001b[0;32m      <a href='vscode-notebook-cell:/e%3A/Projects/Studium/AICH/ai-challenge-neural-nappers/notebooks/data/data-cleaning-analysis.ipynb#X11sZmlsZQ%3D%3D?line=4'>5</a>\u001b[0m \u001b[39m#1440 steps = 2 hours\u001b[39;00m\n\u001b[0;32m      <a href='vscode-notebook-cell:/e%3A/Projects/Studium/AICH/ai-challenge-neural-nappers/notebooks/data/data-cleaning-analysis.ipynb#X11sZmlsZQ%3D%3D?line=6'>7</a>\u001b[0m \u001b[39mfor\u001b[39;00m series_id \u001b[39min\u001b[39;00m tqdm(train_events\u001b[39m.\u001b[39mseries_id\u001b[39m.\u001b[39munique()):\n\u001b[1;32m----> <a href='vscode-notebook-cell:/e%3A/Projects/Studium/AICH/ai-challenge-neural-nappers/notebooks/data/data-cleaning-analysis.ipynb#X11sZmlsZQ%3D%3D?line=7'>8</a>\u001b[0m     train \u001b[39m=\u001b[39m remove_duplicates(series_id, \u001b[39m1440\u001b[39;49m)\n\u001b[0;32m      <a href='vscode-notebook-cell:/e%3A/Projects/Studium/AICH/ai-challenge-neural-nappers/notebooks/data/data-cleaning-analysis.ipynb#X11sZmlsZQ%3D%3D?line=8'>9</a>\u001b[0m     train_data\u001b[39m.\u001b[39mappend(train)\n\u001b[0;32m     <a href='vscode-notebook-cell:/e%3A/Projects/Studium/AICH/ai-challenge-neural-nappers/notebooks/data/data-cleaning-analysis.ipynb#X11sZmlsZQ%3D%3D?line=9'>10</a>\u001b[0m     \u001b[39mdel\u001b[39;00m train\n",
      "\u001b[1;32me:\\Projects\\Studium\\AICH\\ai-challenge-neural-nappers\\notebooks\\data\\data-cleaning-analysis.ipynb Cell 9\u001b[0m line \u001b[0;36m2\n\u001b[0;32m     <a href='vscode-notebook-cell:/e%3A/Projects/Studium/AICH/ai-challenge-neural-nappers/notebooks/data/data-cleaning-analysis.ipynb#X11sZmlsZQ%3D%3D?line=19'>20</a>\u001b[0m \u001b[39mif\u001b[39;00m true_events\u001b[39m.\u001b[39mshape[\u001b[39m0\u001b[39m] \u001b[39m>\u001b[39m (current_idx[\u001b[39m0\u001b[39m] \u001b[39m+\u001b[39m \u001b[39m1\u001b[39m):\n\u001b[0;32m     <a href='vscode-notebook-cell:/e%3A/Projects/Studium/AICH/ai-challenge-neural-nappers/notebooks/data/data-cleaning-analysis.ipynb#X11sZmlsZQ%3D%3D?line=20'>21</a>\u001b[0m     next_step \u001b[39m=\u001b[39m true_events\u001b[39m.\u001b[39miloc[(current_idx[\u001b[39m0\u001b[39m] \u001b[39m+\u001b[39m \u001b[39m1\u001b[39m)][\u001b[39m'\u001b[39m\u001b[39mstep\u001b[39m\u001b[39m'\u001b[39m]\n\u001b[1;32m---> <a href='vscode-notebook-cell:/e%3A/Projects/Studium/AICH/ai-challenge-neural-nappers/notebooks/data/data-cleaning-analysis.ipynb#X11sZmlsZQ%3D%3D?line=21'>22</a>\u001b[0m     series\u001b[39m.\u001b[39;49mloc[((series[\u001b[39m'\u001b[39;49m\u001b[39mstep\u001b[39;49m\u001b[39m'\u001b[39;49m] \u001b[39m>\u001b[39;49m\u001b[39m=\u001b[39;49m row[\u001b[39m'\u001b[39;49m\u001b[39mstep\u001b[39;49m\u001b[39m'\u001b[39;49m]) \u001b[39m&\u001b[39;49m (series[\u001b[39m'\u001b[39;49m\u001b[39mstep\u001b[39;49m\u001b[39m'\u001b[39;49m] \u001b[39m<\u001b[39;49m next_step)), \u001b[39m'\u001b[39;49m\u001b[39munknown\u001b[39;49m\u001b[39m'\u001b[39;49m] \u001b[39m=\u001b[39m \u001b[39m0\u001b[39m\n\u001b[0;32m     <a href='vscode-notebook-cell:/e%3A/Projects/Studium/AICH/ai-challenge-neural-nappers/notebooks/data/data-cleaning-analysis.ipynb#X11sZmlsZQ%3D%3D?line=22'>23</a>\u001b[0m \u001b[39melif\u001b[39;00m true_events\u001b[39m.\u001b[39mshape[\u001b[39m0\u001b[39m] \u001b[39m==\u001b[39m (current_idx[\u001b[39m0\u001b[39m] \u001b[39m+\u001b[39m \u001b[39m1\u001b[39m):\n\u001b[0;32m     <a href='vscode-notebook-cell:/e%3A/Projects/Studium/AICH/ai-challenge-neural-nappers/notebooks/data/data-cleaning-analysis.ipynb#X11sZmlsZQ%3D%3D?line=23'>24</a>\u001b[0m     series\u001b[39m.\u001b[39mloc[series[\u001b[39m'\u001b[39m\u001b[39mstep\u001b[39m\u001b[39m'\u001b[39m] \u001b[39m>\u001b[39m\u001b[39m=\u001b[39m row[\u001b[39m'\u001b[39m\u001b[39mstep\u001b[39m\u001b[39m'\u001b[39m], \u001b[39m'\u001b[39m\u001b[39munknown\u001b[39m\u001b[39m'\u001b[39m] \u001b[39m=\u001b[39m \u001b[39m0\u001b[39m\n",
      "File \u001b[1;32mc:\\ProgramData\\Anaconda3\\envs\\aich\\lib\\site-packages\\pandas\\core\\indexing.py:849\u001b[0m, in \u001b[0;36m_LocationIndexer.__setitem__\u001b[1;34m(self, key, value)\u001b[0m\n\u001b[0;32m    846\u001b[0m \u001b[39mself\u001b[39m\u001b[39m.\u001b[39m_has_valid_setitem_indexer(key)\n\u001b[0;32m    848\u001b[0m iloc \u001b[39m=\u001b[39m \u001b[39mself\u001b[39m \u001b[39mif\u001b[39;00m \u001b[39mself\u001b[39m\u001b[39m.\u001b[39mname \u001b[39m==\u001b[39m \u001b[39m\"\u001b[39m\u001b[39miloc\u001b[39m\u001b[39m\"\u001b[39m \u001b[39melse\u001b[39;00m \u001b[39mself\u001b[39m\u001b[39m.\u001b[39mobj\u001b[39m.\u001b[39miloc\n\u001b[1;32m--> 849\u001b[0m iloc\u001b[39m.\u001b[39;49m_setitem_with_indexer(indexer, value, \u001b[39mself\u001b[39;49m\u001b[39m.\u001b[39;49mname)\n",
      "File \u001b[1;32mc:\\ProgramData\\Anaconda3\\envs\\aich\\lib\\site-packages\\pandas\\core\\indexing.py:1835\u001b[0m, in \u001b[0;36m_iLocIndexer._setitem_with_indexer\u001b[1;34m(self, indexer, value, name)\u001b[0m\n\u001b[0;32m   1832\u001b[0m \u001b[39m# align and set the values\u001b[39;00m\n\u001b[0;32m   1833\u001b[0m \u001b[39mif\u001b[39;00m take_split_path:\n\u001b[0;32m   1834\u001b[0m     \u001b[39m# We have to operate column-wise\u001b[39;00m\n\u001b[1;32m-> 1835\u001b[0m     \u001b[39mself\u001b[39;49m\u001b[39m.\u001b[39;49m_setitem_with_indexer_split_path(indexer, value, name)\n\u001b[0;32m   1836\u001b[0m \u001b[39melse\u001b[39;00m:\n\u001b[0;32m   1837\u001b[0m     \u001b[39mself\u001b[39m\u001b[39m.\u001b[39m_setitem_single_block(indexer, value, name)\n",
      "File \u001b[1;32mc:\\ProgramData\\Anaconda3\\envs\\aich\\lib\\site-packages\\pandas\\core\\indexing.py:1863\u001b[0m, in \u001b[0;36m_iLocIndexer._setitem_with_indexer_split_path\u001b[1;34m(self, indexer, value, name)\u001b[0m\n\u001b[0;32m   1860\u001b[0m ilocs \u001b[39m=\u001b[39m \u001b[39mself\u001b[39m\u001b[39m.\u001b[39m_ensure_iterable_column_indexer(info_axis)\n\u001b[0;32m   1862\u001b[0m pi \u001b[39m=\u001b[39m indexer[\u001b[39m0\u001b[39m]\n\u001b[1;32m-> 1863\u001b[0m lplane_indexer \u001b[39m=\u001b[39m length_of_indexer(pi, \u001b[39mself\u001b[39;49m\u001b[39m.\u001b[39;49mobj\u001b[39m.\u001b[39;49mindex)\n\u001b[0;32m   1864\u001b[0m \u001b[39m# lplane_indexer gives the expected length of obj[indexer[0]]\u001b[39;00m\n\u001b[0;32m   1865\u001b[0m \n\u001b[0;32m   1866\u001b[0m \u001b[39m# we need an iterable, with a ndim of at least 1\u001b[39;00m\n\u001b[0;32m   1867\u001b[0m \u001b[39m# eg. don't pass through np.array(0)\u001b[39;00m\n\u001b[0;32m   1868\u001b[0m \u001b[39mif\u001b[39;00m is_list_like_indexer(value) \u001b[39mand\u001b[39;00m \u001b[39mgetattr\u001b[39m(value, \u001b[39m\"\u001b[39m\u001b[39mndim\u001b[39m\u001b[39m\"\u001b[39m, \u001b[39m1\u001b[39m) \u001b[39m>\u001b[39m \u001b[39m0\u001b[39m:\n",
      "File \u001b[1;32mc:\\ProgramData\\Anaconda3\\envs\\aich\\lib\\site-packages\\pandas\\core\\indexers\\utils.py:325\u001b[0m, in \u001b[0;36mlength_of_indexer\u001b[1;34m(indexer, target)\u001b[0m\n\u001b[0;32m    321\u001b[0m         indexer \u001b[39m=\u001b[39m np\u001b[39m.\u001b[39marray(indexer)\n\u001b[0;32m    323\u001b[0m     \u001b[39mif\u001b[39;00m indexer\u001b[39m.\u001b[39mdtype \u001b[39m==\u001b[39m \u001b[39mbool\u001b[39m:\n\u001b[0;32m    324\u001b[0m         \u001b[39m# GH#25774\u001b[39;00m\n\u001b[1;32m--> 325\u001b[0m         \u001b[39mreturn\u001b[39;00m indexer\u001b[39m.\u001b[39;49msum()\n\u001b[0;32m    326\u001b[0m     \u001b[39mreturn\u001b[39;00m \u001b[39mlen\u001b[39m(indexer)\n\u001b[0;32m    327\u001b[0m \u001b[39melif\u001b[39;00m \u001b[39misinstance\u001b[39m(indexer, \u001b[39mrange\u001b[39m):\n",
      "File \u001b[1;32mc:\\ProgramData\\Anaconda3\\envs\\aich\\lib\\site-packages\\numpy\\core\\_methods.py:49\u001b[0m, in \u001b[0;36m_sum\u001b[1;34m(a, axis, dtype, out, keepdims, initial, where)\u001b[0m\n\u001b[0;32m     47\u001b[0m \u001b[39mdef\u001b[39;00m \u001b[39m_sum\u001b[39m(a, axis\u001b[39m=\u001b[39m\u001b[39mNone\u001b[39;00m, dtype\u001b[39m=\u001b[39m\u001b[39mNone\u001b[39;00m, out\u001b[39m=\u001b[39m\u001b[39mNone\u001b[39;00m, keepdims\u001b[39m=\u001b[39m\u001b[39mFalse\u001b[39;00m,\n\u001b[0;32m     48\u001b[0m          initial\u001b[39m=\u001b[39m_NoValue, where\u001b[39m=\u001b[39m\u001b[39mTrue\u001b[39;00m):\n\u001b[1;32m---> 49\u001b[0m     \u001b[39mreturn\u001b[39;00m umr_sum(a, axis, dtype, out, keepdims, initial, where)\n",
      "\u001b[1;31mKeyboardInterrupt\u001b[0m: "
     ]
    }
   ],
   "source": [
    "train_data = []\n",
    "\n",
    "total_len = train_events.series_id.nunique()\n",
    "\n",
    "#1440 steps = 2 hours\n",
    "\n",
    "for series_id in tqdm(train_events.series_id.unique()):\n",
    "    train = remove_duplicates(series_id, 1440)\n",
    "    train_data.append(train)\n",
    "    del train\n",
    "    gc.collect()\n",
    "\n",
    "train_series_cleaned = pd.concat(train_data).reset_index(drop=True)"
   ]
  },
  {
   "cell_type": "code",
   "execution_count": null,
   "id": "d2111421",
   "metadata": {},
   "outputs": [
    {
     "data": {
      "text/html": [
       "<div>\n",
       "<style scoped>\n",
       "    .dataframe tbody tr th:only-of-type {\n",
       "        vertical-align: middle;\n",
       "    }\n",
       "\n",
       "    .dataframe tbody tr th {\n",
       "        vertical-align: top;\n",
       "    }\n",
       "\n",
       "    .dataframe thead th {\n",
       "        text-align: right;\n",
       "    }\n",
       "</style>\n",
       "<table border=\"1\" class=\"dataframe\">\n",
       "  <thead>\n",
       "    <tr style=\"text-align: right;\">\n",
       "      <th></th>\n",
       "      <th>series_id</th>\n",
       "      <th>step</th>\n",
       "      <th>timestamp</th>\n",
       "      <th>anglez</th>\n",
       "      <th>enmo</th>\n",
       "      <th>unknown</th>\n",
       "      <th>clean</th>\n",
       "    </tr>\n",
       "  </thead>\n",
       "  <tbody>\n",
       "    <tr>\n",
       "      <th>0</th>\n",
       "      <td>038441c925bb</td>\n",
       "      <td>0</td>\n",
       "      <td>2018-08-14T15:30:00-0400</td>\n",
       "      <td>2.636700</td>\n",
       "      <td>0.0217</td>\n",
       "      <td>0</td>\n",
       "      <td>0</td>\n",
       "    </tr>\n",
       "    <tr>\n",
       "      <th>1</th>\n",
       "      <td>038441c925bb</td>\n",
       "      <td>1</td>\n",
       "      <td>2018-08-14T15:30:05-0400</td>\n",
       "      <td>2.636800</td>\n",
       "      <td>0.0215</td>\n",
       "      <td>0</td>\n",
       "      <td>0</td>\n",
       "    </tr>\n",
       "    <tr>\n",
       "      <th>2</th>\n",
       "      <td>038441c925bb</td>\n",
       "      <td>2</td>\n",
       "      <td>2018-08-14T15:30:10-0400</td>\n",
       "      <td>2.637000</td>\n",
       "      <td>0.0216</td>\n",
       "      <td>0</td>\n",
       "      <td>0</td>\n",
       "    </tr>\n",
       "    <tr>\n",
       "      <th>3</th>\n",
       "      <td>038441c925bb</td>\n",
       "      <td>3</td>\n",
       "      <td>2018-08-14T15:30:15-0400</td>\n",
       "      <td>2.636800</td>\n",
       "      <td>0.0213</td>\n",
       "      <td>0</td>\n",
       "      <td>0</td>\n",
       "    </tr>\n",
       "    <tr>\n",
       "      <th>4</th>\n",
       "      <td>038441c925bb</td>\n",
       "      <td>4</td>\n",
       "      <td>2018-08-14T15:30:20-0400</td>\n",
       "      <td>2.636800</td>\n",
       "      <td>0.0215</td>\n",
       "      <td>0</td>\n",
       "      <td>0</td>\n",
       "    </tr>\n",
       "    <tr>\n",
       "      <th>...</th>\n",
       "      <td>...</td>\n",
       "      <td>...</td>\n",
       "      <td>...</td>\n",
       "      <td>...</td>\n",
       "      <td>...</td>\n",
       "      <td>...</td>\n",
       "      <td>...</td>\n",
       "    </tr>\n",
       "    <tr>\n",
       "      <th>124822075</th>\n",
       "      <td>fe90110788d2</td>\n",
       "      <td>592375</td>\n",
       "      <td>2017-09-08T00:14:35-0400</td>\n",
       "      <td>-27.277500</td>\n",
       "      <td>0.0204</td>\n",
       "      <td>1</td>\n",
       "      <td>0</td>\n",
       "    </tr>\n",
       "    <tr>\n",
       "      <th>124822076</th>\n",
       "      <td>fe90110788d2</td>\n",
       "      <td>592376</td>\n",
       "      <td>2017-09-08T00:14:40-0400</td>\n",
       "      <td>-27.032499</td>\n",
       "      <td>0.0233</td>\n",
       "      <td>1</td>\n",
       "      <td>0</td>\n",
       "    </tr>\n",
       "    <tr>\n",
       "      <th>124822077</th>\n",
       "      <td>fe90110788d2</td>\n",
       "      <td>592377</td>\n",
       "      <td>2017-09-08T00:14:45-0400</td>\n",
       "      <td>-26.841200</td>\n",
       "      <td>0.0202</td>\n",
       "      <td>1</td>\n",
       "      <td>0</td>\n",
       "    </tr>\n",
       "    <tr>\n",
       "      <th>124822078</th>\n",
       "      <td>fe90110788d2</td>\n",
       "      <td>592378</td>\n",
       "      <td>2017-09-08T00:14:50-0400</td>\n",
       "      <td>-26.723900</td>\n",
       "      <td>0.0199</td>\n",
       "      <td>1</td>\n",
       "      <td>0</td>\n",
       "    </tr>\n",
       "    <tr>\n",
       "      <th>124822079</th>\n",
       "      <td>fe90110788d2</td>\n",
       "      <td>592379</td>\n",
       "      <td>2017-09-08T00:14:55-0400</td>\n",
       "      <td>-31.521601</td>\n",
       "      <td>0.0205</td>\n",
       "      <td>1</td>\n",
       "      <td>0</td>\n",
       "    </tr>\n",
       "  </tbody>\n",
       "</table>\n",
       "<p>124822080 rows × 7 columns</p>\n",
       "</div>"
      ],
      "text/plain": [
       "              series_id    step                 timestamp     anglez    enmo  \\\n",
       "0          038441c925bb       0  2018-08-14T15:30:00-0400   2.636700  0.0217   \n",
       "1          038441c925bb       1  2018-08-14T15:30:05-0400   2.636800  0.0215   \n",
       "2          038441c925bb       2  2018-08-14T15:30:10-0400   2.637000  0.0216   \n",
       "3          038441c925bb       3  2018-08-14T15:30:15-0400   2.636800  0.0213   \n",
       "4          038441c925bb       4  2018-08-14T15:30:20-0400   2.636800  0.0215   \n",
       "...                 ...     ...                       ...        ...     ...   \n",
       "124822075  fe90110788d2  592375  2017-09-08T00:14:35-0400 -27.277500  0.0204   \n",
       "124822076  fe90110788d2  592376  2017-09-08T00:14:40-0400 -27.032499  0.0233   \n",
       "124822077  fe90110788d2  592377  2017-09-08T00:14:45-0400 -26.841200  0.0202   \n",
       "124822078  fe90110788d2  592378  2017-09-08T00:14:50-0400 -26.723900  0.0199   \n",
       "124822079  fe90110788d2  592379  2017-09-08T00:14:55-0400 -31.521601  0.0205   \n",
       "\n",
       "           unknown  clean  \n",
       "0                0      0  \n",
       "1                0      0  \n",
       "2                0      0  \n",
       "3                0      0  \n",
       "4                0      0  \n",
       "...            ...    ...  \n",
       "124822075        1      0  \n",
       "124822076        1      0  \n",
       "124822077        1      0  \n",
       "124822078        1      0  \n",
       "124822079        1      0  \n",
       "\n",
       "[124822080 rows x 7 columns]"
      ]
     },
     "execution_count": 6,
     "metadata": {},
     "output_type": "execute_result"
    }
   ],
   "source": [
    "train_series_cleaned"
   ]
  },
  {
   "cell_type": "code",
   "execution_count": null,
   "id": "10f167b9",
   "metadata": {},
   "outputs": [
    {
     "data": {
      "text/html": [
       "<div>\n",
       "<style scoped>\n",
       "    .dataframe tbody tr th:only-of-type {\n",
       "        vertical-align: middle;\n",
       "    }\n",
       "\n",
       "    .dataframe tbody tr th {\n",
       "        vertical-align: top;\n",
       "    }\n",
       "\n",
       "    .dataframe thead th {\n",
       "        text-align: right;\n",
       "    }\n",
       "</style>\n",
       "<table border=\"1\" class=\"dataframe\">\n",
       "  <thead>\n",
       "    <tr style=\"text-align: right;\">\n",
       "      <th></th>\n",
       "      <th>series_id</th>\n",
       "      <th>step</th>\n",
       "      <th>timestamp</th>\n",
       "      <th>anglez</th>\n",
       "      <th>enmo</th>\n",
       "      <th>unknown</th>\n",
       "      <th>clean</th>\n",
       "    </tr>\n",
       "  </thead>\n",
       "  <tbody>\n",
       "    <tr>\n",
       "      <th>493560</th>\n",
       "      <td>03d92c9f6f8a</td>\n",
       "      <td>103680</td>\n",
       "      <td>2018-06-06T12:00:00-0400</td>\n",
       "      <td>-4.307000</td>\n",
       "      <td>0.0925</td>\n",
       "      <td>1</td>\n",
       "      <td>1</td>\n",
       "    </tr>\n",
       "    <tr>\n",
       "      <th>493561</th>\n",
       "      <td>03d92c9f6f8a</td>\n",
       "      <td>103681</td>\n",
       "      <td>2018-06-06T12:00:05-0400</td>\n",
       "      <td>5.529500</td>\n",
       "      <td>0.0746</td>\n",
       "      <td>1</td>\n",
       "      <td>1</td>\n",
       "    </tr>\n",
       "    <tr>\n",
       "      <th>493562</th>\n",
       "      <td>03d92c9f6f8a</td>\n",
       "      <td>103682</td>\n",
       "      <td>2018-06-06T12:00:10-0400</td>\n",
       "      <td>18.493601</td>\n",
       "      <td>0.0692</td>\n",
       "      <td>1</td>\n",
       "      <td>1</td>\n",
       "    </tr>\n",
       "    <tr>\n",
       "      <th>493563</th>\n",
       "      <td>03d92c9f6f8a</td>\n",
       "      <td>103683</td>\n",
       "      <td>2018-06-06T12:00:15-0400</td>\n",
       "      <td>9.618800</td>\n",
       "      <td>0.0739</td>\n",
       "      <td>1</td>\n",
       "      <td>1</td>\n",
       "    </tr>\n",
       "    <tr>\n",
       "      <th>493564</th>\n",
       "      <td>03d92c9f6f8a</td>\n",
       "      <td>103684</td>\n",
       "      <td>2018-06-06T12:00:20-0400</td>\n",
       "      <td>4.323400</td>\n",
       "      <td>0.0646</td>\n",
       "      <td>1</td>\n",
       "      <td>1</td>\n",
       "    </tr>\n",
       "    <tr>\n",
       "      <th>...</th>\n",
       "      <td>...</td>\n",
       "      <td>...</td>\n",
       "      <td>...</td>\n",
       "      <td>...</td>\n",
       "      <td>...</td>\n",
       "      <td>...</td>\n",
       "      <td>...</td>\n",
       "    </tr>\n",
       "    <tr>\n",
       "      <th>123188035</th>\n",
       "      <td>fb223ed2278c</td>\n",
       "      <td>918355</td>\n",
       "      <td>2019-02-05T15:29:35-0500</td>\n",
       "      <td>-8.031400</td>\n",
       "      <td>0.0237</td>\n",
       "      <td>1</td>\n",
       "      <td>1</td>\n",
       "    </tr>\n",
       "    <tr>\n",
       "      <th>123188036</th>\n",
       "      <td>fb223ed2278c</td>\n",
       "      <td>918356</td>\n",
       "      <td>2019-02-05T15:29:40-0500</td>\n",
       "      <td>-8.215200</td>\n",
       "      <td>0.0229</td>\n",
       "      <td>1</td>\n",
       "      <td>1</td>\n",
       "    </tr>\n",
       "    <tr>\n",
       "      <th>123188037</th>\n",
       "      <td>fb223ed2278c</td>\n",
       "      <td>918357</td>\n",
       "      <td>2019-02-05T15:29:45-0500</td>\n",
       "      <td>-7.317400</td>\n",
       "      <td>0.0258</td>\n",
       "      <td>1</td>\n",
       "      <td>1</td>\n",
       "    </tr>\n",
       "    <tr>\n",
       "      <th>123188038</th>\n",
       "      <td>fb223ed2278c</td>\n",
       "      <td>918358</td>\n",
       "      <td>2019-02-05T15:29:50-0500</td>\n",
       "      <td>-10.651500</td>\n",
       "      <td>0.0328</td>\n",
       "      <td>1</td>\n",
       "      <td>1</td>\n",
       "    </tr>\n",
       "    <tr>\n",
       "      <th>123188039</th>\n",
       "      <td>fb223ed2278c</td>\n",
       "      <td>918359</td>\n",
       "      <td>2019-02-05T15:29:55-0500</td>\n",
       "      <td>-17.150900</td>\n",
       "      <td>0.0285</td>\n",
       "      <td>1</td>\n",
       "      <td>1</td>\n",
       "    </tr>\n",
       "  </tbody>\n",
       "</table>\n",
       "<p>17706960 rows × 7 columns</p>\n",
       "</div>"
      ],
      "text/plain": [
       "              series_id    step                 timestamp     anglez    enmo  \\\n",
       "493560     03d92c9f6f8a  103680  2018-06-06T12:00:00-0400  -4.307000  0.0925   \n",
       "493561     03d92c9f6f8a  103681  2018-06-06T12:00:05-0400   5.529500  0.0746   \n",
       "493562     03d92c9f6f8a  103682  2018-06-06T12:00:10-0400  18.493601  0.0692   \n",
       "493563     03d92c9f6f8a  103683  2018-06-06T12:00:15-0400   9.618800  0.0739   \n",
       "493564     03d92c9f6f8a  103684  2018-06-06T12:00:20-0400   4.323400  0.0646   \n",
       "...                 ...     ...                       ...        ...     ...   \n",
       "123188035  fb223ed2278c  918355  2019-02-05T15:29:35-0500  -8.031400  0.0237   \n",
       "123188036  fb223ed2278c  918356  2019-02-05T15:29:40-0500  -8.215200  0.0229   \n",
       "123188037  fb223ed2278c  918357  2019-02-05T15:29:45-0500  -7.317400  0.0258   \n",
       "123188038  fb223ed2278c  918358  2019-02-05T15:29:50-0500 -10.651500  0.0328   \n",
       "123188039  fb223ed2278c  918359  2019-02-05T15:29:55-0500 -17.150900  0.0285   \n",
       "\n",
       "           unknown  clean  \n",
       "493560           1      1  \n",
       "493561           1      1  \n",
       "493562           1      1  \n",
       "493563           1      1  \n",
       "493564           1      1  \n",
       "...            ...    ...  \n",
       "123188035        1      1  \n",
       "123188036        1      1  \n",
       "123188037        1      1  \n",
       "123188038        1      1  \n",
       "123188039        1      1  \n",
       "\n",
       "[17706960 rows x 7 columns]"
      ]
     },
     "execution_count": 7,
     "metadata": {},
     "output_type": "execute_result"
    }
   ],
   "source": [
    "train_series_cleaned[train_series_cleaned.clean == 1]"
   ]
  },
  {
   "cell_type": "markdown",
   "id": "460ae4e0",
   "metadata": {},
   "source": [
    "## Evaluation"
   ]
  },
  {
   "cell_type": "code",
   "execution_count": null,
   "id": "d80f0715",
   "metadata": {},
   "outputs": [
    {
     "data": {
      "text/plain": [
       "0.7845489676185495"
      ]
     },
     "execution_count": 8,
     "metadata": {},
     "output_type": "execute_result"
    }
   ],
   "source": [
    "accuracy_score(train_series_cleaned['unknown'], train_series_cleaned['clean'])"
   ]
  },
  {
   "cell_type": "code",
   "execution_count": null,
   "id": "f9c95716",
   "metadata": {},
   "outputs": [
    {
     "data": {
      "text/plain": [
       "0.395890078904744"
      ]
     },
     "execution_count": 9,
     "metadata": {},
     "output_type": "execute_result"
    }
   ],
   "source": [
    "recall_score(train_series_cleaned['unknown'], train_series_cleaned['clean'])"
   ]
  },
  {
   "cell_type": "code",
   "execution_count": null,
   "id": "ed54404a",
   "metadata": {},
   "outputs": [
    {
     "data": {
      "text/plain": [
       "0.9863680722156711"
      ]
     },
     "execution_count": 10,
     "metadata": {},
     "output_type": "execute_result"
    }
   ],
   "source": [
    "precision_score(train_series_cleaned['unknown'], train_series_cleaned['clean'])"
   ]
  },
  {
   "cell_type": "code",
   "execution_count": null,
   "id": "acdc9737",
   "metadata": {},
   "outputs": [
    {
     "data": {
      "text/plain": [
       "0.5650078223406542"
      ]
     },
     "execution_count": 11,
     "metadata": {},
     "output_type": "execute_result"
    }
   ],
   "source": [
    "f1_score(train_series_cleaned['unknown'], train_series_cleaned['clean'])"
   ]
  },
  {
   "cell_type": "code",
   "execution_count": null,
   "id": "df5532d6",
   "metadata": {},
   "outputs": [
    {
     "data": {
      "text/plain": [
       "<sklearn.metrics._plot.confusion_matrix.ConfusionMatrixDisplay at 0x1d580b30b50>"
      ]
     },
     "execution_count": 12,
     "metadata": {},
     "output_type": "execute_result"
    },
    {
     "data": {
      "image/png": "[encoded data removed]",
      "text/plain": [
       "<Figure size 640x480 with 2 Axes>"
      ]
     },
     "metadata": {},
     "output_type": "display_data"
    }
   ],
   "source": [
    "cm = confusion_matrix(train_series_cleaned['unknown'], train_series_cleaned['clean'])\n",
    "\n",
    "disp = ConfusionMatrixDisplay(confusion_matrix=cm)\n",
    "disp.plot(cmap='Blues')"
   ]
  },
  {
   "cell_type": "markdown",
   "id": "a191b613",
   "metadata": {},
   "source": [
    "## Daten speichern für weitere Analysen"
   ]
  },
  {
   "cell_type": "code",
   "execution_count": null,
   "id": "5bc23359",
   "metadata": {},
   "outputs": [],
   "source": [
    "train_series_cleaned.to_parquet('./data/cleaning_analysis.parquet')"
   ]
  }
 ],
 "metadata": {
  "kernelspec": {
   "display_name": "Python 3 (ipykernel)",
   "language": "python",
   "name": "python3"
  },
  "language_info": {
   "codemirror_mode": {
    "name": "ipython",
    "version": 3
   },
   "file_extension": ".py",
   "mimetype": "text/x-python",
   "name": "python",
   "nbconvert_exporter": "python",
   "pygments_lexer": "ipython3",
   "version": "3.8.18"
  }
 },
 "nbformat": 4,
 "nbformat_minor": 5
}
