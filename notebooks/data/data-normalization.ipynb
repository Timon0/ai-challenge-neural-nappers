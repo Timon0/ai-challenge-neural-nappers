{
 "cells": [
  {
   "cell_type": "markdown",
   "id": "b9152996",
   "metadata": {},
   "source": [
    "# Daten Aufbereitung"
   ]
  },
  {
   "cell_type": "code",
   "execution_count": 1,
   "id": "51902551",
   "metadata": {},
   "outputs": [],
   "source": [
    "import pandas as pd\n",
    "import numpy as np\n",
    "import joblib\n",
    "import gc\n",
    "\n",
    "from sklearn.preprocessing import StandardScaler"
   ]
  },
  {
   "cell_type": "markdown",
   "id": "9f515e3d",
   "metadata": {},
   "source": [
    "## Daten laden"
   ]
  },
  {
   "cell_type": "code",
   "execution_count": 2,
   "id": "be03439c",
   "metadata": {},
   "outputs": [],
   "source": [
    "train_series = pd.read_parquet('../../data/processed/train_series_split.parquet')\n",
    "validation_series = pd.read_parquet('../../data/processed/validation_series_split.parquet')"
   ]
  },
  {
   "cell_type": "markdown",
   "id": "57f0dbd8",
   "metadata": {},
   "source": [
    "## Daten normalisieren"
   ]
  },
  {
   "cell_type": "code",
   "execution_count": 3,
   "id": "4ee84cdd",
   "metadata": {},
   "outputs": [],
   "source": [
    "COLUMNS_TO_NORMALIZE = ['enmo', 'anglez']"
   ]
  },
  {
   "cell_type": "code",
   "execution_count": 4,
   "id": "4a97c8be",
   "metadata": {},
   "outputs": [],
   "source": [
    "scaler = StandardScaler()"
   ]
  },
  {
   "cell_type": "code",
   "execution_count": 5,
   "id": "122183e8",
   "metadata": {},
   "outputs": [],
   "source": [
    "train_series[COLUMNS_TO_NORMALIZE] = scaler.fit_transform(train_series[COLUMNS_TO_NORMALIZE])\n",
    "validation_series[COLUMNS_TO_NORMALIZE] = scaler.transform(validation_series[COLUMNS_TO_NORMALIZE])"
   ]
  },
  {
   "cell_type": "markdown",
   "id": "8ccb9f65",
   "metadata": {},
   "source": [
    "## Aufbereitete Daten speichern"
   ]
  },
  {
   "cell_type": "code",
   "execution_count": 6,
   "id": "440fc21e",
   "metadata": {},
   "outputs": [
    {
     "data": {
      "text/plain": [
       "['../../data/processed/scaler.pkl']"
      ]
     },
     "execution_count": 6,
     "metadata": {},
     "output_type": "execute_result"
    }
   ],
   "source": [
    "joblib.dump(scaler, '../../data/processed/scaler.pkl')"
   ]
  },
  {
   "cell_type": "code",
   "execution_count": 7,
   "id": "7156ae3b",
   "metadata": {},
   "outputs": [],
   "source": [
    "train_series.to_parquet('../../data/processed/train_series_split_normalized.parquet')\n",
    "validation_series.to_parquet('../../data/processed/validation_series_split_normalized.parquet')"
   ]
  }
 ],
 "metadata": {
  "kernelspec": {
   "display_name": "Python 3 (ipykernel)",
   "language": "python",
   "name": "python3"
  },
  "language_info": {
   "codemirror_mode": {
    "name": "ipython",
    "version": 3
   },
   "file_extension": ".py",
   "mimetype": "text/x-python",
   "name": "python",
   "nbconvert_exporter": "python",
   "pygments_lexer": "ipython3",
   "version": "3.8.18"
  }
 },
 "nbformat": 4,
 "nbformat_minor": 5
}
