{
 "cells": [
  {
   "cell_type": "markdown",
   "id": "68b5b0c4",
   "metadata": {},
   "source": [
    "# Feature Engineering"
   ]
  },
  {
   "cell_type": "code",
   "execution_count": 1,
   "id": "c30219bf",
   "metadata": {
    "ExecuteTime": {
     "end_time": "2023-09-29T12:45:00.780002600Z",
     "start_time": "2023-09-29T12:44:58.091438100Z"
    }
   },
   "outputs": [],
   "source": [
    "import pandas as pd\n",
    "import numpy as np\n",
    "import pyarrow as pa\n",
    "import pyarrow.parquet as pq\n",
    "\n",
    "from tqdm import tqdm\n",
    "\n",
    "import time\n",
    "import gc\n",
    "\n",
    "pd.set_option('display.max_columns', None)"
   ]
  },
  {
   "cell_type": "markdown",
   "id": "abc62c52",
   "metadata": {},
   "source": [
    "## Daten laden"
   ]
  },
  {
   "cell_type": "code",
   "execution_count": 18,
   "id": "324a560c",
   "metadata": {
    "ExecuteTime": {
     "end_time": "2023-09-29T12:45:52.408420500Z",
     "start_time": "2023-09-29T12:45:00.786090800Z"
    }
   },
   "outputs": [],
   "source": [
    "IS_TRAINING = False\n",
    "if IS_TRAINING:\n",
    "    FILE = '../../data/processed/train_series_split_normalized.parquet'\n",
    "else:\n",
    "    FILE = '../../data/processed/validation_series_split_normalized.parquet'\n",
    "series = pd.read_parquet(FILE, columns=['num_series_id'])"
   ]
  },
  {
   "cell_type": "markdown",
   "id": "a48c9b53",
   "metadata": {},
   "source": [
    "## Features"
   ]
  },
  {
   "cell_type": "code",
   "execution_count": 19,
   "id": "a775cf39",
   "metadata": {},
   "outputs": [],
   "source": [
    "LAGS_FUTURE = [f\"t_lag_{i}\" for i in range(-1, -25, -1)]\n",
    "LAGS_PAST = [f\"t_lag_{i}\" for i in range(1, 25)]\n",
    "FEATURES = ['t_0', *LAGS_PAST, *LAGS_FUTURE]"
   ]
  },
  {
   "cell_type": "code",
   "execution_count": 20,
   "id": "3fa6384c",
   "metadata": {},
   "outputs": [
    {
     "data": {
      "text/plain": [
       "49"
      ]
     },
     "execution_count": 20,
     "metadata": {},
     "output_type": "execute_result"
    }
   ],
   "source": [
    "len(FEATURES)"
   ]
  },
  {
   "cell_type": "markdown",
   "id": "fb74cd20c7a91f81",
   "metadata": {},
   "source": [
    "## Neue Features erstellen"
   ]
  },
  {
   "cell_type": "code",
   "execution_count": 21,
   "id": "25844b7a",
   "metadata": {},
   "outputs": [],
   "source": [
    "folder = \"train/\" if IS_TRAINING else \"validation/\"\n",
    "file_path_prefix = \"../../data/processed/transformer/\" + folder\n",
    "\n",
    "def save_chunk(num_series_id, chunk):\n",
    "    chunk.to_feather(file_path_prefix + str(num_series_id) + \".feather\")"
   ]
  },
  {
   "cell_type": "code",
   "execution_count": 22,
   "id": "5f7819507cd29d98",
   "metadata": {
    "ExecuteTime": {
     "end_time": "2023-09-29T12:45:52.429714800Z",
     "start_time": "2023-09-29T12:45:52.419364600Z"
    }
   },
   "outputs": [],
   "source": [
    "def make_features_chunk(num_series_id):\n",
    "    df = pd.read_parquet(FILE, filters=[('num_series_id','=',num_series_id)])\n",
    "    df['t_0'] = df[['anglez', 'enmo']].values.tolist()\n",
    "\n",
    "    for i in range(1, 25):\n",
    "        df[f'anglez_lag_{i}'] = df[\"anglez\"].shift(i).bfill()\n",
    "        df[f'enmo_lag_{i}'] = df[\"enmo\"].shift(i).bfill()\n",
    "        df[f't_lag_{i}'] = df[[f'anglez_lag_{i}', f'enmo_lag_{i}']].values.tolist()\n",
    "        df = df.drop(columns=[f'anglez_lag_{i}', f'enmo_lag_{i}'])\n",
    "\n",
    "    for i in range(-1, -25, -1):\n",
    "        df[f'anglez_lag_{i}'] = df[\"anglez\"].shift(i).ffill()\n",
    "        df[f'enmo_lag_{i}'] = df[\"enmo\"].shift(i).ffill()\n",
    "        df[f't_lag_{i}'] = df[[f'anglez_lag_{i}', f'enmo_lag_{i}']].values.tolist()\n",
    "        df = df.drop(columns=[f'anglez_lag_{i}', f'enmo_lag_{i}'])\n",
    "    \n",
    "    return df.reset_index(drop=True)"
   ]
  },
  {
   "cell_type": "code",
   "execution_count": 23,
   "id": "16b52907",
   "metadata": {},
   "outputs": [],
   "source": [
    "def make_features(series):\n",
    "    overview_data = []\n",
    "\n",
    "    for num_series_id in tqdm(series.num_series_id.unique()):\n",
    "        chunk = make_features_chunk(num_series_id)\n",
    "        save_chunk(num_series_id, chunk)\n",
    "\n",
    "        overview_data.append(\n",
    "            chunk[['num_series_id', 'step']].reset_index().rename(columns={'index':'series_index'}).copy()[['num_series_id', 'step', 'series_index']]\n",
    "        )\n",
    "        \n",
    "        del chunk\n",
    "        gc.collect()\n",
    "    \n",
    "    return pd.concat(overview_data).reset_index(drop=True)"
   ]
  },
  {
   "cell_type": "code",
   "execution_count": 24,
   "id": "c0d067155defaebc",
   "metadata": {
    "ExecuteTime": {
     "start_time": "2023-09-29T12:45:52.429714800Z"
    },
    "is_executing": true,
    "scrolled": true
   },
   "outputs": [
    {
     "name": "stderr",
     "output_type": "stream",
     "text": [
      "100%|██████████████████████████████████████████████████████████████████████████████████| 54/54 [17:32<00:00, 19.49s/it]\n"
     ]
    },
    {
     "name": "stdout",
     "output_type": "stream",
     "text": [
      "Feature Engineering took 1053.1359159946442 seconds\n"
     ]
    }
   ],
   "source": [
    "start_time = time.time()\n",
    "overview = make_features(series)\n",
    "print(f'Feature Engineering took {time.time() - start_time} seconds')"
   ]
  },
  {
   "cell_type": "markdown",
   "id": "87b5c218",
   "metadata": {},
   "source": [
    "## Overview speichern"
   ]
  },
  {
   "cell_type": "code",
   "execution_count": 25,
   "id": "9d108c48",
   "metadata": {},
   "outputs": [
    {
     "data": {
      "text/html": [
       "<div>\n",
       "<style scoped>\n",
       "    .dataframe tbody tr th:only-of-type {\n",
       "        vertical-align: middle;\n",
       "    }\n",
       "\n",
       "    .dataframe tbody tr th {\n",
       "        vertical-align: top;\n",
       "    }\n",
       "\n",
       "    .dataframe thead th {\n",
       "        text-align: right;\n",
       "    }\n",
       "</style>\n",
       "<table border=\"1\" class=\"dataframe\">\n",
       "  <thead>\n",
       "    <tr style=\"text-align: right;\">\n",
       "      <th></th>\n",
       "      <th>num_series_id</th>\n",
       "      <th>step</th>\n",
       "      <th>series_index</th>\n",
       "    </tr>\n",
       "  </thead>\n",
       "  <tbody>\n",
       "    <tr>\n",
       "      <th>0</th>\n",
       "      <td>7</td>\n",
       "      <td>0</td>\n",
       "      <td>0</td>\n",
       "    </tr>\n",
       "    <tr>\n",
       "      <th>1</th>\n",
       "      <td>7</td>\n",
       "      <td>1</td>\n",
       "      <td>1</td>\n",
       "    </tr>\n",
       "    <tr>\n",
       "      <th>2</th>\n",
       "      <td>7</td>\n",
       "      <td>2</td>\n",
       "      <td>2</td>\n",
       "    </tr>\n",
       "    <tr>\n",
       "      <th>3</th>\n",
       "      <td>7</td>\n",
       "      <td>3</td>\n",
       "      <td>3</td>\n",
       "    </tr>\n",
       "    <tr>\n",
       "      <th>4</th>\n",
       "      <td>7</td>\n",
       "      <td>4</td>\n",
       "      <td>4</td>\n",
       "    </tr>\n",
       "    <tr>\n",
       "      <th>...</th>\n",
       "      <td>...</td>\n",
       "      <td>...</td>\n",
       "      <td>...</td>\n",
       "    </tr>\n",
       "    <tr>\n",
       "      <th>20009335</th>\n",
       "      <td>276</td>\n",
       "      <td>620635</td>\n",
       "      <td>620635</td>\n",
       "    </tr>\n",
       "    <tr>\n",
       "      <th>20009336</th>\n",
       "      <td>276</td>\n",
       "      <td>620636</td>\n",
       "      <td>620636</td>\n",
       "    </tr>\n",
       "    <tr>\n",
       "      <th>20009337</th>\n",
       "      <td>276</td>\n",
       "      <td>620637</td>\n",
       "      <td>620637</td>\n",
       "    </tr>\n",
       "    <tr>\n",
       "      <th>20009338</th>\n",
       "      <td>276</td>\n",
       "      <td>620638</td>\n",
       "      <td>620638</td>\n",
       "    </tr>\n",
       "    <tr>\n",
       "      <th>20009339</th>\n",
       "      <td>276</td>\n",
       "      <td>620639</td>\n",
       "      <td>620639</td>\n",
       "    </tr>\n",
       "  </tbody>\n",
       "</table>\n",
       "<p>20009340 rows × 3 columns</p>\n",
       "</div>"
      ],
      "text/plain": [
       "          num_series_id    step  series_index\n",
       "0                     7       0             0\n",
       "1                     7       1             1\n",
       "2                     7       2             2\n",
       "3                     7       3             3\n",
       "4                     7       4             4\n",
       "...                 ...     ...           ...\n",
       "20009335            276  620635        620635\n",
       "20009336            276  620636        620636\n",
       "20009337            276  620637        620637\n",
       "20009338            276  620638        620638\n",
       "20009339            276  620639        620639\n",
       "\n",
       "[20009340 rows x 3 columns]"
      ]
     },
     "execution_count": 25,
     "metadata": {},
     "output_type": "execute_result"
    }
   ],
   "source": [
    "overview"
   ]
  },
  {
   "cell_type": "code",
   "execution_count": 26,
   "id": "095953db",
   "metadata": {},
   "outputs": [],
   "source": [
    "overview.to_parquet(file_path_prefix + \"overview.parquet\")"
   ]
  },
  {
   "cell_type": "code",
   "execution_count": 87,
   "id": "c0cb1297",
   "metadata": {},
   "outputs": [],
   "source": [
    "series7 = pd.read_feather(file_path_prefix + \"7.feather\")"
   ]
  },
  {
   "cell_type": "code",
   "execution_count": 90,
   "id": "c14ff0d9",
   "metadata": {},
   "outputs": [
    {
     "data": {
      "text/plain": [
       "tensor(1)"
      ]
     },
     "execution_count": 90,
     "metadata": {},
     "output_type": "execute_result"
    }
   ],
   "source": [
    "torch.from_numpy(series7[LABEL].astype('int64').to_numpy()).squeeze(1)[0]"
   ]
  },
  {
   "cell_type": "code",
   "execution_count": 98,
   "id": "ecaefcdc",
   "metadata": {},
   "outputs": [
    {
     "name": "stdout",
     "output_type": "stream",
     "text": [
      "tensor([[[ 1.0666],\n",
      "         [-1.8279],\n",
      "         [-0.4424],\n",
      "         ...,\n",
      "         [ 0.6216],\n",
      "         [ 1.1704],\n",
      "         [ 0.7218]],\n",
      "\n",
      "        [[-1.5844],\n",
      "         [-0.7324],\n",
      "         [-0.8466],\n",
      "         ...,\n",
      "         [ 1.4535],\n",
      "         [ 0.0270],\n",
      "         [ 1.3010]],\n",
      "\n",
      "        [[-0.6601],\n",
      "         [-0.0892],\n",
      "         [ 0.4895],\n",
      "         ...,\n",
      "         [-0.2421],\n",
      "         [ 0.5774],\n",
      "         [ 0.5033]],\n",
      "\n",
      "        ...,\n",
      "\n",
      "        [[-1.3609],\n",
      "         [-0.2776],\n",
      "         [ 0.2342],\n",
      "         ...,\n",
      "         [-0.1636],\n",
      "         [ 0.2715],\n",
      "         [-1.0235]],\n",
      "\n",
      "        [[ 0.8998],\n",
      "         [ 1.0288],\n",
      "         [ 0.7142],\n",
      "         ...,\n",
      "         [-0.2692],\n",
      "         [-0.8795],\n",
      "         [-0.5863]],\n",
      "\n",
      "        [[-2.7479],\n",
      "         [ 1.3100],\n",
      "         [-0.5185],\n",
      "         ...,\n",
      "         [ 0.5344],\n",
      "         [-1.2897],\n",
      "         [ 0.3658]]])\n",
      "tensor([[ 1.0666, -1.8279, -0.4424,  ...,  0.6216,  1.1704,  0.7218],\n",
      "        [-1.5844, -0.7324, -0.8466,  ...,  1.4535,  0.0270,  1.3010],\n",
      "        [-0.6601, -0.0892,  0.4895,  ..., -0.2421,  0.5774,  0.5033],\n",
      "        ...,\n",
      "        [-1.3609, -0.2776,  0.2342,  ..., -0.1636,  0.2715, -1.0235],\n",
      "        [ 0.8998,  1.0288,  0.7142,  ..., -0.2692, -0.8795, -0.5863],\n",
      "        [-2.7479,  1.3100, -0.5185,  ...,  0.5344, -1.2897,  0.3658]])\n"
     ]
    }
   ],
   "source": [
    "tensor = torch.randn(64, 49, 1)\n",
    "print(tensor)\n",
    "print(torch.squeeze(tensor, dim=2))"
   ]
  }
 ],
 "metadata": {
  "kernelspec": {
   "display_name": "aich",
   "language": "python",
   "name": "aich"
  },
  "language_info": {
   "codemirror_mode": {
    "name": "ipython",
    "version": 3
   },
   "file_extension": ".py",
   "mimetype": "text/x-python",
   "name": "python",
   "nbconvert_exporter": "python",
   "pygments_lexer": "ipython3",
   "version": "3.10.13"
  }
 },
 "nbformat": 4,
 "nbformat_minor": 5
}
