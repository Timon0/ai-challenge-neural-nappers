{
 "cells": [
  {
   "cell_type": "markdown",
   "id": "3844527d",
   "metadata": {},
   "source": [
    "# Datenanalyse"
   ]
  },
  {
   "cell_type": "code",
   "execution_count": null,
   "id": "3afcf659",
   "metadata": {},
   "outputs": [],
   "source": [
    "import numpy as np\n",
    "import pandas as pd\n",
    "\n",
    "import matplotlib.pyplot as plt\n",
    "import plotly.express as px\n",
    "import plotly.graph_objects as go\n",
    "import seaborn as sns\n",
    "\n",
    "import gc"
   ]
  },
  {
   "cell_type": "markdown",
   "id": "cdbe17cd",
   "metadata": {},
   "source": [
    "## Daten laden"
   ]
  },
  {
   "cell_type": "code",
   "execution_count": null,
   "id": "8201c7b2",
   "metadata": {},
   "outputs": [],
   "source": [
    "train_events = pd.read_csv('../../data/raw/train_events.csv')\n",
    "train_series = pd.read_parquet('../../data/raw/train_series.parquet')\n",
    "\n",
    "test_series = pd.read_parquet('../../data/raw/test_series.parquet')\n",
    "test_events = pd.read_csv('../../data/raw/sample_submission.csv')"
   ]
  },
  {
   "cell_type": "code",
   "execution_count": null,
   "id": "2b28e328",
   "metadata": {},
   "outputs": [],
   "source": [
    "train_events['date'] = train_events['timestamp'].str.split('T', expand=True)[0]\n",
    "train_events['time'] = train_events['timestamp'].str.split('T', expand=True)[1].str.split('-', expand=True)[0]\n",
    "train_events['timestamp'] = pd.to_datetime(train_events['date']+' '+train_events['time'])\n",
    "train_events['hour'] = train_events['timestamp'].dt.hour"
   ]
  },
  {
   "cell_type": "code",
   "execution_count": null,
   "id": "55e19412",
   "metadata": {},
   "outputs": [],
   "source": [
    "train_events.head()"
   ]
  },
  {
   "cell_type": "code",
   "execution_count": null,
   "id": "e27f3382",
   "metadata": {},
   "outputs": [],
   "source": [
    "train_series.head()"
   ]
  },
  {
   "cell_type": "markdown",
   "id": "64233f7d",
   "metadata": {},
   "source": [
    "## Quantitative Analyse"
   ]
  },
  {
   "cell_type": "code",
   "execution_count": null,
   "id": "9ef89996",
   "metadata": {},
   "outputs": [],
   "source": [
    "print(f'Anzahl Zeitreihen: {len(train_series.series_id.unique())}')"
   ]
  },
  {
   "cell_type": "code",
   "execution_count": null,
   "id": "ac9cd37e",
   "metadata": {},
   "outputs": [],
   "source": [
    "print(f'Anzahl unbestimmter Werte in series_id: {train_series.series_id.isna().sum()}')\n",
    "print(f'Anzahl unbestimmter Werte in step: {train_series.step.isna().sum()}')\n",
    "print(f'Anzahl unbestimmter Werte in anglez: {train_series.anglez.isna().sum()}')\n",
    "print(f'Anzahl unbestimmter Werte in enmo: {train_series.enmo.isna().sum()}')"
   ]
  },
  {
   "cell_type": "code",
   "execution_count": null,
   "id": "c9a44705",
   "metadata": {},
   "outputs": [],
   "source": [
    "print(f'Anzahl unbestimmter Werte in series_id: {train_events.series_id.isna().sum()}')\n",
    "print(f'Anzahl unbestimmter Werte in night: {train_events.night.isna().sum()}')\n",
    "print(f'Anzahl unbestimmter Werte in event: {train_events.event.isna().sum()}')\n",
    "print(f'Anzahl unbestimmter Werte in timestamp: {train_events.timestamp.isna().sum()}')"
   ]
  },
  {
   "cell_type": "code",
   "execution_count": null,
   "id": "5faedbfe",
   "metadata": {},
   "outputs": [],
   "source": [
    "series_has_NaN = train_events.groupby('series_id')['step'].apply(lambda x: x.isnull().any())\n",
    "\n",
    "print('Anzahl Zeitreihen mit Unterbrüche: ', series_has_NaN.value_counts().iloc[0])\n",
    "print('Anzahl Zeitreihen ohne Unterbrüche: ', series_has_NaN.value_counts().iloc[1])"
   ]
  },
  {
   "cell_type": "code",
   "execution_count": null,
   "id": "47be1f02",
   "metadata": {},
   "outputs": [],
   "source": [
    "print('Prüfe dass alle Serien mit einem \"onset\" Event starten: ')\n",
    "print(train_events.groupby('series_id').head(1)[\"event\"].unique())"
   ]
  },
  {
   "cell_type": "code",
   "execution_count": null,
   "id": "87d64af9",
   "metadata": {},
   "outputs": [],
   "source": [
    "print('Prüfe dass alle Serien mit einem \"wakeup\" Event enden: ')\n",
    "print(train_events.groupby('series_id').tail(1)[\"event\"].unique())"
   ]
  },
  {
   "cell_type": "code",
   "execution_count": null,
   "id": "af0246f1",
   "metadata": {},
   "outputs": [],
   "source": [
    "series_id_list = train_series['series_id'].unique().tolist()\n",
    "\n",
    "train_events = train_events.dropna()\n",
    "events_series_id_list = train_events['series_id'].unique().tolist()\n",
    "\n",
    "series_without_events = list(set(series_id_list) - set(events_series_id_list))\n",
    "\n",
    "print('Serien ohne Events: \\n', series_without_events)"
   ]
  },
  {
   "cell_type": "markdown",
   "id": "f5bb4ef7",
   "metadata": {},
   "source": [
    "## `angelz`\n",
    "\n",
    "z-angle is a metric derived from individual accelerometer components that is commonly used in sleep detection, and refers to the angle of the arm relative to the vertical axis of the body."
   ]
  },
  {
   "cell_type": "code",
   "execution_count": null,
   "id": "08968474",
   "metadata": {},
   "outputs": [],
   "source": [
    "participant_series_id = '038441c925bb'\n",
    "\n",
    "participant_series = train_series[train_series.series_id == participant_series_id].copy()\n",
    "participant_events = train_events[train_events.series_id == participant_series_id].copy()\n",
    "\n",
    "participant_series['date'] = participant_series['timestamp'].str.split('T', expand=True)[0]\n",
    "participant_series['time'] = participant_series['timestamp'].str.split('T', expand=True)[1].str.split('-', expand=True)[0]\n",
    "participant_series['timestamp'] = pd.to_datetime(participant_series['date']+' '+participant_series['time'])\n",
    "participant_series['hour'] = participant_series['timestamp'].dt.hour"
   ]
  },
  {
   "cell_type": "code",
   "execution_count": null,
   "id": "ae1200e1",
   "metadata": {},
   "outputs": [],
   "source": [
    "fig = px.line(participant_series, x='timestamp', y='anglez', title=f'Schlafdaten für {participant_series_id}')\n",
    "for index, row in participant_events.dropna().iterrows():\n",
    "    color = 'orange' if row.event == 'onset' else 'red' \n",
    "    fig.add_vline(x=row.timestamp, line_width=3, line_dash='dash', line_color=color)\n",
    "\n",
    "#Custom Legend\n",
    "fig.add_trace(\n",
    "    go.Scatter(\n",
    "        x=[None],\n",
    "        y=[None],\n",
    "        line=dict(color='orange', width=2, dash='dash'),\n",
    "        name=\"onset event\",\n",
    "    )\n",
    ")\n",
    "fig.add_trace(\n",
    "    go.Scatter(\n",
    "        x=[None],\n",
    "        y=[None],\n",
    "        line=dict(color='red', width=2, dash='dash'),\n",
    "        name=\"wakeup event\",\n",
    "    )\n",
    ")\n",
    "fig.update_layout(legend_title=\"Events\")\n",
    "    \n",
    "fig.show()"
   ]
  },
  {
   "cell_type": "markdown",
   "id": "afceb705",
   "metadata": {},
   "source": [
    "### Moving Average"
   ]
  },
  {
   "cell_type": "code",
   "execution_count": null,
   "id": "645ec494",
   "metadata": {},
   "outputs": [],
   "source": [
    "participant_series['anglez_mean'] = participant_series['anglez'].rolling(20, center=True).agg('mean').bfill().ffill().values\n",
    "\n",
    "participant_series_vis = participant_series[0:15_000]\n",
    "participant_events_vis = participant_events[0:2]\n",
    "\n",
    "fig = go.Figure(\n",
    "    data=[\n",
    "        go.Scatter(x=participant_series_vis['timestamp'], y=participant_series_vis['anglez'], mode='lines', name='anglez'),\n",
    "        go.Scatter(x=participant_series_vis['timestamp'], y=participant_series_vis['anglez_mean'], mode='lines', name='anglez moving average')\n",
    "    ],\n",
    "    layout=go.Layout(\n",
    "        title=f'Schlafdaten für {participant_series_id}'\n",
    "    )\n",
    ")\n",
    "\n",
    "for index, row in participant_events_vis.dropna().iterrows():\n",
    "    color = 'orange' if row.event == 'onset' else 'red' \n",
    "    fig.add_vline(x=row.timestamp, line_width=3, line_dash='dash', line_color=color)\n",
    "\n",
    "fig.show()"
   ]
  },
  {
   "cell_type": "markdown",
   "id": "f0e40aef",
   "metadata": {},
   "source": [
    "### Verteilung"
   ]
  },
  {
   "cell_type": "code",
   "execution_count": null,
   "id": "0eed07ee",
   "metadata": {},
   "outputs": [],
   "source": [
    "participant_series['anglez'].value_counts().sort_index().plot(kind='area')"
   ]
  },
  {
   "cell_type": "markdown",
   "id": "b29c7bb8",
   "metadata": {},
   "source": [
    "### Verteilung durch den Tag"
   ]
  },
  {
   "cell_type": "code",
   "execution_count": null,
   "id": "bb15dc9a",
   "metadata": {},
   "outputs": [],
   "source": [
    "participant_series.groupby('hour')['anglez'].mean().plot(kind='bar')"
   ]
  },
  {
   "cell_type": "markdown",
   "id": "0130ce3b",
   "metadata": {},
   "source": [
    "## `enmo`\n",
    "ENMO is the Euclidean Norm Minus One of all accelerometer signals, with negative values rounded to zero. While no standard measure of acceleration exists in this space, this is one of the several commonly computed features."
   ]
  },
  {
   "cell_type": "code",
   "execution_count": null,
   "id": "005bc807",
   "metadata": {},
   "outputs": [],
   "source": [
    "fig = px.line(participant_series, x='timestamp', y='enmo', title=f'Schlafdaten für {participant_series_id}')\n",
    "for index, row in participant_events.dropna().iterrows():\n",
    "    color = 'orange' if row.event == 'onset' else 'red' \n",
    "    fig.add_vline(x=row.timestamp, line_width=3, line_dash='dash', line_color=color)\n",
    "\n",
    "#Custom Legend\n",
    "fig.add_trace(\n",
    "    go.Scatter(\n",
    "        x=[None],\n",
    "        y=[None],\n",
    "        line=dict(color='orange', width=2, dash='dash'),\n",
    "        name=\"onset event\",\n",
    "    )\n",
    ")\n",
    "fig.add_trace(\n",
    "    go.Scatter(\n",
    "        x=[None],\n",
    "        y=[None],\n",
    "        line=dict(color='red', width=2, dash='dash'),\n",
    "        name=\"wakeup event\",\n",
    "    )\n",
    ")\n",
    "fig.update_layout(legend_title=\"Events\")\n",
    "    \n",
    "fig.show()"
   ]
  },
  {
   "cell_type": "markdown",
   "id": "3306c891",
   "metadata": {},
   "source": [
    "### Moving Average"
   ]
  },
  {
   "cell_type": "code",
   "execution_count": null,
   "id": "a34c8505",
   "metadata": {},
   "outputs": [],
   "source": [
    "participant_series['enmo_mean'] = participant_series['enmo'].rolling(20, center=True).agg('mean').bfill().ffill().values\n",
    "\n",
    "participant_series_vis = participant_series[0:15_000]\n",
    "participant_events_vis = participant_events[0:2]\n",
    "\n",
    "fig = go.Figure(\n",
    "    data=[\n",
    "        go.Scatter(x=participant_series_vis['timestamp'], y=participant_series_vis['enmo'], mode='lines', name='enmo'),\n",
    "        go.Scatter(x=participant_series_vis['timestamp'], y=participant_series_vis['enmo_mean'], mode='lines', name='enmo moving average')\n",
    "    ],\n",
    "    layout=go.Layout(\n",
    "        title=f'Schlafdaten für {participant_series_id}'\n",
    "    )\n",
    ")\n",
    "\n",
    "for index, row in participant_events_vis.dropna().iterrows():\n",
    "    color = 'orange' if row.event == 'onset' else 'red' \n",
    "    fig.add_vline(x=row.timestamp, line_width=3, line_dash='dash', line_color=color)\n",
    "\n",
    "fig.show()"
   ]
  },
  {
   "cell_type": "markdown",
   "id": "8943622e",
   "metadata": {},
   "source": [
    "### Verteilung"
   ]
  },
  {
   "cell_type": "code",
   "execution_count": null,
   "id": "77ecb1fc",
   "metadata": {},
   "outputs": [],
   "source": [
    "participant_series['enmo'].value_counts().sort_index().plot(kind='line')"
   ]
  },
  {
   "cell_type": "markdown",
   "id": "93ae8062",
   "metadata": {},
   "source": [
    "### Verteilung druch den Tag"
   ]
  },
  {
   "cell_type": "code",
   "execution_count": null,
   "id": "a8d8b66f",
   "metadata": {},
   "outputs": [],
   "source": [
    "participant_series.groupby('hour')['enmo'].mean().plot(kind='bar')"
   ]
  },
  {
   "cell_type": "markdown",
   "id": "81dcdd5b",
   "metadata": {},
   "source": [
    "## Korrelation zwischen `anglez` und `enmo`"
   ]
  },
  {
   "cell_type": "code",
   "execution_count": null,
   "id": "7952cd6a",
   "metadata": {},
   "outputs": [],
   "source": [
    "corr = train_series[['anglez', 'enmo']].corr()\n",
    "sns.heatmap(corr, cmap=\"Blues\", annot=True)"
   ]
  },
  {
   "cell_type": "markdown",
   "id": "a6494761",
   "metadata": {},
   "source": [
    "## Länge der Zeitreihen"
   ]
  },
  {
   "cell_type": "code",
   "execution_count": null,
   "id": "4186a475",
   "metadata": {},
   "outputs": [],
   "source": [
    "train_series['series_id'].value_counts().sort_values().plot(kind='area')"
   ]
  },
  {
   "cell_type": "markdown",
   "id": "e847d7ec",
   "metadata": {},
   "source": [
    "## `onset` Event Verteilung"
   ]
  },
  {
   "cell_type": "code",
   "execution_count": null,
   "id": "f348f668",
   "metadata": {},
   "outputs": [],
   "source": [
    "onset_train_events = train_events[train_events.event == 'onset']\n",
    "onset_train_events['hour'].dropna().value_counts().sort_index().plot(kind='bar')"
   ]
  },
  {
   "cell_type": "markdown",
   "id": "2838e672",
   "metadata": {},
   "source": [
    "## `wakeup` Event Verteilung"
   ]
  },
  {
   "cell_type": "code",
   "execution_count": null,
   "id": "951289e5",
   "metadata": {},
   "outputs": [],
   "source": [
    "onset_train_events = train_events[train_events.event == 'wakeup']\n",
    "onset_train_events['hour'].dropna().value_counts().sort_index().plot(kind='bar')"
   ]
  },
  {
   "cell_type": "markdown",
   "id": "23e9304f",
   "metadata": {},
   "source": [
    "## Wiederholungen"
   ]
  },
  {
   "cell_type": "code",
   "execution_count": null,
   "id": "a59f27b1",
   "metadata": {},
   "outputs": [],
   "source": [
    "participant_series_id = '5aad18e7ce64'\n",
    "\n",
    "participant_series = train_series[train_series.series_id == participant_series_id].copy()[0:150_000]\n",
    "participant_events = train_events[train_events.series_id == participant_series_id].copy()\n",
    "\n",
    "participant_series['date'] = participant_series['timestamp'].str.split('T', expand=True)[0]\n",
    "participant_series['time'] = participant_series['timestamp'].str.split('T', expand=True)[1].str.split('-', expand=True)[0]\n",
    "participant_series['timestamp'] = pd.to_datetime(participant_series['date']+' '+participant_series['time'])"
   ]
  },
  {
   "cell_type": "code",
   "execution_count": null,
   "id": "3749635c",
   "metadata": {},
   "outputs": [],
   "source": [
    "fig = px.line(participant_series, x='timestamp', y='enmo')\n",
    "for index, row in participant_events.dropna().iterrows():\n",
    "    color = 'orange' if row.event == 'onset' else 'red' \n",
    "    fig.add_vline(x=row.timestamp, line_width=3, line_dash='dash', line_color=color)\n",
    "\n",
    "#Custom Legend\n",
    "fig.add_trace(\n",
    "    go.Scatter(\n",
    "        x=[None],\n",
    "        y=[None],\n",
    "        line=dict(color='orange', width=2, dash='dash'),\n",
    "        name=\"onset event\",\n",
    "    )\n",
    ")\n",
    "fig.add_trace(\n",
    "    go.Scatter(\n",
    "        x=[None],\n",
    "        y=[None],\n",
    "        line=dict(color='red', width=2, dash='dash'),\n",
    "        name=\"wakeup event\",\n",
    "    )\n",
    ")\n",
    "fig.update_layout(legend_title=\"Events\")\n",
    "    \n",
    "fig.show()"
   ]
  },
  {
   "cell_type": "markdown",
   "id": "721b58a9",
   "metadata": {},
   "source": [
    "##  Unknown state"
   ]
  },
  {
   "cell_type": "code",
   "execution_count": null,
   "id": "a05d1801",
   "metadata": {},
   "outputs": [],
   "source": [
    "del train_series\n",
    "\n",
    "gc.collect()"
   ]
  },
  {
   "cell_type": "code",
   "execution_count": null,
   "id": "2454e977",
   "metadata": {},
   "outputs": [],
   "source": [
    "train_series = pd.read_parquet('../../data/processed/train.parquet')"
   ]
  },
  {
   "cell_type": "code",
   "execution_count": null,
   "id": "1531311b",
   "metadata": {},
   "outputs": [],
   "source": [
    "participant_series_id = '038441c925bb'\n",
    "participant_series = train_series[train_series['series_id'] == participant_series_id][0:120_000]\n",
    "participant_events = train_events[train_events['series_id'] == participant_series_id][0:12]"
   ]
  },
  {
   "cell_type": "code",
   "execution_count": null,
   "id": "128485c8",
   "metadata": {},
   "outputs": [],
   "source": [
    "fig = px.line(participant_series, x='timestamp', y='anglez')\n",
    "for index, row in participant_events.dropna().iterrows():\n",
    "    color = 'orange' if row.event == 'onset' else 'red' \n",
    "    fig.add_vline(x=row.timestamp, line_width=3, line_dash='dash', line_color=color)\n",
    "\n",
    "last_step = -1\n",
    "first_timestamp = None\n",
    "unknown_events = participant_series[participant_series['unknown'] == 1]\n",
    "unknown_events = unknown_events.reset_index()\n",
    "last_index = unknown_events.shape[0] - 1\n",
    "\n",
    "for index, row in unknown_events.iterrows():\n",
    "    if (last_step + 1) < row['step'] and first_timestamp == None:\n",
    "        first_timestamp = row['timestamp']\n",
    "        last_step = row['step']\n",
    "    elif (last_step + 1) == row['step']:\n",
    "        last_step = row['step']\n",
    "    else:\n",
    "        last_real = participant_series[participant_series['step'] == last_step]\n",
    "        fig.add_vrect(x0=first_timestamp, x1=last_real.iloc[0]['timestamp'], \n",
    "                    annotation_text=\"unknown\", annotation_position=\"top left\",\n",
    "                    fillcolor=\"magenta\", opacity=0.25, line_width=0)\n",
    "        last_step = row['step']\n",
    "        first_timestamp = row['timestamp']\n",
    "    \n",
    "    if last_index == index:\n",
    "        fig.add_vrect(x0=first_timestamp, x1=row['timestamp'], \n",
    "                    annotation_text=\"unknown\", annotation_position=\"top left\",\n",
    "                    fillcolor=\"magenta\", opacity=0.25, line_width=0)\n",
    "\n",
    "#Custom Legend\n",
    "fig.add_trace(\n",
    "    go.Scatter(\n",
    "        x=[None],\n",
    "        y=[None],\n",
    "        line=dict(color='orange', width=2, dash='dash'),\n",
    "        name=\"onset event\",\n",
    "    )\n",
    ")\n",
    "fig.add_trace(\n",
    "    go.Scatter(\n",
    "        x=[None],\n",
    "        y=[None],\n",
    "        line=dict(color='red', width=2, dash='dash'),\n",
    "        name=\"wakeup event\",\n",
    "    )\n",
    ")\n",
    "fig.update_layout(legend_title=\"Events\", width=1500, height=400)\n",
    "\n",
    "fig.show()"
   ]
  },
  {
   "cell_type": "code",
   "execution_count": null,
   "id": "35b13902",
   "metadata": {},
   "outputs": [],
   "source": []
  }
 ],
 "metadata": {
  "kernelspec": {
   "display_name": "Python 3 (ipykernel)",
   "language": "python",
   "name": "python3"
  },
  "language_info": {
   "codemirror_mode": {
    "name": "ipython",
    "version": 3
   },
   "file_extension": ".py",
   "mimetype": "text/x-python",
   "name": "python",
   "nbconvert_exporter": "python",
   "pygments_lexer": "ipython3",
   "version": "3.8.18"
  }
 },
 "nbformat": 4,
 "nbformat_minor": 5
}
