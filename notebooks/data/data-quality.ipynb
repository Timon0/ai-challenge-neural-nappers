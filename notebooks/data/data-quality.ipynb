{
 "cells": [
  {
   "cell_type": "markdown",
   "id": "3844527d",
   "metadata": {},
   "source": [
    "# Datenqualitätsanalyse"
   ]
  },
  {
   "cell_type": "code",
   "execution_count": 1,
   "id": "3afcf659",
   "metadata": {},
   "outputs": [],
   "source": [
    "# Base\n",
    "import numpy as np\n",
    "import pandas as pd\n",
    "import gc\n",
    "from tqdm import tqdm\n",
    "import seaborn as sns\n",
    "from datetime import datetime\n",
    "\n",
    "# Visualisation\n",
    "import matplotlib.pyplot as plt\n",
    "import plotly.express as px\n",
    "import plotly.graph_objects as go\n",
    "import seaborn as sns\n",
    "\n",
    "\n",
    "# Scoring\n",
    "from sklearn.metrics import accuracy_score\n",
    "from sklearn.metrics import recall_score\n",
    "from sklearn.metrics import precision_score\n",
    "from sklearn.metrics import f1_score\n",
    "from sklearn.metrics import confusion_matrix, ConfusionMatrixDisplay"
   ]
  },
  {
   "cell_type": "markdown",
   "id": "cdbe17cd",
   "metadata": {},
   "source": [
    "## Daten laden"
   ]
  },
  {
   "cell_type": "code",
   "execution_count": 2,
   "id": "4ec63936",
   "metadata": {},
   "outputs": [],
   "source": [
    "train_events = pd.read_csv('../../data/raw/train_events.csv')"
   ]
  },
  {
   "cell_type": "markdown",
   "id": "721b58a9",
   "metadata": {},
   "source": [
    "##  Cleaning"
   ]
  },
  {
   "cell_type": "code",
   "execution_count": 3,
   "id": "0cd3e112",
   "metadata": {},
   "outputs": [],
   "source": [
    "### PARAMS\n",
    "CLEAN_BUFFER = 0 * 60 * 12 # 0h"
   ]
  },
  {
   "cell_type": "code",
   "execution_count": 4,
   "id": "5becac65",
   "metadata": {},
   "outputs": [],
   "source": [
    "UNKNOWN_BUFFER = 0\n",
    "\n",
    "def mark_not_annotated(series, events):\n",
    "    series['not_annotated'] = 0\n",
    "\n",
    "    previous_defined_event = None\n",
    "    for index, current_event in events.iterrows():\n",
    "        if np.isnan(current_event['step']):\n",
    "            next_events = events[index:]\n",
    "            next_defined_events = next_events[next_events['step'].notna()]\n",
    "            next_defined_event = next_defined_events.iloc[0] if len(next_defined_events) > 0 else None\n",
    "\n",
    "            unknown_start_step = previous_defined_event['step'] + UNKNOWN_BUFFER if previous_defined_event is not None else 0\n",
    "            unknown_end_step = next_defined_event['step'] - UNKNOWN_BUFFER if next_defined_event is not None else series.iloc[-1]['step'] + 1\n",
    "\n",
    "            series.loc[unknown_start_step:unknown_end_step, 'not_annotated'] = 1\n",
    "\n",
    "            continue\n",
    "\n",
    "        previous_defined_event = current_event\n",
    "    \n",
    "    ## Fix if after last event are many more steps\n",
    "    last_event = events.iloc[-1]\n",
    "    \n",
    "    if not(np.isnan(last_event['step'])):\n",
    "        last_step = series.iloc[-1]\n",
    "        last_event_date = datetime.strptime(last_event['timestamp'][0:10], '%Y-%m-%d').date()\n",
    "        last_step_date = datetime.strptime(last_step['timestamp'][0:10], '%Y-%m-%d').date()\n",
    "    \n",
    "        if last_event_date < last_step_date:\n",
    "            series.loc[last_event['step'] + UNKNOWN_BUFFER:, 'not_annotated'] = 1\n",
    "        \n",
    "    return series"
   ]
  },
  {
   "cell_type": "code",
   "execution_count": 5,
   "id": "8f41a3c2",
   "metadata": {},
   "outputs": [],
   "source": [
    "ANGLEZ_VARIANCE_SEQUENCE_LENGTH = 6 * 60 * 12 # 6h\n",
    "\n",
    "def mark_anglez_too_little_variance(series, threshold):\n",
    "    column_name = f'too_little_variance_{threshold}'\n",
    "    series[column_name] = 0\n",
    "\n",
    "    \n",
    "    last_step = series.iloc[-1]['step']       \n",
    "    \n",
    "    for current_start_step in range(0, len(series), ANGLEZ_VARIANCE_SEQUENCE_LENGTH):\n",
    "        current_end_step = current_start_step + ANGLEZ_VARIANCE_SEQUENCE_LENGTH\n",
    "\n",
    "        series_chunk = series[current_start_step:current_end_step]\n",
    "\n",
    "        series_chunk_anglez = series_chunk['anglez'].abs()\n",
    "        if not (series_chunk_anglez > threshold).any():\n",
    "            clean_from = max(0, current_start_step - CLEAN_BUFFER)\n",
    "            clean_to = min(last_step, current_end_step + CLEAN_BUFFER)\n",
    "            \n",
    "            series.loc[clean_from:clean_to, column_name] = 1\n",
    "\n",
    "    return series"
   ]
  },
  {
   "cell_type": "code",
   "execution_count": 6,
   "id": "d039e213",
   "metadata": {},
   "outputs": [],
   "source": [
    "def mark_anglez_repetition(series, window_size):\n",
    "    column_name = f'anglez_repetition_{window_size}'\n",
    "    series[column_name] = 0\n",
    "    last_step = series.iloc[-1]['step']       \n",
    "\n",
    "    for current_start_step in range(0, len(series), window_size):\n",
    "        current_end_step = current_start_step + window_size\n",
    "\n",
    "        series_chunk = series[current_start_step:current_end_step].reset_index(drop=True)\n",
    "\n",
    "        for comparing_start_step in range(current_end_step, len(series), window_size):\n",
    "            comparing_end_step = comparing_start_step + window_size\n",
    "            comparing_series_chunk = series[comparing_start_step:comparing_end_step].reset_index(drop=True)\n",
    "\n",
    "            if series_chunk['anglez'].equals(comparing_series_chunk['anglez']):\n",
    "                clean_from = max(0, current_start_step - CLEAN_BUFFER)\n",
    "                clean_to = min(last_step, current_end_step + CLEAN_BUFFER)\n",
    "                series.loc[clean_from:clean_to, column_name] = 1\n",
    "                \n",
    "                clean_from = max(0, comparing_start_step - CLEAN_BUFFER)\n",
    "                clean_to = min(last_step, comparing_end_step + CLEAN_BUFFER)\n",
    "                series.loc[clean_from:clean_to, column_name] = 1\n",
    "\n",
    "    return series"
   ]
  },
  {
   "cell_type": "code",
   "execution_count": 7,
   "id": "a3188173",
   "metadata": {},
   "outputs": [],
   "source": [
    "def analyse(series_id):\n",
    "    events = pd.read_csv('../../data/raw/train_events.csv')\n",
    "    events = events[events.series_id == series_id].reset_index(drop=True)\n",
    "    series = pd.read_parquet('../../data/raw/train_series.parquet', filters=[('series_id', '=', series_id)])\n",
    "    \n",
    "    series = mark_not_annotated(series, events)\n",
    "    series = mark_anglez_too_little_variance(series, 50)\n",
    "    series = mark_anglez_repetition(series, 8 * 60 * 12) #8h\n",
    "    series = mark_anglez_repetition(series, 6 * 60 * 12) #6h\n",
    "    series = mark_anglez_repetition(series, 4 * 60 * 12) #4h\n",
    "    series = mark_anglez_repetition(series, 2 * 60 * 12) #2h\n",
    "\n",
    "    return series"
   ]
  },
  {
   "cell_type": "code",
   "execution_count": 8,
   "id": "8beca4c6",
   "metadata": {},
   "outputs": [
    {
     "name": "stderr",
     "output_type": "stream",
     "text": [
      "100%|██████████████████████████████████████████████████████████████████████████████| 277/277 [2:18:43<00:00, 30.05s/it]\n"
     ]
    }
   ],
   "source": [
    "series_data = []\n",
    "\n",
    "for series_id in tqdm(train_events.series_id.unique()):\n",
    "    series = analyse(series_id)\n",
    "    series_data.append(series)\n",
    "    \n",
    "    del series\n",
    "    gc.collect()\n",
    "\n",
    "train_series = pd.concat(series_data).reset_index(drop=True)"
   ]
  },
  {
   "cell_type": "markdown",
   "id": "460ae4e0",
   "metadata": {},
   "source": [
    "## Analysis"
   ]
  },
  {
   "cell_type": "code",
   "execution_count": 9,
   "id": "60aab787",
   "metadata": {},
   "outputs": [],
   "source": [
    "# train_series = pd.read_parquet('../../data/data_quality.parquet')"
   ]
  },
  {
   "cell_type": "code",
   "execution_count": 10,
   "id": "442ba273",
   "metadata": {},
   "outputs": [],
   "source": [
    "events = pd.read_csv('../../data/raw/events.csv')\n",
    "events = events[events['step'].notna()].reset_index()\n",
    "events['step'] = events['step'].astype('int')\n",
    "train_series = pd.merge(train_series, events[['series_id', 'step', 'event']], on=['series_id', 'step'], how='left')"
   ]
  },
  {
   "cell_type": "code",
   "execution_count": 11,
   "id": "01f85ce6",
   "metadata": {},
   "outputs": [],
   "source": [
    "whole_size = len(train_series)\n",
    "not_annotated_size = len(train_series[train_series['not_annotated'] == 1])\n",
    "too_little_variance_50_size = len(train_series[train_series['too_little_variance_50'] == 1])\n",
    "anglez_repetition_8_size = len(train_series[train_series[f'anglez_repetition_{8 * 60 * 12}'] == 1])\n",
    "anglez_repetition_6_size = len(train_series[train_series[f'anglez_repetition_{6 * 60 * 12}'] == 1])\n",
    "anglez_repetition_4_size = len(train_series[train_series[f'anglez_repetition_{4 * 60 * 12}'] == 1])\n",
    "anglez_repetition_2_size = len(train_series[train_series[f'anglez_repetition_{2 * 60 * 12}'] == 1])"
   ]
  },
  {
   "cell_type": "code",
   "execution_count": 12,
   "id": "00778504",
   "metadata": {},
   "outputs": [
    {
     "name": "stdout",
     "output_type": "stream",
     "text": [
      "Anteil an nicht annotierten Daten:  40.08542956367489\n",
      "Anteil an daten mit keinem Wert über oder unter 50:  14.710157398797028\n",
      "Anteil an Daten mit Wiederholungen (8h):  22.802553789346376\n",
      "Anteil an Daten mit Wiederholungen (6h):  24.212959901783826\n",
      "Anteil an Daten mit Wiederholungen (4h):  25.233880078164017\n",
      "Anteil an Daten mit Wiederholungen (2h):  26.692625205222754\n"
     ]
    }
   ],
   "source": [
    "print('Anteil an nicht annotierten Daten: ', (not_annotated_size/whole_size) * 100) \n",
    "print('Anteil an daten mit keinem Wert über oder unter 50: ', (too_little_variance_50_size/whole_size) * 100) \n",
    "print('Anteil an Daten mit Wiederholungen (8h): ', (anglez_repetition_8_size/whole_size) * 100) \n",
    "print('Anteil an Daten mit Wiederholungen (6h): ', (anglez_repetition_6_size/whole_size) * 100) \n",
    "print('Anteil an Daten mit Wiederholungen (4h): ', (anglez_repetition_4_size/whole_size) * 100) \n",
    "print('Anteil an Daten mit Wiederholungen (2h): ', (anglez_repetition_2_size/whole_size) * 100)"
   ]
  },
  {
   "cell_type": "code",
   "execution_count": 13,
   "id": "83d1a006",
   "metadata": {},
   "outputs": [],
   "source": [
    "not_annotated_and_too_little_variance_50_size = len(train_series[(train_series['too_little_variance_50'] == 1) & (train_series['not_annotated'] == 1)])\n",
    "not_annotated_and_anglez_repetition_8_size = len(train_series[(train_series[f'anglez_repetition_{8 * 60 * 12}'] == 1) & (train_series['not_annotated'] == 1) ])\n",
    "not_annotated_and_anglez_repetition_6_size = len(train_series[(train_series[f'anglez_repetition_{6 * 60 * 12}'] == 1) & (train_series['not_annotated'] == 1)])\n",
    "not_annotated_and_anglez_repetition_4_size = len(train_series[(train_series[f'anglez_repetition_{4 * 60 * 12}'] == 1) & (train_series['not_annotated'] == 1)])\n",
    "not_annotated_and_anglez_repetition_2_size = len(train_series[(train_series[f'anglez_repetition_{2 * 60 * 12}'] == 1) & (train_series['not_annotated'] == 1)])\n",
    "\n",
    "annotated_unknown_and_too_little_variance_50_size = len(train_series[(train_series['too_little_variance_50'] == 1) & (train_series['not_annotated'] == 0)])\n",
    "annotated_unknown_and_anglez_repetition_8_size = len(train_series[(train_series[f'anglez_repetition_{8 * 60 * 12}'] == 1) & (train_series['not_annotated'] == 0)])\n",
    "annotated_unknown_and_anglez_repetition_6_size = len(train_series[(train_series[f'anglez_repetition_{6 * 60 * 12}'] == 1) & (train_series['not_annotated'] == 0)])\n",
    "annotated_unknown_and_anglez_repetition_4_size = len(train_series[(train_series[f'anglez_repetition_{4 * 60 * 12}'] == 1) & (train_series['not_annotated'] == 0)])\n",
    "annotated_unknown_and_anglez_repetition_2_size = len(train_series[(train_series[f'anglez_repetition_{2 * 60 * 12}'] == 1) & (train_series['not_annotated'] == 0)])"
   ]
  },
  {
   "cell_type": "code",
   "execution_count": 14,
   "id": "36a7d571",
   "metadata": {},
   "outputs": [
    {
     "name": "stdout",
     "output_type": "stream",
     "text": [
      "Nicht annotiert\n",
      "Anteil an daten mit keinem Wert über oder unter 50:  99.02629537007067\n",
      "Anteil an Daten mit Wiederholungen (8h):  99.5073047560906\n",
      "Anteil an Daten mit Wiederholungen (6h):  99.31252815562863\n",
      "Anteil an Daten mit Wiederholungen (4h):  98.83097307158876\n",
      "Anteil an Daten mit Wiederholungen (2h):  98.14292691866714\n"
     ]
    }
   ],
   "source": [
    "print('Nicht annotiert')\n",
    "print('Anteil an daten mit keinem Wert über oder unter 50: ', (not_annotated_and_too_little_variance_50_size/too_little_variance_50_size) * 100) \n",
    "print('Anteil an Daten mit Wiederholungen (8h): ', (not_annotated_and_anglez_repetition_8_size/anglez_repetition_8_size) * 100) \n",
    "print('Anteil an Daten mit Wiederholungen (6h): ', (not_annotated_and_anglez_repetition_6_size/anglez_repetition_6_size) * 100) \n",
    "print('Anteil an Daten mit Wiederholungen (4h): ', (not_annotated_and_anglez_repetition_4_size/anglez_repetition_4_size) * 100) \n",
    "print('Anteil an Daten mit Wiederholungen (2h): ', (not_annotated_and_anglez_repetition_2_size/anglez_repetition_2_size) * 100)"
   ]
  },
  {
   "cell_type": "code",
   "execution_count": 15,
   "id": "213bdbeb",
   "metadata": {},
   "outputs": [
    {
     "name": "stdout",
     "output_type": "stream",
     "text": [
      "Annotiert\n",
      "Anteil an daten mit keinem Wert über oder unter 50:  0.9737046299293326\n",
      "Anteil an Daten mit Wiederholungen (8h):  0.492695243909407\n",
      "Anteil an Daten mit Wiederholungen (6h):  0.6874718443713727\n",
      "Anteil an Daten mit Wiederholungen (4h):  1.1690269284112476\n",
      "Anteil an Daten mit Wiederholungen (2h):  1.8570730813328569\n"
     ]
    }
   ],
   "source": [
    "print('Annotiert')\n",
    "print('Anteil an daten mit keinem Wert über oder unter 50: ', (annotated_unknown_and_too_little_variance_50_size/too_little_variance_50_size) * 100) \n",
    "print('Anteil an Daten mit Wiederholungen (8h): ', (annotated_unknown_and_anglez_repetition_8_size/anglez_repetition_8_size) * 100) \n",
    "print('Anteil an Daten mit Wiederholungen (6h): ', (annotated_unknown_and_anglez_repetition_6_size/anglez_repetition_6_size) * 100) \n",
    "print('Anteil an Daten mit Wiederholungen (4h): ', (annotated_unknown_and_anglez_repetition_4_size/anglez_repetition_4_size) * 100) \n",
    "print('Anteil an Daten mit Wiederholungen (2h): ', (annotated_unknown_and_anglez_repetition_2_size/anglez_repetition_2_size) * 100)"
   ]
  },
  {
   "cell_type": "markdown",
   "id": "a191b613",
   "metadata": {},
   "source": [
    "## Daten speichern für weitere Analysen"
   ]
  },
  {
   "cell_type": "code",
   "execution_count": 17,
   "id": "5bc23359",
   "metadata": {},
   "outputs": [],
   "source": [
    "train_series.to_parquet('../../data/data_quality.parquet')"
   ]
  }
 ],
 "metadata": {
  "kernelspec": {
   "display_name": "Python 3 (ipykernel)",
   "language": "python",
   "name": "python3"
  },
  "language_info": {
   "codemirror_mode": {
    "name": "ipython",
    "version": 3
   },
   "file_extension": ".py",
   "mimetype": "text/x-python",
   "name": "python",
   "nbconvert_exporter": "python",
   "pygments_lexer": "ipython3",
   "version": "3.8.3"
  }
 },
 "nbformat": 4,
 "nbformat_minor": 5
}
