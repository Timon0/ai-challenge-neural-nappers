{
 "cells": [
  {
   "cell_type": "markdown",
   "id": "e6c14b47",
   "metadata": {},
   "source": [
    "# Data Cleaning"
   ]
  },
  {
   "cell_type": "code",
   "execution_count": 1,
   "id": "16b2b488",
   "metadata": {},
   "outputs": [],
   "source": [
    "import pandas as pd\n",
    "import seaborn as sns\n",
    "import matplotlib.pyplot as plt\n",
    "\n",
    "import gc"
   ]
  },
  {
   "cell_type": "markdown",
   "id": "f5475fa5",
   "metadata": {},
   "source": [
    "## Daten laden"
   ]
  },
  {
   "cell_type": "code",
   "execution_count": 2,
   "id": "6078eade",
   "metadata": {},
   "outputs": [],
   "source": [
    "train_events = pd.read_csv('../../data/raw/events.csv')"
   ]
  },
  {
   "cell_type": "code",
   "execution_count": 3,
   "id": "ca565962",
   "metadata": {},
   "outputs": [
    {
     "name": "stdout",
     "output_type": "stream",
     "text": [
      "(14508, 6)\n"
     ]
    }
   ],
   "source": [
    "print(train_events.shape)"
   ]
  },
  {
   "cell_type": "markdown",
   "id": "884255a2",
   "metadata": {},
   "source": [
    "## Serien säubern"
   ]
  },
  {
   "cell_type": "code",
   "execution_count": 4,
   "id": "f6cc2c2d",
   "metadata": {},
   "outputs": [],
   "source": [
    "### PARAMS\n",
    "ANGLEZ_VARIANCE_SEQUENCE_LENGTH = 6 * 60 * 12 # 8h\n",
    "ANGLEZ_REPETITION_SEQUENCE_LENGTH = 4 * 60 * 12 # 4h\n",
    "\n",
    "CLEAN_BUFFER = 0 * 60 * 12 # 3h"
   ]
  },
  {
   "cell_type": "code",
   "execution_count": 5,
   "id": "be860987",
   "metadata": {},
   "outputs": [],
   "source": [
    "def mark_clean_anglez_too_low_variance(series):\n",
    "    last_step = series.iloc[-1]['step']       \n",
    "    \n",
    "    for current_start_step in range(0, len(series), ANGLEZ_VARIANCE_SEQUENCE_LENGTH):\n",
    "        current_end_step = current_start_step + ANGLEZ_VARIANCE_SEQUENCE_LENGTH\n",
    "\n",
    "        series_chunk = series[current_start_step:current_end_step]\n",
    "\n",
    "        series_chunk_anglez = series_chunk['anglez'].abs()\n",
    "        if not (series_chunk_anglez > 50).any():\n",
    "            clean_from = max(0, current_start_step - CLEAN_BUFFER)\n",
    "            clean_to = min(last_step, current_end_step + CLEAN_BUFFER)\n",
    "            \n",
    "            series.loc[clean_from:clean_to, 'clean'] = 1\n",
    "\n",
    "    return series"
   ]
  },
  {
   "cell_type": "code",
   "execution_count": 6,
   "id": "ccc8901d",
   "metadata": {},
   "outputs": [],
   "source": [
    "def mark_clean_repetition(series):\n",
    "    last_step = series.iloc[-1]['step']       \n",
    "\n",
    "    for current_start_step in range(0, len(series), ANGLEZ_REPETITION_SEQUENCE_LENGTH):\n",
    "        current_end_step = current_start_step + ANGLEZ_REPETITION_SEQUENCE_LENGTH\n",
    "\n",
    "        series_chunk = series[current_start_step:current_end_step].reset_index(drop=True)\n",
    "\n",
    "        for comparing_start_step in range(current_end_step, len(series), ANGLEZ_REPETITION_SEQUENCE_LENGTH):\n",
    "            comparing_end_step = comparing_start_step + ANGLEZ_REPETITION_SEQUENCE_LENGTH\n",
    "            comparing_series_chunk = series[comparing_start_step:comparing_end_step].reset_index(drop=True)\n",
    "\n",
    "            if series_chunk['anglez'].equals(comparing_series_chunk['anglez']):\n",
    "                clean_from = max(0, current_start_step - CLEAN_BUFFER)\n",
    "                clean_to = min(last_step, current_end_step + CLEAN_BUFFER)\n",
    "                series.loc[clean_from:clean_to, 'clean'] = 1\n",
    "                \n",
    "                clean_from = max(0, comparing_start_step - CLEAN_BUFFER)\n",
    "                clean_to = min(last_step, comparing_end_step + CLEAN_BUFFER)\n",
    "                series.loc[clean_from:clean_to, 'clean'] = 1\n",
    "\n",
    "    return series"
   ]
  },
  {
   "cell_type": "code",
   "execution_count": 7,
   "id": "a3de77d8",
   "metadata": {},
   "outputs": [],
   "source": [
    "def mark_clean(series):\n",
    "    series['clean'] = 0\n",
    "\n",
    "    series = mark_clean_anglez_too_low_variance(series)\n",
    "    series = mark_clean_repetition(series)\n",
    "\n",
    "    return series"
   ]
  },
  {
   "cell_type": "code",
   "execution_count": 8,
   "id": "036aa22f",
   "metadata": {},
   "outputs": [],
   "source": [
    "def cleaning(series_id, events):\n",
    "    events = events[events.series_id == series_id].reset_index(drop=True)\n",
    "    series = pd.read_parquet('../../data/raw/series_merged.parquet', filters=[('series_id', '=', series_id)])\n",
    "    \n",
    "    series = mark_clean(series)\n",
    "    series = series[series.clean == 0]\n",
    "    \n",
    "    return series"
   ]
  },
  {
   "cell_type": "code",
   "execution_count": 9,
   "id": "9cbbbc56",
   "metadata": {
    "scrolled": true
   },
   "outputs": [
    {
     "name": "stdout",
     "output_type": "stream",
     "text": [
      "Step 1 of 277\n",
      "Step 2 of 277\n",
      "Step 3 of 277\n",
      "Step 4 of 277\n",
      "Step 5 of 277\n",
      "Step 6 of 277\n",
      "Step 7 of 277\n",
      "Step 8 of 277\n",
      "Step 9 of 277\n",
      "Step 10 of 277\n",
      "Step 11 of 277\n",
      "Step 12 of 277\n",
      "Step 13 of 277\n",
      "Step 14 of 277\n",
      "Step 15 of 277\n",
      "Step 16 of 277\n",
      "Step 17 of 277\n",
      "Step 18 of 277\n",
      "Step 19 of 277\n",
      "Step 20 of 277\n",
      "Step 21 of 277\n",
      "Step 22 of 277\n",
      "Step 23 of 277\n",
      "Step 24 of 277\n",
      "Step 25 of 277\n",
      "Step 26 of 277\n",
      "Step 27 of 277\n",
      "Step 28 of 277\n",
      "Step 29 of 277\n",
      "Step 30 of 277\n",
      "Step 31 of 277\n",
      "Step 32 of 277\n",
      "Step 33 of 277\n",
      "Step 34 of 277\n",
      "Step 35 of 277\n",
      "Step 36 of 277\n",
      "Step 37 of 277\n",
      "Step 38 of 277\n",
      "Step 39 of 277\n",
      "Step 40 of 277\n",
      "Step 41 of 277\n",
      "Step 42 of 277\n",
      "Step 43 of 277\n",
      "Step 44 of 277\n",
      "Step 45 of 277\n",
      "Step 46 of 277\n",
      "Step 47 of 277\n",
      "Step 48 of 277\n",
      "Step 49 of 277\n",
      "Step 50 of 277\n",
      "Step 51 of 277\n",
      "Step 52 of 277\n",
      "Step 53 of 277\n",
      "Step 54 of 277\n",
      "Step 55 of 277\n",
      "Step 56 of 277\n",
      "Step 57 of 277\n",
      "Step 58 of 277\n",
      "Step 59 of 277\n",
      "Step 60 of 277\n",
      "Step 61 of 277\n",
      "Step 62 of 277\n",
      "Step 63 of 277\n",
      "Step 64 of 277\n",
      "Step 65 of 277\n",
      "Step 66 of 277\n",
      "Step 67 of 277\n",
      "Step 68 of 277\n",
      "Step 69 of 277\n",
      "Step 70 of 277\n",
      "Step 71 of 277\n",
      "Step 72 of 277\n",
      "Step 73 of 277\n",
      "Step 74 of 277\n",
      "Step 75 of 277\n",
      "Step 76 of 277\n",
      "Step 77 of 277\n",
      "Step 78 of 277\n",
      "Step 79 of 277\n",
      "Step 80 of 277\n",
      "Step 81 of 277\n",
      "Step 82 of 277\n",
      "Step 83 of 277\n",
      "Step 84 of 277\n",
      "Step 85 of 277\n",
      "Step 86 of 277\n",
      "Step 87 of 277\n",
      "Step 88 of 277\n",
      "Step 89 of 277\n",
      "Step 90 of 277\n",
      "Step 91 of 277\n",
      "Step 92 of 277\n",
      "Step 93 of 277\n",
      "Step 94 of 277\n",
      "Step 95 of 277\n",
      "Step 96 of 277\n",
      "Step 97 of 277\n",
      "Step 98 of 277\n",
      "Step 99 of 277\n",
      "Step 100 of 277\n",
      "Step 101 of 277\n",
      "Step 102 of 277\n",
      "Step 103 of 277\n",
      "Step 104 of 277\n",
      "Step 105 of 277\n",
      "Step 106 of 277\n",
      "Step 107 of 277\n",
      "Step 108 of 277\n",
      "Step 109 of 277\n",
      "Step 110 of 277\n",
      "Step 111 of 277\n",
      "Step 112 of 277\n",
      "Step 113 of 277\n",
      "Step 114 of 277\n",
      "Step 115 of 277\n",
      "Step 116 of 277\n",
      "Step 117 of 277\n",
      "Step 118 of 277\n",
      "Step 119 of 277\n",
      "Step 120 of 277\n",
      "Step 121 of 277\n",
      "Step 122 of 277\n",
      "Step 123 of 277\n",
      "Step 124 of 277\n",
      "Step 125 of 277\n",
      "Step 126 of 277\n",
      "Step 127 of 277\n",
      "Step 128 of 277\n",
      "Step 129 of 277\n",
      "Step 130 of 277\n",
      "Step 131 of 277\n",
      "Step 132 of 277\n",
      "Step 133 of 277\n",
      "Step 134 of 277\n",
      "Step 135 of 277\n",
      "Step 136 of 277\n",
      "Step 137 of 277\n",
      "Step 138 of 277\n",
      "Step 139 of 277\n",
      "Step 140 of 277\n",
      "Step 141 of 277\n",
      "Step 142 of 277\n",
      "Step 143 of 277\n",
      "Step 144 of 277\n",
      "Step 145 of 277\n",
      "Step 146 of 277\n",
      "Step 147 of 277\n",
      "Step 148 of 277\n",
      "Step 149 of 277\n",
      "Step 150 of 277\n",
      "Step 151 of 277\n",
      "Step 152 of 277\n",
      "Step 153 of 277\n",
      "Step 154 of 277\n",
      "Step 155 of 277\n",
      "Step 156 of 277\n",
      "Step 157 of 277\n",
      "Step 158 of 277\n",
      "Step 159 of 277\n",
      "Step 160 of 277\n",
      "Step 161 of 277\n",
      "Step 162 of 277\n",
      "Step 163 of 277\n",
      "Step 164 of 277\n",
      "Step 165 of 277\n",
      "Step 166 of 277\n",
      "Step 167 of 277\n",
      "Step 168 of 277\n",
      "Step 169 of 277\n",
      "Step 170 of 277\n",
      "Step 171 of 277\n",
      "Step 172 of 277\n",
      "Step 173 of 277\n",
      "Step 174 of 277\n",
      "Step 175 of 277\n",
      "Step 176 of 277\n",
      "Step 177 of 277\n",
      "Step 178 of 277\n",
      "Step 179 of 277\n",
      "Step 180 of 277\n",
      "Step 181 of 277\n",
      "Step 182 of 277\n",
      "Step 183 of 277\n",
      "Step 184 of 277\n",
      "Step 185 of 277\n",
      "Step 186 of 277\n",
      "Step 187 of 277\n",
      "Step 188 of 277\n",
      "Step 189 of 277\n",
      "Step 190 of 277\n",
      "Step 191 of 277\n",
      "Step 192 of 277\n",
      "Step 193 of 277\n",
      "Step 194 of 277\n",
      "Step 195 of 277\n",
      "Step 196 of 277\n",
      "Step 197 of 277\n",
      "Step 198 of 277\n",
      "Step 199 of 277\n",
      "Step 200 of 277\n",
      "Step 201 of 277\n",
      "Step 202 of 277\n",
      "Step 203 of 277\n",
      "Step 204 of 277\n",
      "Step 205 of 277\n",
      "Step 206 of 277\n",
      "Step 207 of 277\n",
      "Step 208 of 277\n",
      "Step 209 of 277\n",
      "Step 210 of 277\n",
      "Step 211 of 277\n",
      "Step 212 of 277\n",
      "Step 213 of 277\n",
      "Step 214 of 277\n",
      "Step 215 of 277\n",
      "Step 216 of 277\n",
      "Step 217 of 277\n",
      "Step 218 of 277\n",
      "Step 219 of 277\n",
      "Step 220 of 277\n",
      "Step 221 of 277\n",
      "Step 222 of 277\n",
      "Step 223 of 277\n",
      "Step 224 of 277\n",
      "Step 225 of 277\n",
      "Step 226 of 277\n",
      "Step 227 of 277\n",
      "Step 228 of 277\n",
      "Step 229 of 277\n",
      "Step 230 of 277\n",
      "Step 231 of 277\n",
      "Step 232 of 277\n",
      "Step 233 of 277\n",
      "Step 234 of 277\n",
      "Step 235 of 277\n",
      "Step 236 of 277\n",
      "Step 237 of 277\n",
      "Step 238 of 277\n",
      "Step 239 of 277\n",
      "Step 240 of 277\n",
      "Step 241 of 277\n",
      "Step 242 of 277\n",
      "Step 243 of 277\n",
      "Step 244 of 277\n",
      "Step 245 of 277\n",
      "Step 246 of 277\n",
      "Step 247 of 277\n",
      "Step 248 of 277\n",
      "Step 249 of 277\n",
      "Step 250 of 277\n",
      "Step 251 of 277\n",
      "Step 252 of 277\n",
      "Step 253 of 277\n",
      "Step 254 of 277\n",
      "Step 255 of 277\n",
      "Step 256 of 277\n",
      "Step 257 of 277\n",
      "Step 258 of 277\n",
      "Step 259 of 277\n",
      "Step 260 of 277\n",
      "Step 261 of 277\n",
      "Step 262 of 277\n",
      "Step 263 of 277\n",
      "Step 264 of 277\n",
      "Step 265 of 277\n",
      "Step 266 of 277\n",
      "Step 267 of 277\n",
      "Step 268 of 277\n",
      "Step 269 of 277\n",
      "Step 270 of 277\n",
      "Step 271 of 277\n",
      "Step 272 of 277\n",
      "Step 273 of 277\n",
      "Step 274 of 277\n",
      "Step 275 of 277\n",
      "Step 276 of 277\n",
      "Step 277 of 277\n",
      "CPU times: total: 1h 1min 13s\n",
      "Wall time: 42min 55s\n"
     ]
    }
   ],
   "source": [
    "%%time\n",
    "\n",
    "train_data = []\n",
    "\n",
    "total_len = train_events.series_id.nunique()\n",
    "\n",
    "for i, series_id in enumerate(train_events.series_id.unique()):\n",
    "    print(f'Step {i+1} of {total_len}')\n",
    "    train = cleaning(series_id, train_events)\n",
    "    train_data.append(train)\n",
    "    del train\n",
    "    gc.collect()\n",
    "\n",
    "train_series = pd.concat(train_data).reset_index(drop=True)"
   ]
  },
  {
   "cell_type": "code",
   "execution_count": 10,
   "id": "28de6b7b",
   "metadata": {},
   "outputs": [
    {
     "name": "stdout",
     "output_type": "stream",
     "text": [
      "(94436069, 10)\n"
     ]
    }
   ],
   "source": [
    "print(train_series.shape)"
   ]
  },
  {
   "cell_type": "markdown",
   "id": "ad4decf8",
   "metadata": {},
   "source": [
    "## Serien ohne Events entfernen"
   ]
  },
  {
   "cell_type": "code",
   "execution_count": 11,
   "id": "a74dd8eb",
   "metadata": {},
   "outputs": [
    {
     "name": "stdout",
     "output_type": "stream",
     "text": [
      "Serien ohne Events: \n",
      " ['a3e59c2ce3f6', 'c5d08fc3e040', '0f9e60a8e56d', '390b487231ce', 'c7b1283bb7eb', '2fc653ca75c7', 'e11b9d69f856', '89c7daa72eee']\n"
     ]
    }
   ],
   "source": [
    "series_id_list = train_series['series_id'].unique().tolist()\n",
    "\n",
    "events_series_id_list = train_events.dropna()['series_id'].unique().tolist()\n",
    "\n",
    "series_without_events = list(set(series_id_list) - set(events_series_id_list))\n",
    "\n",
    "print('Serien ohne Events: \\n', series_without_events)"
   ]
  },
  {
   "cell_type": "code",
   "execution_count": 12,
   "id": "25d728a6",
   "metadata": {},
   "outputs": [],
   "source": [
    "cleaned_train_series = train_series[~train_series.series_id.isin(series_without_events)]\n",
    "cleaned_train_events = train_events[~train_events.series_id.isin(series_without_events)]"
   ]
  },
  {
   "cell_type": "markdown",
   "id": "2a3be320",
   "metadata": {},
   "source": [
    "## Gesäuberte Daten speichern"
   ]
  },
  {
   "cell_type": "code",
   "execution_count": 13,
   "id": "ad02737e",
   "metadata": {},
   "outputs": [
    {
     "name": "stdout",
     "output_type": "stream",
     "text": [
      "(93442547, 10)\n",
      "(14154, 6)\n"
     ]
    }
   ],
   "source": [
    "print(cleaned_train_series.shape)\n",
    "print(cleaned_train_events.shape)"
   ]
  },
  {
   "cell_type": "code",
   "execution_count": 14,
   "id": "e16255d9",
   "metadata": {},
   "outputs": [],
   "source": [
    "cleaned_train_series.to_parquet('../../data/cleaned/series.parquet')\n",
    "cleaned_train_events.to_csv('../../data/cleaned/events.csv', index=False)"
   ]
  }
 ],
 "metadata": {
  "kernelspec": {
   "display_name": "Python 3 (ipykernel)",
   "language": "python",
   "name": "python3"
  },
  "language_info": {
   "codemirror_mode": {
    "name": "ipython",
    "version": 3
   },
   "file_extension": ".py",
   "mimetype": "text/x-python",
   "name": "python",
   "nbconvert_exporter": "python",
   "pygments_lexer": "ipython3",
   "version": "3.8.3"
  }
 },
 "nbformat": 4,
 "nbformat_minor": 5
}
