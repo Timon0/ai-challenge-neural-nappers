{
 "cells": [
  {
   "cell_type": "markdown",
   "id": "e6c14b47",
   "metadata": {},
   "source": [
    "# Data Cleaning"
   ]
  },
  {
   "cell_type": "code",
   "execution_count": 1,
   "id": "16b2b488",
   "metadata": {},
   "outputs": [],
   "source": [
    "import pandas as pd"
   ]
  },
  {
   "cell_type": "markdown",
   "id": "f5475fa5",
   "metadata": {},
   "source": [
    "## Daten laden"
   ]
  },
  {
   "cell_type": "code",
   "execution_count": 2,
   "id": "6078eade",
   "metadata": {},
   "outputs": [],
   "source": [
    "train_series = pd.read_parquet('../../data/raw/train_series.parquet')\n",
    "train_events = pd.read_csv('../../data/raw/train_events.csv')"
   ]
  },
  {
   "cell_type": "code",
   "execution_count": 3,
   "id": "ca565962",
   "metadata": {},
   "outputs": [
    {
     "name": "stdout",
     "output_type": "stream",
     "text": [
      "(127946340, 5)\n",
      "(14508, 5)\n"
     ]
    }
   ],
   "source": [
    "print(train_series.shape)\n",
    "print(train_events.shape)"
   ]
  },
  {
   "cell_type": "markdown",
   "id": "ad4decf8",
   "metadata": {},
   "source": [
    "## Serien ohne Events entfernen"
   ]
  },
  {
   "cell_type": "code",
   "execution_count": 4,
   "id": "a74dd8eb",
   "metadata": {},
   "outputs": [
    {
     "name": "stdout",
     "output_type": "stream",
     "text": [
      "Serien ohne Events: \n",
      " ['c7b1283bb7eb', '0f9e60a8e56d', 'a3e59c2ce3f6', '390b487231ce', 'c5d08fc3e040', '2fc653ca75c7', '89c7daa72eee', 'e11b9d69f856']\n"
     ]
    }
   ],
   "source": [
    "series_id_list = train_series['series_id'].unique().tolist()\n",
    "\n",
    "events_series_id_list = train_events.dropna()['series_id'].unique().tolist()\n",
    "\n",
    "series_without_events = list(set(series_id_list) - set(events_series_id_list))\n",
    "\n",
    "print('Serien ohne Events: \\n', series_without_events)"
   ]
  },
  {
   "cell_type": "code",
   "execution_count": 5,
   "id": "25d728a6",
   "metadata": {},
   "outputs": [],
   "source": [
    "cleaned_train_series = train_series[~train_series.series_id.isin(series_without_events)]\n",
    "cleaned_train_events = train_events[~train_events.series_id.isin(series_without_events)]"
   ]
  },
  {
   "cell_type": "markdown",
   "id": "2a3be320",
   "metadata": {},
   "source": [
    "## Gesäuberte Daten speichern"
   ]
  },
  {
   "cell_type": "code",
   "execution_count": 6,
   "id": "ad02737e",
   "metadata": {},
   "outputs": [
    {
     "name": "stdout",
     "output_type": "stream",
     "text": [
      "(124822080, 5)\n",
      "(124822080, 5)\n"
     ]
    }
   ],
   "source": [
    "print(cleaned_train_series.shape)\n",
    "print(cleaned_train_series.shape)"
   ]
  },
  {
   "cell_type": "code",
   "execution_count": 7,
   "id": "e16255d9",
   "metadata": {},
   "outputs": [],
   "source": [
    "cleaned_train_series.to_parquet('../../data/cleaned/train_series.parquet')\n",
    "cleaned_train_events.to_csv('../../data/cleaned/train_events.csv', index=False)"
   ]
  }
 ],
 "metadata": {
  "kernelspec": {
   "display_name": "ai-challenge",
   "language": "python",
   "name": "ai-challenge"
  },
  "language_info": {
   "codemirror_mode": {
    "name": "ipython",
    "version": 3
   },
   "file_extension": ".py",
   "mimetype": "text/x-python",
   "name": "python",
   "nbconvert_exporter": "python",
   "pygments_lexer": "ipython3",
   "version": "3.11.5"
  }
 },
 "nbformat": 4,
 "nbformat_minor": 5
}
