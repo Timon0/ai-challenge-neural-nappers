{
 "cells": [
  {
   "cell_type": "markdown",
   "id": "68b5b0c4",
   "metadata": {},
   "source": [
    "# Feature Engineering"
   ]
  },
  {
   "cell_type": "code",
   "execution_count": 1,
   "id": "c30219bf",
   "metadata": {
    "ExecuteTime": {
     "end_time": "2023-09-29T12:45:00.780002600Z",
     "start_time": "2023-09-29T12:44:58.091438100Z"
    }
   },
   "outputs": [],
   "source": [
    "import pandas as pd\n",
    "import numpy as np\n",
    "import pyarrow as pa\n",
    "import pyarrow.parquet as pq\n",
    "\n",
    "from tqdm import tqdm\n",
    "\n",
    "import time\n",
    "import gc\n",
    "\n",
    "pd.set_option('display.max_columns', None)"
   ]
  },
  {
   "cell_type": "markdown",
   "id": "abc62c52",
   "metadata": {},
   "source": [
    "## Daten laden"
   ]
  },
  {
   "cell_type": "code",
   "execution_count": 2,
   "id": "324a560c",
   "metadata": {
    "ExecuteTime": {
     "end_time": "2023-09-29T12:45:52.408420500Z",
     "start_time": "2023-09-29T12:45:00.786090800Z"
    }
   },
   "outputs": [],
   "source": [
    "IS_TRAINING = False\n",
    "FILE = '../../data/processed/v2/validation_series_split_normalized.parquet'\n",
    "series = pd.read_parquet(FILE, columns=['series_id'])"
   ]
  },
  {
   "cell_type": "markdown",
   "id": "fb74cd20c7a91f81",
   "metadata": {},
   "source": [
    "## Neue Features erstellen"
   ]
  },
  {
   "cell_type": "code",
   "execution_count": 3,
   "id": "25844b7a",
   "metadata": {},
   "outputs": [],
   "source": [
    "folder = \"train/\" if IS_TRAINING else \"validation/\"\n",
    "file_path_prefix = \"../../data/processed/v2/\" + folder\n",
    "\n",
    "def save_chunk(series_id, chunck):\n",
    "    chunck.to_parquet(file_path_prefix + series_id + \".parquet\")"
   ]
  },
  {
   "cell_type": "code",
   "execution_count": 4,
   "id": "5f7819507cd29d98",
   "metadata": {
    "ExecuteTime": {
     "end_time": "2023-09-29T12:45:52.429714800Z",
     "start_time": "2023-09-29T12:45:52.419364600Z"
    }
   },
   "outputs": [],
   "source": [
    "def make_features_chunck(series_id):\n",
    "    df = pd.read_parquet(FILE, filters=[('series_id','=',series_id)])\n",
    "          \n",
    "    for i in range(1, 25):\n",
    "        df[f\"anglez_past-lag_{i}\"] = df[\"anglez\"].shift(i).bfill()\n",
    "        df[f\"enmo_past-lag_{i}\"] = df[\"enmo\"].shift(i).bfill()\n",
    "\n",
    "    for i in range(-1, -25, -1):\n",
    "        df[f\"anglez_future-lag_{i}\"] = df[\"anglez\"].shift(i).ffill()\n",
    "        df[f\"enmo_future-lag_{i}\"] = df[\"enmo\"].shift(i).ffill()\n",
    "    \n",
    "    return df"
   ]
  },
  {
   "cell_type": "code",
   "execution_count": 5,
   "id": "16b52907",
   "metadata": {},
   "outputs": [],
   "source": [
    "def make_features(series):\n",
    "    for series_id in tqdm(series.series_id.unique()):\n",
    "        chunck = make_features_chunck(series_id)\n",
    "        save_chunk(series_id, chunck)\n",
    "        \n",
    "        del chunck\n",
    "        gc.collect()"
   ]
  },
  {
   "cell_type": "code",
   "execution_count": 6,
   "id": "c0d067155defaebc",
   "metadata": {
    "ExecuteTime": {
     "start_time": "2023-09-29T12:45:52.429714800Z"
    },
    "is_executing": true,
    "scrolled": true
   },
   "outputs": [
    {
     "name": "stderr",
     "output_type": "stream",
     "text": [
      "  0%|                                                                                           | 0/54 [00:00<?, ?it/s]C:\\Users\\timon\\AppData\\Local\\Temp\\ipykernel_8516\\1279877347.py:10: PerformanceWarning: DataFrame is highly fragmented.  This is usually the result of calling `frame.insert` many times, which has poor performance.  Consider joining all columns at once using pd.concat(axis=1) instead. To get a de-fragmented frame, use `newframe = frame.copy()`\n",
      "  df[f\"enmo_future-lag_{i}\"] = df[\"enmo\"].shift(i).ffill()\n",
      "  2%|█▌                                                                                 | 1/54 [00:06<05:21,  6.07s/it]C:\\Users\\timon\\AppData\\Local\\Temp\\ipykernel_8516\\1279877347.py:10: PerformanceWarning: DataFrame is highly fragmented.  This is usually the result of calling `frame.insert` many times, which has poor performance.  Consider joining all columns at once using pd.concat(axis=1) instead. To get a de-fragmented frame, use `newframe = frame.copy()`\n",
      "  df[f\"enmo_future-lag_{i}\"] = df[\"enmo\"].shift(i).ffill()\n",
      "  4%|███                                                                                | 2/54 [00:09<04:03,  4.68s/it]C:\\Users\\timon\\AppData\\Local\\Temp\\ipykernel_8516\\1279877347.py:10: PerformanceWarning: DataFrame is highly fragmented.  This is usually the result of calling `frame.insert` many times, which has poor performance.  Consider joining all columns at once using pd.concat(axis=1) instead. To get a de-fragmented frame, use `newframe = frame.copy()`\n",
      "  df[f\"enmo_future-lag_{i}\"] = df[\"enmo\"].shift(i).ffill()\n",
      "  6%|████▌                                                                              | 3/54 [00:13<03:42,  4.36s/it]C:\\Users\\timon\\AppData\\Local\\Temp\\ipykernel_8516\\1279877347.py:10: PerformanceWarning: DataFrame is highly fragmented.  This is usually the result of calling `frame.insert` many times, which has poor performance.  Consider joining all columns at once using pd.concat(axis=1) instead. To get a de-fragmented frame, use `newframe = frame.copy()`\n",
      "  df[f\"enmo_future-lag_{i}\"] = df[\"enmo\"].shift(i).ffill()\n",
      "  7%|██████▏                                                                            | 4/54 [00:18<03:39,  4.39s/it]C:\\Users\\timon\\AppData\\Local\\Temp\\ipykernel_8516\\1279877347.py:10: PerformanceWarning: DataFrame is highly fragmented.  This is usually the result of calling `frame.insert` many times, which has poor performance.  Consider joining all columns at once using pd.concat(axis=1) instead. To get a de-fragmented frame, use `newframe = frame.copy()`\n",
      "  df[f\"enmo_future-lag_{i}\"] = df[\"enmo\"].shift(i).ffill()\n",
      "  9%|███████▋                                                                           | 5/54 [00:21<03:23,  4.15s/it]C:\\Users\\timon\\AppData\\Local\\Temp\\ipykernel_8516\\1279877347.py:10: PerformanceWarning: DataFrame is highly fragmented.  This is usually the result of calling `frame.insert` many times, which has poor performance.  Consider joining all columns at once using pd.concat(axis=1) instead. To get a de-fragmented frame, use `newframe = frame.copy()`\n",
      "  df[f\"enmo_future-lag_{i}\"] = df[\"enmo\"].shift(i).ffill()\n",
      " 11%|█████████▏                                                                         | 6/54 [00:26<03:28,  4.34s/it]C:\\Users\\timon\\AppData\\Local\\Temp\\ipykernel_8516\\1279877347.py:10: PerformanceWarning: DataFrame is highly fragmented.  This is usually the result of calling `frame.insert` many times, which has poor performance.  Consider joining all columns at once using pd.concat(axis=1) instead. To get a de-fragmented frame, use `newframe = frame.copy()`\n",
      "  df[f\"enmo_future-lag_{i}\"] = df[\"enmo\"].shift(i).ffill()\n",
      " 13%|██████████▊                                                                        | 7/54 [00:31<03:25,  4.38s/it]C:\\Users\\timon\\AppData\\Local\\Temp\\ipykernel_8516\\1279877347.py:10: PerformanceWarning: DataFrame is highly fragmented.  This is usually the result of calling `frame.insert` many times, which has poor performance.  Consider joining all columns at once using pd.concat(axis=1) instead. To get a de-fragmented frame, use `newframe = frame.copy()`\n",
      "  df[f\"enmo_future-lag_{i}\"] = df[\"enmo\"].shift(i).ffill()\n",
      " 15%|████████████▎                                                                      | 8/54 [00:35<03:18,  4.31s/it]C:\\Users\\timon\\AppData\\Local\\Temp\\ipykernel_8516\\1279877347.py:10: PerformanceWarning: DataFrame is highly fragmented.  This is usually the result of calling `frame.insert` many times, which has poor performance.  Consider joining all columns at once using pd.concat(axis=1) instead. To get a de-fragmented frame, use `newframe = frame.copy()`\n",
      "  df[f\"enmo_future-lag_{i}\"] = df[\"enmo\"].shift(i).ffill()\n",
      " 17%|█████████████▊                                                                     | 9/54 [00:39<03:10,  4.24s/it]C:\\Users\\timon\\AppData\\Local\\Temp\\ipykernel_8516\\1279877347.py:10: PerformanceWarning: DataFrame is highly fragmented.  This is usually the result of calling `frame.insert` many times, which has poor performance.  Consider joining all columns at once using pd.concat(axis=1) instead. To get a de-fragmented frame, use `newframe = frame.copy()`\n",
      "  df[f\"enmo_future-lag_{i}\"] = df[\"enmo\"].shift(i).ffill()\n",
      " 19%|███████████████▏                                                                  | 10/54 [00:43<03:09,  4.31s/it]C:\\Users\\timon\\AppData\\Local\\Temp\\ipykernel_8516\\1279877347.py:10: PerformanceWarning: DataFrame is highly fragmented.  This is usually the result of calling `frame.insert` many times, which has poor performance.  Consider joining all columns at once using pd.concat(axis=1) instead. To get a de-fragmented frame, use `newframe = frame.copy()`\n",
      "  df[f\"enmo_future-lag_{i}\"] = df[\"enmo\"].shift(i).ffill()\n",
      " 20%|████████████████▋                                                                 | 11/54 [00:47<03:02,  4.25s/it]C:\\Users\\timon\\AppData\\Local\\Temp\\ipykernel_8516\\1279877347.py:10: PerformanceWarning: DataFrame is highly fragmented.  This is usually the result of calling `frame.insert` many times, which has poor performance.  Consider joining all columns at once using pd.concat(axis=1) instead. To get a de-fragmented frame, use `newframe = frame.copy()`\n",
      "  df[f\"enmo_future-lag_{i}\"] = df[\"enmo\"].shift(i).ffill()\n",
      " 22%|██████████████████▏                                                               | 12/54 [00:52<02:58,  4.25s/it]C:\\Users\\timon\\AppData\\Local\\Temp\\ipykernel_8516\\1279877347.py:10: PerformanceWarning: DataFrame is highly fragmented.  This is usually the result of calling `frame.insert` many times, which has poor performance.  Consider joining all columns at once using pd.concat(axis=1) instead. To get a de-fragmented frame, use `newframe = frame.copy()`\n",
      "  df[f\"enmo_future-lag_{i}\"] = df[\"enmo\"].shift(i).ffill()\n",
      " 24%|███████████████████▋                                                              | 13/54 [00:56<02:56,  4.31s/it]C:\\Users\\timon\\AppData\\Local\\Temp\\ipykernel_8516\\1279877347.py:10: PerformanceWarning: DataFrame is highly fragmented.  This is usually the result of calling `frame.insert` many times, which has poor performance.  Consider joining all columns at once using pd.concat(axis=1) instead. To get a de-fragmented frame, use `newframe = frame.copy()`\n",
      "  df[f\"enmo_future-lag_{i}\"] = df[\"enmo\"].shift(i).ffill()\n",
      " 26%|█████████████████████▎                                                            | 14/54 [01:00<02:48,  4.22s/it]C:\\Users\\timon\\AppData\\Local\\Temp\\ipykernel_8516\\1279877347.py:10: PerformanceWarning: DataFrame is highly fragmented.  This is usually the result of calling `frame.insert` many times, which has poor performance.  Consider joining all columns at once using pd.concat(axis=1) instead. To get a de-fragmented frame, use `newframe = frame.copy()`\n",
      "  df[f\"enmo_future-lag_{i}\"] = df[\"enmo\"].shift(i).ffill()\n",
      " 28%|██████████████████████▊                                                           | 15/54 [01:05<02:49,  4.36s/it]C:\\Users\\timon\\AppData\\Local\\Temp\\ipykernel_8516\\1279877347.py:10: PerformanceWarning: DataFrame is highly fragmented.  This is usually the result of calling `frame.insert` many times, which has poor performance.  Consider joining all columns at once using pd.concat(axis=1) instead. To get a de-fragmented frame, use `newframe = frame.copy()`\n",
      "  df[f\"enmo_future-lag_{i}\"] = df[\"enmo\"].shift(i).ffill()\n"
     ]
    },
    {
     "name": "stderr",
     "output_type": "stream",
     "text": [
      " 30%|████████████████████████▎                                                         | 16/54 [01:09<02:44,  4.32s/it]C:\\Users\\timon\\AppData\\Local\\Temp\\ipykernel_8516\\1279877347.py:10: PerformanceWarning: DataFrame is highly fragmented.  This is usually the result of calling `frame.insert` many times, which has poor performance.  Consider joining all columns at once using pd.concat(axis=1) instead. To get a de-fragmented frame, use `newframe = frame.copy()`\n",
      "  df[f\"enmo_future-lag_{i}\"] = df[\"enmo\"].shift(i).ffill()\n",
      " 31%|█████████████████████████▊                                                        | 17/54 [01:13<02:32,  4.13s/it]C:\\Users\\timon\\AppData\\Local\\Temp\\ipykernel_8516\\1279877347.py:10: PerformanceWarning: DataFrame is highly fragmented.  This is usually the result of calling `frame.insert` many times, which has poor performance.  Consider joining all columns at once using pd.concat(axis=1) instead. To get a de-fragmented frame, use `newframe = frame.copy()`\n",
      "  df[f\"enmo_future-lag_{i}\"] = df[\"enmo\"].shift(i).ffill()\n",
      " 33%|███████████████████████████▎                                                      | 18/54 [01:16<02:21,  3.93s/it]C:\\Users\\timon\\AppData\\Local\\Temp\\ipykernel_8516\\1279877347.py:10: PerformanceWarning: DataFrame is highly fragmented.  This is usually the result of calling `frame.insert` many times, which has poor performance.  Consider joining all columns at once using pd.concat(axis=1) instead. To get a de-fragmented frame, use `newframe = frame.copy()`\n",
      "  df[f\"enmo_future-lag_{i}\"] = df[\"enmo\"].shift(i).ffill()\n",
      " 35%|████████████████████████████▊                                                     | 19/54 [01:20<02:20,  4.02s/it]C:\\Users\\timon\\AppData\\Local\\Temp\\ipykernel_8516\\1279877347.py:10: PerformanceWarning: DataFrame is highly fragmented.  This is usually the result of calling `frame.insert` many times, which has poor performance.  Consider joining all columns at once using pd.concat(axis=1) instead. To get a de-fragmented frame, use `newframe = frame.copy()`\n",
      "  df[f\"enmo_future-lag_{i}\"] = df[\"enmo\"].shift(i).ffill()\n",
      " 37%|██████████████████████████████▎                                                   | 20/54 [01:25<02:19,  4.10s/it]C:\\Users\\timon\\AppData\\Local\\Temp\\ipykernel_8516\\1279877347.py:10: PerformanceWarning: DataFrame is highly fragmented.  This is usually the result of calling `frame.insert` many times, which has poor performance.  Consider joining all columns at once using pd.concat(axis=1) instead. To get a de-fragmented frame, use `newframe = frame.copy()`\n",
      "  df[f\"enmo_future-lag_{i}\"] = df[\"enmo\"].shift(i).ffill()\n",
      " 39%|███████████████████████████████▉                                                  | 21/54 [01:30<02:28,  4.50s/it]C:\\Users\\timon\\AppData\\Local\\Temp\\ipykernel_8516\\1279877347.py:10: PerformanceWarning: DataFrame is highly fragmented.  This is usually the result of calling `frame.insert` many times, which has poor performance.  Consider joining all columns at once using pd.concat(axis=1) instead. To get a de-fragmented frame, use `newframe = frame.copy()`\n",
      "  df[f\"enmo_future-lag_{i}\"] = df[\"enmo\"].shift(i).ffill()\n",
      " 41%|█████████████████████████████████▍                                                | 22/54 [01:34<02:13,  4.17s/it]C:\\Users\\timon\\AppData\\Local\\Temp\\ipykernel_8516\\1279877347.py:10: PerformanceWarning: DataFrame is highly fragmented.  This is usually the result of calling `frame.insert` many times, which has poor performance.  Consider joining all columns at once using pd.concat(axis=1) instead. To get a de-fragmented frame, use `newframe = frame.copy()`\n",
      "  df[f\"enmo_future-lag_{i}\"] = df[\"enmo\"].shift(i).ffill()\n",
      " 43%|██████████████████████████████████▉                                               | 23/54 [01:38<02:14,  4.33s/it]C:\\Users\\timon\\AppData\\Local\\Temp\\ipykernel_8516\\1279877347.py:10: PerformanceWarning: DataFrame is highly fragmented.  This is usually the result of calling `frame.insert` many times, which has poor performance.  Consider joining all columns at once using pd.concat(axis=1) instead. To get a de-fragmented frame, use `newframe = frame.copy()`\n",
      "  df[f\"enmo_future-lag_{i}\"] = df[\"enmo\"].shift(i).ffill()\n",
      " 44%|████████████████████████████████████▍                                             | 24/54 [01:42<02:02,  4.10s/it]C:\\Users\\timon\\AppData\\Local\\Temp\\ipykernel_8516\\1279877347.py:10: PerformanceWarning: DataFrame is highly fragmented.  This is usually the result of calling `frame.insert` many times, which has poor performance.  Consider joining all columns at once using pd.concat(axis=1) instead. To get a de-fragmented frame, use `newframe = frame.copy()`\n",
      "  df[f\"enmo_future-lag_{i}\"] = df[\"enmo\"].shift(i).ffill()\n",
      " 46%|█████████████████████████████████████▉                                            | 25/54 [01:46<01:59,  4.12s/it]C:\\Users\\timon\\AppData\\Local\\Temp\\ipykernel_8516\\1279877347.py:10: PerformanceWarning: DataFrame is highly fragmented.  This is usually the result of calling `frame.insert` many times, which has poor performance.  Consider joining all columns at once using pd.concat(axis=1) instead. To get a de-fragmented frame, use `newframe = frame.copy()`\n",
      "  df[f\"enmo_future-lag_{i}\"] = df[\"enmo\"].shift(i).ffill()\n",
      " 48%|███████████████████████████████████████▍                                          | 26/54 [01:50<01:55,  4.12s/it]C:\\Users\\timon\\AppData\\Local\\Temp\\ipykernel_8516\\1279877347.py:10: PerformanceWarning: DataFrame is highly fragmented.  This is usually the result of calling `frame.insert` many times, which has poor performance.  Consider joining all columns at once using pd.concat(axis=1) instead. To get a de-fragmented frame, use `newframe = frame.copy()`\n",
      "  df[f\"enmo_future-lag_{i}\"] = df[\"enmo\"].shift(i).ffill()\n",
      " 50%|█████████████████████████████████████████                                         | 27/54 [01:55<01:54,  4.24s/it]C:\\Users\\timon\\AppData\\Local\\Temp\\ipykernel_8516\\1279877347.py:10: PerformanceWarning: DataFrame is highly fragmented.  This is usually the result of calling `frame.insert` many times, which has poor performance.  Consider joining all columns at once using pd.concat(axis=1) instead. To get a de-fragmented frame, use `newframe = frame.copy()`\n",
      "  df[f\"enmo_future-lag_{i}\"] = df[\"enmo\"].shift(i).ffill()\n",
      " 52%|██████████████████████████████████████████▌                                       | 28/54 [01:59<01:50,  4.24s/it]C:\\Users\\timon\\AppData\\Local\\Temp\\ipykernel_8516\\1279877347.py:10: PerformanceWarning: DataFrame is highly fragmented.  This is usually the result of calling `frame.insert` many times, which has poor performance.  Consider joining all columns at once using pd.concat(axis=1) instead. To get a de-fragmented frame, use `newframe = frame.copy()`\n",
      "  df[f\"enmo_future-lag_{i}\"] = df[\"enmo\"].shift(i).ffill()\n",
      " 54%|████████████████████████████████████████████                                      | 29/54 [02:04<01:51,  4.45s/it]C:\\Users\\timon\\AppData\\Local\\Temp\\ipykernel_8516\\1279877347.py:10: PerformanceWarning: DataFrame is highly fragmented.  This is usually the result of calling `frame.insert` many times, which has poor performance.  Consider joining all columns at once using pd.concat(axis=1) instead. To get a de-fragmented frame, use `newframe = frame.copy()`\n",
      "  df[f\"enmo_future-lag_{i}\"] = df[\"enmo\"].shift(i).ffill()\n",
      " 56%|█████████████████████████████████████████████▌                                    | 30/54 [02:08<01:47,  4.49s/it]C:\\Users\\timon\\AppData\\Local\\Temp\\ipykernel_8516\\1279877347.py:10: PerformanceWarning: DataFrame is highly fragmented.  This is usually the result of calling `frame.insert` many times, which has poor performance.  Consider joining all columns at once using pd.concat(axis=1) instead. To get a de-fragmented frame, use `newframe = frame.copy()`\n",
      "  df[f\"enmo_future-lag_{i}\"] = df[\"enmo\"].shift(i).ffill()\n",
      " 57%|███████████████████████████████████████████████                                   | 31/54 [02:13<01:42,  4.44s/it]C:\\Users\\timon\\AppData\\Local\\Temp\\ipykernel_8516\\1279877347.py:10: PerformanceWarning: DataFrame is highly fragmented.  This is usually the result of calling `frame.insert` many times, which has poor performance.  Consider joining all columns at once using pd.concat(axis=1) instead. To get a de-fragmented frame, use `newframe = frame.copy()`\n",
      "  df[f\"enmo_future-lag_{i}\"] = df[\"enmo\"].shift(i).ffill()\n"
     ]
    },
    {
     "name": "stderr",
     "output_type": "stream",
     "text": [
      " 59%|████████████████████████████████████████████████▌                                 | 32/54 [02:18<01:40,  4.55s/it]C:\\Users\\timon\\AppData\\Local\\Temp\\ipykernel_8516\\1279877347.py:10: PerformanceWarning: DataFrame is highly fragmented.  This is usually the result of calling `frame.insert` many times, which has poor performance.  Consider joining all columns at once using pd.concat(axis=1) instead. To get a de-fragmented frame, use `newframe = frame.copy()`\n",
      "  df[f\"enmo_future-lag_{i}\"] = df[\"enmo\"].shift(i).ffill()\n",
      " 61%|██████████████████████████████████████████████████                                | 33/54 [02:20<01:24,  4.02s/it]C:\\Users\\timon\\AppData\\Local\\Temp\\ipykernel_8516\\1279877347.py:10: PerformanceWarning: DataFrame is highly fragmented.  This is usually the result of calling `frame.insert` many times, which has poor performance.  Consider joining all columns at once using pd.concat(axis=1) instead. To get a de-fragmented frame, use `newframe = frame.copy()`\n",
      "  df[f\"enmo_future-lag_{i}\"] = df[\"enmo\"].shift(i).ffill()\n",
      " 63%|███████████████████████████████████████████████████▋                              | 34/54 [02:24<01:16,  3.84s/it]C:\\Users\\timon\\AppData\\Local\\Temp\\ipykernel_8516\\1279877347.py:10: PerformanceWarning: DataFrame is highly fragmented.  This is usually the result of calling `frame.insert` many times, which has poor performance.  Consider joining all columns at once using pd.concat(axis=1) instead. To get a de-fragmented frame, use `newframe = frame.copy()`\n",
      "  df[f\"enmo_future-lag_{i}\"] = df[\"enmo\"].shift(i).ffill()\n",
      " 65%|█████████████████████████████████████████████████████▏                            | 35/54 [02:29<01:21,  4.31s/it]C:\\Users\\timon\\AppData\\Local\\Temp\\ipykernel_8516\\1279877347.py:10: PerformanceWarning: DataFrame is highly fragmented.  This is usually the result of calling `frame.insert` many times, which has poor performance.  Consider joining all columns at once using pd.concat(axis=1) instead. To get a de-fragmented frame, use `newframe = frame.copy()`\n",
      "  df[f\"enmo_future-lag_{i}\"] = df[\"enmo\"].shift(i).ffill()\n",
      " 67%|██████████████████████████████████████████████████████▋                           | 36/54 [02:33<01:15,  4.22s/it]C:\\Users\\timon\\AppData\\Local\\Temp\\ipykernel_8516\\1279877347.py:10: PerformanceWarning: DataFrame is highly fragmented.  This is usually the result of calling `frame.insert` many times, which has poor performance.  Consider joining all columns at once using pd.concat(axis=1) instead. To get a de-fragmented frame, use `newframe = frame.copy()`\n",
      "  df[f\"enmo_future-lag_{i}\"] = df[\"enmo\"].shift(i).ffill()\n",
      " 69%|████████████████████████████████████████████████████████▏                         | 37/54 [02:37<01:11,  4.20s/it]C:\\Users\\timon\\AppData\\Local\\Temp\\ipykernel_8516\\1279877347.py:10: PerformanceWarning: DataFrame is highly fragmented.  This is usually the result of calling `frame.insert` many times, which has poor performance.  Consider joining all columns at once using pd.concat(axis=1) instead. To get a de-fragmented frame, use `newframe = frame.copy()`\n",
      "  df[f\"enmo_future-lag_{i}\"] = df[\"enmo\"].shift(i).ffill()\n",
      " 70%|█████████████████████████████████████████████████████████▋                        | 38/54 [02:42<01:07,  4.23s/it]C:\\Users\\timon\\AppData\\Local\\Temp\\ipykernel_8516\\1279877347.py:10: PerformanceWarning: DataFrame is highly fragmented.  This is usually the result of calling `frame.insert` many times, which has poor performance.  Consider joining all columns at once using pd.concat(axis=1) instead. To get a de-fragmented frame, use `newframe = frame.copy()`\n",
      "  df[f\"enmo_future-lag_{i}\"] = df[\"enmo\"].shift(i).ffill()\n",
      " 72%|███████████████████████████████████████████████████████████▏                      | 39/54 [02:46<01:03,  4.23s/it]C:\\Users\\timon\\AppData\\Local\\Temp\\ipykernel_8516\\1279877347.py:10: PerformanceWarning: DataFrame is highly fragmented.  This is usually the result of calling `frame.insert` many times, which has poor performance.  Consider joining all columns at once using pd.concat(axis=1) instead. To get a de-fragmented frame, use `newframe = frame.copy()`\n",
      "  df[f\"enmo_future-lag_{i}\"] = df[\"enmo\"].shift(i).ffill()\n",
      " 74%|████████████████████████████████████████████████████████████▋                     | 40/54 [02:50<01:00,  4.30s/it]C:\\Users\\timon\\AppData\\Local\\Temp\\ipykernel_8516\\1279877347.py:10: PerformanceWarning: DataFrame is highly fragmented.  This is usually the result of calling `frame.insert` many times, which has poor performance.  Consider joining all columns at once using pd.concat(axis=1) instead. To get a de-fragmented frame, use `newframe = frame.copy()`\n",
      "  df[f\"enmo_future-lag_{i}\"] = df[\"enmo\"].shift(i).ffill()\n",
      " 76%|██████████████████████████████████████████████████████████████▎                   | 41/54 [02:55<00:58,  4.48s/it]C:\\Users\\timon\\AppData\\Local\\Temp\\ipykernel_8516\\1279877347.py:10: PerformanceWarning: DataFrame is highly fragmented.  This is usually the result of calling `frame.insert` many times, which has poor performance.  Consider joining all columns at once using pd.concat(axis=1) instead. To get a de-fragmented frame, use `newframe = frame.copy()`\n",
      "  df[f\"enmo_future-lag_{i}\"] = df[\"enmo\"].shift(i).ffill()\n",
      " 78%|███████████████████████████████████████████████████████████████▊                  | 42/54 [02:59<00:51,  4.31s/it]C:\\Users\\timon\\AppData\\Local\\Temp\\ipykernel_8516\\1279877347.py:10: PerformanceWarning: DataFrame is highly fragmented.  This is usually the result of calling `frame.insert` many times, which has poor performance.  Consider joining all columns at once using pd.concat(axis=1) instead. To get a de-fragmented frame, use `newframe = frame.copy()`\n",
      "  df[f\"enmo_future-lag_{i}\"] = df[\"enmo\"].shift(i).ffill()\n",
      " 80%|█████████████████████████████████████████████████████████████████▎                | 43/54 [03:03<00:47,  4.32s/it]C:\\Users\\timon\\AppData\\Local\\Temp\\ipykernel_8516\\1279877347.py:10: PerformanceWarning: DataFrame is highly fragmented.  This is usually the result of calling `frame.insert` many times, which has poor performance.  Consider joining all columns at once using pd.concat(axis=1) instead. To get a de-fragmented frame, use `newframe = frame.copy()`\n",
      "  df[f\"enmo_future-lag_{i}\"] = df[\"enmo\"].shift(i).ffill()\n",
      " 81%|██████████████████████████████████████████████████████████████████▊               | 44/54 [03:08<00:42,  4.28s/it]C:\\Users\\timon\\AppData\\Local\\Temp\\ipykernel_8516\\1279877347.py:10: PerformanceWarning: DataFrame is highly fragmented.  This is usually the result of calling `frame.insert` many times, which has poor performance.  Consider joining all columns at once using pd.concat(axis=1) instead. To get a de-fragmented frame, use `newframe = frame.copy()`\n",
      "  df[f\"enmo_future-lag_{i}\"] = df[\"enmo\"].shift(i).ffill()\n",
      " 83%|████████████████████████████████████████████████████████████████████▎             | 45/54 [03:12<00:38,  4.29s/it]C:\\Users\\timon\\AppData\\Local\\Temp\\ipykernel_8516\\1279877347.py:10: PerformanceWarning: DataFrame is highly fragmented.  This is usually the result of calling `frame.insert` many times, which has poor performance.  Consider joining all columns at once using pd.concat(axis=1) instead. To get a de-fragmented frame, use `newframe = frame.copy()`\n",
      "  df[f\"enmo_future-lag_{i}\"] = df[\"enmo\"].shift(i).ffill()\n",
      " 85%|█████████████████████████████████████████████████████████████████████▊            | 46/54 [03:16<00:34,  4.27s/it]C:\\Users\\timon\\AppData\\Local\\Temp\\ipykernel_8516\\1279877347.py:10: PerformanceWarning: DataFrame is highly fragmented.  This is usually the result of calling `frame.insert` many times, which has poor performance.  Consider joining all columns at once using pd.concat(axis=1) instead. To get a de-fragmented frame, use `newframe = frame.copy()`\n",
      "  df[f\"enmo_future-lag_{i}\"] = df[\"enmo\"].shift(i).ffill()\n",
      " 87%|███████████████████████████████████████████████████████████████████████▎          | 47/54 [03:21<00:31,  4.45s/it]C:\\Users\\timon\\AppData\\Local\\Temp\\ipykernel_8516\\1279877347.py:10: PerformanceWarning: DataFrame is highly fragmented.  This is usually the result of calling `frame.insert` many times, which has poor performance.  Consider joining all columns at once using pd.concat(axis=1) instead. To get a de-fragmented frame, use `newframe = frame.copy()`\n",
      "  df[f\"enmo_future-lag_{i}\"] = df[\"enmo\"].shift(i).ffill()\n"
     ]
    },
    {
     "name": "stderr",
     "output_type": "stream",
     "text": [
      " 89%|████████████████████████████████████████████████████████████████████████▉         | 48/54 [03:26<00:27,  4.54s/it]C:\\Users\\timon\\AppData\\Local\\Temp\\ipykernel_8516\\1279877347.py:10: PerformanceWarning: DataFrame is highly fragmented.  This is usually the result of calling `frame.insert` many times, which has poor performance.  Consider joining all columns at once using pd.concat(axis=1) instead. To get a de-fragmented frame, use `newframe = frame.copy()`\n",
      "  df[f\"enmo_future-lag_{i}\"] = df[\"enmo\"].shift(i).ffill()\n",
      " 91%|██████████████████████████████████████████████████████████████████████████▍       | 49/54 [03:30<00:21,  4.31s/it]C:\\Users\\timon\\AppData\\Local\\Temp\\ipykernel_8516\\1279877347.py:10: PerformanceWarning: DataFrame is highly fragmented.  This is usually the result of calling `frame.insert` many times, which has poor performance.  Consider joining all columns at once using pd.concat(axis=1) instead. To get a de-fragmented frame, use `newframe = frame.copy()`\n",
      "  df[f\"enmo_future-lag_{i}\"] = df[\"enmo\"].shift(i).ffill()\n",
      " 93%|███████████████████████████████████████████████████████████████████████████▉      | 50/54 [03:34<00:17,  4.45s/it]C:\\Users\\timon\\AppData\\Local\\Temp\\ipykernel_8516\\1279877347.py:10: PerformanceWarning: DataFrame is highly fragmented.  This is usually the result of calling `frame.insert` many times, which has poor performance.  Consider joining all columns at once using pd.concat(axis=1) instead. To get a de-fragmented frame, use `newframe = frame.copy()`\n",
      "  df[f\"enmo_future-lag_{i}\"] = df[\"enmo\"].shift(i).ffill()\n",
      " 94%|█████████████████████████████████████████████████████████████████████████████▍    | 51/54 [03:40<00:14,  4.79s/it]C:\\Users\\timon\\AppData\\Local\\Temp\\ipykernel_8516\\1279877347.py:10: PerformanceWarning: DataFrame is highly fragmented.  This is usually the result of calling `frame.insert` many times, which has poor performance.  Consider joining all columns at once using pd.concat(axis=1) instead. To get a de-fragmented frame, use `newframe = frame.copy()`\n",
      "  df[f\"enmo_future-lag_{i}\"] = df[\"enmo\"].shift(i).ffill()\n",
      " 96%|██████████████████████████████████████████████████████████████████████████████▉   | 52/54 [03:45<00:09,  4.74s/it]C:\\Users\\timon\\AppData\\Local\\Temp\\ipykernel_8516\\1279877347.py:10: PerformanceWarning: DataFrame is highly fragmented.  This is usually the result of calling `frame.insert` many times, which has poor performance.  Consider joining all columns at once using pd.concat(axis=1) instead. To get a de-fragmented frame, use `newframe = frame.copy()`\n",
      "  df[f\"enmo_future-lag_{i}\"] = df[\"enmo\"].shift(i).ffill()\n",
      " 98%|████████████████████████████████████████████████████████████████████████████████▍ | 53/54 [03:50<00:04,  4.89s/it]C:\\Users\\timon\\AppData\\Local\\Temp\\ipykernel_8516\\1279877347.py:10: PerformanceWarning: DataFrame is highly fragmented.  This is usually the result of calling `frame.insert` many times, which has poor performance.  Consider joining all columns at once using pd.concat(axis=1) instead. To get a de-fragmented frame, use `newframe = frame.copy()`\n",
      "  df[f\"enmo_future-lag_{i}\"] = df[\"enmo\"].shift(i).ffill()\n",
      "100%|██████████████████████████████████████████████████████████████████████████████████| 54/54 [03:55<00:00,  4.35s/it]"
     ]
    },
    {
     "name": "stdout",
     "output_type": "stream",
     "text": [
      "Feature Engineering took 236.292578458786 seconds\n"
     ]
    },
    {
     "name": "stderr",
     "output_type": "stream",
     "text": [
      "\n"
     ]
    }
   ],
   "source": [
    "start_time = time.time()\n",
    "make_features(series)\n",
    "print(f'Feature Engineering took {time.time() - start_time} seconds')"
   ]
  },
  {
   "cell_type": "markdown",
   "id": "87b5c218",
   "metadata": {},
   "source": [
    "## Overview speichern"
   ]
  },
  {
   "cell_type": "code",
   "execution_count": 7,
   "id": "9d108c48",
   "metadata": {},
   "outputs": [],
   "source": [
    "overview = pd.read_parquet(FILE, columns=['series_id', 'step'])"
   ]
  },
  {
   "cell_type": "code",
   "execution_count": 8,
   "id": "095953db",
   "metadata": {},
   "outputs": [],
   "source": [
    "overview.to_parquet(file_path_prefix + \"overview.parquet\")"
   ]
  }
 ],
 "metadata": {
  "kernelspec": {
   "display_name": "ai-challenge",
   "language": "python",
   "name": "ai-challenge"
  },
  "language_info": {
   "codemirror_mode": {
    "name": "ipython",
    "version": 3
   },
   "file_extension": ".py",
   "mimetype": "text/x-python",
   "name": "python",
   "nbconvert_exporter": "python",
   "pygments_lexer": "ipython3",
   "version": "3.11.5"
  }
 },
 "nbformat": 4,
 "nbformat_minor": 5
}
