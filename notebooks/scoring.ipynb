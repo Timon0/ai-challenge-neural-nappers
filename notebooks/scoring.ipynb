version https://git-lfs.github.com/spec/v1
oid sha256:b71fc41843dbba894a0b1fa4006a7af990d2dacf0b418163ab6969ec7584375f
size 2097
