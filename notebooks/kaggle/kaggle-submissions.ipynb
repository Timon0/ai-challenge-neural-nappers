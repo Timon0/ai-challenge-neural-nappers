{
 "cells": [
  {
   "cell_type": "code",
   "execution_count": 1,
   "id": "8afe6ee2",
   "metadata": {
    "tags": []
   },
   "outputs": [],
   "source": [
    "import pandas as pd\n",
    "\n",
    "import plotly.express as px"
   ]
  },
  {
   "cell_type": "code",
   "execution_count": 2,
   "id": "83b0c544",
   "metadata": {
    "tags": []
   },
   "outputs": [],
   "source": [
    "runs = pd.read_csv('./kaggle-runs.csv')"
   ]
  },
  {
   "cell_type": "code",
   "execution_count": 3,
   "id": "98a1b48d",
   "metadata": {
    "tags": []
   },
   "outputs": [
    {
     "data": {
      "text/html": [
       "<div>\n",
       "<style scoped>\n",
       "    .dataframe tbody tr th:only-of-type {\n",
       "        vertical-align: middle;\n",
       "    }\n",
       "\n",
       "    .dataframe tbody tr th {\n",
       "        vertical-align: top;\n",
       "    }\n",
       "\n",
       "    .dataframe thead th {\n",
       "        text-align: right;\n",
       "    }\n",
       "</style>\n",
       "<table border=\"1\" class=\"dataframe\">\n",
       "  <thead>\n",
       "    <tr style=\"text-align: right;\">\n",
       "      <th></th>\n",
       "      <th>run</th>\n",
       "      <th>name</th>\n",
       "      <th>score</th>\n",
       "    </tr>\n",
       "  </thead>\n",
       "  <tbody>\n",
       "    <tr>\n",
       "      <th>0</th>\n",
       "      <td>1</td>\n",
       "      <td>FixTimeBaseline</td>\n",
       "      <td>0.021</td>\n",
       "    </tr>\n",
       "    <tr>\n",
       "      <th>1</th>\n",
       "      <td>2</td>\n",
       "      <td>TimeRangeBaseline</td>\n",
       "      <td>0.004</td>\n",
       "    </tr>\n",
       "    <tr>\n",
       "      <th>2</th>\n",
       "      <td>3</td>\n",
       "      <td>DecisionTreeClassifier-V1</td>\n",
       "      <td>0.098</td>\n",
       "    </tr>\n",
       "    <tr>\n",
       "      <th>3</th>\n",
       "      <td>4</td>\n",
       "      <td>DecisionTreeClassifier-V2</td>\n",
       "      <td>0.112</td>\n",
       "    </tr>\n",
       "    <tr>\n",
       "      <th>4</th>\n",
       "      <td>5</td>\n",
       "      <td>DecisionTreeClassifier-V3</td>\n",
       "      <td>0.118</td>\n",
       "    </tr>\n",
       "    <tr>\n",
       "      <th>5</th>\n",
       "      <td>6</td>\n",
       "      <td>MLP-V1</td>\n",
       "      <td>0.051</td>\n",
       "    </tr>\n",
       "    <tr>\n",
       "      <th>6</th>\n",
       "      <td>7</td>\n",
       "      <td>MLP-V2</td>\n",
       "      <td>0.174</td>\n",
       "    </tr>\n",
       "    <tr>\n",
       "      <th>7</th>\n",
       "      <td>8</td>\n",
       "      <td>FCN-V1</td>\n",
       "      <td>0.412</td>\n",
       "    </tr>\n",
       "    <tr>\n",
       "      <th>8</th>\n",
       "      <td>9</td>\n",
       "      <td>FCN-V2</td>\n",
       "      <td>0.469</td>\n",
       "    </tr>\n",
       "    <tr>\n",
       "      <th>9</th>\n",
       "      <td>10</td>\n",
       "      <td>MLP-V3</td>\n",
       "      <td>0.401</td>\n",
       "    </tr>\n",
       "    <tr>\n",
       "      <th>10</th>\n",
       "      <td>11</td>\n",
       "      <td>Transformer-V1</td>\n",
       "      <td>0.363</td>\n",
       "    </tr>\n",
       "    <tr>\n",
       "      <th>11</th>\n",
       "      <td>12</td>\n",
       "      <td>Transformer-V2</td>\n",
       "      <td>0.415</td>\n",
       "    </tr>\n",
       "    <tr>\n",
       "      <th>12</th>\n",
       "      <td>13</td>\n",
       "      <td>RNN-V1</td>\n",
       "      <td>0.400</td>\n",
       "    </tr>\n",
       "  </tbody>\n",
       "</table>\n",
       "</div>"
      ],
      "text/plain": [
       "    run                       name  score\n",
       "0     1            FixTimeBaseline  0.021\n",
       "1     2          TimeRangeBaseline  0.004\n",
       "2     3  DecisionTreeClassifier-V1  0.098\n",
       "3     4  DecisionTreeClassifier-V2  0.112\n",
       "4     5  DecisionTreeClassifier-V3  0.118\n",
       "5     6                     MLP-V1  0.051\n",
       "6     7                     MLP-V2  0.174\n",
       "7     8                     FCN-V1  0.412\n",
       "8     9                     FCN-V2  0.469\n",
       "9    10                     MLP-V3  0.401\n",
       "10   11             Transformer-V1  0.363\n",
       "11   12             Transformer-V2  0.415\n",
       "12   13                     RNN-V1  0.400"
      ]
     },
     "execution_count": 3,
     "metadata": {},
     "output_type": "execute_result"
    }
   ],
   "source": [
    "runs"
   ]
  },
  {
   "cell_type": "markdown",
   "id": "412953e3",
   "metadata": {},
   "source": [
    "## Visuals"
   ]
  },
  {
   "cell_type": "code",
   "execution_count": 14,
   "id": "ca72064c",
   "metadata": {
    "tags": []
   },
   "outputs": [
    {
     "data": {
      "application/vnd.plotly.v1+json": {
       "config": {
        "plotlyServerURL": "https://plot.ly"
       },
       "data": [
        {
         "hovertemplate": "run=%{x}<br>score=%{y}<extra></extra>",
         "legendgroup": "",
         "line": {
          "color": "#636efa",
          "dash": "solid"
         },
         "marker": {
          "symbol": "circle"
         },
         "mode": "lines",
         "name": "",
         "orientation": "v",
         "showlegend": false,
         "type": "scatter",
         "x": [
          1,
          2,
          3,
          4,
          5,
          6,
          7,
          8,
          9,
          10,
          11,
          12,
          13
         ],
         "xaxis": "x",
         "y": [
          0.021,
          0.004,
          0.098,
          0.112,
          0.118,
          0.051,
          0.174,
          0.412,
          0.469,
          0.401,
          0.363,
          0.415,
          0.4
         ],
         "yaxis": "y"
        }
       ],
       "layout": {
        "annotations": [
         {
          "arrowcolor": "#2C4545",
          "arrowhead": 2,
          "arrowsize": 1,
          "arrowwidth": 2,
          "ax": 3,
          "axref": "x",
          "ay": 0.3,
          "ayref": "y",
          "font": {
           "color": "#2C4545",
           "size": 15
          },
          "text": "FixTime- and TimeRange-<br />Baselines",
          "x": 1.4,
          "xref": "x",
          "y": 0.07,
          "yref": "y"
         },
         {
          "arrowcolor": "#2C4545",
          "arrowhead": 2,
          "arrowsize": 1,
          "arrowwidth": 2,
          "ax": 4,
          "axref": "x",
          "ay": -0.05,
          "ayref": "y",
          "font": {
           "color": "#2C4545",
           "size": 15
          },
          "text": "Decision Tree",
          "x": 4,
          "xref": "x",
          "y": 0.085,
          "yref": "y"
         },
         {
          "arrowcolor": "#2C4545",
          "arrowhead": 2,
          "arrowsize": 1,
          "arrowwidth": 2,
          "ax": 9,
          "axref": "x",
          "ay": 0.13,
          "ayref": "y",
          "font": {
           "color": "#2C4545",
           "size": 15
          },
          "text": "MLP",
          "x": 7.15,
          "xref": "x",
          "y": 0.12,
          "yref": "y"
         },
         {
          "arrowcolor": "#2C4545",
          "arrowhead": 2,
          "arrowsize": 1,
          "arrowwidth": 2,
          "ax": 9,
          "axref": "x",
          "ay": 0.14,
          "ayref": "y",
          "x": 9.95,
          "xref": "x",
          "y": 0.395,
          "yref": "y"
         },
         {
          "arrowcolor": "#2C4545",
          "arrowhead": 2,
          "arrowsize": 1,
          "arrowwidth": 2,
          "ax": 8.5,
          "axref": "x",
          "ay": 0.63,
          "ayref": "y",
          "font": {
           "color": "#2C4545",
           "size": 15
          },
          "text": "CNN",
          "x": 8.5,
          "xref": "x",
          "y": 0.5,
          "yref": "y"
         },
         {
          "arrowcolor": "#2C4545",
          "arrowhead": 2,
          "arrowsize": 1,
          "arrowwidth": 2,
          "ax": 11,
          "axref": "x",
          "ay": 0.63,
          "ayref": "y",
          "font": {
           "color": "#2C4545",
           "size": 15
          },
          "text": "Transformer",
          "x": 11.5,
          "xref": "x",
          "y": 0.45,
          "yref": "y"
         },
         {
          "arrowcolor": "#2C4545",
          "arrowhead": 2,
          "arrowsize": 1,
          "arrowwidth": 2,
          "ax": 12,
          "axref": "x",
          "ay": 0.23,
          "ayref": "y",
          "font": {
           "color": "#2C4545",
           "size": 15
          },
          "text": "RNN",
          "x": 12.95,
          "xref": "x",
          "y": 0.39,
          "yref": "y"
         },
         {
          "arrowcolor": "#2C4545",
          "arrowhead": 2,
          "arrowsize": 1,
          "arrowwidth": 2,
          "ax": 5.5,
          "axref": "x",
          "ay": 0.6,
          "ayref": "y",
          "font": {
           "color": "#2C4545",
           "size": 15
          },
          "text": "Improved<br />Eventextraction",
          "x": 7.4,
          "xref": "x",
          "y": 0.55,
          "yref": "y"
         }
        ],
        "legend": {
         "tracegroupgap": 0
        },
        "margin": {
         "t": 60
        },
        "plot_bgcolor": "#F2EFE8",
        "shapes": [
         {
          "fillcolor": "#FFB366",
          "line": {
           "width": 0
          },
          "opacity": 0.5,
          "type": "rect",
          "x0": 0.9,
          "x1": 2.1,
          "y0": -0.01,
          "y1": 0.05
         },
         {
          "fillcolor": "#FFB366",
          "line": {
           "width": 0
          },
          "opacity": 0.5,
          "type": "rect",
          "x0": 2.9,
          "x1": 5.1,
          "y0": 0.08,
          "y1": 0.14
         },
         {
          "fillcolor": "#FFB366",
          "line": {
           "width": 0
          },
          "opacity": 0.5,
          "type": "rect",
          "x0": 5.9,
          "x1": 7.1,
          "y0": 0.048,
          "y1": 0.19
         },
         {
          "fillcolor": "#FFB366",
          "line": {
           "width": 0
          },
          "opacity": 0.5,
          "type": "rect",
          "x0": 7.9,
          "x1": 9.1,
          "y0": 0.4,
          "y1": 0.48
         },
         {
          "fillcolor": "#FFB366",
          "line": {
           "width": 0
          },
          "opacity": 0.5,
          "type": "rect",
          "x0": 10.9,
          "x1": 12.1,
          "y0": 0.35,
          "y1": 0.43
         },
         {
          "line": {
           "color": "black",
           "dash": "dash",
           "width": 2
          },
          "type": "line",
          "x0": 7.5,
          "x1": 7.5,
          "xref": "x",
          "y0": 0,
          "y1": 1,
          "yref": "y domain"
         }
        ],
        "template": {
         "data": {
          "bar": [
           {
            "error_x": {
             "color": "#2a3f5f"
            },
            "error_y": {
             "color": "#2a3f5f"
            },
            "marker": {
             "line": {
              "color": "#E5ECF6",
              "width": 0.5
             },
             "pattern": {
              "fillmode": "overlay",
              "size": 10,
              "solidity": 0.2
             }
            },
            "type": "bar"
           }
          ],
          "barpolar": [
           {
            "marker": {
             "line": {
              "color": "#E5ECF6",
              "width": 0.5
             },
             "pattern": {
              "fillmode": "overlay",
              "size": 10,
              "solidity": 0.2
             }
            },
            "type": "barpolar"
           }
          ],
          "carpet": [
           {
            "aaxis": {
             "endlinecolor": "#2a3f5f",
             "gridcolor": "white",
             "linecolor": "white",
             "minorgridcolor": "white",
             "startlinecolor": "#2a3f5f"
            },
            "baxis": {
             "endlinecolor": "#2a3f5f",
             "gridcolor": "white",
             "linecolor": "white",
             "minorgridcolor": "white",
             "startlinecolor": "#2a3f5f"
            },
            "type": "carpet"
           }
          ],
          "choropleth": [
           {
            "colorbar": {
             "outlinewidth": 0,
             "ticks": ""
            },
            "type": "choropleth"
           }
          ],
          "contour": [
           {
            "colorbar": {
             "outlinewidth": 0,
             "ticks": ""
            },
            "colorscale": [
             [
              0,
              "#0d0887"
             ],
             [
              0.1111111111111111,
              "#46039f"
             ],
             [
              0.2222222222222222,
              "#7201a8"
             ],
             [
              0.3333333333333333,
              "#9c179e"
             ],
             [
              0.4444444444444444,
              "#bd3786"
             ],
             [
              0.5555555555555556,
              "#d8576b"
             ],
             [
              0.6666666666666666,
              "#ed7953"
             ],
             [
              0.7777777777777778,
              "#fb9f3a"
             ],
             [
              0.8888888888888888,
              "#fdca26"
             ],
             [
              1,
              "#f0f921"
             ]
            ],
            "type": "contour"
           }
          ],
          "contourcarpet": [
           {
            "colorbar": {
             "outlinewidth": 0,
             "ticks": ""
            },
            "type": "contourcarpet"
           }
          ],
          "heatmap": [
           {
            "colorbar": {
             "outlinewidth": 0,
             "ticks": ""
            },
            "colorscale": [
             [
              0,
              "#0d0887"
             ],
             [
              0.1111111111111111,
              "#46039f"
             ],
             [
              0.2222222222222222,
              "#7201a8"
             ],
             [
              0.3333333333333333,
              "#9c179e"
             ],
             [
              0.4444444444444444,
              "#bd3786"
             ],
             [
              0.5555555555555556,
              "#d8576b"
             ],
             [
              0.6666666666666666,
              "#ed7953"
             ],
             [
              0.7777777777777778,
              "#fb9f3a"
             ],
             [
              0.8888888888888888,
              "#fdca26"
             ],
             [
              1,
              "#f0f921"
             ]
            ],
            "type": "heatmap"
           }
          ],
          "heatmapgl": [
           {
            "colorbar": {
             "outlinewidth": 0,
             "ticks": ""
            },
            "colorscale": [
             [
              0,
              "#0d0887"
             ],
             [
              0.1111111111111111,
              "#46039f"
             ],
             [
              0.2222222222222222,
              "#7201a8"
             ],
             [
              0.3333333333333333,
              "#9c179e"
             ],
             [
              0.4444444444444444,
              "#bd3786"
             ],
             [
              0.5555555555555556,
              "#d8576b"
             ],
             [
              0.6666666666666666,
              "#ed7953"
             ],
             [
              0.7777777777777778,
              "#fb9f3a"
             ],
             [
              0.8888888888888888,
              "#fdca26"
             ],
             [
              1,
              "#f0f921"
             ]
            ],
            "type": "heatmapgl"
           }
          ],
          "histogram": [
           {
            "marker": {
             "pattern": {
              "fillmode": "overlay",
              "size": 10,
              "solidity": 0.2
             }
            },
            "type": "histogram"
           }
          ],
          "histogram2d": [
           {
            "colorbar": {
             "outlinewidth": 0,
             "ticks": ""
            },
            "colorscale": [
             [
              0,
              "#0d0887"
             ],
             [
              0.1111111111111111,
              "#46039f"
             ],
             [
              0.2222222222222222,
              "#7201a8"
             ],
             [
              0.3333333333333333,
              "#9c179e"
             ],
             [
              0.4444444444444444,
              "#bd3786"
             ],
             [
              0.5555555555555556,
              "#d8576b"
             ],
             [
              0.6666666666666666,
              "#ed7953"
             ],
             [
              0.7777777777777778,
              "#fb9f3a"
             ],
             [
              0.8888888888888888,
              "#fdca26"
             ],
             [
              1,
              "#f0f921"
             ]
            ],
            "type": "histogram2d"
           }
          ],
          "histogram2dcontour": [
           {
            "colorbar": {
             "outlinewidth": 0,
             "ticks": ""
            },
            "colorscale": [
             [
              0,
              "#0d0887"
             ],
             [
              0.1111111111111111,
              "#46039f"
             ],
             [
              0.2222222222222222,
              "#7201a8"
             ],
             [
              0.3333333333333333,
              "#9c179e"
             ],
             [
              0.4444444444444444,
              "#bd3786"
             ],
             [
              0.5555555555555556,
              "#d8576b"
             ],
             [
              0.6666666666666666,
              "#ed7953"
             ],
             [
              0.7777777777777778,
              "#fb9f3a"
             ],
             [
              0.8888888888888888,
              "#fdca26"
             ],
             [
              1,
              "#f0f921"
             ]
            ],
            "type": "histogram2dcontour"
           }
          ],
          "mesh3d": [
           {
            "colorbar": {
             "outlinewidth": 0,
             "ticks": ""
            },
            "type": "mesh3d"
           }
          ],
          "parcoords": [
           {
            "line": {
             "colorbar": {
              "outlinewidth": 0,
              "ticks": ""
             }
            },
            "type": "parcoords"
           }
          ],
          "pie": [
           {
            "automargin": true,
            "type": "pie"
           }
          ],
          "scatter": [
           {
            "fillpattern": {
             "fillmode": "overlay",
             "size": 10,
             "solidity": 0.2
            },
            "type": "scatter"
           }
          ],
          "scatter3d": [
           {
            "line": {
             "colorbar": {
              "outlinewidth": 0,
              "ticks": ""
             }
            },
            "marker": {
             "colorbar": {
              "outlinewidth": 0,
              "ticks": ""
             }
            },
            "type": "scatter3d"
           }
          ],
          "scattercarpet": [
           {
            "marker": {
             "colorbar": {
              "outlinewidth": 0,
              "ticks": ""
             }
            },
            "type": "scattercarpet"
           }
          ],
          "scattergeo": [
           {
            "marker": {
             "colorbar": {
              "outlinewidth": 0,
              "ticks": ""
             }
            },
            "type": "scattergeo"
           }
          ],
          "scattergl": [
           {
            "marker": {
             "colorbar": {
              "outlinewidth": 0,
              "ticks": ""
             }
            },
            "type": "scattergl"
           }
          ],
          "scattermapbox": [
           {
            "marker": {
             "colorbar": {
              "outlinewidth": 0,
              "ticks": ""
             }
            },
            "type": "scattermapbox"
           }
          ],
          "scatterpolar": [
           {
            "marker": {
             "colorbar": {
              "outlinewidth": 0,
              "ticks": ""
             }
            },
            "type": "scatterpolar"
           }
          ],
          "scatterpolargl": [
           {
            "marker": {
             "colorbar": {
              "outlinewidth": 0,
              "ticks": ""
             }
            },
            "type": "scatterpolargl"
           }
          ],
          "scatterternary": [
           {
            "marker": {
             "colorbar": {
              "outlinewidth": 0,
              "ticks": ""
             }
            },
            "type": "scatterternary"
           }
          ],
          "surface": [
           {
            "colorbar": {
             "outlinewidth": 0,
             "ticks": ""
            },
            "colorscale": [
             [
              0,
              "#0d0887"
             ],
             [
              0.1111111111111111,
              "#46039f"
             ],
             [
              0.2222222222222222,
              "#7201a8"
             ],
             [
              0.3333333333333333,
              "#9c179e"
             ],
             [
              0.4444444444444444,
              "#bd3786"
             ],
             [
              0.5555555555555556,
              "#d8576b"
             ],
             [
              0.6666666666666666,
              "#ed7953"
             ],
             [
              0.7777777777777778,
              "#fb9f3a"
             ],
             [
              0.8888888888888888,
              "#fdca26"
             ],
             [
              1,
              "#f0f921"
             ]
            ],
            "type": "surface"
           }
          ],
          "table": [
           {
            "cells": {
             "fill": {
              "color": "#EBF0F8"
             },
             "line": {
              "color": "white"
             }
            },
            "header": {
             "fill": {
              "color": "#C8D4E3"
             },
             "line": {
              "color": "white"
             }
            },
            "type": "table"
           }
          ]
         },
         "layout": {
          "annotationdefaults": {
           "arrowcolor": "#2a3f5f",
           "arrowhead": 0,
           "arrowwidth": 1
          },
          "autotypenumbers": "strict",
          "coloraxis": {
           "colorbar": {
            "outlinewidth": 0,
            "ticks": ""
           }
          },
          "colorscale": {
           "diverging": [
            [
             0,
             "#8e0152"
            ],
            [
             0.1,
             "#c51b7d"
            ],
            [
             0.2,
             "#de77ae"
            ],
            [
             0.3,
             "#f1b6da"
            ],
            [
             0.4,
             "#fde0ef"
            ],
            [
             0.5,
             "#f7f7f7"
            ],
            [
             0.6,
             "#e6f5d0"
            ],
            [
             0.7,
             "#b8e186"
            ],
            [
             0.8,
             "#7fbc41"
            ],
            [
             0.9,
             "#4d9221"
            ],
            [
             1,
             "#276419"
            ]
           ],
           "sequential": [
            [
             0,
             "#0d0887"
            ],
            [
             0.1111111111111111,
             "#46039f"
            ],
            [
             0.2222222222222222,
             "#7201a8"
            ],
            [
             0.3333333333333333,
             "#9c179e"
            ],
            [
             0.4444444444444444,
             "#bd3786"
            ],
            [
             0.5555555555555556,
             "#d8576b"
            ],
            [
             0.6666666666666666,
             "#ed7953"
            ],
            [
             0.7777777777777778,
             "#fb9f3a"
            ],
            [
             0.8888888888888888,
             "#fdca26"
            ],
            [
             1,
             "#f0f921"
            ]
           ],
           "sequentialminus": [
            [
             0,
             "#0d0887"
            ],
            [
             0.1111111111111111,
             "#46039f"
            ],
            [
             0.2222222222222222,
             "#7201a8"
            ],
            [
             0.3333333333333333,
             "#9c179e"
            ],
            [
             0.4444444444444444,
             "#bd3786"
            ],
            [
             0.5555555555555556,
             "#d8576b"
            ],
            [
             0.6666666666666666,
             "#ed7953"
            ],
            [
             0.7777777777777778,
             "#fb9f3a"
            ],
            [
             0.8888888888888888,
             "#fdca26"
            ],
            [
             1,
             "#f0f921"
            ]
           ]
          },
          "colorway": [
           "#636efa",
           "#EF553B",
           "#00cc96",
           "#ab63fa",
           "#FFA15A",
           "#19d3f3",
           "#FF6692",
           "#B6E880",
           "#FF97FF",
           "#FECB52"
          ],
          "font": {
           "color": "#2a3f5f"
          },
          "geo": {
           "bgcolor": "white",
           "lakecolor": "white",
           "landcolor": "#E5ECF6",
           "showlakes": true,
           "showland": true,
           "subunitcolor": "white"
          },
          "hoverlabel": {
           "align": "left"
          },
          "hovermode": "closest",
          "mapbox": {
           "style": "light"
          },
          "paper_bgcolor": "white",
          "plot_bgcolor": "#E5ECF6",
          "polar": {
           "angularaxis": {
            "gridcolor": "white",
            "linecolor": "white",
            "ticks": ""
           },
           "bgcolor": "#E5ECF6",
           "radialaxis": {
            "gridcolor": "white",
            "linecolor": "white",
            "ticks": ""
           }
          },
          "scene": {
           "xaxis": {
            "backgroundcolor": "#E5ECF6",
            "gridcolor": "white",
            "gridwidth": 2,
            "linecolor": "white",
            "showbackground": true,
            "ticks": "",
            "zerolinecolor": "white"
           },
           "yaxis": {
            "backgroundcolor": "#E5ECF6",
            "gridcolor": "white",
            "gridwidth": 2,
            "linecolor": "white",
            "showbackground": true,
            "ticks": "",
            "zerolinecolor": "white"
           },
           "zaxis": {
            "backgroundcolor": "#E5ECF6",
            "gridcolor": "white",
            "gridwidth": 2,
            "linecolor": "white",
            "showbackground": true,
            "ticks": "",
            "zerolinecolor": "white"
           }
          },
          "shapedefaults": {
           "line": {
            "color": "#2a3f5f"
           }
          },
          "ternary": {
           "aaxis": {
            "gridcolor": "white",
            "linecolor": "white",
            "ticks": ""
           },
           "baxis": {
            "gridcolor": "white",
            "linecolor": "white",
            "ticks": ""
           },
           "bgcolor": "#E5ECF6",
           "caxis": {
            "gridcolor": "white",
            "linecolor": "white",
            "ticks": ""
           }
          },
          "title": {
           "x": 0.05
          },
          "xaxis": {
           "automargin": true,
           "gridcolor": "white",
           "linecolor": "white",
           "ticks": "",
           "title": {
            "standoff": 15
           },
           "zerolinecolor": "white",
           "zerolinewidth": 2
          },
          "yaxis": {
           "automargin": true,
           "gridcolor": "white",
           "linecolor": "white",
           "ticks": "",
           "title": {
            "standoff": 15
           },
           "zerolinecolor": "white",
           "zerolinewidth": 2
          }
         }
        },
        "xaxis": {
         "anchor": "y",
         "domain": [
          0,
          1
         ],
         "range": [
          0.9,
          13.1
         ],
         "showgrid": false,
         "title": {
          "text": "Submissions"
         }
        },
        "yaxis": {
         "anchor": "x",
         "domain": [
          0,
          1
         ],
         "gridcolor": "lightgrey",
         "range": [
          -0.1,
          0.7
         ],
         "showgrid": true,
         "title": {
          "text": "Competition Metric"
         },
         "zeroline": true,
         "zerolinecolor": "lightgrey",
         "zerolinewidth": 2
        }
       }
      },
      "text/html": [
       "<div>                            <div id=\"c7ecaaab-a0a4-40e5-a9e1-7157c84d0ae4\" class=\"plotly-graph-div\" style=\"height:525px; width:100%;\"></div>            <script type=\"text/javascript\">                require([\"plotly\"], function(Plotly) {                    window.PLOTLYENV=window.PLOTLYENV || {};                                    if (document.getElementById(\"c7ecaaab-a0a4-40e5-a9e1-7157c84d0ae4\")) {                    Plotly.newPlot(                        \"c7ecaaab-a0a4-40e5-a9e1-7157c84d0ae4\",                        [{\"hovertemplate\":\"run=%{x}\\u003cbr\\u003escore=%{y}\\u003cextra\\u003e\\u003c\\u002fextra\\u003e\",\"legendgroup\":\"\",\"line\":{\"color\":\"#636efa\",\"dash\":\"solid\"},\"marker\":{\"symbol\":\"circle\"},\"mode\":\"lines\",\"name\":\"\",\"orientation\":\"v\",\"showlegend\":false,\"x\":[1,2,3,4,5,6,7,8,9,10,11,12,13],\"xaxis\":\"x\",\"y\":[0.021,0.004,0.098,0.112,0.118,0.051,0.174,0.412,0.469,0.401,0.363,0.415,0.4],\"yaxis\":\"y\",\"type\":\"scatter\"}],                        {\"template\":{\"data\":{\"histogram2dcontour\":[{\"type\":\"histogram2dcontour\",\"colorbar\":{\"outlinewidth\":0,\"ticks\":\"\"},\"colorscale\":[[0.0,\"#0d0887\"],[0.1111111111111111,\"#46039f\"],[0.2222222222222222,\"#7201a8\"],[0.3333333333333333,\"#9c179e\"],[0.4444444444444444,\"#bd3786\"],[0.5555555555555556,\"#d8576b\"],[0.6666666666666666,\"#ed7953\"],[0.7777777777777778,\"#fb9f3a\"],[0.8888888888888888,\"#fdca26\"],[1.0,\"#f0f921\"]]}],\"choropleth\":[{\"type\":\"choropleth\",\"colorbar\":{\"outlinewidth\":0,\"ticks\":\"\"}}],\"histogram2d\":[{\"type\":\"histogram2d\",\"colorbar\":{\"outlinewidth\":0,\"ticks\":\"\"},\"colorscale\":[[0.0,\"#0d0887\"],[0.1111111111111111,\"#46039f\"],[0.2222222222222222,\"#7201a8\"],[0.3333333333333333,\"#9c179e\"],[0.4444444444444444,\"#bd3786\"],[0.5555555555555556,\"#d8576b\"],[0.6666666666666666,\"#ed7953\"],[0.7777777777777778,\"#fb9f3a\"],[0.8888888888888888,\"#fdca26\"],[1.0,\"#f0f921\"]]}],\"heatmap\":[{\"type\":\"heatmap\",\"colorbar\":{\"outlinewidth\":0,\"ticks\":\"\"},\"colorscale\":[[0.0,\"#0d0887\"],[0.1111111111111111,\"#46039f\"],[0.2222222222222222,\"#7201a8\"],[0.3333333333333333,\"#9c179e\"],[0.4444444444444444,\"#bd3786\"],[0.5555555555555556,\"#d8576b\"],[0.6666666666666666,\"#ed7953\"],[0.7777777777777778,\"#fb9f3a\"],[0.8888888888888888,\"#fdca26\"],[1.0,\"#f0f921\"]]}],\"heatmapgl\":[{\"type\":\"heatmapgl\",\"colorbar\":{\"outlinewidth\":0,\"ticks\":\"\"},\"colorscale\":[[0.0,\"#0d0887\"],[0.1111111111111111,\"#46039f\"],[0.2222222222222222,\"#7201a8\"],[0.3333333333333333,\"#9c179e\"],[0.4444444444444444,\"#bd3786\"],[0.5555555555555556,\"#d8576b\"],[0.6666666666666666,\"#ed7953\"],[0.7777777777777778,\"#fb9f3a\"],[0.8888888888888888,\"#fdca26\"],[1.0,\"#f0f921\"]]}],\"contourcarpet\":[{\"type\":\"contourcarpet\",\"colorbar\":{\"outlinewidth\":0,\"ticks\":\"\"}}],\"contour\":[{\"type\":\"contour\",\"colorbar\":{\"outlinewidth\":0,\"ticks\":\"\"},\"colorscale\":[[0.0,\"#0d0887\"],[0.1111111111111111,\"#46039f\"],[0.2222222222222222,\"#7201a8\"],[0.3333333333333333,\"#9c179e\"],[0.4444444444444444,\"#bd3786\"],[0.5555555555555556,\"#d8576b\"],[0.6666666666666666,\"#ed7953\"],[0.7777777777777778,\"#fb9f3a\"],[0.8888888888888888,\"#fdca26\"],[1.0,\"#f0f921\"]]}],\"surface\":[{\"type\":\"surface\",\"colorbar\":{\"outlinewidth\":0,\"ticks\":\"\"},\"colorscale\":[[0.0,\"#0d0887\"],[0.1111111111111111,\"#46039f\"],[0.2222222222222222,\"#7201a8\"],[0.3333333333333333,\"#9c179e\"],[0.4444444444444444,\"#bd3786\"],[0.5555555555555556,\"#d8576b\"],[0.6666666666666666,\"#ed7953\"],[0.7777777777777778,\"#fb9f3a\"],[0.8888888888888888,\"#fdca26\"],[1.0,\"#f0f921\"]]}],\"mesh3d\":[{\"type\":\"mesh3d\",\"colorbar\":{\"outlinewidth\":0,\"ticks\":\"\"}}],\"scatter\":[{\"fillpattern\":{\"fillmode\":\"overlay\",\"size\":10,\"solidity\":0.2},\"type\":\"scatter\"}],\"parcoords\":[{\"type\":\"parcoords\",\"line\":{\"colorbar\":{\"outlinewidth\":0,\"ticks\":\"\"}}}],\"scatterpolargl\":[{\"type\":\"scatterpolargl\",\"marker\":{\"colorbar\":{\"outlinewidth\":0,\"ticks\":\"\"}}}],\"bar\":[{\"error_x\":{\"color\":\"#2a3f5f\"},\"error_y\":{\"color\":\"#2a3f5f\"},\"marker\":{\"line\":{\"color\":\"#E5ECF6\",\"width\":0.5},\"pattern\":{\"fillmode\":\"overlay\",\"size\":10,\"solidity\":0.2}},\"type\":\"bar\"}],\"scattergeo\":[{\"type\":\"scattergeo\",\"marker\":{\"colorbar\":{\"outlinewidth\":0,\"ticks\":\"\"}}}],\"scatterpolar\":[{\"type\":\"scatterpolar\",\"marker\":{\"colorbar\":{\"outlinewidth\":0,\"ticks\":\"\"}}}],\"histogram\":[{\"marker\":{\"pattern\":{\"fillmode\":\"overlay\",\"size\":10,\"solidity\":0.2}},\"type\":\"histogram\"}],\"scattergl\":[{\"type\":\"scattergl\",\"marker\":{\"colorbar\":{\"outlinewidth\":0,\"ticks\":\"\"}}}],\"scatter3d\":[{\"type\":\"scatter3d\",\"line\":{\"colorbar\":{\"outlinewidth\":0,\"ticks\":\"\"}},\"marker\":{\"colorbar\":{\"outlinewidth\":0,\"ticks\":\"\"}}}],\"scattermapbox\":[{\"type\":\"scattermapbox\",\"marker\":{\"colorbar\":{\"outlinewidth\":0,\"ticks\":\"\"}}}],\"scatterternary\":[{\"type\":\"scatterternary\",\"marker\":{\"colorbar\":{\"outlinewidth\":0,\"ticks\":\"\"}}}],\"scattercarpet\":[{\"type\":\"scattercarpet\",\"marker\":{\"colorbar\":{\"outlinewidth\":0,\"ticks\":\"\"}}}],\"carpet\":[{\"aaxis\":{\"endlinecolor\":\"#2a3f5f\",\"gridcolor\":\"white\",\"linecolor\":\"white\",\"minorgridcolor\":\"white\",\"startlinecolor\":\"#2a3f5f\"},\"baxis\":{\"endlinecolor\":\"#2a3f5f\",\"gridcolor\":\"white\",\"linecolor\":\"white\",\"minorgridcolor\":\"white\",\"startlinecolor\":\"#2a3f5f\"},\"type\":\"carpet\"}],\"table\":[{\"cells\":{\"fill\":{\"color\":\"#EBF0F8\"},\"line\":{\"color\":\"white\"}},\"header\":{\"fill\":{\"color\":\"#C8D4E3\"},\"line\":{\"color\":\"white\"}},\"type\":\"table\"}],\"barpolar\":[{\"marker\":{\"line\":{\"color\":\"#E5ECF6\",\"width\":0.5},\"pattern\":{\"fillmode\":\"overlay\",\"size\":10,\"solidity\":0.2}},\"type\":\"barpolar\"}],\"pie\":[{\"automargin\":true,\"type\":\"pie\"}]},\"layout\":{\"autotypenumbers\":\"strict\",\"colorway\":[\"#636efa\",\"#EF553B\",\"#00cc96\",\"#ab63fa\",\"#FFA15A\",\"#19d3f3\",\"#FF6692\",\"#B6E880\",\"#FF97FF\",\"#FECB52\"],\"font\":{\"color\":\"#2a3f5f\"},\"hovermode\":\"closest\",\"hoverlabel\":{\"align\":\"left\"},\"paper_bgcolor\":\"white\",\"plot_bgcolor\":\"#E5ECF6\",\"polar\":{\"bgcolor\":\"#E5ECF6\",\"angularaxis\":{\"gridcolor\":\"white\",\"linecolor\":\"white\",\"ticks\":\"\"},\"radialaxis\":{\"gridcolor\":\"white\",\"linecolor\":\"white\",\"ticks\":\"\"}},\"ternary\":{\"bgcolor\":\"#E5ECF6\",\"aaxis\":{\"gridcolor\":\"white\",\"linecolor\":\"white\",\"ticks\":\"\"},\"baxis\":{\"gridcolor\":\"white\",\"linecolor\":\"white\",\"ticks\":\"\"},\"caxis\":{\"gridcolor\":\"white\",\"linecolor\":\"white\",\"ticks\":\"\"}},\"coloraxis\":{\"colorbar\":{\"outlinewidth\":0,\"ticks\":\"\"}},\"colorscale\":{\"sequential\":[[0.0,\"#0d0887\"],[0.1111111111111111,\"#46039f\"],[0.2222222222222222,\"#7201a8\"],[0.3333333333333333,\"#9c179e\"],[0.4444444444444444,\"#bd3786\"],[0.5555555555555556,\"#d8576b\"],[0.6666666666666666,\"#ed7953\"],[0.7777777777777778,\"#fb9f3a\"],[0.8888888888888888,\"#fdca26\"],[1.0,\"#f0f921\"]],\"sequentialminus\":[[0.0,\"#0d0887\"],[0.1111111111111111,\"#46039f\"],[0.2222222222222222,\"#7201a8\"],[0.3333333333333333,\"#9c179e\"],[0.4444444444444444,\"#bd3786\"],[0.5555555555555556,\"#d8576b\"],[0.6666666666666666,\"#ed7953\"],[0.7777777777777778,\"#fb9f3a\"],[0.8888888888888888,\"#fdca26\"],[1.0,\"#f0f921\"]],\"diverging\":[[0,\"#8e0152\"],[0.1,\"#c51b7d\"],[0.2,\"#de77ae\"],[0.3,\"#f1b6da\"],[0.4,\"#fde0ef\"],[0.5,\"#f7f7f7\"],[0.6,\"#e6f5d0\"],[0.7,\"#b8e186\"],[0.8,\"#7fbc41\"],[0.9,\"#4d9221\"],[1,\"#276419\"]]},\"xaxis\":{\"gridcolor\":\"white\",\"linecolor\":\"white\",\"ticks\":\"\",\"title\":{\"standoff\":15},\"zerolinecolor\":\"white\",\"automargin\":true,\"zerolinewidth\":2},\"yaxis\":{\"gridcolor\":\"white\",\"linecolor\":\"white\",\"ticks\":\"\",\"title\":{\"standoff\":15},\"zerolinecolor\":\"white\",\"automargin\":true,\"zerolinewidth\":2},\"scene\":{\"xaxis\":{\"backgroundcolor\":\"#E5ECF6\",\"gridcolor\":\"white\",\"linecolor\":\"white\",\"showbackground\":true,\"ticks\":\"\",\"zerolinecolor\":\"white\",\"gridwidth\":2},\"yaxis\":{\"backgroundcolor\":\"#E5ECF6\",\"gridcolor\":\"white\",\"linecolor\":\"white\",\"showbackground\":true,\"ticks\":\"\",\"zerolinecolor\":\"white\",\"gridwidth\":2},\"zaxis\":{\"backgroundcolor\":\"#E5ECF6\",\"gridcolor\":\"white\",\"linecolor\":\"white\",\"showbackground\":true,\"ticks\":\"\",\"zerolinecolor\":\"white\",\"gridwidth\":2}},\"shapedefaults\":{\"line\":{\"color\":\"#2a3f5f\"}},\"annotationdefaults\":{\"arrowcolor\":\"#2a3f5f\",\"arrowhead\":0,\"arrowwidth\":1},\"geo\":{\"bgcolor\":\"white\",\"landcolor\":\"#E5ECF6\",\"subunitcolor\":\"white\",\"showland\":true,\"showlakes\":true,\"lakecolor\":\"white\"},\"title\":{\"x\":0.05},\"mapbox\":{\"style\":\"light\"}}},\"xaxis\":{\"anchor\":\"y\",\"domain\":[0.0,1.0],\"title\":{\"text\":\"Submissions\"},\"range\":[0.9,13.1],\"showgrid\":false},\"yaxis\":{\"anchor\":\"x\",\"domain\":[0.0,1.0],\"title\":{\"text\":\"Competition Metric\"},\"range\":[-0.1,0.7],\"showgrid\":true,\"gridcolor\":\"lightgrey\",\"zeroline\":true,\"zerolinewidth\":2,\"zerolinecolor\":\"lightgrey\"},\"legend\":{\"tracegroupgap\":0},\"margin\":{\"t\":60},\"plot_bgcolor\":\"#F2EFE8\",\"shapes\":[{\"fillcolor\":\"#FFB366\",\"line\":{\"width\":0},\"opacity\":0.5,\"type\":\"rect\",\"x0\":0.9,\"x1\":2.1,\"y0\":-0.01,\"y1\":0.05},{\"fillcolor\":\"#FFB366\",\"line\":{\"width\":0},\"opacity\":0.5,\"type\":\"rect\",\"x0\":2.9,\"x1\":5.1,\"y0\":0.08,\"y1\":0.14},{\"fillcolor\":\"#FFB366\",\"line\":{\"width\":0},\"opacity\":0.5,\"type\":\"rect\",\"x0\":5.9,\"x1\":7.1,\"y0\":0.048,\"y1\":0.19},{\"fillcolor\":\"#FFB366\",\"line\":{\"width\":0},\"opacity\":0.5,\"type\":\"rect\",\"x0\":7.9,\"x1\":9.1,\"y0\":0.4,\"y1\":0.48},{\"fillcolor\":\"#FFB366\",\"line\":{\"width\":0},\"opacity\":0.5,\"type\":\"rect\",\"x0\":10.9,\"x1\":12.1,\"y0\":0.35,\"y1\":0.43},{\"line\":{\"color\":\"black\",\"dash\":\"dash\",\"width\":2},\"type\":\"line\",\"x0\":7.5,\"x1\":7.5,\"xref\":\"x\",\"y0\":0,\"y1\":1,\"yref\":\"y domain\"}],\"annotations\":[{\"arrowcolor\":\"#2C4545\",\"arrowhead\":2,\"arrowsize\":1,\"arrowwidth\":2,\"ax\":3,\"axref\":\"x\",\"ay\":0.3,\"ayref\":\"y\",\"font\":{\"color\":\"#2C4545\",\"size\":15},\"text\":\"FixTime- and TimeRange-\\u003cbr \\u002f\\u003eBaselines\",\"x\":1.4,\"xref\":\"x\",\"y\":0.07,\"yref\":\"y\"},{\"arrowcolor\":\"#2C4545\",\"arrowhead\":2,\"arrowsize\":1,\"arrowwidth\":2,\"ax\":4,\"axref\":\"x\",\"ay\":-0.05,\"ayref\":\"y\",\"font\":{\"color\":\"#2C4545\",\"size\":15},\"text\":\"Decision Tree\",\"x\":4,\"xref\":\"x\",\"y\":0.085,\"yref\":\"y\"},{\"arrowcolor\":\"#2C4545\",\"arrowhead\":2,\"arrowsize\":1,\"arrowwidth\":2,\"ax\":9,\"axref\":\"x\",\"ay\":0.13,\"ayref\":\"y\",\"font\":{\"color\":\"#2C4545\",\"size\":15},\"text\":\"MLP\",\"x\":7.15,\"xref\":\"x\",\"y\":0.12,\"yref\":\"y\"},{\"arrowcolor\":\"#2C4545\",\"arrowhead\":2,\"arrowsize\":1,\"arrowwidth\":2,\"ax\":9,\"axref\":\"x\",\"ay\":0.14,\"ayref\":\"y\",\"x\":9.95,\"xref\":\"x\",\"y\":0.395,\"yref\":\"y\"},{\"arrowcolor\":\"#2C4545\",\"arrowhead\":2,\"arrowsize\":1,\"arrowwidth\":2,\"ax\":8.5,\"axref\":\"x\",\"ay\":0.63,\"ayref\":\"y\",\"font\":{\"color\":\"#2C4545\",\"size\":15},\"text\":\"CNN\",\"x\":8.5,\"xref\":\"x\",\"y\":0.5,\"yref\":\"y\"},{\"arrowcolor\":\"#2C4545\",\"arrowhead\":2,\"arrowsize\":1,\"arrowwidth\":2,\"ax\":11,\"axref\":\"x\",\"ay\":0.63,\"ayref\":\"y\",\"font\":{\"color\":\"#2C4545\",\"size\":15},\"text\":\"Transformer\",\"x\":11.5,\"xref\":\"x\",\"y\":0.45,\"yref\":\"y\"},{\"arrowcolor\":\"#2C4545\",\"arrowhead\":2,\"arrowsize\":1,\"arrowwidth\":2,\"ax\":12,\"axref\":\"x\",\"ay\":0.23,\"ayref\":\"y\",\"font\":{\"color\":\"#2C4545\",\"size\":15},\"text\":\"RNN\",\"x\":12.95,\"xref\":\"x\",\"y\":0.39,\"yref\":\"y\"},{\"arrowcolor\":\"#2C4545\",\"arrowhead\":2,\"arrowsize\":1,\"arrowwidth\":2,\"ax\":5.5,\"axref\":\"x\",\"ay\":0.6,\"ayref\":\"y\",\"font\":{\"color\":\"#2C4545\",\"size\":15},\"text\":\"Improved\\u003cbr \\u002f\\u003eEventextraction\",\"x\":7.4,\"xref\":\"x\",\"y\":0.55,\"yref\":\"y\"}]},                        {\"responsive\": true}                    ).then(function(){\n",
       "                            \n",
       "var gd = document.getElementById('c7ecaaab-a0a4-40e5-a9e1-7157c84d0ae4');\n",
       "var x = new MutationObserver(function (mutations, observer) {{\n",
       "        var display = window.getComputedStyle(gd).display;\n",
       "        if (!display || display === 'none') {{\n",
       "            console.log([gd, 'removed!']);\n",
       "            Plotly.purge(gd);\n",
       "            observer.disconnect();\n",
       "        }}\n",
       "}});\n",
       "\n",
       "// Listen for the removal of the full notebook cells\n",
       "var notebookContainer = gd.closest('#notebook-container');\n",
       "if (notebookContainer) {{\n",
       "    x.observe(notebookContainer, {childList: true});\n",
       "}}\n",
       "\n",
       "// Listen for the clearing of the current output cell\n",
       "var outputEl = gd.closest('.output');\n",
       "if (outputEl) {{\n",
       "    x.observe(outputEl, {childList: true});\n",
       "}}\n",
       "\n",
       "                        })                };                });            </script>        </div>"
      ]
     },
     "metadata": {},
     "output_type": "display_data"
    }
   ],
   "source": [
    "fig = px.line(runs, x=\"run\", y=\"score\")\n",
    "\n",
    "fig.update_layout(yaxis_range=[-0.1,0.7], xaxis_range=[0.9,13.1], plot_bgcolor='#F2EFE8')\n",
    "\n",
    "# Baseline\n",
    "fig.add_shape(type=\"rect\",\n",
    "    x0=0.9, y0=-0.01, x1=2.1, y1=0.05,\n",
    "    fillcolor=\"#FFB366\",\n",
    "    opacity=0.5,\n",
    "    line_width=0\n",
    ")\n",
    "\n",
    "# Decision-Tree\n",
    "fig.add_shape(type=\"rect\",\n",
    "    x0=2.9, y0=0.08, x1=5.1, y1=0.14,\n",
    "    fillcolor=\"#FFB366\",\n",
    "    opacity=0.5,\n",
    "    line_width=0\n",
    ")\n",
    "\n",
    "# MLP\n",
    "fig.add_shape(type=\"rect\",\n",
    "    x0=5.9, y0=0.048, x1=7.1, y1=0.19,\n",
    "    fillcolor=\"#FFB366\",\n",
    "    opacity=0.5,\n",
    "    line_width=0\n",
    ")\n",
    "\n",
    "# CNN\n",
    "fig.add_shape(type=\"rect\",\n",
    "    x0=7.9, y0=0.4, x1=9.1, y1=0.48,\n",
    "    fillcolor=\"#FFB366\",\n",
    "    opacity=0.5,\n",
    "    line_width=0\n",
    ")\n",
    "\n",
    "# Transformer\n",
    "fig.add_shape(type=\"rect\",\n",
    "    x0=10.9, y0=0.35, x1=12.1, y1=0.43,\n",
    "    fillcolor=\"#FFB366\",\n",
    "    opacity=0.5,\n",
    "    line_width=0\n",
    ")\n",
    "\n",
    "\n",
    "anno_baseline = {\n",
    "    'x': 1.4, # end of the arrow\n",
    "    'y': 0.07,\n",
    "    'xref': 'x', \n",
    "    'yref': 'y', \n",
    "    'text': 'FixTime- and TimeRange-<br />Baselines',\n",
    "    'font': {'size': 15, 'color': '#2C4545'}, \n",
    "    'arrowhead': 2, \n",
    "    'arrowsize': 1, \n",
    "    'arrowwidth': 2, \n",
    "    'arrowcolor': '#2C4545',\n",
    "    'ax': 3, # start of the arrow / text position  \n",
    "    'ay': 0.3, \n",
    "    'axref': 'x', \n",
    "    'ayref': 'y'\n",
    "}\n",
    "\n",
    "\n",
    "anno_decision_tree = {\n",
    "    'x': 4, # end of the arrow\n",
    "    'y': 0.085,\n",
    "    'xref': 'x', \n",
    "    'yref': 'y', \n",
    "    'text': 'Decision Tree',\n",
    "    'font': {'size': 15, 'color': '#2C4545'}, \n",
    "    'arrowhead': 2, \n",
    "    'arrowsize': 1, \n",
    "    'arrowwidth': 2, \n",
    "    'arrowcolor': '#2C4545',\n",
    "    'ax': 4, # start of the arrow / text position  \n",
    "    'ay': -0.05, \n",
    "    'axref': 'x', \n",
    "    'ayref': 'y'\n",
    "}\n",
    "\n",
    "anno_mlp = {\n",
    "    'x': 7.15, # end of the arrow\n",
    "    'y': 0.12,\n",
    "    'xref': 'x', \n",
    "    'yref': 'y', \n",
    "    'text': 'MLP',\n",
    "    'font': {'size': 15, 'color': '#2C4545'}, \n",
    "    'arrowhead': 2, \n",
    "    'arrowsize': 1, \n",
    "    'arrowwidth': 2, \n",
    "    'arrowcolor': '#2C4545',\n",
    "    'ax': 9, # start of the arrow / text position  \n",
    "    'ay': 0.13, \n",
    "    'axref': 'x', \n",
    "    'ayref': 'y'\n",
    "}\n",
    "\n",
    "\n",
    "anno_mlp_2 = {\n",
    "    'x': 9.95, # end of the arrow\n",
    "    'y': 0.395,\n",
    "    'xref': 'x', \n",
    "    'yref': 'y', \n",
    "    'arrowhead': 2, \n",
    "    'arrowsize': 1, \n",
    "    'arrowwidth': 2, \n",
    "    'arrowcolor': '#2C4545',\n",
    "    'ax': 9, # start of the arrow / text position  \n",
    "    'ay': 0.14, \n",
    "    'axref': 'x', \n",
    "    'ayref': 'y'\n",
    "}\n",
    "\n",
    "\n",
    "anno_cnn = {\n",
    "    'x': 8.5, # end of the arrow\n",
    "    'y': 0.5,\n",
    "    'xref': 'x', \n",
    "    'yref': 'y', \n",
    "    'text': 'CNN',\n",
    "    'font': {'size': 15, 'color': '#2C4545'}, \n",
    "    'arrowhead': 2, \n",
    "    'arrowsize': 1, \n",
    "    'arrowwidth': 2, \n",
    "    'arrowcolor': '#2C4545',\n",
    "    'ax': 8.5, # start of the arrow / text position  \n",
    "    'ay': 0.63, \n",
    "    'axref': 'x', \n",
    "    'ayref': 'y'\n",
    "}\n",
    "\n",
    "\n",
    "anno_transformer = {\n",
    "    'x': 11.5, # end of the arrow\n",
    "    'y': 0.45,\n",
    "    'xref': 'x', \n",
    "    'yref': 'y', \n",
    "    'text': 'Transformer',\n",
    "    'font': {'size': 15, 'color': '#2C4545'}, \n",
    "    'arrowhead': 2, \n",
    "    'arrowsize': 1, \n",
    "    'arrowwidth': 2, \n",
    "    'arrowcolor': '#2C4545',\n",
    "    'ax': 11, # start of the arrow / text position  \n",
    "    'ay': 0.63, \n",
    "    'axref': 'x', \n",
    "    'ayref': 'y'\n",
    "}\n",
    "anno_rnn = {\n",
    "    'x': 12.95, # end of the arrow\n",
    "    'y': 0.39,\n",
    "    'xref': 'x', \n",
    "    'yref': 'y', \n",
    "    'text': 'RNN',\n",
    "    'font': {'size': 15, 'color': '#2C4545'}, \n",
    "    'arrowhead': 2, \n",
    "    'arrowsize': 1, \n",
    "    'arrowwidth': 2, \n",
    "    'arrowcolor': '#2C4545',\n",
    "    'ax': 12, # start of the arrow / text position  \n",
    "    'ay': 0.23, \n",
    "    'axref': 'x', \n",
    "    'ayref': 'y'\n",
    "}\n",
    "\n",
    "\n",
    "anno_event_extraction_line = {\n",
    "    'x': 7.4, # end of the arrow\n",
    "    'y': 0.55,\n",
    "    'xref': 'x', \n",
    "    'yref': 'y', \n",
    "    'text': 'Improved<br />Eventextraction',\n",
    "    'font': {'size': 15, 'color': '#2C4545'}, \n",
    "    'arrowhead': 2, \n",
    "    'arrowsize': 1, \n",
    "    'arrowwidth': 2, \n",
    "    'arrowcolor': '#2C4545',\n",
    "    'ax': 5.5, # start of the arrow / text position  \n",
    "    'ay': 0.6, \n",
    "    'axref': 'x', \n",
    "    'ayref': 'y'\n",
    "}\n",
    "\n",
    "fig.add_annotation(anno_baseline)\n",
    "fig.add_annotation(anno_decision_tree)\n",
    "fig.add_annotation(anno_mlp)\n",
    "fig.add_annotation(anno_mlp_2)\n",
    "fig.add_annotation(anno_cnn)\n",
    "fig.add_annotation(anno_transformer)\n",
    "fig.add_annotation(anno_rnn)\n",
    "fig.add_annotation(anno_event_extraction_line)\n",
    "\n",
    "fig.update_xaxes(showgrid=False, title='Submissions')\n",
    "fig.update_yaxes(showgrid=True, title='Competition Metric', gridcolor='lightgrey', zeroline=True, zerolinewidth=2, zerolinecolor='lightgrey')\n",
    "\n",
    "fig.add_vline(x=7.5, line_width=2, line_dash=\"dash\", line_color=\"black\")\n",
    "\n",
    "fig.show()"
   ]
  }
 ],
 "metadata": {
  "kernelspec": {
   "display_name": "aich",
   "language": "python",
   "name": "aich"
  },
  "language_info": {
   "codemirror_mode": {
    "name": "ipython",
    "version": 3
   },
   "file_extension": ".py",
   "mimetype": "text/x-python",
   "name": "python",
   "nbconvert_exporter": "python",
   "pygments_lexer": "ipython3",
   "version": "3.10.13"
  }
 },
 "nbformat": 4,
 "nbformat_minor": 5
}
