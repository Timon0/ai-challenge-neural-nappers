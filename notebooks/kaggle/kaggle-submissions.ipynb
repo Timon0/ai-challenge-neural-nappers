{
 "cells": [
  {
   "cell_type": "code",
   "execution_count": 1,
   "id": "8afe6ee2",
   "metadata": {
    "tags": []
   },
   "outputs": [],
   "source": [
    "import pandas as pd\n",
    "\n",
    "import plotly.express as px\n",
    "import plotly.graph_objects as go"
   ]
  },
  {
   "cell_type": "code",
   "execution_count": 2,
   "id": "83b0c544",
   "metadata": {
    "tags": []
   },
   "outputs": [],
   "source": [
    "runs = pd.read_csv('./kaggle-runs.csv')"
   ]
  },
  {
   "cell_type": "code",
   "execution_count": 3,
   "id": "98a1b48d",
   "metadata": {
    "tags": []
   },
   "outputs": [
    {
     "data": {
      "text/html": [
       "<div>\n",
       "<style scoped>\n",
       "    .dataframe tbody tr th:only-of-type {\n",
       "        vertical-align: middle;\n",
       "    }\n",
       "\n",
       "    .dataframe tbody tr th {\n",
       "        vertical-align: top;\n",
       "    }\n",
       "\n",
       "    .dataframe thead th {\n",
       "        text-align: right;\n",
       "    }\n",
       "</style>\n",
       "<table border=\"1\" class=\"dataframe\">\n",
       "  <thead>\n",
       "    <tr style=\"text-align: right;\">\n",
       "      <th></th>\n",
       "      <th>run</th>\n",
       "      <th>name</th>\n",
       "      <th>public_score</th>\n",
       "      <th>private_score</th>\n",
       "    </tr>\n",
       "  </thead>\n",
       "  <tbody>\n",
       "    <tr>\n",
       "      <th>0</th>\n",
       "      <td>1</td>\n",
       "      <td>FixTimeBaseline</td>\n",
       "      <td>0.021</td>\n",
       "      <td>0.015</td>\n",
       "    </tr>\n",
       "    <tr>\n",
       "      <th>1</th>\n",
       "      <td>2</td>\n",
       "      <td>TimeRangeBaseline</td>\n",
       "      <td>0.004</td>\n",
       "      <td>0.003</td>\n",
       "    </tr>\n",
       "    <tr>\n",
       "      <th>2</th>\n",
       "      <td>3</td>\n",
       "      <td>DecisionTreeClassifier-V1</td>\n",
       "      <td>0.098</td>\n",
       "      <td>0.107</td>\n",
       "    </tr>\n",
       "    <tr>\n",
       "      <th>3</th>\n",
       "      <td>4</td>\n",
       "      <td>DecisionTreeClassifier-V2</td>\n",
       "      <td>0.112</td>\n",
       "      <td>0.124</td>\n",
       "    </tr>\n",
       "    <tr>\n",
       "      <th>4</th>\n",
       "      <td>5</td>\n",
       "      <td>DecisionTreeClassifier-V3</td>\n",
       "      <td>0.118</td>\n",
       "      <td>0.125</td>\n",
       "    </tr>\n",
       "    <tr>\n",
       "      <th>5</th>\n",
       "      <td>6</td>\n",
       "      <td>MLP-V1</td>\n",
       "      <td>0.051</td>\n",
       "      <td>0.047</td>\n",
       "    </tr>\n",
       "    <tr>\n",
       "      <th>6</th>\n",
       "      <td>7</td>\n",
       "      <td>MLP-V2</td>\n",
       "      <td>0.174</td>\n",
       "      <td>0.181</td>\n",
       "    </tr>\n",
       "    <tr>\n",
       "      <th>7</th>\n",
       "      <td>8</td>\n",
       "      <td>CNN-V1</td>\n",
       "      <td>0.412</td>\n",
       "      <td>0.441</td>\n",
       "    </tr>\n",
       "    <tr>\n",
       "      <th>8</th>\n",
       "      <td>9</td>\n",
       "      <td>CCN-V2</td>\n",
       "      <td>0.469</td>\n",
       "      <td>0.526</td>\n",
       "    </tr>\n",
       "    <tr>\n",
       "      <th>9</th>\n",
       "      <td>10</td>\n",
       "      <td>MLP-V3</td>\n",
       "      <td>0.401</td>\n",
       "      <td>0.446</td>\n",
       "    </tr>\n",
       "    <tr>\n",
       "      <th>10</th>\n",
       "      <td>11</td>\n",
       "      <td>Transformer-V1</td>\n",
       "      <td>0.363</td>\n",
       "      <td>0.416</td>\n",
       "    </tr>\n",
       "    <tr>\n",
       "      <th>11</th>\n",
       "      <td>12</td>\n",
       "      <td>Transformer-V2</td>\n",
       "      <td>0.415</td>\n",
       "      <td>0.480</td>\n",
       "    </tr>\n",
       "    <tr>\n",
       "      <th>12</th>\n",
       "      <td>13</td>\n",
       "      <td>RNN-V1</td>\n",
       "      <td>0.400</td>\n",
       "      <td>0.435</td>\n",
       "    </tr>\n",
       "    <tr>\n",
       "      <th>13</th>\n",
       "      <td>14</td>\n",
       "      <td>RNN-V2</td>\n",
       "      <td>0.461</td>\n",
       "      <td>0.511</td>\n",
       "    </tr>\n",
       "    <tr>\n",
       "      <th>14</th>\n",
       "      <td>15</td>\n",
       "      <td>RNN-V3</td>\n",
       "      <td>0.454</td>\n",
       "      <td>0.511</td>\n",
       "    </tr>\n",
       "    <tr>\n",
       "      <th>15</th>\n",
       "      <td>16</td>\n",
       "      <td>CNN-LSTM-V1</td>\n",
       "      <td>0.243</td>\n",
       "      <td>0.255</td>\n",
       "    </tr>\n",
       "    <tr>\n",
       "      <th>16</th>\n",
       "      <td>17</td>\n",
       "      <td>CNN-LSTM-V2</td>\n",
       "      <td>0.418</td>\n",
       "      <td>0.455</td>\n",
       "    </tr>\n",
       "    <tr>\n",
       "      <th>17</th>\n",
       "      <td>18</td>\n",
       "      <td>CNN-CP-V1</td>\n",
       "      <td>0.022</td>\n",
       "      <td>0.003</td>\n",
       "    </tr>\n",
       "    <tr>\n",
       "      <th>18</th>\n",
       "      <td>19</td>\n",
       "      <td>CNN-CP-V2</td>\n",
       "      <td>0.382</td>\n",
       "      <td>0.425</td>\n",
       "    </tr>\n",
       "    <tr>\n",
       "      <th>19</th>\n",
       "      <td>20</td>\n",
       "      <td>CNN-CP-V3</td>\n",
       "      <td>0.437</td>\n",
       "      <td>0.472</td>\n",
       "    </tr>\n",
       "    <tr>\n",
       "      <th>20</th>\n",
       "      <td>21</td>\n",
       "      <td>CNN-CP-V4</td>\n",
       "      <td>0.450</td>\n",
       "      <td>0.494</td>\n",
       "    </tr>\n",
       "  </tbody>\n",
       "</table>\n",
       "</div>"
      ],
      "text/plain": [
       "    run                       name  public_score  private_score\n",
       "0     1            FixTimeBaseline         0.021          0.015\n",
       "1     2          TimeRangeBaseline         0.004          0.003\n",
       "2     3  DecisionTreeClassifier-V1         0.098          0.107\n",
       "3     4  DecisionTreeClassifier-V2         0.112          0.124\n",
       "4     5  DecisionTreeClassifier-V3         0.118          0.125\n",
       "5     6                     MLP-V1         0.051          0.047\n",
       "6     7                     MLP-V2         0.174          0.181\n",
       "7     8                     CNN-V1         0.412          0.441\n",
       "8     9                     CCN-V2         0.469          0.526\n",
       "9    10                     MLP-V3         0.401          0.446\n",
       "10   11             Transformer-V1         0.363          0.416\n",
       "11   12             Transformer-V2         0.415          0.480\n",
       "12   13                     RNN-V1         0.400          0.435\n",
       "13   14                     RNN-V2         0.461          0.511\n",
       "14   15                     RNN-V3         0.454          0.511\n",
       "15   16                CNN-LSTM-V1         0.243          0.255\n",
       "16   17                CNN-LSTM-V2         0.418          0.455\n",
       "17   18                  CNN-CP-V1         0.022          0.003\n",
       "18   19                  CNN-CP-V2         0.382          0.425\n",
       "19   20                  CNN-CP-V3         0.437          0.472\n",
       "20   21                  CNN-CP-V4         0.450          0.494"
      ]
     },
     "execution_count": 3,
     "metadata": {},
     "output_type": "execute_result"
    }
   ],
   "source": [
    "runs"
   ]
  },
  {
   "cell_type": "markdown",
   "id": "412953e3",
   "metadata": {},
   "source": [
    "## Visuals"
   ]
  },
  {
   "cell_type": "code",
   "execution_count": 19,
   "id": "ca72064c",
   "metadata": {
    "tags": []
   },
   "outputs": [
    {
     "data": {
      "application/vnd.plotly.v1+json": {
       "config": {
        "plotlyServerURL": "https://plot.ly"
       },
       "data": [
        {
         "mode": "lines",
         "name": "Public Score",
         "type": "scatter",
         "x": [
          1,
          2,
          3,
          4,
          5,
          6,
          7,
          8,
          9,
          10,
          11,
          12,
          13,
          14,
          15,
          16,
          17,
          18,
          19,
          20,
          21
         ],
         "y": [
          0.021,
          0.004,
          0.098,
          0.112,
          0.118,
          0.051,
          0.174,
          0.412,
          0.469,
          0.401,
          0.363,
          0.415,
          0.4,
          0.461,
          0.454,
          0.243,
          0.418,
          0.022,
          0.382,
          0.437,
          0.45
         ]
        },
        {
         "mode": "lines",
         "name": "Private Score",
         "type": "scatter",
         "x": [
          1,
          2,
          3,
          4,
          5,
          6,
          7,
          8,
          9,
          10,
          11,
          12,
          13,
          14,
          15,
          16,
          17,
          18,
          19,
          20,
          21
         ],
         "y": [
          0.015,
          0.003,
          0.107,
          0.124,
          0.125,
          0.047,
          0.181,
          0.441,
          0.526,
          0.446,
          0.416,
          0.48,
          0.435,
          0.511,
          0.511,
          0.255,
          0.455,
          0.003,
          0.425,
          0.472,
          0.494
         ]
        }
       ],
       "layout": {
        "annotations": [
         {
          "arrowcolor": "#2C4545",
          "arrowhead": 2,
          "arrowsize": 1,
          "arrowwidth": 2,
          "ax": 2,
          "axref": "x",
          "ay": 0.3,
          "ayref": "y",
          "font": {
           "color": "#2C4545",
           "size": 15
          },
          "text": "Baselines",
          "x": 1.4,
          "xref": "x",
          "y": 0.07,
          "yref": "y"
         },
         {
          "arrowcolor": "#2C4545",
          "arrowhead": 2,
          "arrowsize": 1,
          "arrowwidth": 2,
          "ax": 4,
          "axref": "x",
          "ay": -0.05,
          "ayref": "y",
          "font": {
           "color": "#2C4545",
           "size": 15
          },
          "text": "Decision Tree",
          "x": 4,
          "xref": "x",
          "y": 0.085,
          "yref": "y"
         },
         {
          "arrowcolor": "#2C4545",
          "arrowhead": 2,
          "arrowsize": 1,
          "arrowwidth": 2,
          "ax": 9,
          "axref": "x",
          "ay": 0.13,
          "ayref": "y",
          "font": {
           "color": "#2C4545",
           "size": 15
          },
          "text": "MLP",
          "x": 7.15,
          "xref": "x",
          "y": 0.12,
          "yref": "y"
         },
         {
          "arrowcolor": "#2C4545",
          "arrowhead": 2,
          "arrowsize": 1,
          "arrowwidth": 2,
          "ax": 8.5,
          "axref": "x",
          "ay": 0.63,
          "ayref": "y",
          "font": {
           "color": "#2C4545",
           "size": 15
          },
          "text": "CNN",
          "x": 8.5,
          "xref": "x",
          "y": 0.5,
          "yref": "y"
         },
         {
          "arrowcolor": "#2C4545",
          "arrowhead": 2,
          "arrowsize": 1,
          "arrowwidth": 2,
          "ax": 11,
          "axref": "x",
          "ay": 0.68,
          "ayref": "y",
          "font": {
           "color": "#2C4545",
           "size": 15
          },
          "text": "Transformer",
          "x": 11.5,
          "xref": "x",
          "y": 0.52,
          "yref": "y"
         },
         {
          "arrowcolor": "#2C4545",
          "arrowhead": 2,
          "arrowsize": 1,
          "arrowwidth": 2,
          "ax": 13,
          "axref": "x",
          "ay": 0.23,
          "ayref": "y",
          "font": {
           "color": "#2C4545",
           "size": 15
          },
          "text": "RNN",
          "x": 13.5,
          "xref": "x",
          "y": 0.38,
          "yref": "y"
         },
         {
          "arrowcolor": "#2C4545",
          "arrowhead": 2,
          "arrowsize": 1,
          "arrowwidth": 2,
          "ax": 16,
          "axref": "x",
          "ay": 0.6,
          "ayref": "y",
          "font": {
           "color": "#2C4545",
           "size": 15
          },
          "text": "CNN-LSTM",
          "x": 16.5,
          "xref": "x",
          "y": 0.49,
          "yref": "y"
         },
         {
          "arrowcolor": "#2C4545",
          "arrowhead": 2,
          "arrowsize": 1,
          "arrowwidth": 2,
          "ax": 15,
          "axref": "x",
          "ay": 0.1,
          "ayref": "y",
          "font": {
           "color": "#2C4545",
           "size": 15
          },
          "text": "CNN with<br />Critical Point",
          "x": 17.5,
          "xref": "x",
          "y": 0.15,
          "yref": "y"
         },
         {
          "arrowcolor": "#2C4545",
          "arrowhead": 2,
          "arrowsize": 1,
          "arrowwidth": 2,
          "ax": 5.2,
          "axref": "x",
          "ay": 0.6,
          "ayref": "y",
          "font": {
           "color": "#2C4545",
           "size": 15
          },
          "text": "Improved<br />Eventextraction",
          "x": 7.4,
          "xref": "x",
          "y": 0.55,
          "yref": "y"
         },
         {
          "arrowcolor": "#2C4545",
          "arrowhead": 2,
          "arrowsize": 1,
          "arrowwidth": 2,
          "ax": 18.5,
          "axref": "x",
          "ay": 0.65,
          "ayref": "y",
          "font": {
           "color": "#2C4545",
           "size": 15
          },
          "text": "Challenge<br />Deadline",
          "x": 20.4,
          "xref": "x",
          "y": 0.6,
          "yref": "y"
         },
         {
          "arrowcolor": "#2C4545",
          "arrowhead": 2,
          "arrowsize": 1,
          "arrowwidth": 2,
          "ax": 9,
          "axref": "x",
          "ay": 0.14,
          "ayref": "y",
          "x": 9.95,
          "xref": "x",
          "y": 0.395,
          "yref": "y"
         }
        ],
        "legend": {
         "title": {
          "text": "Scores"
         }
        },
        "plot_bgcolor": "#F2EFE8",
        "shapes": [
         {
          "fillcolor": "#FFB366",
          "line": {
           "width": 0
          },
          "opacity": 0.5,
          "type": "rect",
          "x0": 0.9,
          "x1": 2.1,
          "y0": -0.01,
          "y1": 0.05
         },
         {
          "fillcolor": "#FFB366",
          "line": {
           "width": 0
          },
          "opacity": 0.5,
          "type": "rect",
          "x0": 2.9,
          "x1": 5.1,
          "y0": 0.08,
          "y1": 0.14
         },
         {
          "fillcolor": "#FFB366",
          "line": {
           "width": 0
          },
          "opacity": 0.5,
          "type": "rect",
          "x0": 5.9,
          "x1": 7.1,
          "y0": 0.042,
          "y1": 0.19
         },
         {
          "fillcolor": "#FFB366",
          "line": {
           "width": 0
          },
          "opacity": 0.5,
          "type": "rect",
          "x0": 9.85,
          "x1": 10.1,
          "y0": 0.39,
          "y1": 0.47
         },
         {
          "fillcolor": "#FFB366",
          "line": {
           "width": 0
          },
          "opacity": 0.5,
          "type": "rect",
          "x0": 7.9,
          "x1": 9.1,
          "y0": 0.4,
          "y1": 0.54
         },
         {
          "fillcolor": "#FFB366",
          "line": {
           "width": 0
          },
          "opacity": 0.5,
          "type": "rect",
          "x0": 10.9,
          "x1": 12.1,
          "y0": 0.35,
          "y1": 0.5
         },
         {
          "fillcolor": "#FFB366",
          "line": {
           "width": 0
          },
          "opacity": 0.5,
          "type": "rect",
          "x0": 12.9,
          "x1": 15.1,
          "y0": 0.39,
          "y1": 0.52
         },
         {
          "fillcolor": "#FFB366",
          "line": {
           "width": 0
          },
          "opacity": 0.5,
          "type": "rect",
          "x0": 15.9,
          "x1": 17.1,
          "y0": 0.23,
          "y1": 0.47
         },
         {
          "fillcolor": "#FFB366",
          "line": {
           "width": 0
          },
          "opacity": 0.5,
          "type": "rect",
          "x0": 17.9,
          "x1": 21.1,
          "y0": 0,
          "y1": 0.51
         },
         {
          "line": {
           "color": "black",
           "dash": "dash",
           "width": 2
          },
          "type": "line",
          "x0": 7.5,
          "x1": 7.5,
          "xref": "x",
          "y0": 0,
          "y1": 1,
          "yref": "y domain"
         },
         {
          "line": {
           "color": "black",
           "dash": "dash",
           "width": 2
          },
          "type": "line",
          "x0": 20.5,
          "x1": 20.5,
          "xref": "x",
          "y0": 0,
          "y1": 1,
          "yref": "y domain"
         }
        ],
        "template": {
         "data": {
          "bar": [
           {
            "error_x": {
             "color": "#2a3f5f"
            },
            "error_y": {
             "color": "#2a3f5f"
            },
            "marker": {
             "line": {
              "color": "#E5ECF6",
              "width": 0.5
             },
             "pattern": {
              "fillmode": "overlay",
              "size": 10,
              "solidity": 0.2
             }
            },
            "type": "bar"
           }
          ],
          "barpolar": [
           {
            "marker": {
             "line": {
              "color": "#E5ECF6",
              "width": 0.5
             },
             "pattern": {
              "fillmode": "overlay",
              "size": 10,
              "solidity": 0.2
             }
            },
            "type": "barpolar"
           }
          ],
          "carpet": [
           {
            "aaxis": {
             "endlinecolor": "#2a3f5f",
             "gridcolor": "white",
             "linecolor": "white",
             "minorgridcolor": "white",
             "startlinecolor": "#2a3f5f"
            },
            "baxis": {
             "endlinecolor": "#2a3f5f",
             "gridcolor": "white",
             "linecolor": "white",
             "minorgridcolor": "white",
             "startlinecolor": "#2a3f5f"
            },
            "type": "carpet"
           }
          ],
          "choropleth": [
           {
            "colorbar": {
             "outlinewidth": 0,
             "ticks": ""
            },
            "type": "choropleth"
           }
          ],
          "contour": [
           {
            "colorbar": {
             "outlinewidth": 0,
             "ticks": ""
            },
            "colorscale": [
             [
              0,
              "#0d0887"
             ],
             [
              0.1111111111111111,
              "#46039f"
             ],
             [
              0.2222222222222222,
              "#7201a8"
             ],
             [
              0.3333333333333333,
              "#9c179e"
             ],
             [
              0.4444444444444444,
              "#bd3786"
             ],
             [
              0.5555555555555556,
              "#d8576b"
             ],
             [
              0.6666666666666666,
              "#ed7953"
             ],
             [
              0.7777777777777778,
              "#fb9f3a"
             ],
             [
              0.8888888888888888,
              "#fdca26"
             ],
             [
              1,
              "#f0f921"
             ]
            ],
            "type": "contour"
           }
          ],
          "contourcarpet": [
           {
            "colorbar": {
             "outlinewidth": 0,
             "ticks": ""
            },
            "type": "contourcarpet"
           }
          ],
          "heatmap": [
           {
            "colorbar": {
             "outlinewidth": 0,
             "ticks": ""
            },
            "colorscale": [
             [
              0,
              "#0d0887"
             ],
             [
              0.1111111111111111,
              "#46039f"
             ],
             [
              0.2222222222222222,
              "#7201a8"
             ],
             [
              0.3333333333333333,
              "#9c179e"
             ],
             [
              0.4444444444444444,
              "#bd3786"
             ],
             [
              0.5555555555555556,
              "#d8576b"
             ],
             [
              0.6666666666666666,
              "#ed7953"
             ],
             [
              0.7777777777777778,
              "#fb9f3a"
             ],
             [
              0.8888888888888888,
              "#fdca26"
             ],
             [
              1,
              "#f0f921"
             ]
            ],
            "type": "heatmap"
           }
          ],
          "heatmapgl": [
           {
            "colorbar": {
             "outlinewidth": 0,
             "ticks": ""
            },
            "colorscale": [
             [
              0,
              "#0d0887"
             ],
             [
              0.1111111111111111,
              "#46039f"
             ],
             [
              0.2222222222222222,
              "#7201a8"
             ],
             [
              0.3333333333333333,
              "#9c179e"
             ],
             [
              0.4444444444444444,
              "#bd3786"
             ],
             [
              0.5555555555555556,
              "#d8576b"
             ],
             [
              0.6666666666666666,
              "#ed7953"
             ],
             [
              0.7777777777777778,
              "#fb9f3a"
             ],
             [
              0.8888888888888888,
              "#fdca26"
             ],
             [
              1,
              "#f0f921"
             ]
            ],
            "type": "heatmapgl"
           }
          ],
          "histogram": [
           {
            "marker": {
             "pattern": {
              "fillmode": "overlay",
              "size": 10,
              "solidity": 0.2
             }
            },
            "type": "histogram"
           }
          ],
          "histogram2d": [
           {
            "colorbar": {
             "outlinewidth": 0,
             "ticks": ""
            },
            "colorscale": [
             [
              0,
              "#0d0887"
             ],
             [
              0.1111111111111111,
              "#46039f"
             ],
             [
              0.2222222222222222,
              "#7201a8"
             ],
             [
              0.3333333333333333,
              "#9c179e"
             ],
             [
              0.4444444444444444,
              "#bd3786"
             ],
             [
              0.5555555555555556,
              "#d8576b"
             ],
             [
              0.6666666666666666,
              "#ed7953"
             ],
             [
              0.7777777777777778,
              "#fb9f3a"
             ],
             [
              0.8888888888888888,
              "#fdca26"
             ],
             [
              1,
              "#f0f921"
             ]
            ],
            "type": "histogram2d"
           }
          ],
          "histogram2dcontour": [
           {
            "colorbar": {
             "outlinewidth": 0,
             "ticks": ""
            },
            "colorscale": [
             [
              0,
              "#0d0887"
             ],
             [
              0.1111111111111111,
              "#46039f"
             ],
             [
              0.2222222222222222,
              "#7201a8"
             ],
             [
              0.3333333333333333,
              "#9c179e"
             ],
             [
              0.4444444444444444,
              "#bd3786"
             ],
             [
              0.5555555555555556,
              "#d8576b"
             ],
             [
              0.6666666666666666,
              "#ed7953"
             ],
             [
              0.7777777777777778,
              "#fb9f3a"
             ],
             [
              0.8888888888888888,
              "#fdca26"
             ],
             [
              1,
              "#f0f921"
             ]
            ],
            "type": "histogram2dcontour"
           }
          ],
          "mesh3d": [
           {
            "colorbar": {
             "outlinewidth": 0,
             "ticks": ""
            },
            "type": "mesh3d"
           }
          ],
          "parcoords": [
           {
            "line": {
             "colorbar": {
              "outlinewidth": 0,
              "ticks": ""
             }
            },
            "type": "parcoords"
           }
          ],
          "pie": [
           {
            "automargin": true,
            "type": "pie"
           }
          ],
          "scatter": [
           {
            "fillpattern": {
             "fillmode": "overlay",
             "size": 10,
             "solidity": 0.2
            },
            "type": "scatter"
           }
          ],
          "scatter3d": [
           {
            "line": {
             "colorbar": {
              "outlinewidth": 0,
              "ticks": ""
             }
            },
            "marker": {
             "colorbar": {
              "outlinewidth": 0,
              "ticks": ""
             }
            },
            "type": "scatter3d"
           }
          ],
          "scattercarpet": [
           {
            "marker": {
             "colorbar": {
              "outlinewidth": 0,
              "ticks": ""
             }
            },
            "type": "scattercarpet"
           }
          ],
          "scattergeo": [
           {
            "marker": {
             "colorbar": {
              "outlinewidth": 0,
              "ticks": ""
             }
            },
            "type": "scattergeo"
           }
          ],
          "scattergl": [
           {
            "marker": {
             "colorbar": {
              "outlinewidth": 0,
              "ticks": ""
             }
            },
            "type": "scattergl"
           }
          ],
          "scattermapbox": [
           {
            "marker": {
             "colorbar": {
              "outlinewidth": 0,
              "ticks": ""
             }
            },
            "type": "scattermapbox"
           }
          ],
          "scatterpolar": [
           {
            "marker": {
             "colorbar": {
              "outlinewidth": 0,
              "ticks": ""
             }
            },
            "type": "scatterpolar"
           }
          ],
          "scatterpolargl": [
           {
            "marker": {
             "colorbar": {
              "outlinewidth": 0,
              "ticks": ""
             }
            },
            "type": "scatterpolargl"
           }
          ],
          "scatterternary": [
           {
            "marker": {
             "colorbar": {
              "outlinewidth": 0,
              "ticks": ""
             }
            },
            "type": "scatterternary"
           }
          ],
          "surface": [
           {
            "colorbar": {
             "outlinewidth": 0,
             "ticks": ""
            },
            "colorscale": [
             [
              0,
              "#0d0887"
             ],
             [
              0.1111111111111111,
              "#46039f"
             ],
             [
              0.2222222222222222,
              "#7201a8"
             ],
             [
              0.3333333333333333,
              "#9c179e"
             ],
             [
              0.4444444444444444,
              "#bd3786"
             ],
             [
              0.5555555555555556,
              "#d8576b"
             ],
             [
              0.6666666666666666,
              "#ed7953"
             ],
             [
              0.7777777777777778,
              "#fb9f3a"
             ],
             [
              0.8888888888888888,
              "#fdca26"
             ],
             [
              1,
              "#f0f921"
             ]
            ],
            "type": "surface"
           }
          ],
          "table": [
           {
            "cells": {
             "fill": {
              "color": "#EBF0F8"
             },
             "line": {
              "color": "white"
             }
            },
            "header": {
             "fill": {
              "color": "#C8D4E3"
             },
             "line": {
              "color": "white"
             }
            },
            "type": "table"
           }
          ]
         },
         "layout": {
          "annotationdefaults": {
           "arrowcolor": "#2a3f5f",
           "arrowhead": 0,
           "arrowwidth": 1
          },
          "autotypenumbers": "strict",
          "coloraxis": {
           "colorbar": {
            "outlinewidth": 0,
            "ticks": ""
           }
          },
          "colorscale": {
           "diverging": [
            [
             0,
             "#8e0152"
            ],
            [
             0.1,
             "#c51b7d"
            ],
            [
             0.2,
             "#de77ae"
            ],
            [
             0.3,
             "#f1b6da"
            ],
            [
             0.4,
             "#fde0ef"
            ],
            [
             0.5,
             "#f7f7f7"
            ],
            [
             0.6,
             "#e6f5d0"
            ],
            [
             0.7,
             "#b8e186"
            ],
            [
             0.8,
             "#7fbc41"
            ],
            [
             0.9,
             "#4d9221"
            ],
            [
             1,
             "#276419"
            ]
           ],
           "sequential": [
            [
             0,
             "#0d0887"
            ],
            [
             0.1111111111111111,
             "#46039f"
            ],
            [
             0.2222222222222222,
             "#7201a8"
            ],
            [
             0.3333333333333333,
             "#9c179e"
            ],
            [
             0.4444444444444444,
             "#bd3786"
            ],
            [
             0.5555555555555556,
             "#d8576b"
            ],
            [
             0.6666666666666666,
             "#ed7953"
            ],
            [
             0.7777777777777778,
             "#fb9f3a"
            ],
            [
             0.8888888888888888,
             "#fdca26"
            ],
            [
             1,
             "#f0f921"
            ]
           ],
           "sequentialminus": [
            [
             0,
             "#0d0887"
            ],
            [
             0.1111111111111111,
             "#46039f"
            ],
            [
             0.2222222222222222,
             "#7201a8"
            ],
            [
             0.3333333333333333,
             "#9c179e"
            ],
            [
             0.4444444444444444,
             "#bd3786"
            ],
            [
             0.5555555555555556,
             "#d8576b"
            ],
            [
             0.6666666666666666,
             "#ed7953"
            ],
            [
             0.7777777777777778,
             "#fb9f3a"
            ],
            [
             0.8888888888888888,
             "#fdca26"
            ],
            [
             1,
             "#f0f921"
            ]
           ]
          },
          "colorway": [
           "#636efa",
           "#EF553B",
           "#00cc96",
           "#ab63fa",
           "#FFA15A",
           "#19d3f3",
           "#FF6692",
           "#B6E880",
           "#FF97FF",
           "#FECB52"
          ],
          "font": {
           "color": "#2a3f5f"
          },
          "geo": {
           "bgcolor": "white",
           "lakecolor": "white",
           "landcolor": "#E5ECF6",
           "showlakes": true,
           "showland": true,
           "subunitcolor": "white"
          },
          "hoverlabel": {
           "align": "left"
          },
          "hovermode": "closest",
          "mapbox": {
           "style": "light"
          },
          "paper_bgcolor": "white",
          "plot_bgcolor": "#E5ECF6",
          "polar": {
           "angularaxis": {
            "gridcolor": "white",
            "linecolor": "white",
            "ticks": ""
           },
           "bgcolor": "#E5ECF6",
           "radialaxis": {
            "gridcolor": "white",
            "linecolor": "white",
            "ticks": ""
           }
          },
          "scene": {
           "xaxis": {
            "backgroundcolor": "#E5ECF6",
            "gridcolor": "white",
            "gridwidth": 2,
            "linecolor": "white",
            "showbackground": true,
            "ticks": "",
            "zerolinecolor": "white"
           },
           "yaxis": {
            "backgroundcolor": "#E5ECF6",
            "gridcolor": "white",
            "gridwidth": 2,
            "linecolor": "white",
            "showbackground": true,
            "ticks": "",
            "zerolinecolor": "white"
           },
           "zaxis": {
            "backgroundcolor": "#E5ECF6",
            "gridcolor": "white",
            "gridwidth": 2,
            "linecolor": "white",
            "showbackground": true,
            "ticks": "",
            "zerolinecolor": "white"
           }
          },
          "shapedefaults": {
           "line": {
            "color": "#2a3f5f"
           }
          },
          "ternary": {
           "aaxis": {
            "gridcolor": "white",
            "linecolor": "white",
            "ticks": ""
           },
           "baxis": {
            "gridcolor": "white",
            "linecolor": "white",
            "ticks": ""
           },
           "bgcolor": "#E5ECF6",
           "caxis": {
            "gridcolor": "white",
            "linecolor": "white",
            "ticks": ""
           }
          },
          "title": {
           "x": 0.05
          },
          "xaxis": {
           "automargin": true,
           "gridcolor": "white",
           "linecolor": "white",
           "ticks": "",
           "title": {
            "standoff": 15
           },
           "zerolinecolor": "white",
           "zerolinewidth": 2
          },
          "yaxis": {
           "automargin": true,
           "gridcolor": "white",
           "linecolor": "white",
           "ticks": "",
           "title": {
            "standoff": 15
           },
           "zerolinecolor": "white",
           "zerolinewidth": 2
          }
         }
        },
        "xaxis": {
         "range": [
          0.9,
          21.1
         ],
         "showgrid": false,
         "title": {
          "text": "Submissions"
         }
        },
        "yaxis": {
         "gridcolor": "lightgrey",
         "range": [
          -0.1,
          0.9
         ],
         "showgrid": true,
         "title": {
          "text": "Competition Metric"
         },
         "zeroline": true,
         "zerolinecolor": "lightgrey",
         "zerolinewidth": 2
        }
       }
      },
      "text/html": [
       "<div>                            <div id=\"d7abb06f-0ce5-4d30-a75f-30c788f267a2\" class=\"plotly-graph-div\" style=\"height:525px; width:100%;\"></div>            <script type=\"text/javascript\">                require([\"plotly\"], function(Plotly) {                    window.PLOTLYENV=window.PLOTLYENV || {};                                    if (document.getElementById(\"d7abb06f-0ce5-4d30-a75f-30c788f267a2\")) {                    Plotly.newPlot(                        \"d7abb06f-0ce5-4d30-a75f-30c788f267a2\",                        [{\"mode\":\"lines\",\"name\":\"Public Score\",\"x\":[1,2,3,4,5,6,7,8,9,10,11,12,13,14,15,16,17,18,19,20,21],\"y\":[0.021,0.004,0.098,0.112,0.118,0.051,0.174,0.412,0.469,0.401,0.363,0.415,0.4,0.461,0.454,0.243,0.418,0.022,0.382,0.437,0.45],\"type\":\"scatter\"},{\"mode\":\"lines\",\"name\":\"Private Score\",\"x\":[1,2,3,4,5,6,7,8,9,10,11,12,13,14,15,16,17,18,19,20,21],\"y\":[0.015,0.003,0.107,0.124,0.125,0.047,0.181,0.441,0.526,0.446,0.416,0.48,0.435,0.511,0.511,0.255,0.455,0.003,0.425,0.472,0.494],\"type\":\"scatter\"}],                        {\"template\":{\"data\":{\"histogram2dcontour\":[{\"type\":\"histogram2dcontour\",\"colorbar\":{\"outlinewidth\":0,\"ticks\":\"\"},\"colorscale\":[[0.0,\"#0d0887\"],[0.1111111111111111,\"#46039f\"],[0.2222222222222222,\"#7201a8\"],[0.3333333333333333,\"#9c179e\"],[0.4444444444444444,\"#bd3786\"],[0.5555555555555556,\"#d8576b\"],[0.6666666666666666,\"#ed7953\"],[0.7777777777777778,\"#fb9f3a\"],[0.8888888888888888,\"#fdca26\"],[1.0,\"#f0f921\"]]}],\"choropleth\":[{\"type\":\"choropleth\",\"colorbar\":{\"outlinewidth\":0,\"ticks\":\"\"}}],\"histogram2d\":[{\"type\":\"histogram2d\",\"colorbar\":{\"outlinewidth\":0,\"ticks\":\"\"},\"colorscale\":[[0.0,\"#0d0887\"],[0.1111111111111111,\"#46039f\"],[0.2222222222222222,\"#7201a8\"],[0.3333333333333333,\"#9c179e\"],[0.4444444444444444,\"#bd3786\"],[0.5555555555555556,\"#d8576b\"],[0.6666666666666666,\"#ed7953\"],[0.7777777777777778,\"#fb9f3a\"],[0.8888888888888888,\"#fdca26\"],[1.0,\"#f0f921\"]]}],\"heatmap\":[{\"type\":\"heatmap\",\"colorbar\":{\"outlinewidth\":0,\"ticks\":\"\"},\"colorscale\":[[0.0,\"#0d0887\"],[0.1111111111111111,\"#46039f\"],[0.2222222222222222,\"#7201a8\"],[0.3333333333333333,\"#9c179e\"],[0.4444444444444444,\"#bd3786\"],[0.5555555555555556,\"#d8576b\"],[0.6666666666666666,\"#ed7953\"],[0.7777777777777778,\"#fb9f3a\"],[0.8888888888888888,\"#fdca26\"],[1.0,\"#f0f921\"]]}],\"heatmapgl\":[{\"type\":\"heatmapgl\",\"colorbar\":{\"outlinewidth\":0,\"ticks\":\"\"},\"colorscale\":[[0.0,\"#0d0887\"],[0.1111111111111111,\"#46039f\"],[0.2222222222222222,\"#7201a8\"],[0.3333333333333333,\"#9c179e\"],[0.4444444444444444,\"#bd3786\"],[0.5555555555555556,\"#d8576b\"],[0.6666666666666666,\"#ed7953\"],[0.7777777777777778,\"#fb9f3a\"],[0.8888888888888888,\"#fdca26\"],[1.0,\"#f0f921\"]]}],\"contourcarpet\":[{\"type\":\"contourcarpet\",\"colorbar\":{\"outlinewidth\":0,\"ticks\":\"\"}}],\"contour\":[{\"type\":\"contour\",\"colorbar\":{\"outlinewidth\":0,\"ticks\":\"\"},\"colorscale\":[[0.0,\"#0d0887\"],[0.1111111111111111,\"#46039f\"],[0.2222222222222222,\"#7201a8\"],[0.3333333333333333,\"#9c179e\"],[0.4444444444444444,\"#bd3786\"],[0.5555555555555556,\"#d8576b\"],[0.6666666666666666,\"#ed7953\"],[0.7777777777777778,\"#fb9f3a\"],[0.8888888888888888,\"#fdca26\"],[1.0,\"#f0f921\"]]}],\"surface\":[{\"type\":\"surface\",\"colorbar\":{\"outlinewidth\":0,\"ticks\":\"\"},\"colorscale\":[[0.0,\"#0d0887\"],[0.1111111111111111,\"#46039f\"],[0.2222222222222222,\"#7201a8\"],[0.3333333333333333,\"#9c179e\"],[0.4444444444444444,\"#bd3786\"],[0.5555555555555556,\"#d8576b\"],[0.6666666666666666,\"#ed7953\"],[0.7777777777777778,\"#fb9f3a\"],[0.8888888888888888,\"#fdca26\"],[1.0,\"#f0f921\"]]}],\"mesh3d\":[{\"type\":\"mesh3d\",\"colorbar\":{\"outlinewidth\":0,\"ticks\":\"\"}}],\"scatter\":[{\"fillpattern\":{\"fillmode\":\"overlay\",\"size\":10,\"solidity\":0.2},\"type\":\"scatter\"}],\"parcoords\":[{\"type\":\"parcoords\",\"line\":{\"colorbar\":{\"outlinewidth\":0,\"ticks\":\"\"}}}],\"scatterpolargl\":[{\"type\":\"scatterpolargl\",\"marker\":{\"colorbar\":{\"outlinewidth\":0,\"ticks\":\"\"}}}],\"bar\":[{\"error_x\":{\"color\":\"#2a3f5f\"},\"error_y\":{\"color\":\"#2a3f5f\"},\"marker\":{\"line\":{\"color\":\"#E5ECF6\",\"width\":0.5},\"pattern\":{\"fillmode\":\"overlay\",\"size\":10,\"solidity\":0.2}},\"type\":\"bar\"}],\"scattergeo\":[{\"type\":\"scattergeo\",\"marker\":{\"colorbar\":{\"outlinewidth\":0,\"ticks\":\"\"}}}],\"scatterpolar\":[{\"type\":\"scatterpolar\",\"marker\":{\"colorbar\":{\"outlinewidth\":0,\"ticks\":\"\"}}}],\"histogram\":[{\"marker\":{\"pattern\":{\"fillmode\":\"overlay\",\"size\":10,\"solidity\":0.2}},\"type\":\"histogram\"}],\"scattergl\":[{\"type\":\"scattergl\",\"marker\":{\"colorbar\":{\"outlinewidth\":0,\"ticks\":\"\"}}}],\"scatter3d\":[{\"type\":\"scatter3d\",\"line\":{\"colorbar\":{\"outlinewidth\":0,\"ticks\":\"\"}},\"marker\":{\"colorbar\":{\"outlinewidth\":0,\"ticks\":\"\"}}}],\"scattermapbox\":[{\"type\":\"scattermapbox\",\"marker\":{\"colorbar\":{\"outlinewidth\":0,\"ticks\":\"\"}}}],\"scatterternary\":[{\"type\":\"scatterternary\",\"marker\":{\"colorbar\":{\"outlinewidth\":0,\"ticks\":\"\"}}}],\"scattercarpet\":[{\"type\":\"scattercarpet\",\"marker\":{\"colorbar\":{\"outlinewidth\":0,\"ticks\":\"\"}}}],\"carpet\":[{\"aaxis\":{\"endlinecolor\":\"#2a3f5f\",\"gridcolor\":\"white\",\"linecolor\":\"white\",\"minorgridcolor\":\"white\",\"startlinecolor\":\"#2a3f5f\"},\"baxis\":{\"endlinecolor\":\"#2a3f5f\",\"gridcolor\":\"white\",\"linecolor\":\"white\",\"minorgridcolor\":\"white\",\"startlinecolor\":\"#2a3f5f\"},\"type\":\"carpet\"}],\"table\":[{\"cells\":{\"fill\":{\"color\":\"#EBF0F8\"},\"line\":{\"color\":\"white\"}},\"header\":{\"fill\":{\"color\":\"#C8D4E3\"},\"line\":{\"color\":\"white\"}},\"type\":\"table\"}],\"barpolar\":[{\"marker\":{\"line\":{\"color\":\"#E5ECF6\",\"width\":0.5},\"pattern\":{\"fillmode\":\"overlay\",\"size\":10,\"solidity\":0.2}},\"type\":\"barpolar\"}],\"pie\":[{\"automargin\":true,\"type\":\"pie\"}]},\"layout\":{\"autotypenumbers\":\"strict\",\"colorway\":[\"#636efa\",\"#EF553B\",\"#00cc96\",\"#ab63fa\",\"#FFA15A\",\"#19d3f3\",\"#FF6692\",\"#B6E880\",\"#FF97FF\",\"#FECB52\"],\"font\":{\"color\":\"#2a3f5f\"},\"hovermode\":\"closest\",\"hoverlabel\":{\"align\":\"left\"},\"paper_bgcolor\":\"white\",\"plot_bgcolor\":\"#E5ECF6\",\"polar\":{\"bgcolor\":\"#E5ECF6\",\"angularaxis\":{\"gridcolor\":\"white\",\"linecolor\":\"white\",\"ticks\":\"\"},\"radialaxis\":{\"gridcolor\":\"white\",\"linecolor\":\"white\",\"ticks\":\"\"}},\"ternary\":{\"bgcolor\":\"#E5ECF6\",\"aaxis\":{\"gridcolor\":\"white\",\"linecolor\":\"white\",\"ticks\":\"\"},\"baxis\":{\"gridcolor\":\"white\",\"linecolor\":\"white\",\"ticks\":\"\"},\"caxis\":{\"gridcolor\":\"white\",\"linecolor\":\"white\",\"ticks\":\"\"}},\"coloraxis\":{\"colorbar\":{\"outlinewidth\":0,\"ticks\":\"\"}},\"colorscale\":{\"sequential\":[[0.0,\"#0d0887\"],[0.1111111111111111,\"#46039f\"],[0.2222222222222222,\"#7201a8\"],[0.3333333333333333,\"#9c179e\"],[0.4444444444444444,\"#bd3786\"],[0.5555555555555556,\"#d8576b\"],[0.6666666666666666,\"#ed7953\"],[0.7777777777777778,\"#fb9f3a\"],[0.8888888888888888,\"#fdca26\"],[1.0,\"#f0f921\"]],\"sequentialminus\":[[0.0,\"#0d0887\"],[0.1111111111111111,\"#46039f\"],[0.2222222222222222,\"#7201a8\"],[0.3333333333333333,\"#9c179e\"],[0.4444444444444444,\"#bd3786\"],[0.5555555555555556,\"#d8576b\"],[0.6666666666666666,\"#ed7953\"],[0.7777777777777778,\"#fb9f3a\"],[0.8888888888888888,\"#fdca26\"],[1.0,\"#f0f921\"]],\"diverging\":[[0,\"#8e0152\"],[0.1,\"#c51b7d\"],[0.2,\"#de77ae\"],[0.3,\"#f1b6da\"],[0.4,\"#fde0ef\"],[0.5,\"#f7f7f7\"],[0.6,\"#e6f5d0\"],[0.7,\"#b8e186\"],[0.8,\"#7fbc41\"],[0.9,\"#4d9221\"],[1,\"#276419\"]]},\"xaxis\":{\"gridcolor\":\"white\",\"linecolor\":\"white\",\"ticks\":\"\",\"title\":{\"standoff\":15},\"zerolinecolor\":\"white\",\"automargin\":true,\"zerolinewidth\":2},\"yaxis\":{\"gridcolor\":\"white\",\"linecolor\":\"white\",\"ticks\":\"\",\"title\":{\"standoff\":15},\"zerolinecolor\":\"white\",\"automargin\":true,\"zerolinewidth\":2},\"scene\":{\"xaxis\":{\"backgroundcolor\":\"#E5ECF6\",\"gridcolor\":\"white\",\"linecolor\":\"white\",\"showbackground\":true,\"ticks\":\"\",\"zerolinecolor\":\"white\",\"gridwidth\":2},\"yaxis\":{\"backgroundcolor\":\"#E5ECF6\",\"gridcolor\":\"white\",\"linecolor\":\"white\",\"showbackground\":true,\"ticks\":\"\",\"zerolinecolor\":\"white\",\"gridwidth\":2},\"zaxis\":{\"backgroundcolor\":\"#E5ECF6\",\"gridcolor\":\"white\",\"linecolor\":\"white\",\"showbackground\":true,\"ticks\":\"\",\"zerolinecolor\":\"white\",\"gridwidth\":2}},\"shapedefaults\":{\"line\":{\"color\":\"#2a3f5f\"}},\"annotationdefaults\":{\"arrowcolor\":\"#2a3f5f\",\"arrowhead\":0,\"arrowwidth\":1},\"geo\":{\"bgcolor\":\"white\",\"landcolor\":\"#E5ECF6\",\"subunitcolor\":\"white\",\"showland\":true,\"showlakes\":true,\"lakecolor\":\"white\"},\"title\":{\"x\":0.05},\"mapbox\":{\"style\":\"light\"}}},\"yaxis\":{\"range\":[-0.1,0.9],\"showgrid\":true,\"title\":{\"text\":\"Competition Metric\"},\"gridcolor\":\"lightgrey\",\"zeroline\":true,\"zerolinewidth\":2,\"zerolinecolor\":\"lightgrey\"},\"xaxis\":{\"range\":[0.9,21.1],\"showgrid\":false,\"title\":{\"text\":\"Submissions\"}},\"legend\":{\"title\":{\"text\":\"Scores\"}},\"plot_bgcolor\":\"#F2EFE8\",\"shapes\":[{\"fillcolor\":\"#FFB366\",\"line\":{\"width\":0},\"opacity\":0.5,\"type\":\"rect\",\"x0\":0.9,\"x1\":2.1,\"y0\":-0.01,\"y1\":0.05},{\"fillcolor\":\"#FFB366\",\"line\":{\"width\":0},\"opacity\":0.5,\"type\":\"rect\",\"x0\":2.9,\"x1\":5.1,\"y0\":0.08,\"y1\":0.14},{\"fillcolor\":\"#FFB366\",\"line\":{\"width\":0},\"opacity\":0.5,\"type\":\"rect\",\"x0\":5.9,\"x1\":7.1,\"y0\":0.042,\"y1\":0.19},{\"fillcolor\":\"#FFB366\",\"line\":{\"width\":0},\"opacity\":0.5,\"type\":\"rect\",\"x0\":9.85,\"x1\":10.1,\"y0\":0.39,\"y1\":0.47},{\"fillcolor\":\"#FFB366\",\"line\":{\"width\":0},\"opacity\":0.5,\"type\":\"rect\",\"x0\":7.9,\"x1\":9.1,\"y0\":0.4,\"y1\":0.54},{\"fillcolor\":\"#FFB366\",\"line\":{\"width\":0},\"opacity\":0.5,\"type\":\"rect\",\"x0\":10.9,\"x1\":12.1,\"y0\":0.35,\"y1\":0.5},{\"fillcolor\":\"#FFB366\",\"line\":{\"width\":0},\"opacity\":0.5,\"type\":\"rect\",\"x0\":12.9,\"x1\":15.1,\"y0\":0.39,\"y1\":0.52},{\"fillcolor\":\"#FFB366\",\"line\":{\"width\":0},\"opacity\":0.5,\"type\":\"rect\",\"x0\":15.9,\"x1\":17.1,\"y0\":0.23,\"y1\":0.47},{\"fillcolor\":\"#FFB366\",\"line\":{\"width\":0},\"opacity\":0.5,\"type\":\"rect\",\"x0\":17.9,\"x1\":21.1,\"y0\":0.0,\"y1\":0.51},{\"line\":{\"color\":\"black\",\"dash\":\"dash\",\"width\":2},\"type\":\"line\",\"x0\":7.5,\"x1\":7.5,\"xref\":\"x\",\"y0\":0,\"y1\":1,\"yref\":\"y domain\"},{\"line\":{\"color\":\"black\",\"dash\":\"dash\",\"width\":2},\"type\":\"line\",\"x0\":20.5,\"x1\":20.5,\"xref\":\"x\",\"y0\":0,\"y1\":1,\"yref\":\"y domain\"}],\"annotations\":[{\"arrowcolor\":\"#2C4545\",\"arrowhead\":2,\"arrowsize\":1,\"arrowwidth\":2,\"ax\":2,\"axref\":\"x\",\"ay\":0.3,\"ayref\":\"y\",\"font\":{\"color\":\"#2C4545\",\"size\":15},\"text\":\"Baselines\",\"x\":1.4,\"xref\":\"x\",\"y\":0.07,\"yref\":\"y\"},{\"arrowcolor\":\"#2C4545\",\"arrowhead\":2,\"arrowsize\":1,\"arrowwidth\":2,\"ax\":4,\"axref\":\"x\",\"ay\":-0.05,\"ayref\":\"y\",\"font\":{\"color\":\"#2C4545\",\"size\":15},\"text\":\"Decision Tree\",\"x\":4,\"xref\":\"x\",\"y\":0.085,\"yref\":\"y\"},{\"arrowcolor\":\"#2C4545\",\"arrowhead\":2,\"arrowsize\":1,\"arrowwidth\":2,\"ax\":9,\"axref\":\"x\",\"ay\":0.13,\"ayref\":\"y\",\"font\":{\"color\":\"#2C4545\",\"size\":15},\"text\":\"MLP\",\"x\":7.15,\"xref\":\"x\",\"y\":0.12,\"yref\":\"y\"},{\"arrowcolor\":\"#2C4545\",\"arrowhead\":2,\"arrowsize\":1,\"arrowwidth\":2,\"ax\":8.5,\"axref\":\"x\",\"ay\":0.63,\"ayref\":\"y\",\"font\":{\"color\":\"#2C4545\",\"size\":15},\"text\":\"CNN\",\"x\":8.5,\"xref\":\"x\",\"y\":0.5,\"yref\":\"y\"},{\"arrowcolor\":\"#2C4545\",\"arrowhead\":2,\"arrowsize\":1,\"arrowwidth\":2,\"ax\":11,\"axref\":\"x\",\"ay\":0.68,\"ayref\":\"y\",\"font\":{\"color\":\"#2C4545\",\"size\":15},\"text\":\"Transformer\",\"x\":11.5,\"xref\":\"x\",\"y\":0.52,\"yref\":\"y\"},{\"arrowcolor\":\"#2C4545\",\"arrowhead\":2,\"arrowsize\":1,\"arrowwidth\":2,\"ax\":13,\"axref\":\"x\",\"ay\":0.23,\"ayref\":\"y\",\"font\":{\"color\":\"#2C4545\",\"size\":15},\"text\":\"RNN\",\"x\":13.5,\"xref\":\"x\",\"y\":0.38,\"yref\":\"y\"},{\"arrowcolor\":\"#2C4545\",\"arrowhead\":2,\"arrowsize\":1,\"arrowwidth\":2,\"ax\":16,\"axref\":\"x\",\"ay\":0.6,\"ayref\":\"y\",\"font\":{\"color\":\"#2C4545\",\"size\":15},\"text\":\"CNN-LSTM\",\"x\":16.5,\"xref\":\"x\",\"y\":0.49,\"yref\":\"y\"},{\"arrowcolor\":\"#2C4545\",\"arrowhead\":2,\"arrowsize\":1,\"arrowwidth\":2,\"ax\":15,\"axref\":\"x\",\"ay\":0.1,\"ayref\":\"y\",\"font\":{\"color\":\"#2C4545\",\"size\":15},\"text\":\"CNN with\\u003cbr \\u002f\\u003eCritical Point\",\"x\":17.5,\"xref\":\"x\",\"y\":0.15,\"yref\":\"y\"},{\"arrowcolor\":\"#2C4545\",\"arrowhead\":2,\"arrowsize\":1,\"arrowwidth\":2,\"ax\":5.2,\"axref\":\"x\",\"ay\":0.6,\"ayref\":\"y\",\"font\":{\"color\":\"#2C4545\",\"size\":15},\"text\":\"Improved\\u003cbr \\u002f\\u003eEventextraction\",\"x\":7.4,\"xref\":\"x\",\"y\":0.55,\"yref\":\"y\"},{\"arrowcolor\":\"#2C4545\",\"arrowhead\":2,\"arrowsize\":1,\"arrowwidth\":2,\"ax\":18.5,\"axref\":\"x\",\"ay\":0.65,\"ayref\":\"y\",\"font\":{\"color\":\"#2C4545\",\"size\":15},\"text\":\"Challenge\\u003cbr \\u002f\\u003eDeadline\",\"x\":20.4,\"xref\":\"x\",\"y\":0.6,\"yref\":\"y\"},{\"arrowcolor\":\"#2C4545\",\"arrowhead\":2,\"arrowsize\":1,\"arrowwidth\":2,\"ax\":9,\"axref\":\"x\",\"ay\":0.14,\"ayref\":\"y\",\"x\":9.95,\"xref\":\"x\",\"y\":0.395,\"yref\":\"y\"}]},                        {\"responsive\": true}                    ).then(function(){\n",
       "                            \n",
       "var gd = document.getElementById('d7abb06f-0ce5-4d30-a75f-30c788f267a2');\n",
       "var x = new MutationObserver(function (mutations, observer) {{\n",
       "        var display = window.getComputedStyle(gd).display;\n",
       "        if (!display || display === 'none') {{\n",
       "            console.log([gd, 'removed!']);\n",
       "            Plotly.purge(gd);\n",
       "            observer.disconnect();\n",
       "        }}\n",
       "}});\n",
       "\n",
       "// Listen for the removal of the full notebook cells\n",
       "var notebookContainer = gd.closest('#notebook-container');\n",
       "if (notebookContainer) {{\n",
       "    x.observe(notebookContainer, {childList: true});\n",
       "}}\n",
       "\n",
       "// Listen for the clearing of the current output cell\n",
       "var outputEl = gd.closest('.output');\n",
       "if (outputEl) {{\n",
       "    x.observe(outputEl, {childList: true});\n",
       "}}\n",
       "\n",
       "                        })                };                });            </script>        </div>"
      ]
     },
     "metadata": {},
     "output_type": "display_data"
    }
   ],
   "source": [
    "fig = go.Figure()\n",
    "fig.add_trace(go.Scatter(x=runs.run, y=runs.public_score,\n",
    "                    mode='lines',\n",
    "                    name='Public Score'))\n",
    "\n",
    "fig.add_trace(go.Scatter(x=runs.run, y=runs.private_score,\n",
    "                    mode='lines',\n",
    "                    name='Private Score'))\n",
    "\n",
    "fig.update_layout(yaxis_range=[-0.1,0.9], xaxis_range=[0.9,21.1], plot_bgcolor='#F2EFE8', legend_title_text='Scores')\n",
    "\n",
    "# Shape-Coordinates [x0, y0, x1, y0]\n",
    "baseline =      [0.9, -0.01,  2.1,  0.05]\n",
    "decision_tree = [2.9,  0.08,  5.1,  0.14]\n",
    "mlp =           [5.9,  0.042, 7.1,  0.19]\n",
    "mlp2 =          [9.85, 0.39,  10.1, 0.47]\n",
    "cnn =           [7.9,  0.4,   9.1,  0.54]\n",
    "transformer =   [10.9, 0.35,  12.1, 0.50]\n",
    "rnn =           [12.9, 0.39,  15.1, 0.52]\n",
    "cnn_lstm =      [15.9, 0.23,  17.1, 0.47]\n",
    "cnn_cp =        [17.9, 0.00,  21.1, 0.51]\n",
    "\n",
    "for shape in [baseline, decision_tree, mlp, mlp2, cnn, transformer, rnn, cnn_lstm, cnn_cp]:\n",
    "    fig.add_shape(type=\"rect\",\n",
    "        x0=shape[0], y0=shape[1], x1=shape[2], y1=shape[3],\n",
    "        fillcolor=\"#FFB366\",\n",
    "        opacity=0.5,\n",
    "        line_width=0\n",
    "    )\n",
    "    \n",
    "anno_baseline = {\n",
    "    'x': 1.4,\n",
    "    'y': 0.07,\n",
    "    'text': 'Baselines',\n",
    "    'ax': 2, # start of the arrow / text position  \n",
    "    'ay': 0.3\n",
    "}\n",
    "anno_decision_tree = {\n",
    "    'x': 4,\n",
    "    'y': 0.085,\n",
    "    'text': 'Decision Tree',\n",
    "    'ax': 4,\n",
    "    'ay': -0.05\n",
    "}\n",
    "anno_mlp = {\n",
    "    'x': 7.15,\n",
    "    'y': 0.12,\n",
    "    'text': 'MLP',\n",
    "    'ax': 9,\n",
    "    'ay': 0.13\n",
    "}\n",
    "anno_cnn = {\n",
    "    'x': 8.5,\n",
    "    'y': 0.5,\n",
    "    'text': 'CNN',\n",
    "    'ax': 8.5,\n",
    "    'ay': 0.63\n",
    "}\n",
    "anno_transformer = {\n",
    "    'x': 11.5,\n",
    "    'y': 0.52,\n",
    "    'text': 'Transformer',\n",
    "    'ax': 11,\n",
    "    'ay': 0.68\n",
    "}\n",
    "anno_rnn = {\n",
    "    'x': 13.5,\n",
    "    'y': 0.38,\n",
    "    'text': 'RNN',\n",
    "    'ax': 13,\n",
    "    'ay': 0.23\n",
    "}\n",
    "anno_cnn_lstm = {\n",
    "    'x': 16.5,\n",
    "    'y': 0.49,\n",
    "    'text': 'CNN-LSTM',\n",
    "    'ax': 16,\n",
    "    'ay': 0.6\n",
    "}\n",
    "anno_cnn_cp = {\n",
    "    'x': 17.5,\n",
    "    'y': 0.15,\n",
    "    'text': 'CNN with<br />Critical Point',\n",
    "    'ax': 15,\n",
    "    'ay': 0.1\n",
    "}\n",
    "anno_event_extraction_line = {\n",
    "    'x': 7.4,\n",
    "    'y': 0.55,\n",
    "    'text': 'Improved<br />Eventextraction',\n",
    "    'ax': 5.2,\n",
    "    'ay': 0.6\n",
    "}\n",
    "anno_challenge_end_line = {\n",
    "    'x': 20.4,\n",
    "    'y': 0.6,\n",
    "    'text': 'Challenge<br />Deadline',\n",
    "    'ax': 18.5,\n",
    "    'ay': 0.65\n",
    "}\n",
    "\n",
    "\n",
    "for anno in [anno_baseline,\n",
    "             anno_decision_tree,\n",
    "             anno_mlp,\n",
    "             anno_cnn,\n",
    "             anno_transformer,\n",
    "             anno_rnn,\n",
    "             anno_cnn_lstm,\n",
    "             anno_cnn_cp,\n",
    "             anno_event_extraction_line,\n",
    "             anno_challenge_end_line]:\n",
    "\n",
    "    annotation = {\n",
    "        'x': anno['x'], # end of the arrow\n",
    "        'y': anno['y'],\n",
    "        'xref': 'x', \n",
    "        'yref': 'y', \n",
    "        'text':  anno['text'],\n",
    "        'font': {'size': 15, 'color': '#2C4545'}, \n",
    "        'arrowhead': 2, \n",
    "        'arrowsize': 1, \n",
    "        'arrowwidth': 2, \n",
    "        'arrowcolor': '#2C4545',\n",
    "        'ax': anno['ax'], # start of the arrow / text position  \n",
    "        'ay': anno['ay'], \n",
    "        'axref': 'x', \n",
    "        'ayref': 'y'\n",
    "    }\n",
    "    fig.add_annotation(annotation)\n",
    "\n",
    "\n",
    "\n",
    "\n",
    "# Special Annotations\n",
    "anno_mlp_2 = {\n",
    "    'x': 9.95, # end of the arrow\n",
    "    'y': 0.395,\n",
    "    'xref': 'x', \n",
    "    'yref': 'y', \n",
    "    'arrowhead': 2, \n",
    "    'arrowsize': 1, \n",
    "    'arrowwidth': 2, \n",
    "    'arrowcolor': '#2C4545',\n",
    "    'ax': 9, # start of the arrow / text position  \n",
    "    'ay': 0.14, \n",
    "    'axref': 'x', \n",
    "    'ayref': 'y'\n",
    "}\n",
    "fig.add_annotation(anno_mlp_2)\n",
    "\n",
    "fig.update_xaxes(showgrid=False, title='Submissions')\n",
    "fig.update_yaxes(showgrid=True, title='Competition Metric', gridcolor='lightgrey', zeroline=True, zerolinewidth=2, zerolinecolor='lightgrey')\n",
    "\n",
    "fig.add_vline(x=7.5, line_width=2, line_dash=\"dash\", line_color=\"black\")\n",
    "fig.add_vline(x=20.5, line_width=2, line_dash=\"dash\", line_color=\"black\")\n",
    "\n",
    "fig.show()"
   ]
  }
 ],
 "metadata": {
  "kernelspec": {
   "display_name": "aich",
   "language": "python",
   "name": "aich"
  },
  "language_info": {
   "codemirror_mode": {
    "name": "ipython",
    "version": 3
   },
   "file_extension": ".py",
   "mimetype": "text/x-python",
   "name": "python",
   "nbconvert_exporter": "python",
   "pygments_lexer": "ipython3",
   "version": "3.10.13"
  }
 },
 "nbformat": 4,
 "nbformat_minor": 5
}
