{
 "cells": [
  {
   "cell_type": "markdown",
   "metadata": {},
   "source": [
    "# Baseline"
   ]
  },
  {
   "cell_type": "code",
   "execution_count": 1,
   "metadata": {},
   "outputs": [],
   "source": [
    "import sys\n",
    "sys.path.append('../../')\n",
    "\n",
    "from baselines.FixTimeRegressor import FixTimeRegressor\n",
    "from baselines.TimeRangeRegressor import TimeRangeRegressor\n",
    "\n",
    "from scoring.event_detection_matrix import competition_score\n",
    "\n",
    "import pandas as pd\n",
    "import random"
   ]
  },
  {
   "cell_type": "markdown",
   "metadata": {},
   "source": [
    "## Daten laden"
   ]
  },
  {
   "cell_type": "code",
   "execution_count": 2,
   "metadata": {},
   "outputs": [],
   "source": [
    "validation_series = pd.read_parquet('../../data/processed/validation_series_split.parquet')\n",
    "validation_events = pd.read_csv('../../data/processed/validation_events_split.csv')"
   ]
  },
  {
   "cell_type": "markdown",
   "metadata": {},
   "source": [
    "## FixTimeRegressor"
   ]
  },
  {
   "cell_type": "code",
   "execution_count": 3,
   "metadata": {},
   "outputs": [],
   "source": [
    "fix_time_regressor = FixTimeRegressor('07:00:00', '22:00:00')"
   ]
  },
  {
   "cell_type": "code",
   "execution_count": 4,
   "metadata": {},
   "outputs": [
    {
     "name": "stderr",
     "output_type": "stream",
     "text": [
      "100%|███████████████████████████████████████████████████████████████████████████| 3033/3033 [00:00<00:00, 21552.25it/s]\n"
     ]
    }
   ],
   "source": [
    "fix_time_results = fix_time_regressor.predict(validation_series)"
   ]
  },
  {
   "cell_type": "code",
   "execution_count": 5,
   "metadata": {},
   "outputs": [
    {
     "data": {
      "text/html": [
       "<div>\n",
       "<style scoped>\n",
       "    .dataframe tbody tr th:only-of-type {\n",
       "        vertical-align: middle;\n",
       "    }\n",
       "\n",
       "    .dataframe tbody tr th {\n",
       "        vertical-align: top;\n",
       "    }\n",
       "\n",
       "    .dataframe thead th {\n",
       "        text-align: right;\n",
       "    }\n",
       "</style>\n",
       "<table border=\"1\" class=\"dataframe\">\n",
       "  <thead>\n",
       "    <tr style=\"text-align: right;\">\n",
       "      <th></th>\n",
       "      <th>row_id</th>\n",
       "      <th>series_id</th>\n",
       "      <th>step</th>\n",
       "      <th>event</th>\n",
       "      <th>score</th>\n",
       "      <th>timestamp</th>\n",
       "    </tr>\n",
       "  </thead>\n",
       "  <tbody>\n",
       "    <tr>\n",
       "      <th>0</th>\n",
       "      <td>0</td>\n",
       "      <td>062dbd4c95e6</td>\n",
       "      <td>7020</td>\n",
       "      <td>onset</td>\n",
       "      <td>0.5</td>\n",
       "      <td>2018-08-22T22:00:00-0400</td>\n",
       "    </tr>\n",
       "    <tr>\n",
       "      <th>1</th>\n",
       "      <td>1</td>\n",
       "      <td>062dbd4c95e6</td>\n",
       "      <td>13500</td>\n",
       "      <td>wakeup</td>\n",
       "      <td>0.5</td>\n",
       "      <td>2018-08-23T07:00:00-0400</td>\n",
       "    </tr>\n",
       "    <tr>\n",
       "      <th>2</th>\n",
       "      <td>2</td>\n",
       "      <td>062dbd4c95e6</td>\n",
       "      <td>24300</td>\n",
       "      <td>onset</td>\n",
       "      <td>0.5</td>\n",
       "      <td>2018-08-23T22:00:00-0400</td>\n",
       "    </tr>\n",
       "    <tr>\n",
       "      <th>3</th>\n",
       "      <td>3</td>\n",
       "      <td>062dbd4c95e6</td>\n",
       "      <td>30780</td>\n",
       "      <td>wakeup</td>\n",
       "      <td>0.5</td>\n",
       "      <td>2018-08-24T07:00:00-0400</td>\n",
       "    </tr>\n",
       "    <tr>\n",
       "      <th>4</th>\n",
       "      <td>4</td>\n",
       "      <td>062dbd4c95e6</td>\n",
       "      <td>41580</td>\n",
       "      <td>onset</td>\n",
       "      <td>0.5</td>\n",
       "      <td>2018-08-24T22:00:00-0400</td>\n",
       "    </tr>\n",
       "  </tbody>\n",
       "</table>\n",
       "</div>"
      ],
      "text/plain": [
       "   row_id     series_id   step   event  score                 timestamp\n",
       "0       0  062dbd4c95e6   7020   onset    0.5  2018-08-22T22:00:00-0400\n",
       "1       1  062dbd4c95e6  13500  wakeup    0.5  2018-08-23T07:00:00-0400\n",
       "2       2  062dbd4c95e6  24300   onset    0.5  2018-08-23T22:00:00-0400\n",
       "3       3  062dbd4c95e6  30780  wakeup    0.5  2018-08-24T07:00:00-0400\n",
       "4       4  062dbd4c95e6  41580   onset    0.5  2018-08-24T22:00:00-0400"
      ]
     },
     "execution_count": 5,
     "metadata": {},
     "output_type": "execute_result"
    }
   ],
   "source": [
    "fix_time_results.head()"
   ]
  },
  {
   "cell_type": "code",
   "execution_count": 6,
   "metadata": {},
   "outputs": [
    {
     "data": {
      "text/plain": [
       "0.014250182090803202"
      ]
     },
     "execution_count": 6,
     "metadata": {},
     "output_type": "execute_result"
    }
   ],
   "source": [
    "competition_score(validation_events, fix_time_results)"
   ]
  },
  {
   "cell_type": "markdown",
   "metadata": {},
   "source": [
    "## TimeRangeRegressor"
   ]
  },
  {
   "cell_type": "code",
   "execution_count": 7,
   "metadata": {},
   "outputs": [],
   "source": [
    "time_range_regressor = TimeRangeRegressor(['06:00:00', '08:00:00'], ['22:00:00', '23:59:59'])"
   ]
  },
  {
   "cell_type": "code",
   "execution_count": 8,
   "metadata": {},
   "outputs": [
    {
     "name": "stderr",
     "output_type": "stream",
     "text": [
      "100%|█████████████████████████████████████████████████████████████████████| 4187611/4187611 [02:31<00:00, 27665.03it/s]\n"
     ]
    }
   ],
   "source": [
    "time_range_results = time_range_regressor.predict(validation_series)"
   ]
  },
  {
   "cell_type": "code",
   "execution_count": 9,
   "metadata": {},
   "outputs": [
    {
     "data": {
      "text/html": [
       "<div>\n",
       "<style scoped>\n",
       "    .dataframe tbody tr th:only-of-type {\n",
       "        vertical-align: middle;\n",
       "    }\n",
       "\n",
       "    .dataframe tbody tr th {\n",
       "        vertical-align: top;\n",
       "    }\n",
       "\n",
       "    .dataframe thead th {\n",
       "        text-align: right;\n",
       "    }\n",
       "</style>\n",
       "<table border=\"1\" class=\"dataframe\">\n",
       "  <thead>\n",
       "    <tr style=\"text-align: right;\">\n",
       "      <th></th>\n",
       "      <th>row_id</th>\n",
       "      <th>series_id</th>\n",
       "      <th>step</th>\n",
       "      <th>event</th>\n",
       "      <th>score</th>\n",
       "      <th>timestamp</th>\n",
       "    </tr>\n",
       "  </thead>\n",
       "  <tbody>\n",
       "    <tr>\n",
       "      <th>0</th>\n",
       "      <td>0</td>\n",
       "      <td>062dbd4c95e6</td>\n",
       "      <td>13980</td>\n",
       "      <td>wakeup</td>\n",
       "      <td>0.5</td>\n",
       "      <td>2018-08-23T07:40:00-0400</td>\n",
       "    </tr>\n",
       "    <tr>\n",
       "      <th>1</th>\n",
       "      <td>1</td>\n",
       "      <td>062dbd4c95e6</td>\n",
       "      <td>30060</td>\n",
       "      <td>wakeup</td>\n",
       "      <td>0.5</td>\n",
       "      <td>2018-08-24T06:00:00-0400</td>\n",
       "    </tr>\n",
       "    <tr>\n",
       "      <th>2</th>\n",
       "      <td>2</td>\n",
       "      <td>062dbd4c95e6</td>\n",
       "      <td>48720</td>\n",
       "      <td>wakeup</td>\n",
       "      <td>0.5</td>\n",
       "      <td>2018-08-25T07:55:00-0400</td>\n",
       "    </tr>\n",
       "    <tr>\n",
       "      <th>3</th>\n",
       "      <td>3</td>\n",
       "      <td>062dbd4c95e6</td>\n",
       "      <td>65100</td>\n",
       "      <td>wakeup</td>\n",
       "      <td>0.5</td>\n",
       "      <td>2018-08-26T06:40:00-0400</td>\n",
       "    </tr>\n",
       "    <tr>\n",
       "      <th>4</th>\n",
       "      <td>4</td>\n",
       "      <td>062dbd4c95e6</td>\n",
       "      <td>82320</td>\n",
       "      <td>wakeup</td>\n",
       "      <td>0.5</td>\n",
       "      <td>2018-08-27T06:35:00-0400</td>\n",
       "    </tr>\n",
       "  </tbody>\n",
       "</table>\n",
       "</div>"
      ],
      "text/plain": [
       "   row_id     series_id   step   event  score                 timestamp\n",
       "0       0  062dbd4c95e6  13980  wakeup    0.5  2018-08-23T07:40:00-0400\n",
       "1       1  062dbd4c95e6  30060  wakeup    0.5  2018-08-24T06:00:00-0400\n",
       "2       2  062dbd4c95e6  48720  wakeup    0.5  2018-08-25T07:55:00-0400\n",
       "3       3  062dbd4c95e6  65100  wakeup    0.5  2018-08-26T06:40:00-0400\n",
       "4       4  062dbd4c95e6  82320  wakeup    0.5  2018-08-27T06:35:00-0400"
      ]
     },
     "execution_count": 9,
     "metadata": {},
     "output_type": "execute_result"
    }
   ],
   "source": [
    "time_range_results.head()"
   ]
  },
  {
   "cell_type": "code",
   "execution_count": 10,
   "metadata": {},
   "outputs": [
    {
     "data": {
      "text/plain": [
       "0.006886847542063687"
      ]
     },
     "execution_count": 10,
     "metadata": {},
     "output_type": "execute_result"
    }
   ],
   "source": [
    "competition_score(validation_events, time_range_results)"
   ]
  }
 ],
 "metadata": {
  "kernelspec": {
   "display_name": "Python 3 (ipykernel)",
   "language": "python",
   "name": "python3"
  },
  "language_info": {
   "codemirror_mode": {
    "name": "ipython",
    "version": 3
   },
   "file_extension": ".py",
   "mimetype": "text/x-python",
   "name": "python",
   "nbconvert_exporter": "python",
   "pygments_lexer": "ipython3",
   "version": "3.8.3"
  }
 },
 "nbformat": 4,
 "nbformat_minor": 2
}
