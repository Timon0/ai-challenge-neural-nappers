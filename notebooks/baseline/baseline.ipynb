{
 "cells": [
  {
   "cell_type": "code",
   "execution_count": 34,
   "metadata": {},
   "outputs": [],
   "source": [
    "import sys\n",
    "sys.path.append('../')\n",
    "\n",
    "from baselines.FixTimeRegressor import FixTimeRegressor\n",
    "from baselines.TimeRangeRegressor import TimeRangeRegressor\n",
    "\n",
    "import pandas as pd\n",
    "\n",
    "import random"
   ]
  },
  {
   "cell_type": "code",
   "execution_count": 35,
   "metadata": {},
   "outputs": [],
   "source": [
    "regressor = TimeRangeRegressor(['06:00:00', '08:00:00'], ['22:00:00', '23:59:59'])"
   ]
  },
  {
   "cell_type": "code",
   "execution_count": 36,
   "metadata": {},
   "outputs": [],
   "source": [
    "events = pd.read_csv('../data/raw/train_events.csv')\n",
    "series_id = events['series_id']\n",
    "participant_series_ids = []\n",
    "for i in range(0, 10):\n",
    "  participant_series_ids.append(random.choice(series_id))\n",
    "train_series = pd.DataFrame()\n",
    "for series in participant_series_ids:\n",
    "  train_series = pd.concat([train_series, pd.read_parquet(\"../data/raw/train_series.parquet\", filters=[('series_id','=',series)])], axis=0)\n",
    "\n",
    "train_series = train_series.sort_values(['series_id', 'timestamp'])"
   ]
  },
  {
   "cell_type": "code",
   "execution_count": 37,
   "metadata": {},
   "outputs": [
    {
     "name": "stderr",
     "output_type": "stream",
     "text": [
      "100%|██████████| 686897/686897 [00:38<00:00, 17762.87it/s]\n"
     ]
    }
   ],
   "source": [
    "results = regressor.predict(train_series)"
   ]
  },
  {
   "cell_type": "code",
   "execution_count": 38,
   "metadata": {},
   "outputs": [],
   "source": [
    "results = results.sort_values(['series_id', 'timestamp'])\n",
    "results.to_csv('../results/baseline_submission_1.csv', index=False)"
   ]
  },
  {
   "cell_type": "code",
   "execution_count": 45,
   "metadata": {},
   "outputs": [],
   "source": [
    "regressor = FixTimeRegressor('07:00:00', '22:00:00')"
   ]
  },
  {
   "cell_type": "code",
   "execution_count": 46,
   "metadata": {},
   "outputs": [
    {
     "name": "stderr",
     "output_type": "stream",
     "text": [
      "100%|██████████| 499/499 [00:00<00:00, 15943.91it/s]\n"
     ]
    }
   ],
   "source": [
    "results = regressor.predict(train_series)"
   ]
  },
  {
   "cell_type": "code",
   "execution_count": 47,
   "metadata": {},
   "outputs": [],
   "source": [
    "# results = results.sort_values(['series_id', 'timestamp'])\n",
    "results.to_csv('../results/baseline_submission.csv', sep=',', index=False)"
   ]
  },
  {
   "cell_type": "code",
   "execution_count": 42,
   "metadata": {},
   "outputs": [
    {
     "data": {
      "text/plain": [
       "row_id         int64\n",
       "series_id     object\n",
       "step           int64\n",
       "event         object\n",
       "score        float64\n",
       "timestamp     object\n",
       "dtype: object"
      ]
     },
     "execution_count": 42,
     "metadata": {},
     "output_type": "execute_result"
    }
   ],
   "source": [
    "results.dtypes\n"
   ]
  },
  {
   "cell_type": "code",
   "execution_count": 43,
   "metadata": {},
   "outputs": [],
   "source": [
    "df = pd.read_csv('../data/raw/sample_submission.csv')"
   ]
  },
  {
   "cell_type": "code",
   "execution_count": 44,
   "metadata": {},
   "outputs": [
    {
     "data": {
      "text/plain": [
       "row_id         int64\n",
       "series_id     object\n",
       "step           int64\n",
       "event         object\n",
       "score        float64\n",
       "dtype: object"
      ]
     },
     "execution_count": 44,
     "metadata": {},
     "output_type": "execute_result"
    }
   ],
   "source": [
    "df.dtypes"
   ]
  }
 ],
 "metadata": {
  "kernelspec": {
   "display_name": "aich",
   "language": "python",
   "name": "python3"
  },
  "language_info": {
   "codemirror_mode": {
    "name": "ipython",
    "version": 3
   },
   "file_extension": ".py",
   "mimetype": "text/x-python",
   "name": "python",
   "nbconvert_exporter": "python",
   "pygments_lexer": "ipython3",
   "version": "3.8.18"
  },
  "orig_nbformat": 4
 },
 "nbformat": 4,
 "nbformat_minor": 2
}
