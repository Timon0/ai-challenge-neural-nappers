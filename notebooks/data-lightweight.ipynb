version https://git-lfs.github.com/spec/v1
oid sha256:cdc9b764c62707716159c7cd61c29f087b8a6870e2f42432151912966938a54e
size 2744
