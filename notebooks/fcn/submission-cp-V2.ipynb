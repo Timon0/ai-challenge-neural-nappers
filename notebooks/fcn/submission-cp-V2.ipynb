{
 "cells": [
  {
   "cell_type": "code",
   "execution_count": 1,
   "id": "initial_id",
   "metadata": {
    "is_executing": true
   },
   "outputs": [],
   "source": [
    "import sys\n",
    "import os\n",
    "import gc\n",
    "sys.path.append('../../')\n",
    "\n",
    "from scoring.event_detection_matrix import competition_score\n",
    "from models.fcn.fcn import LightningModel\n",
    "\n",
    "import pandas as pd\n",
    "import numpy as np\n",
    "import torch\n",
    "from tqdm import tqdm\n",
    "from torch.utils.data import DataLoader, TensorDataset\n",
    "from sklearn.metrics import accuracy_score\n",
    "from scipy.signal import find_peaks\n",
    "\n",
    "import matplotlib.pyplot as plt\n",
    "import plotly.express as px\n",
    "import plotly.graph_objects as go"
   ]
  },
  {
   "cell_type": "code",
   "execution_count": 2,
   "id": "67e47dd0ef5c6902",
   "metadata": {},
   "outputs": [],
   "source": [
    "checkpoint_path = \"../../models/fcn/neural-nappers/ssvgx4kg/checkpoints/epoch=4-step=63530.ckpt\"\n",
    "model = LightningModel.load_from_checkpoint(checkpoint_path)"
   ]
  },
  {
   "cell_type": "code",
   "execution_count": 3,
   "id": "dd33b4d4d8955c9c",
   "metadata": {},
   "outputs": [],
   "source": [
    "validation_overview = pd.read_parquet('../../data/processed/transformer-downsample-4h-v2/validation/overview.parquet', columns=['num_series_id', 'step', 'onset_critical_event_point', 'wakeup_critical_event_point', 'series_index'])\n",
    "df_validation_events = pd.read_csv('../../data/processed/validation_events_split.csv')"
   ]
  },
  {
   "cell_type": "code",
   "execution_count": 4,
   "id": "a82a6bf4f6c99910",
   "metadata": {},
   "outputs": [
    {
     "data": {
      "text/html": [
       "<div>\n",
       "<style scoped>\n",
       "    .dataframe tbody tr th:only-of-type {\n",
       "        vertical-align: middle;\n",
       "    }\n",
       "\n",
       "    .dataframe tbody tr th {\n",
       "        vertical-align: top;\n",
       "    }\n",
       "\n",
       "    .dataframe thead th {\n",
       "        text-align: right;\n",
       "    }\n",
       "</style>\n",
       "<table border=\"1\" class=\"dataframe\">\n",
       "  <thead>\n",
       "    <tr style=\"text-align: right;\">\n",
       "      <th></th>\n",
       "      <th>series_id</th>\n",
       "      <th>night</th>\n",
       "      <th>event</th>\n",
       "      <th>step</th>\n",
       "      <th>timestamp</th>\n",
       "      <th>num_series_id</th>\n",
       "    </tr>\n",
       "  </thead>\n",
       "  <tbody>\n",
       "    <tr>\n",
       "      <th>0</th>\n",
       "      <td>062dbd4c95e6</td>\n",
       "      <td>1</td>\n",
       "      <td>onset</td>\n",
       "      <td>7872.0</td>\n",
       "      <td>2018-08-22T23:11:00-0400</td>\n",
       "      <td>7</td>\n",
       "    </tr>\n",
       "    <tr>\n",
       "      <th>1</th>\n",
       "      <td>062dbd4c95e6</td>\n",
       "      <td>1</td>\n",
       "      <td>wakeup</td>\n",
       "      <td>14484.0</td>\n",
       "      <td>2018-08-23T08:22:00-0400</td>\n",
       "      <td>7</td>\n",
       "    </tr>\n",
       "    <tr>\n",
       "      <th>6</th>\n",
       "      <td>062dbd4c95e6</td>\n",
       "      <td>4</td>\n",
       "      <td>onset</td>\n",
       "      <td>60720.0</td>\n",
       "      <td>2018-08-26T00:35:00-0400</td>\n",
       "      <td>7</td>\n",
       "    </tr>\n",
       "    <tr>\n",
       "      <th>7</th>\n",
       "      <td>062dbd4c95e6</td>\n",
       "      <td>4</td>\n",
       "      <td>wakeup</td>\n",
       "      <td>68400.0</td>\n",
       "      <td>2018-08-26T11:15:00-0400</td>\n",
       "      <td>7</td>\n",
       "    </tr>\n",
       "    <tr>\n",
       "      <th>8</th>\n",
       "      <td>062dbd4c95e6</td>\n",
       "      <td>5</td>\n",
       "      <td>onset</td>\n",
       "      <td>77304.0</td>\n",
       "      <td>2018-08-26T23:37:00-0400</td>\n",
       "      <td>7</td>\n",
       "    </tr>\n",
       "    <tr>\n",
       "      <th>...</th>\n",
       "      <td>...</td>\n",
       "      <td>...</td>\n",
       "      <td>...</td>\n",
       "      <td>...</td>\n",
       "      <td>...</td>\n",
       "      <td>...</td>\n",
       "    </tr>\n",
       "    <tr>\n",
       "      <th>2955</th>\n",
       "      <td>fcca183903b7</td>\n",
       "      <td>33</td>\n",
       "      <td>wakeup</td>\n",
       "      <td>565824.0</td>\n",
       "      <td>2019-04-28T06:52:00-0400</td>\n",
       "      <td>276</td>\n",
       "    </tr>\n",
       "    <tr>\n",
       "      <th>2956</th>\n",
       "      <td>fcca183903b7</td>\n",
       "      <td>34</td>\n",
       "      <td>onset</td>\n",
       "      <td>577344.0</td>\n",
       "      <td>2019-04-28T22:52:00-0400</td>\n",
       "      <td>276</td>\n",
       "    </tr>\n",
       "    <tr>\n",
       "      <th>2957</th>\n",
       "      <td>fcca183903b7</td>\n",
       "      <td>34</td>\n",
       "      <td>wakeup</td>\n",
       "      <td>584052.0</td>\n",
       "      <td>2019-04-29T08:11:00-0400</td>\n",
       "      <td>276</td>\n",
       "    </tr>\n",
       "    <tr>\n",
       "      <th>2958</th>\n",
       "      <td>fcca183903b7</td>\n",
       "      <td>35</td>\n",
       "      <td>onset</td>\n",
       "      <td>595344.0</td>\n",
       "      <td>2019-04-29T23:52:00-0400</td>\n",
       "      <td>276</td>\n",
       "    </tr>\n",
       "    <tr>\n",
       "      <th>2959</th>\n",
       "      <td>fcca183903b7</td>\n",
       "      <td>35</td>\n",
       "      <td>wakeup</td>\n",
       "      <td>602136.0</td>\n",
       "      <td>2019-04-30T09:18:00-0400</td>\n",
       "      <td>276</td>\n",
       "    </tr>\n",
       "  </tbody>\n",
       "</table>\n",
       "<p>1730 rows × 6 columns</p>\n",
       "</div>"
      ],
      "text/plain": [
       "         series_id  night   event      step                 timestamp  \\\n",
       "0     062dbd4c95e6      1   onset    7872.0  2018-08-22T23:11:00-0400   \n",
       "1     062dbd4c95e6      1  wakeup   14484.0  2018-08-23T08:22:00-0400   \n",
       "6     062dbd4c95e6      4   onset   60720.0  2018-08-26T00:35:00-0400   \n",
       "7     062dbd4c95e6      4  wakeup   68400.0  2018-08-26T11:15:00-0400   \n",
       "8     062dbd4c95e6      5   onset   77304.0  2018-08-26T23:37:00-0400   \n",
       "...            ...    ...     ...       ...                       ...   \n",
       "2955  fcca183903b7     33  wakeup  565824.0  2019-04-28T06:52:00-0400   \n",
       "2956  fcca183903b7     34   onset  577344.0  2019-04-28T22:52:00-0400   \n",
       "2957  fcca183903b7     34  wakeup  584052.0  2019-04-29T08:11:00-0400   \n",
       "2958  fcca183903b7     35   onset  595344.0  2019-04-29T23:52:00-0400   \n",
       "2959  fcca183903b7     35  wakeup  602136.0  2019-04-30T09:18:00-0400   \n",
       "\n",
       "      num_series_id  \n",
       "0                 7  \n",
       "1                 7  \n",
       "6                 7  \n",
       "7                 7  \n",
       "8                 7  \n",
       "...             ...  \n",
       "2955            276  \n",
       "2956            276  \n",
       "2957            276  \n",
       "2958            276  \n",
       "2959            276  \n",
       "\n",
       "[1730 rows x 6 columns]"
      ]
     },
     "execution_count": 4,
     "metadata": {},
     "output_type": "execute_result"
    }
   ],
   "source": [
    "df_validation_events = df_validation_events[df_validation_events.step.notnull()]\n",
    "df_validation_events"
   ]
  },
  {
   "cell_type": "code",
   "execution_count": 5,
   "id": "5080627a022297e5",
   "metadata": {},
   "outputs": [],
   "source": [
    "def predict(batch):\n",
    "    X = batch\n",
    "    with torch.no_grad():\n",
    "        logits = model(X[0])\n",
    "    confidence = torch.sigmoid(logits)\n",
    "    confidence_onset = confidence[:, 0]\n",
    "    confidence_wakeup = confidence[:, 1]\n",
    "\n",
    "    return confidence_onset, confidence_wakeup"
   ]
  },
  {
   "cell_type": "code",
   "execution_count": 6,
   "id": "a412a64cef819b26",
   "metadata": {},
   "outputs": [],
   "source": [
    "def predict_series(validation_dataloader):\n",
    "    model.eval()\n",
    "    confidence_onset_list = []\n",
    "    confidence_wakeup_list = []\n",
    "    \n",
    "    for index, batch in enumerate(tqdm(validation_dataloader)):\n",
    "        confidence_onset, confidence_wakeup = predict(batch)\n",
    "        confidence_onset_list.extend(confidence_onset)\n",
    "        confidence_wakeup_list.extend(confidence_wakeup)\n",
    "\n",
    "    return confidence_onset_list, confidence_wakeup_list"
   ]
  },
  {
   "cell_type": "code",
   "execution_count": 7,
   "id": "bde9b66638a36ee",
   "metadata": {
    "scrolled": true
   },
   "outputs": [
    {
     "name": "stdout",
     "output_type": "stream",
     "text": [
      "Series 1 of 54\n"
     ]
    },
    {
     "name": "stderr",
     "output_type": "stream",
     "text": [
      "100%|██████████| 5/5 [00:01<00:00,  3.71it/s]\n"
     ]
    },
    {
     "name": "stdout",
     "output_type": "stream",
     "text": [
      "Series 2 of 54\n"
     ]
    },
    {
     "name": "stderr",
     "output_type": "stream",
     "text": [
      "100%|██████████| 2/2 [00:00<00:00,  8.16it/s]\n"
     ]
    },
    {
     "name": "stdout",
     "output_type": "stream",
     "text": [
      "Series 3 of 54\n"
     ]
    },
    {
     "name": "stderr",
     "output_type": "stream",
     "text": [
      "100%|██████████| 4/4 [00:02<00:00,  1.79it/s]\n"
     ]
    },
    {
     "name": "stdout",
     "output_type": "stream",
     "text": [
      "Series 4 of 54\n"
     ]
    },
    {
     "name": "stderr",
     "output_type": "stream",
     "text": [
      "100%|██████████| 4/4 [00:00<00:00, 11.40it/s]\n"
     ]
    },
    {
     "name": "stdout",
     "output_type": "stream",
     "text": [
      "Series 5 of 54\n"
     ]
    },
    {
     "name": "stderr",
     "output_type": "stream",
     "text": [
      "100%|██████████| 1/1 [00:00<00:00, 22.61it/s]\n"
     ]
    },
    {
     "name": "stdout",
     "output_type": "stream",
     "text": [
      "Series 6 of 54\n"
     ]
    },
    {
     "name": "stderr",
     "output_type": "stream",
     "text": [
      "100%|██████████| 4/4 [00:00<00:00,  8.13it/s]\n"
     ]
    },
    {
     "name": "stdout",
     "output_type": "stream",
     "text": [
      "Series 7 of 54\n"
     ]
    },
    {
     "name": "stderr",
     "output_type": "stream",
     "text": [
      "100%|██████████| 3/3 [00:00<00:00,  9.85it/s]\n"
     ]
    },
    {
     "name": "stdout",
     "output_type": "stream",
     "text": [
      "Series 8 of 54\n"
     ]
    },
    {
     "name": "stderr",
     "output_type": "stream",
     "text": [
      "100%|██████████| 4/4 [00:00<00:00, 11.66it/s]\n"
     ]
    },
    {
     "name": "stdout",
     "output_type": "stream",
     "text": [
      "Series 9 of 54\n"
     ]
    },
    {
     "name": "stderr",
     "output_type": "stream",
     "text": [
      "100%|██████████| 4/4 [00:00<00:00, 12.14it/s]\n"
     ]
    },
    {
     "name": "stdout",
     "output_type": "stream",
     "text": [
      "Series 10 of 54\n"
     ]
    },
    {
     "name": "stderr",
     "output_type": "stream",
     "text": [
      "100%|██████████| 4/4 [00:00<00:00, 10.75it/s]\n"
     ]
    },
    {
     "name": "stdout",
     "output_type": "stream",
     "text": [
      "Series 11 of 54\n"
     ]
    },
    {
     "name": "stderr",
     "output_type": "stream",
     "text": [
      "100%|██████████| 3/3 [00:01<00:00,  1.79it/s]\n"
     ]
    },
    {
     "name": "stdout",
     "output_type": "stream",
     "text": [
      "Series 12 of 54\n"
     ]
    },
    {
     "name": "stderr",
     "output_type": "stream",
     "text": [
      "100%|██████████| 4/4 [00:00<00:00,  8.66it/s]\n"
     ]
    },
    {
     "name": "stdout",
     "output_type": "stream",
     "text": [
      "Series 13 of 54\n"
     ]
    },
    {
     "name": "stderr",
     "output_type": "stream",
     "text": [
      "100%|██████████| 4/4 [00:02<00:00,  1.72it/s]\n"
     ]
    },
    {
     "name": "stdout",
     "output_type": "stream",
     "text": [
      "Series 14 of 54\n"
     ]
    },
    {
     "name": "stderr",
     "output_type": "stream",
     "text": [
      "100%|██████████| 3/3 [00:00<00:00, 26.97it/s]\n"
     ]
    },
    {
     "name": "stdout",
     "output_type": "stream",
     "text": [
      "Series 15 of 54\n"
     ]
    },
    {
     "name": "stderr",
     "output_type": "stream",
     "text": [
      "100%|██████████| 5/5 [00:00<00:00,  9.41it/s]\n"
     ]
    },
    {
     "name": "stdout",
     "output_type": "stream",
     "text": [
      "Series 16 of 54\n"
     ]
    },
    {
     "name": "stderr",
     "output_type": "stream",
     "text": [
      "100%|██████████| 4/4 [00:00<00:00, 11.73it/s]\n"
     ]
    },
    {
     "name": "stdout",
     "output_type": "stream",
     "text": [
      "Series 17 of 54\n"
     ]
    },
    {
     "name": "stderr",
     "output_type": "stream",
     "text": [
      "100%|██████████| 2/2 [00:00<00:00,  7.85it/s]\n"
     ]
    },
    {
     "name": "stdout",
     "output_type": "stream",
     "text": [
      "Series 18 of 54\n"
     ]
    },
    {
     "name": "stderr",
     "output_type": "stream",
     "text": [
      "100%|██████████| 1/1 [00:00<00:00, 66.39it/s]\n"
     ]
    },
    {
     "name": "stdout",
     "output_type": "stream",
     "text": [
      "Series 19 of 54\n"
     ]
    },
    {
     "name": "stderr",
     "output_type": "stream",
     "text": [
      "100%|██████████| 4/4 [00:00<00:00, 13.14it/s]\n"
     ]
    },
    {
     "name": "stdout",
     "output_type": "stream",
     "text": [
      "Series 20 of 54\n"
     ]
    },
    {
     "name": "stderr",
     "output_type": "stream",
     "text": [
      "100%|██████████| 4/4 [00:00<00:00, 11.94it/s]\n"
     ]
    },
    {
     "name": "stdout",
     "output_type": "stream",
     "text": [
      "Series 21 of 54\n"
     ]
    },
    {
     "name": "stderr",
     "output_type": "stream",
     "text": [
      "100%|██████████| 5/5 [00:00<00:00,  8.96it/s]\n"
     ]
    },
    {
     "name": "stdout",
     "output_type": "stream",
     "text": [
      "Series 22 of 54\n"
     ]
    },
    {
     "name": "stderr",
     "output_type": "stream",
     "text": [
      "100%|██████████| 1/1 [00:00<00:00, 30.37it/s]\n"
     ]
    },
    {
     "name": "stdout",
     "output_type": "stream",
     "text": [
      "Series 23 of 54\n"
     ]
    },
    {
     "name": "stderr",
     "output_type": "stream",
     "text": [
      "100%|██████████| 5/5 [00:00<00:00, 13.02it/s]\n"
     ]
    },
    {
     "name": "stdout",
     "output_type": "stream",
     "text": [
      "Series 24 of 54\n"
     ]
    },
    {
     "name": "stderr",
     "output_type": "stream",
     "text": [
      "100%|██████████| 1/1 [00:00<00:00,  3.97it/s]\n"
     ]
    },
    {
     "name": "stdout",
     "output_type": "stream",
     "text": [
      "Series 25 of 54\n"
     ]
    },
    {
     "name": "stderr",
     "output_type": "stream",
     "text": [
      "100%|██████████| 4/4 [00:00<00:00, 12.24it/s]\n"
     ]
    },
    {
     "name": "stdout",
     "output_type": "stream",
     "text": [
      "Series 26 of 54\n"
     ]
    },
    {
     "name": "stderr",
     "output_type": "stream",
     "text": [
      "100%|██████████| 4/4 [00:00<00:00, 12.00it/s]\n"
     ]
    },
    {
     "name": "stdout",
     "output_type": "stream",
     "text": [
      "Series 27 of 54\n"
     ]
    },
    {
     "name": "stderr",
     "output_type": "stream",
     "text": [
      "100%|██████████| 3/3 [00:00<00:00, 10.46it/s]\n"
     ]
    },
    {
     "name": "stdout",
     "output_type": "stream",
     "text": [
      "Series 28 of 54\n"
     ]
    },
    {
     "name": "stderr",
     "output_type": "stream",
     "text": [
      "100%|██████████| 4/4 [00:00<00:00, 11.86it/s]\n"
     ]
    },
    {
     "name": "stdout",
     "output_type": "stream",
     "text": [
      "Series 29 of 54\n"
     ]
    },
    {
     "name": "stderr",
     "output_type": "stream",
     "text": [
      "100%|██████████| 5/5 [00:00<00:00,  8.79it/s]\n"
     ]
    },
    {
     "name": "stdout",
     "output_type": "stream",
     "text": [
      "Series 30 of 54\n"
     ]
    },
    {
     "name": "stderr",
     "output_type": "stream",
     "text": [
      "100%|██████████| 2/2 [00:00<00:00, 20.83it/s]\n"
     ]
    },
    {
     "name": "stdout",
     "output_type": "stream",
     "text": [
      "Series 31 of 54\n"
     ]
    },
    {
     "name": "stderr",
     "output_type": "stream",
     "text": [
      "100%|██████████| 4/4 [00:00<00:00,  7.67it/s]\n"
     ]
    },
    {
     "name": "stdout",
     "output_type": "stream",
     "text": [
      "Series 32 of 54\n"
     ]
    },
    {
     "name": "stderr",
     "output_type": "stream",
     "text": [
      "100%|██████████| 5/5 [00:00<00:00, 12.03it/s]\n"
     ]
    },
    {
     "name": "stdout",
     "output_type": "stream",
     "text": [
      "Series 33 of 54\n"
     ]
    },
    {
     "name": "stderr",
     "output_type": "stream",
     "text": [
      "100%|██████████| 2/2 [00:00<00:00,  7.52it/s]\n"
     ]
    },
    {
     "name": "stdout",
     "output_type": "stream",
     "text": [
      "Series 34 of 54\n"
     ]
    },
    {
     "name": "stderr",
     "output_type": "stream",
     "text": [
      "100%|██████████| 1/1 [00:00<00:00, 24.81it/s]\n"
     ]
    },
    {
     "name": "stdout",
     "output_type": "stream",
     "text": [
      "Series 35 of 54\n"
     ]
    },
    {
     "name": "stderr",
     "output_type": "stream",
     "text": [
      "100%|██████████| 4/4 [00:00<00:00, 11.38it/s]\n"
     ]
    },
    {
     "name": "stdout",
     "output_type": "stream",
     "text": [
      "Series 36 of 54\n"
     ]
    },
    {
     "name": "stderr",
     "output_type": "stream",
     "text": [
      "100%|██████████| 1/1 [00:00<00:00,  4.51it/s]\n"
     ]
    },
    {
     "name": "stdout",
     "output_type": "stream",
     "text": [
      "Series 37 of 54\n"
     ]
    },
    {
     "name": "stderr",
     "output_type": "stream",
     "text": [
      "100%|██████████| 3/3 [00:00<00:00,  9.56it/s]\n"
     ]
    },
    {
     "name": "stdout",
     "output_type": "stream",
     "text": [
      "Series 38 of 54\n"
     ]
    },
    {
     "name": "stderr",
     "output_type": "stream",
     "text": [
      "100%|██████████| 4/4 [00:00<00:00, 11.71it/s]\n"
     ]
    },
    {
     "name": "stdout",
     "output_type": "stream",
     "text": [
      "Series 39 of 54\n"
     ]
    },
    {
     "name": "stderr",
     "output_type": "stream",
     "text": [
      "100%|██████████| 4/4 [00:00<00:00, 11.50it/s]\n"
     ]
    },
    {
     "name": "stdout",
     "output_type": "stream",
     "text": [
      "Series 40 of 54\n"
     ]
    },
    {
     "name": "stderr",
     "output_type": "stream",
     "text": [
      "100%|██████████| 1/1 [00:00<00:00, 28.10it/s]\n"
     ]
    },
    {
     "name": "stdout",
     "output_type": "stream",
     "text": [
      "Series 41 of 54\n"
     ]
    },
    {
     "name": "stderr",
     "output_type": "stream",
     "text": [
      "100%|██████████| 5/5 [00:00<00:00,  8.61it/s]\n"
     ]
    },
    {
     "name": "stdout",
     "output_type": "stream",
     "text": [
      "Series 42 of 54\n"
     ]
    },
    {
     "name": "stderr",
     "output_type": "stream",
     "text": [
      "100%|██████████| 3/3 [00:00<00:00,  8.82it/s]\n"
     ]
    },
    {
     "name": "stdout",
     "output_type": "stream",
     "text": [
      "Series 43 of 54\n"
     ]
    },
    {
     "name": "stderr",
     "output_type": "stream",
     "text": [
      "100%|██████████| 3/3 [00:00<00:00,  9.35it/s]\n"
     ]
    },
    {
     "name": "stdout",
     "output_type": "stream",
     "text": [
      "Series 44 of 54\n"
     ]
    },
    {
     "name": "stderr",
     "output_type": "stream",
     "text": [
      "100%|██████████| 1/1 [00:00<00:00, 36.23it/s]\n"
     ]
    },
    {
     "name": "stdout",
     "output_type": "stream",
     "text": [
      "Series 45 of 54\n"
     ]
    },
    {
     "name": "stderr",
     "output_type": "stream",
     "text": [
      "100%|██████████| 3/3 [00:00<00:00,  9.29it/s]\n"
     ]
    },
    {
     "name": "stdout",
     "output_type": "stream",
     "text": [
      "Series 46 of 54\n"
     ]
    },
    {
     "name": "stderr",
     "output_type": "stream",
     "text": [
      "100%|██████████| 4/4 [00:00<00:00, 11.58it/s]\n"
     ]
    },
    {
     "name": "stdout",
     "output_type": "stream",
     "text": [
      "Series 47 of 54\n"
     ]
    },
    {
     "name": "stderr",
     "output_type": "stream",
     "text": [
      "100%|██████████| 3/3 [00:00<00:00,  9.70it/s]\n"
     ]
    },
    {
     "name": "stdout",
     "output_type": "stream",
     "text": [
      "Series 48 of 54\n"
     ]
    },
    {
     "name": "stderr",
     "output_type": "stream",
     "text": [
      "100%|██████████| 2/2 [00:00<00:00, 18.91it/s]\n"
     ]
    },
    {
     "name": "stdout",
     "output_type": "stream",
     "text": [
      "Series 49 of 54\n"
     ]
    },
    {
     "name": "stderr",
     "output_type": "stream",
     "text": [
      "100%|██████████| 1/1 [00:00<00:00,  4.35it/s]\n"
     ]
    },
    {
     "name": "stdout",
     "output_type": "stream",
     "text": [
      "Series 50 of 54\n"
     ]
    },
    {
     "name": "stderr",
     "output_type": "stream",
     "text": [
      "100%|██████████| 6/6 [00:00<00:00,  9.74it/s]\n"
     ]
    },
    {
     "name": "stdout",
     "output_type": "stream",
     "text": [
      "Series 51 of 54\n"
     ]
    },
    {
     "name": "stderr",
     "output_type": "stream",
     "text": [
      "100%|██████████| 3/3 [00:00<00:00,  9.71it/s]\n"
     ]
    },
    {
     "name": "stdout",
     "output_type": "stream",
     "text": [
      "Series 52 of 54\n"
     ]
    },
    {
     "name": "stderr",
     "output_type": "stream",
     "text": [
      "100%|██████████| 4/4 [00:00<00:00, 11.40it/s]\n"
     ]
    },
    {
     "name": "stdout",
     "output_type": "stream",
     "text": [
      "Series 53 of 54\n"
     ]
    },
    {
     "name": "stderr",
     "output_type": "stream",
     "text": [
      "100%|██████████| 2/2 [00:00<00:00, 26.33it/s]\n"
     ]
    },
    {
     "name": "stdout",
     "output_type": "stream",
     "text": [
      "Series 54 of 54\n"
     ]
    },
    {
     "name": "stderr",
     "output_type": "stream",
     "text": [
      "100%|██████████| 6/6 [00:00<00:00,  9.41it/s]\n"
     ]
    }
   ],
   "source": [
    "steps = []\n",
    "num_series_ids = []\n",
    "true_onset_values = []\n",
    "true_wakeup_values = []\n",
    "confidence_onset_list = []\n",
    "confidence_wakeup_list = []\n",
    "\n",
    "device = torch.device(\"cuda:0\" if torch.cuda.is_available() else \"cpu\")\n",
    "\n",
    "for i, num_series_id in enumerate(validation_overview.num_series_id.unique()):\n",
    "    print(f'Series {i + 1} of {validation_overview.num_series_id.nunique()}')\n",
    "    series_X = torch.load('../../data/processed/transformer-downsample-4h-v2/validation/' + str(num_series_id) + '.pt')\n",
    "    validation_dataset = TensorDataset(torch.transpose(series_X, 1, 2).to(device))\n",
    "    validation_dataloader = DataLoader(validation_dataset, batch_size=10000)\n",
    "    series_confidence_onset, series_confidence_wakeup = predict_series(validation_dataloader)\n",
    "\n",
    "    steps.extend(validation_overview[validation_overview.num_series_id == num_series_id]['step'])\n",
    "    num_series_ids.extend(validation_overview[validation_overview.num_series_id == num_series_id]['num_series_id'])\n",
    "    true_onset_values.extend(validation_overview[validation_overview.num_series_id == num_series_id]['onset_critical_event_point'])\n",
    "    true_wakeup_values.extend(validation_overview[validation_overview.num_series_id == num_series_id]['wakeup_critical_event_point'])\n",
    "    confidence_onset_list.extend([tensor.item() for tensor in series_confidence_onset])\n",
    "    confidence_wakeup_list.extend([tensor.item() for tensor in series_confidence_wakeup])"
   ]
  },
  {
   "cell_type": "code",
   "execution_count": 8,
   "id": "811f127f",
   "metadata": {},
   "outputs": [],
   "source": [
    "df_validation = pd.DataFrame(\n",
    "    {'step': steps,\n",
    "     'num_series_id': num_series_ids,\n",
    "     'onset_critical_event_point': true_onset_values,\n",
    "     'wakeup_critical_event_point': true_wakeup_values,\n",
    "     'prediction_confidence_onset': confidence_onset_list,\n",
    "     'prediction_confidence_wakeup': confidence_wakeup_list,\n",
    "    })"
   ]
  },
  {
   "cell_type": "code",
   "execution_count": 9,
   "id": "ca44a483",
   "metadata": {},
   "outputs": [],
   "source": [
    "smoothing_length = 30 * 12 # 30min\n",
    "day_step_len = 12 * 60 * 24 # 24h\n",
    "\n",
    "def get_events_day(series_id, X, prominence):\n",
    "    start_step = X.iloc[0].name\n",
    "    peaks_onset = find_peaks(X.prediction_confidence_onset.values, prominence=prominence)\n",
    "    peaks_wakeup = find_peaks(X.prediction_confidence_wakeup.values, prominence=prominence)\n",
    "\n",
    "    events = []\n",
    "    for i in range(len(peaks_onset[0])):\n",
    "        events.append({'series_id': series_id, 'step': start_step + peaks_onset[0][i], 'event': 'onset', 'score': peaks_onset[1]['prominences'][i]})\n",
    "\n",
    "    for i in range(len(peaks_wakeup[0])):\n",
    "        events.append({'series_id': series_id, 'step': start_step + peaks_wakeup[0][i], 'event': 'wakeup', 'score': peaks_wakeup[1]['prominences'][i]})\n",
    "    \n",
    "    return events\n",
    "\n",
    "def get_events_smoothed(test_series, prominence) :\n",
    "    series_ids = test_series['num_series_id'].unique()\n",
    "    events = []\n",
    "\n",
    "    for idx in tqdm(series_ids):\n",
    "        X = test_series[test_series.num_series_id == idx]\n",
    "        X = X.set_index('step')\n",
    "        X = X.reindex(range(X.index.min(), X.index.max() + 1))\n",
    "        X = X.ffill()\n",
    "        seq_len = len(X)\n",
    "\n",
    "        for j in range(0, seq_len, day_step_len):\n",
    "            events.extend(get_events_day(idx, X[j:j+day_step_len], prominence))\n",
    "\n",
    "            \n",
    "    return pd.DataFrame(events).reset_index().rename(columns={'index': 'row_id'})"
   ]
  },
  {
   "cell_type": "code",
   "execution_count": 10,
   "id": "4587aded-d02b-4df8-bb2d-e840c00715ca",
   "metadata": {},
   "outputs": [],
   "source": [
    "df_validation_events['series_id'] = df_validation_events['num_series_id']"
   ]
  },
  {
   "cell_type": "code",
   "execution_count": 11,
   "id": "3bf646e9-83c1-4ebf-8c17-47c0f3c3d9a7",
   "metadata": {},
   "outputs": [
    {
     "name": "stderr",
     "output_type": "stream",
     "text": [
      "100%|██████████| 54/54 [00:01<00:00, 34.94it/s]\n"
     ]
    },
    {
     "name": "stdout",
     "output_type": "stream",
     "text": [
      "Prominence: 0.1, Score: 0.5023974104925462\n"
     ]
    },
    {
     "name": "stderr",
     "output_type": "stream",
     "text": [
      "100%|██████████| 54/54 [00:01<00:00, 35.11it/s]\n"
     ]
    },
    {
     "name": "stdout",
     "output_type": "stream",
     "text": [
      "Prominence: 0.2, Score: 0.49448979098038276\n"
     ]
    },
    {
     "name": "stderr",
     "output_type": "stream",
     "text": [
      "100%|██████████| 54/54 [00:01<00:00, 35.07it/s]\n"
     ]
    },
    {
     "name": "stdout",
     "output_type": "stream",
     "text": [
      "Prominence: 0.3, Score: 0.4867677629798064\n"
     ]
    },
    {
     "name": "stderr",
     "output_type": "stream",
     "text": [
      "100%|██████████| 54/54 [00:01<00:00, 35.00it/s]\n"
     ]
    },
    {
     "name": "stdout",
     "output_type": "stream",
     "text": [
      "Prominence: 0.4, Score: 0.4746867839979203\n"
     ]
    },
    {
     "name": "stderr",
     "output_type": "stream",
     "text": [
      "100%|██████████| 54/54 [00:01<00:00, 35.13it/s]\n"
     ]
    },
    {
     "name": "stdout",
     "output_type": "stream",
     "text": [
      "Prominence: 0.5, Score: 0.45506674108722933\n"
     ]
    },
    {
     "name": "stderr",
     "output_type": "stream",
     "text": [
      "100%|██████████| 54/54 [00:01<00:00, 35.12it/s]\n"
     ]
    },
    {
     "name": "stdout",
     "output_type": "stream",
     "text": [
      "Prominence: 0.6, Score: 0.4135855687825979\n"
     ]
    },
    {
     "name": "stderr",
     "output_type": "stream",
     "text": [
      "100%|██████████| 54/54 [00:01<00:00, 34.92it/s]\n"
     ]
    },
    {
     "name": "stdout",
     "output_type": "stream",
     "text": [
      "Prominence: 0.7, Score: 0.3304009096902748\n"
     ]
    },
    {
     "name": "stderr",
     "output_type": "stream",
     "text": [
      "100%|██████████| 54/54 [00:01<00:00, 35.32it/s]\n"
     ]
    },
    {
     "name": "stdout",
     "output_type": "stream",
     "text": [
      "Prominence: 0.8, Score: 0.12901445419401952\n"
     ]
    }
   ],
   "source": [
    "for i in range(1, 9):\n",
    "    prominence = i / 10\n",
    "    predicted_validation_events = get_events_smoothed(df_validation, prominence)\n",
    "    score = competition_score(df_validation_events, predicted_validation_events)\n",
    "    print(f'Prominence: {prominence}, Score: {score}') "
   ]
  },
  {
   "cell_type": "code",
   "execution_count": 12,
   "id": "d37e5e26",
   "metadata": {
    "scrolled": true
   },
   "outputs": [
    {
     "name": "stderr",
     "output_type": "stream",
     "text": [
      "100%|██████████| 54/54 [00:01<00:00, 35.10it/s]\n"
     ]
    }
   ],
   "source": [
    "predicted_validation_events = get_events_smoothed(df_validation, 0.1)"
   ]
  },
  {
   "cell_type": "code",
   "execution_count": 13,
   "id": "a5f7c675-3fb1-46af-8a03-4980d11ece73",
   "metadata": {},
   "outputs": [
    {
     "data": {
      "text/html": [
       "<div>\n",
       "<style scoped>\n",
       "    .dataframe tbody tr th:only-of-type {\n",
       "        vertical-align: middle;\n",
       "    }\n",
       "\n",
       "    .dataframe tbody tr th {\n",
       "        vertical-align: top;\n",
       "    }\n",
       "\n",
       "    .dataframe thead th {\n",
       "        text-align: right;\n",
       "    }\n",
       "</style>\n",
       "<table border=\"1\" class=\"dataframe\">\n",
       "  <thead>\n",
       "    <tr style=\"text-align: right;\">\n",
       "      <th></th>\n",
       "      <th>row_id</th>\n",
       "      <th>series_id</th>\n",
       "      <th>step</th>\n",
       "      <th>event</th>\n",
       "      <th>score</th>\n",
       "    </tr>\n",
       "  </thead>\n",
       "  <tbody>\n",
       "    <tr>\n",
       "      <th>0</th>\n",
       "      <td>0</td>\n",
       "      <td>7</td>\n",
       "      <td>7877</td>\n",
       "      <td>onset</td>\n",
       "      <td>0.791293</td>\n",
       "    </tr>\n",
       "    <tr>\n",
       "      <th>1</th>\n",
       "      <td>1</td>\n",
       "      <td>7</td>\n",
       "      <td>14597</td>\n",
       "      <td>wakeup</td>\n",
       "      <td>0.752681</td>\n",
       "    </tr>\n",
       "    <tr>\n",
       "      <th>2</th>\n",
       "      <td>2</td>\n",
       "      <td>7</td>\n",
       "      <td>24749</td>\n",
       "      <td>onset</td>\n",
       "      <td>0.473838</td>\n",
       "    </tr>\n",
       "    <tr>\n",
       "      <th>3</th>\n",
       "      <td>3</td>\n",
       "      <td>7</td>\n",
       "      <td>36894</td>\n",
       "      <td>onset</td>\n",
       "      <td>0.589692</td>\n",
       "    </tr>\n",
       "    <tr>\n",
       "      <th>4</th>\n",
       "      <td>4</td>\n",
       "      <td>7</td>\n",
       "      <td>60583</td>\n",
       "      <td>onset</td>\n",
       "      <td>0.506161</td>\n",
       "    </tr>\n",
       "    <tr>\n",
       "      <th>...</th>\n",
       "      <td>...</td>\n",
       "      <td>...</td>\n",
       "      <td>...</td>\n",
       "      <td>...</td>\n",
       "      <td>...</td>\n",
       "    </tr>\n",
       "    <tr>\n",
       "      <th>3139</th>\n",
       "      <td>3139</td>\n",
       "      <td>276</td>\n",
       "      <td>595397</td>\n",
       "      <td>onset</td>\n",
       "      <td>0.724513</td>\n",
       "    </tr>\n",
       "    <tr>\n",
       "      <th>3140</th>\n",
       "      <td>3140</td>\n",
       "      <td>276</td>\n",
       "      <td>596285</td>\n",
       "      <td>onset</td>\n",
       "      <td>0.256537</td>\n",
       "    </tr>\n",
       "    <tr>\n",
       "      <th>3141</th>\n",
       "      <td>3141</td>\n",
       "      <td>276</td>\n",
       "      <td>604505</td>\n",
       "      <td>onset</td>\n",
       "      <td>0.443325</td>\n",
       "    </tr>\n",
       "    <tr>\n",
       "      <th>3142</th>\n",
       "      <td>3142</td>\n",
       "      <td>276</td>\n",
       "      <td>602165</td>\n",
       "      <td>wakeup</td>\n",
       "      <td>0.717527</td>\n",
       "    </tr>\n",
       "    <tr>\n",
       "      <th>3143</th>\n",
       "      <td>3143</td>\n",
       "      <td>276</td>\n",
       "      <td>619434</td>\n",
       "      <td>onset</td>\n",
       "      <td>0.221184</td>\n",
       "    </tr>\n",
       "  </tbody>\n",
       "</table>\n",
       "<p>3144 rows × 5 columns</p>\n",
       "</div>"
      ],
      "text/plain": [
       "      row_id  series_id    step   event     score\n",
       "0          0          7    7877   onset  0.791293\n",
       "1          1          7   14597  wakeup  0.752681\n",
       "2          2          7   24749   onset  0.473838\n",
       "3          3          7   36894   onset  0.589692\n",
       "4          4          7   60583   onset  0.506161\n",
       "...      ...        ...     ...     ...       ...\n",
       "3139    3139        276  595397   onset  0.724513\n",
       "3140    3140        276  596285   onset  0.256537\n",
       "3141    3141        276  604505   onset  0.443325\n",
       "3142    3142        276  602165  wakeup  0.717527\n",
       "3143    3143        276  619434   onset  0.221184\n",
       "\n",
       "[3144 rows x 5 columns]"
      ]
     },
     "execution_count": 13,
     "metadata": {},
     "output_type": "execute_result"
    }
   ],
   "source": [
    "predicted_validation_events"
   ]
  },
  {
   "cell_type": "markdown",
   "id": "13292290",
   "metadata": {},
   "source": [
    "## Evaluation"
   ]
  },
  {
   "cell_type": "code",
   "execution_count": 14,
   "id": "cdd16f7d",
   "metadata": {},
   "outputs": [
    {
     "data": {
      "text/plain": [
       "0.5023974104925462"
      ]
     },
     "execution_count": 14,
     "metadata": {},
     "output_type": "execute_result"
    }
   ],
   "source": [
    "competition_score(df_validation_events, predicted_validation_events)"
   ]
  },
  {
   "cell_type": "code",
   "execution_count": 15,
   "id": "eea8b980",
   "metadata": {},
   "outputs": [],
   "source": [
    "df_validation.to_parquet('./test/predicted_series_cp_4h_v2.parquet')"
   ]
  }
 ],
 "metadata": {
  "kernelspec": {
   "display_name": "Python 3 (ipykernel)",
   "language": "python",
   "name": "python3"
  },
  "language_info": {
   "codemirror_mode": {
    "name": "ipython",
    "version": 3
   },
   "file_extension": ".py",
   "mimetype": "text/x-python",
   "name": "python",
   "nbconvert_exporter": "python",
   "pygments_lexer": "ipython3",
   "version": "3.11.5"
  }
 },
 "nbformat": 4,
 "nbformat_minor": 5
}
