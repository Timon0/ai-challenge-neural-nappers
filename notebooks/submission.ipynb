{
 "cells": [
  {
   "cell_type": "code",
   "execution_count": 35,
   "id": "initial_id",
   "metadata": {
    "is_executing": true
   },
   "outputs": [],
   "source": [
    "import pandas as pd\n",
    "import gc\n",
    "from joblib import load\n",
    "\n",
    "# Preprocessing\n",
    "from sklearn.pipeline import Pipeline\n",
    "from sklearn.preprocessing import StandardScaler\n",
    "\n",
    "# Modeling\n",
    "from sklearn.tree import DecisionTreeClassifier\n",
    "\n",
    "# Disable warnings\n",
    "pd.options.mode.chained_assignment = None"
   ]
  },
  {
   "cell_type": "code",
   "execution_count": null,
   "id": "f6d6a652091be522",
   "metadata": {
    "ExecuteTime": {
     "start_time": "2023-10-12T14:20:26.258383900Z"
    }
   },
   "outputs": [],
   "source": [
    "# Hyperparams\n",
    "NUM_STEPS = 20\n",
    "\n",
    "features = ['anglez', 'enmo', 'hour', 'anglez_abs', 'anglez_diff', 'enmo_diff', 'anglez_x_enmo', \n",
    "            'anglez_rolling_mean', 'enmo_rolling_mean', 'anglez_rolling_max',\n",
    "            'enmo_rolling_max', 'anglez_rolling_min', 'enmo_rolling_min',\n",
    "            'anglez_rolling_std', 'enmo_rolling_std']"
   ]
  },
  {
   "cell_type": "markdown",
   "id": "aadbd2fa6924bbdc",
   "metadata": {},
   "source": [
    "## Feature Engineering"
   ]
  },
  {
   "cell_type": "code",
   "execution_count": null,
   "id": "e8ebdc521ffadde6",
   "metadata": {
    "ExecuteTime": {
     "start_time": "2023-10-12T14:20:26.384960Z"
    }
   },
   "outputs": [],
   "source": [
    "def make_features(series_id, periods=NUM_STEPS):\n",
    "    df = pd.read_parquet('../data/raw/train_series.parquet', filters=[('series_id','=',series_id)])\n",
    "    #df = pd.read_parquet('/kaggle/input/child-mind-institute-detect-sleep-states/test_series.parquet', filters=[('series_id','=',series_id)])\n",
    "    \n",
    "    print('Generating time features')\n",
    "    df[\"hour\"] = df['timestamp'].str[11:13]\n",
    "    \n",
    "    print('Generating statistical features')\n",
    "    df[\"anglez_abs\"] = abs(df[\"anglez\"])\n",
    "    df[\"anglez_diff\"] = df.groupby('series_id')['anglez'].diff(periods=periods).bfill().astype('float32')\n",
    "    df[\"enmo_diff\"] = df.groupby('series_id')['enmo'].diff(periods=periods).bfill().astype('float32')\n",
    "    df['anglez_x_enmo'] = df['anglez'] * df['enmo']\n",
    "    \n",
    "    print('Generating rolling features')\n",
    "    df[\"anglez_rolling_mean\"] = df[\"anglez\"].rolling(periods,center=True).mean().bfill().ffill().astype('float32')\n",
    "    df[\"enmo_rolling_mean\"] = df[\"enmo\"].rolling(periods,center=True).mean().bfill().ffill().astype('float32')\n",
    "    df[\"anglez_rolling_max\"] = df[\"anglez\"].rolling(periods,center=True).max().bfill().ffill().astype('float32')\n",
    "    df[\"enmo_rolling_max\"] = df[\"enmo\"].rolling(periods,center=True).max().bfill().ffill().astype('float32')\n",
    "    df[\"anglez_rolling_min\"] = df[\"anglez\"].rolling(periods,center=True).min().bfill().ffill().astype('float32')\n",
    "    df[\"enmo_rolling_min\"] = df[\"enmo\"].rolling(periods,center=True).min().bfill().ffill().astype('float32')\n",
    "    df[\"anglez_rolling_std\"] = df[\"anglez\"].rolling(periods,center=True).std().bfill().ffill().astype('float32')\n",
    "    df[\"enmo_rolling_std\"] = df[\"enmo\"].rolling(periods,center=True).std().bfill().ffill().astype('float32')    \n",
    "    \n",
    "    return df"
   ]
  },
  {
   "cell_type": "code",
   "execution_count": 50,
   "id": "f304a3a82bcbb301",
   "metadata": {
    "ExecuteTime": {
     "start_time": "2023-10-12T14:20:26.414463700Z"
    }
   },
   "outputs": [
    {
     "data": {
      "text/plain": [
       "2030"
      ]
     },
     "execution_count": 50,
     "metadata": {},
     "output_type": "execute_result"
    }
   ],
   "source": [
    "df_test = pd.read_parquet('../data/raw/train_series.parquet', columns=['series_id'])\n",
    "#df_test = pd.read_parquet('/kaggle/input/child-mind-institute-detect-sleep-states/test_series.parquet', columns=['series_id'])\n",
    "\n",
    "series_ids = df_test.series_id.unique()[:5]\n",
    "del df_test\n",
    "gc.collect()"
   ]
  },
  {
   "cell_type": "code",
   "execution_count": null,
   "id": "2ae4febea7ab58fb",
   "metadata": {
    "ExecuteTime": {
     "start_time": "2023-10-12T14:20:59.607177400Z"
    }
   },
   "outputs": [],
   "source": [
    "# loading classifier\n",
    "dt_classifier = load('dt_classifier.joblib')"
   ]
  },
  {
   "cell_type": "markdown",
   "id": "d31c8fc4e2d8ab59",
   "metadata": {},
   "source": [
    "## Get the Events from the predictions with smoothing"
   ]
  },
  {
   "cell_type": "code",
   "execution_count": 45,
   "id": "6fec2e186c3f6f27",
   "metadata": {
    "ExecuteTime": {
     "start_time": "2023-10-12T14:21:00.368893600Z"
    }
   },
   "outputs": [],
   "source": [
    "def get_events(test_series, classifier, smoothing_minutes) :\n",
    "    \"\"\"\n",
    "    Takes a time series and a classifier and returns a formatted submission dataframe.\n",
    "    \"\"\"\n",
    "    \n",
    "    series_ids = test_series['series_id'].unique()\n",
    "    events = []\n",
    "\n",
    "    for idx in series_ids: \n",
    "\n",
    "        # Collecting sample and normalizing features\n",
    "        X = test_series[test_series.series_id == idx]\n",
    "        \n",
    "        # Applying classifier to get predictions and scores\n",
    "        not_awake, awake = classifier.predict_proba(X[features])[:, 0], classifier.predict_proba(X[features])[:, 1]\n",
    "\n",
    "        X['not_awake'] = not_awake\n",
    "        X['awake'] = awake\n",
    "        \n",
    "        smoothing_length = 12 * smoothing_minutes\n",
    "        X[\"score\"] = X[\"awake\"].rolling(smoothing_length, center=True).mean().fillna(method=\"bfill\").fillna(method=\"ffill\")\n",
    "        X[\"smooth\"] = X[\"not_awake\"].rolling(smoothing_length, center=True).mean().fillna(method=\"bfill\").fillna(method=\"ffill\")\n",
    "\n",
    "        # Binarize the smoothing column\n",
    "        X[\"smooth\"] = X[\"smooth\"].round()\n",
    "\n",
    "        # Getting predicted onset and wakeup time steps\n",
    "        pred_onsets = X[X['smooth'].diff() > 0]['step'].tolist()\n",
    "        pred_wakeups = X[X['smooth'].diff() < 0]['step'].tolist()\n",
    "     \n",
    "        if len(pred_onsets) > 0: \n",
    "\n",
    "            # Ensuring all predicted sleep periods begin and end\n",
    "            if min(pred_wakeups) < min(pred_onsets): \n",
    "                pred_wakeups = pred_wakeups[1:]\n",
    "\n",
    "            if max(pred_onsets) > max(pred_wakeups):\n",
    "                pred_onsets = pred_onsets[:-1]\n",
    "\n",
    "            # Keeping sleep periods longer than 30 minutes\n",
    "            sleep_periods = [(onset, wakeup) for onset, wakeup in zip(pred_onsets, pred_wakeups) if wakeup - onset >= 12 * 30]\n",
    "\n",
    "            for onset, wakeup in sleep_periods:\n",
    "                # Scoring using mean probability over period\n",
    "                score = X[(X['step'] >= onset) & (X['step'] <= wakeup)]['score'].mean()\n",
    "\n",
    "                # Adding sleep event to dataframe\n",
    "                onset_row = {'series_id': idx, 'step': onset, 'event': 'onset', 'score': score}                \n",
    "                events.append(onset_row)\n",
    "\n",
    "                wakeup_row = {'series_id': idx, 'step': wakeup, 'event': 'wakeup', 'score': score}\n",
    "                events.append(wakeup_row)\n",
    "\n",
    "    return pd.DataFrame(events)"
   ]
  },
  {
   "cell_type": "code",
   "execution_count": 46,
   "id": "ae64431335613155",
   "metadata": {
    "ExecuteTime": {
     "start_time": "2023-10-12T14:21:00.388624100Z"
    }
   },
   "outputs": [],
   "source": [
    "def get_submissions(series_ids, classifier, smoothing_minutes):\n",
    "    events = []\n",
    "\n",
    "    total_len = len(series_ids)\n",
    "\n",
    "    for i, series_id in enumerate(series_ids):\n",
    "        print(f'Step {i+1} of {total_len}')\n",
    "        series_with_features = make_features(series_id)\n",
    "        events.append(get_events(series_with_features, classifier, smoothing_minutes))\n",
    "        \n",
    "        del series_with_features\n",
    "        \n",
    "        gc.collect()\n",
    "\n",
    "    return pd.concat(events).reset_index(drop=True)"
   ]
  },
  {
   "cell_type": "code",
   "execution_count": 47,
   "id": "a13c74a7391c7b6e",
   "metadata": {
    "ExecuteTime": {
     "start_time": "2023-10-12T14:21:00.421551900Z"
    }
   },
   "outputs": [
    {
     "ename": "TypeError",
     "evalue": "get_submissions() missing 1 required positional argument: 'smoothing_minutes'",
     "output_type": "error",
     "traceback": [
      "\u001B[1;31m---------------------------------------------------------------------------\u001B[0m",
      "\u001B[1;31mTypeError\u001B[0m                                 Traceback (most recent call last)",
      "Input \u001B[1;32mIn [47]\u001B[0m, in \u001B[0;36m<cell line: 1>\u001B[1;34m()\u001B[0m\n\u001B[1;32m----> 1\u001B[0m submissions \u001B[38;5;241m=\u001B[39m \u001B[43mget_submissions\u001B[49m\u001B[43m(\u001B[49m\u001B[43mseries_ids\u001B[49m\u001B[43m,\u001B[49m\u001B[43m \u001B[49m\u001B[43mdt_classifier\u001B[49m\u001B[43m)\u001B[49m\n\u001B[0;32m      2\u001B[0m submissions\u001B[38;5;241m.\u001B[39mreset_index(inplace\u001B[38;5;241m=\u001B[39m\u001B[38;5;28;01mTrue\u001B[39;00m)\n\u001B[0;32m      3\u001B[0m submissions\u001B[38;5;241m.\u001B[39mrename(columns\u001B[38;5;241m=\u001B[39m{\u001B[38;5;124m\"\u001B[39m\u001B[38;5;124mindex\u001B[39m\u001B[38;5;124m\"\u001B[39m: \u001B[38;5;124m\"\u001B[39m\u001B[38;5;124mrow_id\u001B[39m\u001B[38;5;124m\"\u001B[39m}, inplace\u001B[38;5;241m=\u001B[39m\u001B[38;5;28;01mTrue\u001B[39;00m)\n",
      "\u001B[1;31mTypeError\u001B[0m: get_submissions() missing 1 required positional argument: 'smoothing_minutes'"
     ]
    }
   ],
   "source": [
    "submissions = get_submissions(series_ids, dt_classifier, 30)\n",
    "submissions.reset_index(inplace=True)\n",
    "submissions.rename(columns={\"index\": \"row_id\"}, inplace=True)\n",
    "submissions.to_csv('submission.csv', sep=',', index=False)"
   ]
  },
  {
   "cell_type": "markdown",
   "id": "436d2fd4",
   "metadata": {},
   "source": [
    "# Scoring"
   ]
  },
  {
   "cell_type": "code",
   "execution_count": 37,
   "id": "f686ea79",
   "metadata": {},
   "outputs": [],
   "source": [
    "import sys\n",
    "sys.path.append('../')\n",
    "\n",
    "from scoring.event_detection_matrix import competition_score"
   ]
  },
  {
   "cell_type": "code",
   "execution_count": 53,
   "id": "2a5b2835",
   "metadata": {},
   "outputs": [],
   "source": [
    "all_events = pd.read_csv('../data/raw/train_events.csv')\n",
    "series_ids = submissions['series_id'].drop_duplicates()\n",
    "needed_events = all_events.loc[all_events['series_id'].isin(series_ids)]"
   ]
  },
  {
   "cell_type": "code",
   "execution_count": 55,
   "id": "c70559b5",
   "metadata": {},
   "outputs": [
    {
     "name": "stdout",
     "output_type": "stream",
     "text": [
      "Step 1 of 5\n",
      "Generating time features\n",
      "Generating statistical features\n",
      "Generating rolling features\n",
      "Step 2 of 5\n",
      "Generating time features\n",
      "Generating statistical features\n",
      "Generating rolling features\n",
      "Step 3 of 5\n",
      "Generating time features\n",
      "Generating statistical features\n",
      "Generating rolling features\n",
      "Step 4 of 5\n",
      "Generating time features\n",
      "Generating statistical features\n",
      "Generating rolling features\n",
      "Step 5 of 5\n",
      "Generating time features\n",
      "Generating statistical features\n",
      "Generating rolling features\n",
      "Scoring for smoothing minutes at 30: 0.5411282637820242\n",
      "Step 1 of 5\n",
      "Generating time features\n",
      "Generating statistical features\n",
      "Generating rolling features\n",
      "Step 2 of 5\n",
      "Generating time features\n",
      "Generating statistical features\n",
      "Generating rolling features\n",
      "Step 3 of 5\n",
      "Generating time features\n",
      "Generating statistical features\n",
      "Generating rolling features\n",
      "Step 4 of 5\n",
      "Generating time features\n",
      "Generating statistical features\n",
      "Generating rolling features\n",
      "Step 5 of 5\n",
      "Generating time features\n",
      "Generating statistical features\n",
      "Generating rolling features\n",
      "Scoring for smoothing minutes at 45: 0.5419236748764606\n",
      "Step 1 of 5\n",
      "Generating time features\n",
      "Generating statistical features\n",
      "Generating rolling features\n",
      "Step 2 of 5\n",
      "Generating time features\n",
      "Generating statistical features\n",
      "Generating rolling features\n",
      "Step 3 of 5\n",
      "Generating time features\n",
      "Generating statistical features\n",
      "Generating rolling features\n",
      "Step 4 of 5\n",
      "Generating time features\n",
      "Generating statistical features\n",
      "Generating rolling features\n",
      "Step 5 of 5\n",
      "Generating time features\n",
      "Generating statistical features\n",
      "Generating rolling features\n",
      "Scoring for smoothing minutes at 60: 0.5406407456202663\n",
      "30 Minutes, score: 0.5411282637820242\n",
      "45 Minutes, score: 0.5419236748764606\n",
      "60 Minutes, score: 0.5406407456202663\n"
     ]
    }
   ],
   "source": [
    "scoring = []\n",
    "minutes = [30, 45, 60]\n",
    "\n",
    "for minute in minutes:\n",
    "    submissions = get_submissions(series_ids, dt_classifier, minute)\n",
    "    submissions.reset_index(inplace=True)\n",
    "    submissions.rename(columns={\"index\": \"row_id\"}, inplace=True)\n",
    "    score = competition_score(needed_events, submissions)\n",
    "    scoring.append(score)  \n",
    "\n",
    "for score, minute in zip(scoring, minutes):\n",
    "    print(f'{minute} Minutes, score: {score}')"
   ]
  },
  {
   "cell_type": "code",
   "execution_count": null,
   "id": "0d9d4684",
   "metadata": {},
   "outputs": [],
   "source": []
  }
 ],
 "metadata": {
  "kernelspec": {
   "display_name": "AICH",
   "language": "python",
   "name": "aich"
  },
  "language_info": {
   "codemirror_mode": {
    "name": "ipython",
    "version": 3
   },
   "file_extension": ".py",
   "mimetype": "text/x-python",
   "name": "python",
   "nbconvert_exporter": "python",
   "pygments_lexer": "ipython3",
   "version": "3.9.7"
  }
 },
 "nbformat": 4,
 "nbformat_minor": 5
}
