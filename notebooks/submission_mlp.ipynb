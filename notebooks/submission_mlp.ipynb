{
 "cells": [
  {
   "cell_type": "code",
   "execution_count": 1,
   "id": "initial_id",
   "metadata": {
    "ExecuteTime": {
     "end_time": "2023-10-08T13:18:56.116737200Z",
     "start_time": "2023-10-08T13:18:53.581675900Z"
    }
   },
   "outputs": [],
   "source": [
    "import sys\n",
    "import gc\n",
    "sys.path.append('../')\n",
    "\n",
    "from scoring.event_detection_matrix import competition_score\n",
    "from models.mlp import PyTorchMLP, LightningModel\n",
    "\n",
    "from sklearn.preprocessing import StandardScaler\n",
    "\n",
    "import pandas as pd\n",
    "import numpy as np\n",
    "import torch\n",
    "from tqdm import tqdm"
   ]
  },
  {
   "cell_type": "markdown",
   "id": "a35d8869",
   "metadata": {},
   "source": [
    "## Load Model"
   ]
  },
  {
   "cell_type": "code",
   "execution_count": 2,
   "id": "10cb8339",
   "metadata": {},
   "outputs": [],
   "source": [
    "checkpoint_path = \"../models/neural-nappers/dsgyuxte/checkpoints/epoch=1-step=394540.ckpt\"\n",
    "model = LightningModel.load_from_checkpoint(checkpoint_path)"
   ]
  },
  {
   "cell_type": "markdown",
   "id": "aa588c61",
   "metadata": {},
   "source": [
    "## Load Data"
   ]
  },
  {
   "cell_type": "code",
   "execution_count": 3,
   "id": "9c52fd2c",
   "metadata": {},
   "outputs": [],
   "source": [
    "df_train_series = pd.read_parquet('../data/processed/train_series_split.parquet')\n",
    "df_validation_series = pd.read_parquet('../data/processed/validation_series_split.parquet')\n",
    "df_validation_events = pd.read_csv('../data/processed/validation_events_split.csv')"
   ]
  },
  {
   "cell_type": "code",
   "execution_count": 4,
   "id": "e1fbff0d",
   "metadata": {},
   "outputs": [],
   "source": [
    "df_validation_series = df_validation_series[df_validation_series.series_id == '038441c925bb']"
   ]
  },
  {
   "cell_type": "code",
   "execution_count": 5,
   "id": "ad79f5c4",
   "metadata": {},
   "outputs": [],
   "source": [
    "df_validation_events = df_validation_events[df_validation_events.series_id == '038441c925bb']"
   ]
  },
  {
   "cell_type": "markdown",
   "id": "ac8f704b",
   "metadata": {},
   "source": [
    "## Prepare Data"
   ]
  },
  {
   "cell_type": "code",
   "execution_count": 6,
   "id": "27c14f1d",
   "metadata": {},
   "outputs": [],
   "source": [
    "FEATURES = ['anglez', 'enmo',\n",
    "            'hour',\n",
    "            'anglez_abs', 'anglez_diff', 'enmo_diff', 'anglez_x_enmo',\n",
    "            'anglez_rolling_mean', 'enmo_rolling_mean', 'anglez_rolling_max', 'enmo_rolling_max', 'anglez_rolling_min',\n",
    "            'anglez_rolling_std', 'enmo_rolling_std']\n",
    "\n",
    "LABEL = ['awake']"
   ]
  },
  {
   "cell_type": "code",
   "execution_count": 7,
   "id": "0d458e5f",
   "metadata": {},
   "outputs": [
    {
     "data": {
      "text/html": [
       "<style>#sk-container-id-1 {color: black;}#sk-container-id-1 pre{padding: 0;}#sk-container-id-1 div.sk-toggleable {background-color: white;}#sk-container-id-1 label.sk-toggleable__label {cursor: pointer;display: block;width: 100%;margin-bottom: 0;padding: 0.3em;box-sizing: border-box;text-align: center;}#sk-container-id-1 label.sk-toggleable__label-arrow:before {content: \"▸\";float: left;margin-right: 0.25em;color: #696969;}#sk-container-id-1 label.sk-toggleable__label-arrow:hover:before {color: black;}#sk-container-id-1 div.sk-estimator:hover label.sk-toggleable__label-arrow:before {color: black;}#sk-container-id-1 div.sk-toggleable__content {max-height: 0;max-width: 0;overflow: hidden;text-align: left;background-color: #f0f8ff;}#sk-container-id-1 div.sk-toggleable__content pre {margin: 0.2em;color: black;border-radius: 0.25em;background-color: #f0f8ff;}#sk-container-id-1 input.sk-toggleable__control:checked~div.sk-toggleable__content {max-height: 200px;max-width: 100%;overflow: auto;}#sk-container-id-1 input.sk-toggleable__control:checked~label.sk-toggleable__label-arrow:before {content: \"▾\";}#sk-container-id-1 div.sk-estimator input.sk-toggleable__control:checked~label.sk-toggleable__label {background-color: #d4ebff;}#sk-container-id-1 div.sk-label input.sk-toggleable__control:checked~label.sk-toggleable__label {background-color: #d4ebff;}#sk-container-id-1 input.sk-hidden--visually {border: 0;clip: rect(1px 1px 1px 1px);clip: rect(1px, 1px, 1px, 1px);height: 1px;margin: -1px;overflow: hidden;padding: 0;position: absolute;width: 1px;}#sk-container-id-1 div.sk-estimator {font-family: monospace;background-color: #f0f8ff;border: 1px dotted black;border-radius: 0.25em;box-sizing: border-box;margin-bottom: 0.5em;}#sk-container-id-1 div.sk-estimator:hover {background-color: #d4ebff;}#sk-container-id-1 div.sk-parallel-item::after {content: \"\";width: 100%;border-bottom: 1px solid gray;flex-grow: 1;}#sk-container-id-1 div.sk-label:hover label.sk-toggleable__label {background-color: #d4ebff;}#sk-container-id-1 div.sk-serial::before {content: \"\";position: absolute;border-left: 1px solid gray;box-sizing: border-box;top: 0;bottom: 0;left: 50%;z-index: 0;}#sk-container-id-1 div.sk-serial {display: flex;flex-direction: column;align-items: center;background-color: white;padding-right: 0.2em;padding-left: 0.2em;position: relative;}#sk-container-id-1 div.sk-item {position: relative;z-index: 1;}#sk-container-id-1 div.sk-parallel {display: flex;align-items: stretch;justify-content: center;background-color: white;position: relative;}#sk-container-id-1 div.sk-item::before, #sk-container-id-1 div.sk-parallel-item::before {content: \"\";position: absolute;border-left: 1px solid gray;box-sizing: border-box;top: 0;bottom: 0;left: 50%;z-index: -1;}#sk-container-id-1 div.sk-parallel-item {display: flex;flex-direction: column;z-index: 1;position: relative;background-color: white;}#sk-container-id-1 div.sk-parallel-item:first-child::after {align-self: flex-end;width: 50%;}#sk-container-id-1 div.sk-parallel-item:last-child::after {align-self: flex-start;width: 50%;}#sk-container-id-1 div.sk-parallel-item:only-child::after {width: 0;}#sk-container-id-1 div.sk-dashed-wrapped {border: 1px dashed gray;margin: 0 0.4em 0.5em 0.4em;box-sizing: border-box;padding-bottom: 0.4em;background-color: white;}#sk-container-id-1 div.sk-label label {font-family: monospace;font-weight: bold;display: inline-block;line-height: 1.2em;}#sk-container-id-1 div.sk-label-container {text-align: center;}#sk-container-id-1 div.sk-container {/* jupyter's `normalize.less` sets `[hidden] { display: none; }` but bootstrap.min.css set `[hidden] { display: none !important; }` so we also need the `!important` here to be able to override the default hidden behavior on the sphinx rendered scikit-learn.org. See: https://github.com/scikit-learn/scikit-learn/issues/21755 */display: inline-block !important;position: relative;}#sk-container-id-1 div.sk-text-repr-fallback {display: none;}</style><div id=\"sk-container-id-1\" class=\"sk-top-container\"><div class=\"sk-text-repr-fallback\"><pre>StandardScaler()</pre><b>In a Jupyter environment, please rerun this cell to show the HTML representation or trust the notebook. <br />On GitHub, the HTML representation is unable to render, please try loading this page with nbviewer.org.</b></div><div class=\"sk-container\" hidden><div class=\"sk-item\"><div class=\"sk-estimator sk-toggleable\"><input class=\"sk-toggleable__control sk-hidden--visually\" id=\"sk-estimator-id-1\" type=\"checkbox\" checked><label for=\"sk-estimator-id-1\" class=\"sk-toggleable__label sk-toggleable__label-arrow\">StandardScaler</label><div class=\"sk-toggleable__content\"><pre>StandardScaler()</pre></div></div></div></div></div>"
      ],
      "text/plain": [
       "StandardScaler()"
      ]
     },
     "execution_count": 7,
     "metadata": {},
     "output_type": "execute_result"
    }
   ],
   "source": [
    "X_train = df_train_series[FEATURES].astype('float32')\n",
    "scaler = StandardScaler()\n",
    "scaler.fit(X_train.values)"
   ]
  },
  {
   "cell_type": "code",
   "execution_count": 8,
   "id": "1c5c1822",
   "metadata": {},
   "outputs": [
    {
     "data": {
      "text/plain": [
       "198"
      ]
     },
     "execution_count": 8,
     "metadata": {},
     "output_type": "execute_result"
    }
   ],
   "source": [
    "del X_train\n",
    "del df_train_series\n",
    "gc.collect()"
   ]
  },
  {
   "cell_type": "markdown",
   "id": "5f36bc99",
   "metadata": {},
   "source": [
    "## Predict"
   ]
  },
  {
   "cell_type": "code",
   "execution_count": 9,
   "id": "38ec9b33",
   "metadata": {},
   "outputs": [
    {
     "name": "stdout",
     "output_type": "stream",
     "text": [
      "cpu\n"
     ]
    }
   ],
   "source": [
    "device = torch.device(\"cuda\") if torch.cuda.is_available() else torch.device(\"cpu\")\n",
    "model.to(device)\n",
    "print(device)"
   ]
  },
  {
   "cell_type": "code",
   "execution_count": 10,
   "id": "b9608acc",
   "metadata": {},
   "outputs": [],
   "source": [
    "def predict(row):\n",
    "    X, y = row[FEATURES].astype('float32'), row[LABEL].astype('int64')\n",
    "    X = np.expand_dims(X, axis=0)\n",
    "    X = scaler.transform(X)\n",
    "    X = torch.from_numpy(X)\n",
    "    with torch.no_grad():\n",
    "        logits = model(X)\n",
    "    label = torch.argmax(logits, dim=-1).item()\n",
    "    confidence = torch.softmax(logits, dim=-1)\n",
    "    confidence_0 = confidence[0][0].item()\n",
    "    confidence_1 = confidence[0][1].item()\n",
    "    return label, confidence_0, confidence_1"
   ]
  },
  {
   "cell_type": "code",
   "execution_count": 11,
   "id": "f7a10af7",
   "metadata": {},
   "outputs": [
    {
     "name": "stderr",
     "output_type": "stream",
     "text": [
      "100%|█████████████████████████████████████████████████████████████████████████| 389880/389880 [24:39<00:00, 263.50it/s]\n"
     ]
    }
   ],
   "source": [
    "model.eval()\n",
    "for index, row in tqdm(df_validation_series.iterrows(), total=df_validation_series.shape[0]):\n",
    "    label, confidence_0, confidence_1 = predict(row)\n",
    "    df_validation_series.at[index, 'prediction_class'] = label\n",
    "    df_validation_series.at[index, 'prediction_confidence_0'] = confidence_0\n",
    "    df_validation_series.at[index, 'prediction_confidence_1'] = confidence_1"
   ]
  },
  {
   "cell_type": "code",
   "execution_count": 13,
   "id": "1fd4de71",
   "metadata": {},
   "outputs": [
    {
     "data": {
      "text/html": [
       "<div>\n",
       "<style scoped>\n",
       "    .dataframe tbody tr th:only-of-type {\n",
       "        vertical-align: middle;\n",
       "    }\n",
       "\n",
       "    .dataframe tbody tr th {\n",
       "        vertical-align: top;\n",
       "    }\n",
       "\n",
       "    .dataframe thead th {\n",
       "        text-align: right;\n",
       "    }\n",
       "</style>\n",
       "<table border=\"1\" class=\"dataframe\">\n",
       "  <thead>\n",
       "    <tr style=\"text-align: right;\">\n",
       "      <th></th>\n",
       "      <th>series_id</th>\n",
       "      <th>step</th>\n",
       "      <th>timestamp</th>\n",
       "      <th>anglez</th>\n",
       "      <th>enmo</th>\n",
       "      <th>awake</th>\n",
       "      <th>hour</th>\n",
       "      <th>anglez_abs</th>\n",
       "      <th>anglez_diff</th>\n",
       "      <th>enmo_diff</th>\n",
       "      <th>...</th>\n",
       "      <th>enmo_rolling_mean</th>\n",
       "      <th>anglez_rolling_max</th>\n",
       "      <th>enmo_rolling_max</th>\n",
       "      <th>anglez_rolling_min</th>\n",
       "      <th>enmo_rolling_min</th>\n",
       "      <th>anglez_rolling_std</th>\n",
       "      <th>enmo_rolling_std</th>\n",
       "      <th>prediction_class</th>\n",
       "      <th>prediction_confidence_0</th>\n",
       "      <th>prediction_confidence_1</th>\n",
       "    </tr>\n",
       "  </thead>\n",
       "  <tbody>\n",
       "    <tr>\n",
       "      <th>0</th>\n",
       "      <td>038441c925bb</td>\n",
       "      <td>0</td>\n",
       "      <td>2018-08-14 15:30:00</td>\n",
       "      <td>2.6367</td>\n",
       "      <td>0.0217</td>\n",
       "      <td>1</td>\n",
       "      <td>15</td>\n",
       "      <td>2.6367</td>\n",
       "      <td>41.462601</td>\n",
       "      <td>-0.0047</td>\n",
       "      <td>...</td>\n",
       "      <td>0.02233</td>\n",
       "      <td>54.8498</td>\n",
       "      <td>0.0395</td>\n",
       "      <td>2.4129</td>\n",
       "      <td>0.0166</td>\n",
       "      <td>15.339381</td>\n",
       "      <td>0.004213</td>\n",
       "      <td>1.0</td>\n",
       "      <td>0.002662</td>\n",
       "      <td>0.997338</td>\n",
       "    </tr>\n",
       "    <tr>\n",
       "      <th>1</th>\n",
       "      <td>038441c925bb</td>\n",
       "      <td>1</td>\n",
       "      <td>2018-08-14 15:30:05</td>\n",
       "      <td>2.6368</td>\n",
       "      <td>0.0215</td>\n",
       "      <td>1</td>\n",
       "      <td>15</td>\n",
       "      <td>2.6368</td>\n",
       "      <td>41.462601</td>\n",
       "      <td>-0.0047</td>\n",
       "      <td>...</td>\n",
       "      <td>0.02233</td>\n",
       "      <td>54.8498</td>\n",
       "      <td>0.0395</td>\n",
       "      <td>2.4129</td>\n",
       "      <td>0.0166</td>\n",
       "      <td>15.339381</td>\n",
       "      <td>0.004213</td>\n",
       "      <td>1.0</td>\n",
       "      <td>0.002667</td>\n",
       "      <td>0.997333</td>\n",
       "    </tr>\n",
       "    <tr>\n",
       "      <th>2</th>\n",
       "      <td>038441c925bb</td>\n",
       "      <td>2</td>\n",
       "      <td>2018-08-14 15:30:10</td>\n",
       "      <td>2.6370</td>\n",
       "      <td>0.0216</td>\n",
       "      <td>1</td>\n",
       "      <td>15</td>\n",
       "      <td>2.6370</td>\n",
       "      <td>41.462601</td>\n",
       "      <td>-0.0047</td>\n",
       "      <td>...</td>\n",
       "      <td>0.02233</td>\n",
       "      <td>54.8498</td>\n",
       "      <td>0.0395</td>\n",
       "      <td>2.4129</td>\n",
       "      <td>0.0166</td>\n",
       "      <td>15.339381</td>\n",
       "      <td>0.004213</td>\n",
       "      <td>1.0</td>\n",
       "      <td>0.002664</td>\n",
       "      <td>0.997336</td>\n",
       "    </tr>\n",
       "    <tr>\n",
       "      <th>3</th>\n",
       "      <td>038441c925bb</td>\n",
       "      <td>3</td>\n",
       "      <td>2018-08-14 15:30:15</td>\n",
       "      <td>2.6368</td>\n",
       "      <td>0.0213</td>\n",
       "      <td>1</td>\n",
       "      <td>15</td>\n",
       "      <td>2.6368</td>\n",
       "      <td>41.462601</td>\n",
       "      <td>-0.0047</td>\n",
       "      <td>...</td>\n",
       "      <td>0.02233</td>\n",
       "      <td>54.8498</td>\n",
       "      <td>0.0395</td>\n",
       "      <td>2.4129</td>\n",
       "      <td>0.0166</td>\n",
       "      <td>15.339381</td>\n",
       "      <td>0.004213</td>\n",
       "      <td>1.0</td>\n",
       "      <td>0.002673</td>\n",
       "      <td>0.997327</td>\n",
       "    </tr>\n",
       "    <tr>\n",
       "      <th>4</th>\n",
       "      <td>038441c925bb</td>\n",
       "      <td>4</td>\n",
       "      <td>2018-08-14 15:30:20</td>\n",
       "      <td>2.6368</td>\n",
       "      <td>0.0215</td>\n",
       "      <td>1</td>\n",
       "      <td>15</td>\n",
       "      <td>2.6368</td>\n",
       "      <td>41.462601</td>\n",
       "      <td>-0.0047</td>\n",
       "      <td>...</td>\n",
       "      <td>0.02233</td>\n",
       "      <td>54.8498</td>\n",
       "      <td>0.0395</td>\n",
       "      <td>2.4129</td>\n",
       "      <td>0.0166</td>\n",
       "      <td>15.339381</td>\n",
       "      <td>0.004213</td>\n",
       "      <td>1.0</td>\n",
       "      <td>0.002667</td>\n",
       "      <td>0.997333</td>\n",
       "    </tr>\n",
       "  </tbody>\n",
       "</table>\n",
       "<p>5 rows × 22 columns</p>\n",
       "</div>"
      ],
      "text/plain": [
       "      series_id  step           timestamp  anglez    enmo  awake  hour  \\\n",
       "0  038441c925bb     0 2018-08-14 15:30:00  2.6367  0.0217      1    15   \n",
       "1  038441c925bb     1 2018-08-14 15:30:05  2.6368  0.0215      1    15   \n",
       "2  038441c925bb     2 2018-08-14 15:30:10  2.6370  0.0216      1    15   \n",
       "3  038441c925bb     3 2018-08-14 15:30:15  2.6368  0.0213      1    15   \n",
       "4  038441c925bb     4 2018-08-14 15:30:20  2.6368  0.0215      1    15   \n",
       "\n",
       "   anglez_abs  anglez_diff  enmo_diff  ...  enmo_rolling_mean  \\\n",
       "0      2.6367    41.462601    -0.0047  ...            0.02233   \n",
       "1      2.6368    41.462601    -0.0047  ...            0.02233   \n",
       "2      2.6370    41.462601    -0.0047  ...            0.02233   \n",
       "3      2.6368    41.462601    -0.0047  ...            0.02233   \n",
       "4      2.6368    41.462601    -0.0047  ...            0.02233   \n",
       "\n",
       "   anglez_rolling_max  enmo_rolling_max  anglez_rolling_min  enmo_rolling_min  \\\n",
       "0             54.8498            0.0395              2.4129            0.0166   \n",
       "1             54.8498            0.0395              2.4129            0.0166   \n",
       "2             54.8498            0.0395              2.4129            0.0166   \n",
       "3             54.8498            0.0395              2.4129            0.0166   \n",
       "4             54.8498            0.0395              2.4129            0.0166   \n",
       "\n",
       "   anglez_rolling_std  enmo_rolling_std  prediction_class  \\\n",
       "0           15.339381          0.004213               1.0   \n",
       "1           15.339381          0.004213               1.0   \n",
       "2           15.339381          0.004213               1.0   \n",
       "3           15.339381          0.004213               1.0   \n",
       "4           15.339381          0.004213               1.0   \n",
       "\n",
       "   prediction_confidence_0  prediction_confidence_1  \n",
       "0                 0.002662                 0.997338  \n",
       "1                 0.002667                 0.997333  \n",
       "2                 0.002664                 0.997336  \n",
       "3                 0.002673                 0.997327  \n",
       "4                 0.002667                 0.997333  \n",
       "\n",
       "[5 rows x 22 columns]"
      ]
     },
     "execution_count": 13,
     "metadata": {},
     "output_type": "execute_result"
    }
   ],
   "source": [
    "df_validation_series.head()"
   ]
  },
  {
   "cell_type": "markdown",
   "id": "8de45ea6",
   "metadata": {},
   "source": [
    "## Extract Events"
   ]
  },
  {
   "cell_type": "code",
   "execution_count": 47,
   "id": "4f11aaf7",
   "metadata": {},
   "outputs": [],
   "source": [
    "def get_events_smoothed(test_series) :\n",
    "    series_ids = test_series['series_id'].unique()[:1]\n",
    "    events = []\n",
    "\n",
    "    for idx in series_ids: \n",
    "\n",
    "        # Collecting sample and normalizing features\n",
    "        X = test_series[test_series.series_id == idx]\n",
    "                \n",
    "        smoothing_length = 12 * 30 # 30 Minutes\n",
    "        X[\"score\"] = X[\"prediction_confidence_1\"].rolling(smoothing_length, center=True).mean().fillna(method=\"bfill\").fillna(method=\"ffill\")\n",
    "        X[\"smooth\"] = X[\"prediction_confidence_0\"].rolling(smoothing_length, center=True).mean().fillna(method=\"bfill\").fillna(method=\"ffill\")\n",
    "\n",
    "        # Binarize the smoothing column\n",
    "        X[\"smooth\"] = X[\"smooth\"].round()\n",
    "\n",
    "        # Getting predicted onset and wakeup time steps\n",
    "        pred_onsets = X[X['smooth'].diff() > 0]['step'].tolist()\n",
    "        pred_wakeups = X[X['smooth'].diff() < 0]['step'].tolist()\n",
    "     \n",
    "        if len(pred_onsets) > 0 : \n",
    "\n",
    "            # Ensuring all predicted sleep periods begin and end\n",
    "            if min(pred_wakeups) < min(pred_onsets) : \n",
    "                pred_wakeups = pred_wakeups[1:]\n",
    "\n",
    "            if max(pred_onsets) > max(pred_wakeups) :\n",
    "                pred_onsets = pred_onsets[:-1]\n",
    "\n",
    "            # Keeping sleep periods longer than 30 minutes\n",
    "            sleep_periods = [(onset, wakeup) for onset, wakeup in zip(pred_onsets, pred_wakeups) if wakeup - onset >= 12 * 30]\n",
    "\n",
    "            for onset, wakeup in sleep_periods :\n",
    "                # Scoring using mean probability over period\n",
    "                score = X[(X['step'] >= onset) & (X['step'] <= wakeup)]['score'].mean()\n",
    "\n",
    "                # Adding sleep event to dataframe\n",
    "                onset_row = {'row_id': len(events), 'series_id': idx, 'step': onset, 'event': 'onset', 'score': score}                \n",
    "                events.append(onset_row)\n",
    "\n",
    "                wakeup_row = {'row_id': len(events), 'series_id': idx, 'step': wakeup, 'event': 'wakeup', 'score': score}\n",
    "                events.append(wakeup_row)\n",
    "\n",
    "    return pd.DataFrame(events)"
   ]
  },
  {
   "cell_type": "code",
   "execution_count": 48,
   "id": "0dfb25d3",
   "metadata": {},
   "outputs": [
    {
     "name": "stderr",
     "output_type": "stream",
     "text": [
      "C:\\Users\\timon\\AppData\\Local\\Temp\\ipykernel_17072\\74360030.py:11: FutureWarning: Series.fillna with 'method' is deprecated and will raise in a future version. Use obj.ffill() or obj.bfill() instead.\n",
      "  X[\"score\"] = X[\"prediction_confidence_1\"].rolling(smoothing_length, center=True).mean().fillna(method=\"bfill\").fillna(method=\"ffill\")\n",
      "C:\\Users\\timon\\AppData\\Local\\Temp\\ipykernel_17072\\74360030.py:12: FutureWarning: Series.fillna with 'method' is deprecated and will raise in a future version. Use obj.ffill() or obj.bfill() instead.\n",
      "  X[\"smooth\"] = X[\"prediction_confidence_0\"].rolling(smoothing_length, center=True).mean().fillna(method=\"bfill\").fillna(method=\"ffill\")\n"
     ]
    }
   ],
   "source": [
    "predicted_validation_events = get_events_smoothed(df_validation_series)"
   ]
  },
  {
   "cell_type": "code",
   "execution_count": 49,
   "id": "dd7af318",
   "metadata": {},
   "outputs": [
    {
     "data": {
      "text/html": [
       "<div>\n",
       "<style scoped>\n",
       "    .dataframe tbody tr th:only-of-type {\n",
       "        vertical-align: middle;\n",
       "    }\n",
       "\n",
       "    .dataframe tbody tr th {\n",
       "        vertical-align: top;\n",
       "    }\n",
       "\n",
       "    .dataframe thead th {\n",
       "        text-align: right;\n",
       "    }\n",
       "</style>\n",
       "<table border=\"1\" class=\"dataframe\">\n",
       "  <thead>\n",
       "    <tr style=\"text-align: right;\">\n",
       "      <th></th>\n",
       "      <th>row_id</th>\n",
       "      <th>series_id</th>\n",
       "      <th>step</th>\n",
       "      <th>event</th>\n",
       "      <th>score</th>\n",
       "    </tr>\n",
       "  </thead>\n",
       "  <tbody>\n",
       "    <tr>\n",
       "      <th>0</th>\n",
       "      <td>0</td>\n",
       "      <td>038441c925bb</td>\n",
       "      <td>4979</td>\n",
       "      <td>onset</td>\n",
       "      <td>0.106305</td>\n",
       "    </tr>\n",
       "    <tr>\n",
       "      <th>1</th>\n",
       "      <td>1</td>\n",
       "      <td>038441c925bb</td>\n",
       "      <td>11017</td>\n",
       "      <td>wakeup</td>\n",
       "      <td>0.106305</td>\n",
       "    </tr>\n",
       "    <tr>\n",
       "      <th>2</th>\n",
       "      <td>2</td>\n",
       "      <td>038441c925bb</td>\n",
       "      <td>21184</td>\n",
       "      <td>onset</td>\n",
       "      <td>0.379724</td>\n",
       "    </tr>\n",
       "    <tr>\n",
       "      <th>3</th>\n",
       "      <td>3</td>\n",
       "      <td>038441c925bb</td>\n",
       "      <td>21664</td>\n",
       "      <td>wakeup</td>\n",
       "      <td>0.379724</td>\n",
       "    </tr>\n",
       "    <tr>\n",
       "      <th>4</th>\n",
       "      <td>4</td>\n",
       "      <td>038441c925bb</td>\n",
       "      <td>22051</td>\n",
       "      <td>onset</td>\n",
       "      <td>0.145708</td>\n",
       "    </tr>\n",
       "  </tbody>\n",
       "</table>\n",
       "</div>"
      ],
      "text/plain": [
       "   row_id     series_id   step   event     score\n",
       "0       0  038441c925bb   4979   onset  0.106305\n",
       "1       1  038441c925bb  11017  wakeup  0.106305\n",
       "2       2  038441c925bb  21184   onset  0.379724\n",
       "3       3  038441c925bb  21664  wakeup  0.379724\n",
       "4       4  038441c925bb  22051   onset  0.145708"
      ]
     },
     "execution_count": 49,
     "metadata": {},
     "output_type": "execute_result"
    }
   ],
   "source": [
    "predicted_validation_events.head()"
   ]
  },
  {
   "cell_type": "markdown",
   "id": "206ef5c4",
   "metadata": {},
   "source": [
    "## Evaluate"
   ]
  },
  {
   "cell_type": "code",
   "execution_count": 50,
   "id": "8904b72c",
   "metadata": {},
   "outputs": [
    {
     "data": {
      "text/plain": [
       "0.11070937600361574"
      ]
     },
     "execution_count": 50,
     "metadata": {},
     "output_type": "execute_result"
    }
   ],
   "source": [
    "competition_score(df_validation_events, predicted_validation_events)"
   ]
  },
  {
   "cell_type": "code",
   "execution_count": 52,
   "id": "6aa04261",
   "metadata": {},
   "outputs": [],
   "source": [
    "df_validation_series.to_csv('predicted_series_mlp.csv', index=False)"
   ]
  }
 ],
 "metadata": {
  "kernelspec": {
   "display_name": "ai-challenge",
   "language": "python",
   "name": "ai-challenge"
  },
  "language_info": {
   "codemirror_mode": {
    "name": "ipython",
    "version": 3
   },
   "file_extension": ".py",
   "mimetype": "text/x-python",
   "name": "python",
   "nbconvert_exporter": "python",
   "pygments_lexer": "ipython3",
   "version": "3.11.5"
  }
 },
 "nbformat": 4,
 "nbformat_minor": 5
}
